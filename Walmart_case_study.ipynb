{
  "nbformat": 4,
  "nbformat_minor": 0,
  "metadata": {
    "colab": {
      "provenance": []
    },
    "kernelspec": {
      "name": "python3",
      "display_name": "Python 3"
    },
    "language_info": {
      "name": "python"
    }
  },
  "cells": [
    {
      "cell_type": "markdown",
      "source": [
        "#Walmart business case\n",
        "\n",
        "Problem statement -\n",
        "\n",
        "The Management team at Walmart Inc. wants to analyze the customer purchase behavior (specifically, purchase amount) against the customer’s gender and the various other factors to help the business make better decisions. They want to understand if the spending habits differ between male and female customers: Do women spend more on Black Friday than men? (Assume 50 million customers are male and 50 million are female)."
      ],
      "metadata": {
        "id": "WHGmGabsyovJ"
      }
    },
    {
      "cell_type": "code",
      "execution_count": 93,
      "metadata": {
        "id": "jMi9MUsJto-U"
      },
      "outputs": [],
      "source": [
        "import numpy as np\n",
        "import pandas as pd\n",
        "import matplotlib.pyplot as plt\n",
        "import seaborn as sns\n",
        "import warnings\n",
        "warnings.filterwarnings('ignore')"
      ]
    },
    {
      "cell_type": "code",
      "source": [
        "df = pd.read_csv(\"walmart_data.csv\")"
      ],
      "metadata": {
        "id": "Xnoi4a6Ny0wa"
      },
      "execution_count": 2,
      "outputs": []
    },
    {
      "cell_type": "code",
      "source": [
        "df1 = df.copy()\n"
      ],
      "metadata": {
        "id": "MBFZPZGbttfF"
      },
      "execution_count": 3,
      "outputs": []
    },
    {
      "cell_type": "markdown",
      "source": [
        "#Exploratory data analysis"
      ],
      "metadata": {
        "id": "Lav_l-nU0pEH"
      }
    },
    {
      "cell_type": "code",
      "source": [
        "df.head()\n"
      ],
      "metadata": {
        "colab": {
          "base_uri": "https://localhost:8080/",
          "height": 206
        },
        "id": "9waDqCgq0p3Q",
        "outputId": "f5b70d57-66a7-4a76-e71a-4cd0e8ec9624"
      },
      "execution_count": 4,
      "outputs": [
        {
          "output_type": "execute_result",
          "data": {
            "text/plain": [
              "   User_ID Product_ID Gender   Age  Occupation City_Category  \\\n",
              "0  1000001  P00069042      F  0-17          10             A   \n",
              "1  1000001  P00248942      F  0-17          10             A   \n",
              "2  1000001  P00087842      F  0-17          10             A   \n",
              "3  1000001  P00085442      F  0-17          10             A   \n",
              "4  1000002  P00285442      M   55+          16             C   \n",
              "\n",
              "  Stay_In_Current_City_Years  Marital_Status  Product_Category  Purchase  \n",
              "0                          2               0                 3      8370  \n",
              "1                          2               0                 1     15200  \n",
              "2                          2               0                12      1422  \n",
              "3                          2               0                12      1057  \n",
              "4                         4+               0                 8      7969  "
            ],
            "text/html": [
              "\n",
              "  <div id=\"df-82310593-b08f-475e-af90-a7f6da8c220b\" class=\"colab-df-container\">\n",
              "    <div>\n",
              "<style scoped>\n",
              "    .dataframe tbody tr th:only-of-type {\n",
              "        vertical-align: middle;\n",
              "    }\n",
              "\n",
              "    .dataframe tbody tr th {\n",
              "        vertical-align: top;\n",
              "    }\n",
              "\n",
              "    .dataframe thead th {\n",
              "        text-align: right;\n",
              "    }\n",
              "</style>\n",
              "<table border=\"1\" class=\"dataframe\">\n",
              "  <thead>\n",
              "    <tr style=\"text-align: right;\">\n",
              "      <th></th>\n",
              "      <th>User_ID</th>\n",
              "      <th>Product_ID</th>\n",
              "      <th>Gender</th>\n",
              "      <th>Age</th>\n",
              "      <th>Occupation</th>\n",
              "      <th>City_Category</th>\n",
              "      <th>Stay_In_Current_City_Years</th>\n",
              "      <th>Marital_Status</th>\n",
              "      <th>Product_Category</th>\n",
              "      <th>Purchase</th>\n",
              "    </tr>\n",
              "  </thead>\n",
              "  <tbody>\n",
              "    <tr>\n",
              "      <th>0</th>\n",
              "      <td>1000001</td>\n",
              "      <td>P00069042</td>\n",
              "      <td>F</td>\n",
              "      <td>0-17</td>\n",
              "      <td>10</td>\n",
              "      <td>A</td>\n",
              "      <td>2</td>\n",
              "      <td>0</td>\n",
              "      <td>3</td>\n",
              "      <td>8370</td>\n",
              "    </tr>\n",
              "    <tr>\n",
              "      <th>1</th>\n",
              "      <td>1000001</td>\n",
              "      <td>P00248942</td>\n",
              "      <td>F</td>\n",
              "      <td>0-17</td>\n",
              "      <td>10</td>\n",
              "      <td>A</td>\n",
              "      <td>2</td>\n",
              "      <td>0</td>\n",
              "      <td>1</td>\n",
              "      <td>15200</td>\n",
              "    </tr>\n",
              "    <tr>\n",
              "      <th>2</th>\n",
              "      <td>1000001</td>\n",
              "      <td>P00087842</td>\n",
              "      <td>F</td>\n",
              "      <td>0-17</td>\n",
              "      <td>10</td>\n",
              "      <td>A</td>\n",
              "      <td>2</td>\n",
              "      <td>0</td>\n",
              "      <td>12</td>\n",
              "      <td>1422</td>\n",
              "    </tr>\n",
              "    <tr>\n",
              "      <th>3</th>\n",
              "      <td>1000001</td>\n",
              "      <td>P00085442</td>\n",
              "      <td>F</td>\n",
              "      <td>0-17</td>\n",
              "      <td>10</td>\n",
              "      <td>A</td>\n",
              "      <td>2</td>\n",
              "      <td>0</td>\n",
              "      <td>12</td>\n",
              "      <td>1057</td>\n",
              "    </tr>\n",
              "    <tr>\n",
              "      <th>4</th>\n",
              "      <td>1000002</td>\n",
              "      <td>P00285442</td>\n",
              "      <td>M</td>\n",
              "      <td>55+</td>\n",
              "      <td>16</td>\n",
              "      <td>C</td>\n",
              "      <td>4+</td>\n",
              "      <td>0</td>\n",
              "      <td>8</td>\n",
              "      <td>7969</td>\n",
              "    </tr>\n",
              "  </tbody>\n",
              "</table>\n",
              "</div>\n",
              "    <div class=\"colab-df-buttons\">\n",
              "\n",
              "  <div class=\"colab-df-container\">\n",
              "    <button class=\"colab-df-convert\" onclick=\"convertToInteractive('df-82310593-b08f-475e-af90-a7f6da8c220b')\"\n",
              "            title=\"Convert this dataframe to an interactive table.\"\n",
              "            style=\"display:none;\">\n",
              "\n",
              "  <svg xmlns=\"http://www.w3.org/2000/svg\" height=\"24px\" viewBox=\"0 -960 960 960\">\n",
              "    <path d=\"M120-120v-720h720v720H120Zm60-500h600v-160H180v160Zm220 220h160v-160H400v160Zm0 220h160v-160H400v160ZM180-400h160v-160H180v160Zm440 0h160v-160H620v160ZM180-180h160v-160H180v160Zm440 0h160v-160H620v160Z\"/>\n",
              "  </svg>\n",
              "    </button>\n",
              "\n",
              "  <style>\n",
              "    .colab-df-container {\n",
              "      display:flex;\n",
              "      gap: 12px;\n",
              "    }\n",
              "\n",
              "    .colab-df-convert {\n",
              "      background-color: #E8F0FE;\n",
              "      border: none;\n",
              "      border-radius: 50%;\n",
              "      cursor: pointer;\n",
              "      display: none;\n",
              "      fill: #1967D2;\n",
              "      height: 32px;\n",
              "      padding: 0 0 0 0;\n",
              "      width: 32px;\n",
              "    }\n",
              "\n",
              "    .colab-df-convert:hover {\n",
              "      background-color: #E2EBFA;\n",
              "      box-shadow: 0px 1px 2px rgba(60, 64, 67, 0.3), 0px 1px 3px 1px rgba(60, 64, 67, 0.15);\n",
              "      fill: #174EA6;\n",
              "    }\n",
              "\n",
              "    .colab-df-buttons div {\n",
              "      margin-bottom: 4px;\n",
              "    }\n",
              "\n",
              "    [theme=dark] .colab-df-convert {\n",
              "      background-color: #3B4455;\n",
              "      fill: #D2E3FC;\n",
              "    }\n",
              "\n",
              "    [theme=dark] .colab-df-convert:hover {\n",
              "      background-color: #434B5C;\n",
              "      box-shadow: 0px 1px 3px 1px rgba(0, 0, 0, 0.15);\n",
              "      filter: drop-shadow(0px 1px 2px rgba(0, 0, 0, 0.3));\n",
              "      fill: #FFFFFF;\n",
              "    }\n",
              "  </style>\n",
              "\n",
              "    <script>\n",
              "      const buttonEl =\n",
              "        document.querySelector('#df-82310593-b08f-475e-af90-a7f6da8c220b button.colab-df-convert');\n",
              "      buttonEl.style.display =\n",
              "        google.colab.kernel.accessAllowed ? 'block' : 'none';\n",
              "\n",
              "      async function convertToInteractive(key) {\n",
              "        const element = document.querySelector('#df-82310593-b08f-475e-af90-a7f6da8c220b');\n",
              "        const dataTable =\n",
              "          await google.colab.kernel.invokeFunction('convertToInteractive',\n",
              "                                                    [key], {});\n",
              "        if (!dataTable) return;\n",
              "\n",
              "        const docLinkHtml = 'Like what you see? Visit the ' +\n",
              "          '<a target=\"_blank\" href=https://colab.research.google.com/notebooks/data_table.ipynb>data table notebook</a>'\n",
              "          + ' to learn more about interactive tables.';\n",
              "        element.innerHTML = '';\n",
              "        dataTable['output_type'] = 'display_data';\n",
              "        await google.colab.output.renderOutput(dataTable, element);\n",
              "        const docLink = document.createElement('div');\n",
              "        docLink.innerHTML = docLinkHtml;\n",
              "        element.appendChild(docLink);\n",
              "      }\n",
              "    </script>\n",
              "  </div>\n",
              "\n",
              "\n",
              "<div id=\"df-0e5a467f-02a5-431d-a1a6-f14e2ee0ea83\">\n",
              "  <button class=\"colab-df-quickchart\" onclick=\"quickchart('df-0e5a467f-02a5-431d-a1a6-f14e2ee0ea83')\"\n",
              "            title=\"Suggest charts\"\n",
              "            style=\"display:none;\">\n",
              "\n",
              "<svg xmlns=\"http://www.w3.org/2000/svg\" height=\"24px\"viewBox=\"0 0 24 24\"\n",
              "     width=\"24px\">\n",
              "    <g>\n",
              "        <path d=\"M19 3H5c-1.1 0-2 .9-2 2v14c0 1.1.9 2 2 2h14c1.1 0 2-.9 2-2V5c0-1.1-.9-2-2-2zM9 17H7v-7h2v7zm4 0h-2V7h2v10zm4 0h-2v-4h2v4z\"/>\n",
              "    </g>\n",
              "</svg>\n",
              "  </button>\n",
              "\n",
              "<style>\n",
              "  .colab-df-quickchart {\n",
              "      --bg-color: #E8F0FE;\n",
              "      --fill-color: #1967D2;\n",
              "      --hover-bg-color: #E2EBFA;\n",
              "      --hover-fill-color: #174EA6;\n",
              "      --disabled-fill-color: #AAA;\n",
              "      --disabled-bg-color: #DDD;\n",
              "  }\n",
              "\n",
              "  [theme=dark] .colab-df-quickchart {\n",
              "      --bg-color: #3B4455;\n",
              "      --fill-color: #D2E3FC;\n",
              "      --hover-bg-color: #434B5C;\n",
              "      --hover-fill-color: #FFFFFF;\n",
              "      --disabled-bg-color: #3B4455;\n",
              "      --disabled-fill-color: #666;\n",
              "  }\n",
              "\n",
              "  .colab-df-quickchart {\n",
              "    background-color: var(--bg-color);\n",
              "    border: none;\n",
              "    border-radius: 50%;\n",
              "    cursor: pointer;\n",
              "    display: none;\n",
              "    fill: var(--fill-color);\n",
              "    height: 32px;\n",
              "    padding: 0;\n",
              "    width: 32px;\n",
              "  }\n",
              "\n",
              "  .colab-df-quickchart:hover {\n",
              "    background-color: var(--hover-bg-color);\n",
              "    box-shadow: 0 1px 2px rgba(60, 64, 67, 0.3), 0 1px 3px 1px rgba(60, 64, 67, 0.15);\n",
              "    fill: var(--button-hover-fill-color);\n",
              "  }\n",
              "\n",
              "  .colab-df-quickchart-complete:disabled,\n",
              "  .colab-df-quickchart-complete:disabled:hover {\n",
              "    background-color: var(--disabled-bg-color);\n",
              "    fill: var(--disabled-fill-color);\n",
              "    box-shadow: none;\n",
              "  }\n",
              "\n",
              "  .colab-df-spinner {\n",
              "    border: 2px solid var(--fill-color);\n",
              "    border-color: transparent;\n",
              "    border-bottom-color: var(--fill-color);\n",
              "    animation:\n",
              "      spin 1s steps(1) infinite;\n",
              "  }\n",
              "\n",
              "  @keyframes spin {\n",
              "    0% {\n",
              "      border-color: transparent;\n",
              "      border-bottom-color: var(--fill-color);\n",
              "      border-left-color: var(--fill-color);\n",
              "    }\n",
              "    20% {\n",
              "      border-color: transparent;\n",
              "      border-left-color: var(--fill-color);\n",
              "      border-top-color: var(--fill-color);\n",
              "    }\n",
              "    30% {\n",
              "      border-color: transparent;\n",
              "      border-left-color: var(--fill-color);\n",
              "      border-top-color: var(--fill-color);\n",
              "      border-right-color: var(--fill-color);\n",
              "    }\n",
              "    40% {\n",
              "      border-color: transparent;\n",
              "      border-right-color: var(--fill-color);\n",
              "      border-top-color: var(--fill-color);\n",
              "    }\n",
              "    60% {\n",
              "      border-color: transparent;\n",
              "      border-right-color: var(--fill-color);\n",
              "    }\n",
              "    80% {\n",
              "      border-color: transparent;\n",
              "      border-right-color: var(--fill-color);\n",
              "      border-bottom-color: var(--fill-color);\n",
              "    }\n",
              "    90% {\n",
              "      border-color: transparent;\n",
              "      border-bottom-color: var(--fill-color);\n",
              "    }\n",
              "  }\n",
              "</style>\n",
              "\n",
              "  <script>\n",
              "    async function quickchart(key) {\n",
              "      const quickchartButtonEl =\n",
              "        document.querySelector('#' + key + ' button');\n",
              "      quickchartButtonEl.disabled = true;  // To prevent multiple clicks.\n",
              "      quickchartButtonEl.classList.add('colab-df-spinner');\n",
              "      try {\n",
              "        const charts = await google.colab.kernel.invokeFunction(\n",
              "            'suggestCharts', [key], {});\n",
              "      } catch (error) {\n",
              "        console.error('Error during call to suggestCharts:', error);\n",
              "      }\n",
              "      quickchartButtonEl.classList.remove('colab-df-spinner');\n",
              "      quickchartButtonEl.classList.add('colab-df-quickchart-complete');\n",
              "    }\n",
              "    (() => {\n",
              "      let quickchartButtonEl =\n",
              "        document.querySelector('#df-0e5a467f-02a5-431d-a1a6-f14e2ee0ea83 button');\n",
              "      quickchartButtonEl.style.display =\n",
              "        google.colab.kernel.accessAllowed ? 'block' : 'none';\n",
              "    })();\n",
              "  </script>\n",
              "</div>\n",
              "    </div>\n",
              "  </div>\n"
            ]
          },
          "metadata": {},
          "execution_count": 4
        }
      ]
    },
    {
      "cell_type": "code",
      "source": [
        "df.info()"
      ],
      "metadata": {
        "colab": {
          "base_uri": "https://localhost:8080/"
        },
        "id": "LtriqS2s008Q",
        "outputId": "4355b5fc-6202-4892-fc78-21bd746fab67"
      },
      "execution_count": 5,
      "outputs": [
        {
          "output_type": "stream",
          "name": "stdout",
          "text": [
            "<class 'pandas.core.frame.DataFrame'>\n",
            "RangeIndex: 550068 entries, 0 to 550067\n",
            "Data columns (total 10 columns):\n",
            " #   Column                      Non-Null Count   Dtype \n",
            "---  ------                      --------------   ----- \n",
            " 0   User_ID                     550068 non-null  int64 \n",
            " 1   Product_ID                  550068 non-null  object\n",
            " 2   Gender                      550068 non-null  object\n",
            " 3   Age                         550068 non-null  object\n",
            " 4   Occupation                  550068 non-null  int64 \n",
            " 5   City_Category               550068 non-null  object\n",
            " 6   Stay_In_Current_City_Years  550068 non-null  object\n",
            " 7   Marital_Status              550068 non-null  int64 \n",
            " 8   Product_Category            550068 non-null  int64 \n",
            " 9   Purchase                    550068 non-null  int64 \n",
            "dtypes: int64(5), object(5)\n",
            "memory usage: 42.0+ MB\n"
          ]
        }
      ]
    },
    {
      "cell_type": "markdown",
      "source": [
        "# Observations on shape of data"
      ],
      "metadata": {
        "id": "bed8wzJuuoOE"
      }
    },
    {
      "cell_type": "code",
      "source": [
        "df.shape"
      ],
      "metadata": {
        "colab": {
          "base_uri": "https://localhost:8080/"
        },
        "id": "Oj41EqxjuA_q",
        "outputId": "085a6939-c584-4f05-d67e-664a337941f7"
      },
      "execution_count": 6,
      "outputs": [
        {
          "output_type": "execute_result",
          "data": {
            "text/plain": [
              "(550068, 10)"
            ]
          },
          "metadata": {},
          "execution_count": 6
        }
      ]
    },
    {
      "cell_type": "markdown",
      "source": [
        "#Data types of all the attributes"
      ],
      "metadata": {
        "id": "KyvJTWsduHJr"
      }
    },
    {
      "cell_type": "code",
      "source": [
        "df.dtypes"
      ],
      "metadata": {
        "colab": {
          "base_uri": "https://localhost:8080/"
        },
        "id": "n2PjFprRuA9K",
        "outputId": "23f6b92d-2028-47a3-ba27-8deab459a4f8"
      },
      "execution_count": 7,
      "outputs": [
        {
          "output_type": "execute_result",
          "data": {
            "text/plain": [
              "User_ID                        int64\n",
              "Product_ID                    object\n",
              "Gender                        object\n",
              "Age                           object\n",
              "Occupation                     int64\n",
              "City_Category                 object\n",
              "Stay_In_Current_City_Years    object\n",
              "Marital_Status                 int64\n",
              "Product_Category               int64\n",
              "Purchase                       int64\n",
              "dtype: object"
            ]
          },
          "metadata": {},
          "execution_count": 7
        }
      ]
    },
    {
      "cell_type": "markdown",
      "source": [
        "#Conversion of categorical attributes to 'category'"
      ],
      "metadata": {
        "id": "VMXpffGRuSXc"
      }
    },
    {
      "cell_type": "code",
      "source": [
        "df['City_Category'] = df['City_Category'].astype('category')\n",
        "df['Product_Category'] = df['Product_Category'].astype('category')\n",
        "df['Age'] = df['Age'].astype('category')\n",
        "df['Gender'] = df['Gender'].astype('category')\n",
        "df['Marital_Status'] = df['Marital_Status'].astype('category')\n"
      ],
      "metadata": {
        "id": "DS12_u-OuA6j"
      },
      "execution_count": 8,
      "outputs": []
    },
    {
      "cell_type": "code",
      "source": [
        "df.dtypes"
      ],
      "metadata": {
        "colab": {
          "base_uri": "https://localhost:8080/"
        },
        "id": "cSvx6Q75uA3T",
        "outputId": "e8ed9206-6a0a-4d8f-97ab-a678a5bc9dde"
      },
      "execution_count": 9,
      "outputs": [
        {
          "output_type": "execute_result",
          "data": {
            "text/plain": [
              "User_ID                          int64\n",
              "Product_ID                      object\n",
              "Gender                        category\n",
              "Age                           category\n",
              "Occupation                       int64\n",
              "City_Category                 category\n",
              "Stay_In_Current_City_Years      object\n",
              "Marital_Status                category\n",
              "Product_Category              category\n",
              "Purchase                         int64\n",
              "dtype: object"
            ]
          },
          "metadata": {},
          "execution_count": 9
        }
      ]
    },
    {
      "cell_type": "markdown",
      "source": [
        " # Statistical summary"
      ],
      "metadata": {
        "id": "ZiKbCJnOu_Ph"
      }
    },
    {
      "cell_type": "code",
      "source": [
        "df.describe(include='all')"
      ],
      "metadata": {
        "colab": {
          "base_uri": "https://localhost:8080/",
          "height": 394
        },
        "id": "26DbCCUFuA0w",
        "outputId": "826c8731-1fe6-4cd6-8a7d-97c386bd8ddf"
      },
      "execution_count": 12,
      "outputs": [
        {
          "output_type": "execute_result",
          "data": {
            "text/plain": [
              "             User_ID Product_ID  Gender     Age     Occupation City_Category  \\\n",
              "count   5.500680e+05     550068  550068  550068  550068.000000        550068   \n",
              "unique           NaN       3631       2       7            NaN             3   \n",
              "top              NaN  P00265242       M   26-35            NaN             B   \n",
              "freq             NaN       1880  414259  219587            NaN        231173   \n",
              "mean    1.003029e+06        NaN     NaN     NaN       8.076707           NaN   \n",
              "std     1.727592e+03        NaN     NaN     NaN       6.522660           NaN   \n",
              "min     1.000001e+06        NaN     NaN     NaN       0.000000           NaN   \n",
              "25%     1.001516e+06        NaN     NaN     NaN       2.000000           NaN   \n",
              "50%     1.003077e+06        NaN     NaN     NaN       7.000000           NaN   \n",
              "75%     1.004478e+06        NaN     NaN     NaN      14.000000           NaN   \n",
              "max     1.006040e+06        NaN     NaN     NaN      20.000000           NaN   \n",
              "\n",
              "       Stay_In_Current_City_Years  Marital_Status  Product_Category  \\\n",
              "count                      550068        550068.0          550068.0   \n",
              "unique                          5             2.0              20.0   \n",
              "top                             1             0.0               5.0   \n",
              "freq                       193821        324731.0          150933.0   \n",
              "mean                          NaN             NaN               NaN   \n",
              "std                           NaN             NaN               NaN   \n",
              "min                           NaN             NaN               NaN   \n",
              "25%                           NaN             NaN               NaN   \n",
              "50%                           NaN             NaN               NaN   \n",
              "75%                           NaN             NaN               NaN   \n",
              "max                           NaN             NaN               NaN   \n",
              "\n",
              "             Purchase  \n",
              "count   550068.000000  \n",
              "unique            NaN  \n",
              "top               NaN  \n",
              "freq              NaN  \n",
              "mean      9263.968713  \n",
              "std       5023.065394  \n",
              "min         12.000000  \n",
              "25%       5823.000000  \n",
              "50%       8047.000000  \n",
              "75%      12054.000000  \n",
              "max      23961.000000  "
            ],
            "text/html": [
              "\n",
              "  <div id=\"df-7bb1b96a-5488-4c61-8b4a-5206058ecb23\" class=\"colab-df-container\">\n",
              "    <div>\n",
              "<style scoped>\n",
              "    .dataframe tbody tr th:only-of-type {\n",
              "        vertical-align: middle;\n",
              "    }\n",
              "\n",
              "    .dataframe tbody tr th {\n",
              "        vertical-align: top;\n",
              "    }\n",
              "\n",
              "    .dataframe thead th {\n",
              "        text-align: right;\n",
              "    }\n",
              "</style>\n",
              "<table border=\"1\" class=\"dataframe\">\n",
              "  <thead>\n",
              "    <tr style=\"text-align: right;\">\n",
              "      <th></th>\n",
              "      <th>User_ID</th>\n",
              "      <th>Product_ID</th>\n",
              "      <th>Gender</th>\n",
              "      <th>Age</th>\n",
              "      <th>Occupation</th>\n",
              "      <th>City_Category</th>\n",
              "      <th>Stay_In_Current_City_Years</th>\n",
              "      <th>Marital_Status</th>\n",
              "      <th>Product_Category</th>\n",
              "      <th>Purchase</th>\n",
              "    </tr>\n",
              "  </thead>\n",
              "  <tbody>\n",
              "    <tr>\n",
              "      <th>count</th>\n",
              "      <td>5.500680e+05</td>\n",
              "      <td>550068</td>\n",
              "      <td>550068</td>\n",
              "      <td>550068</td>\n",
              "      <td>550068.000000</td>\n",
              "      <td>550068</td>\n",
              "      <td>550068</td>\n",
              "      <td>550068.0</td>\n",
              "      <td>550068.0</td>\n",
              "      <td>550068.000000</td>\n",
              "    </tr>\n",
              "    <tr>\n",
              "      <th>unique</th>\n",
              "      <td>NaN</td>\n",
              "      <td>3631</td>\n",
              "      <td>2</td>\n",
              "      <td>7</td>\n",
              "      <td>NaN</td>\n",
              "      <td>3</td>\n",
              "      <td>5</td>\n",
              "      <td>2.0</td>\n",
              "      <td>20.0</td>\n",
              "      <td>NaN</td>\n",
              "    </tr>\n",
              "    <tr>\n",
              "      <th>top</th>\n",
              "      <td>NaN</td>\n",
              "      <td>P00265242</td>\n",
              "      <td>M</td>\n",
              "      <td>26-35</td>\n",
              "      <td>NaN</td>\n",
              "      <td>B</td>\n",
              "      <td>1</td>\n",
              "      <td>0.0</td>\n",
              "      <td>5.0</td>\n",
              "      <td>NaN</td>\n",
              "    </tr>\n",
              "    <tr>\n",
              "      <th>freq</th>\n",
              "      <td>NaN</td>\n",
              "      <td>1880</td>\n",
              "      <td>414259</td>\n",
              "      <td>219587</td>\n",
              "      <td>NaN</td>\n",
              "      <td>231173</td>\n",
              "      <td>193821</td>\n",
              "      <td>324731.0</td>\n",
              "      <td>150933.0</td>\n",
              "      <td>NaN</td>\n",
              "    </tr>\n",
              "    <tr>\n",
              "      <th>mean</th>\n",
              "      <td>1.003029e+06</td>\n",
              "      <td>NaN</td>\n",
              "      <td>NaN</td>\n",
              "      <td>NaN</td>\n",
              "      <td>8.076707</td>\n",
              "      <td>NaN</td>\n",
              "      <td>NaN</td>\n",
              "      <td>NaN</td>\n",
              "      <td>NaN</td>\n",
              "      <td>9263.968713</td>\n",
              "    </tr>\n",
              "    <tr>\n",
              "      <th>std</th>\n",
              "      <td>1.727592e+03</td>\n",
              "      <td>NaN</td>\n",
              "      <td>NaN</td>\n",
              "      <td>NaN</td>\n",
              "      <td>6.522660</td>\n",
              "      <td>NaN</td>\n",
              "      <td>NaN</td>\n",
              "      <td>NaN</td>\n",
              "      <td>NaN</td>\n",
              "      <td>5023.065394</td>\n",
              "    </tr>\n",
              "    <tr>\n",
              "      <th>min</th>\n",
              "      <td>1.000001e+06</td>\n",
              "      <td>NaN</td>\n",
              "      <td>NaN</td>\n",
              "      <td>NaN</td>\n",
              "      <td>0.000000</td>\n",
              "      <td>NaN</td>\n",
              "      <td>NaN</td>\n",
              "      <td>NaN</td>\n",
              "      <td>NaN</td>\n",
              "      <td>12.000000</td>\n",
              "    </tr>\n",
              "    <tr>\n",
              "      <th>25%</th>\n",
              "      <td>1.001516e+06</td>\n",
              "      <td>NaN</td>\n",
              "      <td>NaN</td>\n",
              "      <td>NaN</td>\n",
              "      <td>2.000000</td>\n",
              "      <td>NaN</td>\n",
              "      <td>NaN</td>\n",
              "      <td>NaN</td>\n",
              "      <td>NaN</td>\n",
              "      <td>5823.000000</td>\n",
              "    </tr>\n",
              "    <tr>\n",
              "      <th>50%</th>\n",
              "      <td>1.003077e+06</td>\n",
              "      <td>NaN</td>\n",
              "      <td>NaN</td>\n",
              "      <td>NaN</td>\n",
              "      <td>7.000000</td>\n",
              "      <td>NaN</td>\n",
              "      <td>NaN</td>\n",
              "      <td>NaN</td>\n",
              "      <td>NaN</td>\n",
              "      <td>8047.000000</td>\n",
              "    </tr>\n",
              "    <tr>\n",
              "      <th>75%</th>\n",
              "      <td>1.004478e+06</td>\n",
              "      <td>NaN</td>\n",
              "      <td>NaN</td>\n",
              "      <td>NaN</td>\n",
              "      <td>14.000000</td>\n",
              "      <td>NaN</td>\n",
              "      <td>NaN</td>\n",
              "      <td>NaN</td>\n",
              "      <td>NaN</td>\n",
              "      <td>12054.000000</td>\n",
              "    </tr>\n",
              "    <tr>\n",
              "      <th>max</th>\n",
              "      <td>1.006040e+06</td>\n",
              "      <td>NaN</td>\n",
              "      <td>NaN</td>\n",
              "      <td>NaN</td>\n",
              "      <td>20.000000</td>\n",
              "      <td>NaN</td>\n",
              "      <td>NaN</td>\n",
              "      <td>NaN</td>\n",
              "      <td>NaN</td>\n",
              "      <td>23961.000000</td>\n",
              "    </tr>\n",
              "  </tbody>\n",
              "</table>\n",
              "</div>\n",
              "    <div class=\"colab-df-buttons\">\n",
              "\n",
              "  <div class=\"colab-df-container\">\n",
              "    <button class=\"colab-df-convert\" onclick=\"convertToInteractive('df-7bb1b96a-5488-4c61-8b4a-5206058ecb23')\"\n",
              "            title=\"Convert this dataframe to an interactive table.\"\n",
              "            style=\"display:none;\">\n",
              "\n",
              "  <svg xmlns=\"http://www.w3.org/2000/svg\" height=\"24px\" viewBox=\"0 -960 960 960\">\n",
              "    <path d=\"M120-120v-720h720v720H120Zm60-500h600v-160H180v160Zm220 220h160v-160H400v160Zm0 220h160v-160H400v160ZM180-400h160v-160H180v160Zm440 0h160v-160H620v160ZM180-180h160v-160H180v160Zm440 0h160v-160H620v160Z\"/>\n",
              "  </svg>\n",
              "    </button>\n",
              "\n",
              "  <style>\n",
              "    .colab-df-container {\n",
              "      display:flex;\n",
              "      gap: 12px;\n",
              "    }\n",
              "\n",
              "    .colab-df-convert {\n",
              "      background-color: #E8F0FE;\n",
              "      border: none;\n",
              "      border-radius: 50%;\n",
              "      cursor: pointer;\n",
              "      display: none;\n",
              "      fill: #1967D2;\n",
              "      height: 32px;\n",
              "      padding: 0 0 0 0;\n",
              "      width: 32px;\n",
              "    }\n",
              "\n",
              "    .colab-df-convert:hover {\n",
              "      background-color: #E2EBFA;\n",
              "      box-shadow: 0px 1px 2px rgba(60, 64, 67, 0.3), 0px 1px 3px 1px rgba(60, 64, 67, 0.15);\n",
              "      fill: #174EA6;\n",
              "    }\n",
              "\n",
              "    .colab-df-buttons div {\n",
              "      margin-bottom: 4px;\n",
              "    }\n",
              "\n",
              "    [theme=dark] .colab-df-convert {\n",
              "      background-color: #3B4455;\n",
              "      fill: #D2E3FC;\n",
              "    }\n",
              "\n",
              "    [theme=dark] .colab-df-convert:hover {\n",
              "      background-color: #434B5C;\n",
              "      box-shadow: 0px 1px 3px 1px rgba(0, 0, 0, 0.15);\n",
              "      filter: drop-shadow(0px 1px 2px rgba(0, 0, 0, 0.3));\n",
              "      fill: #FFFFFF;\n",
              "    }\n",
              "  </style>\n",
              "\n",
              "    <script>\n",
              "      const buttonEl =\n",
              "        document.querySelector('#df-7bb1b96a-5488-4c61-8b4a-5206058ecb23 button.colab-df-convert');\n",
              "      buttonEl.style.display =\n",
              "        google.colab.kernel.accessAllowed ? 'block' : 'none';\n",
              "\n",
              "      async function convertToInteractive(key) {\n",
              "        const element = document.querySelector('#df-7bb1b96a-5488-4c61-8b4a-5206058ecb23');\n",
              "        const dataTable =\n",
              "          await google.colab.kernel.invokeFunction('convertToInteractive',\n",
              "                                                    [key], {});\n",
              "        if (!dataTable) return;\n",
              "\n",
              "        const docLinkHtml = 'Like what you see? Visit the ' +\n",
              "          '<a target=\"_blank\" href=https://colab.research.google.com/notebooks/data_table.ipynb>data table notebook</a>'\n",
              "          + ' to learn more about interactive tables.';\n",
              "        element.innerHTML = '';\n",
              "        dataTable['output_type'] = 'display_data';\n",
              "        await google.colab.output.renderOutput(dataTable, element);\n",
              "        const docLink = document.createElement('div');\n",
              "        docLink.innerHTML = docLinkHtml;\n",
              "        element.appendChild(docLink);\n",
              "      }\n",
              "    </script>\n",
              "  </div>\n",
              "\n",
              "\n",
              "<div id=\"df-6bed4604-4888-415f-8601-2f7aef624508\">\n",
              "  <button class=\"colab-df-quickchart\" onclick=\"quickchart('df-6bed4604-4888-415f-8601-2f7aef624508')\"\n",
              "            title=\"Suggest charts\"\n",
              "            style=\"display:none;\">\n",
              "\n",
              "<svg xmlns=\"http://www.w3.org/2000/svg\" height=\"24px\"viewBox=\"0 0 24 24\"\n",
              "     width=\"24px\">\n",
              "    <g>\n",
              "        <path d=\"M19 3H5c-1.1 0-2 .9-2 2v14c0 1.1.9 2 2 2h14c1.1 0 2-.9 2-2V5c0-1.1-.9-2-2-2zM9 17H7v-7h2v7zm4 0h-2V7h2v10zm4 0h-2v-4h2v4z\"/>\n",
              "    </g>\n",
              "</svg>\n",
              "  </button>\n",
              "\n",
              "<style>\n",
              "  .colab-df-quickchart {\n",
              "      --bg-color: #E8F0FE;\n",
              "      --fill-color: #1967D2;\n",
              "      --hover-bg-color: #E2EBFA;\n",
              "      --hover-fill-color: #174EA6;\n",
              "      --disabled-fill-color: #AAA;\n",
              "      --disabled-bg-color: #DDD;\n",
              "  }\n",
              "\n",
              "  [theme=dark] .colab-df-quickchart {\n",
              "      --bg-color: #3B4455;\n",
              "      --fill-color: #D2E3FC;\n",
              "      --hover-bg-color: #434B5C;\n",
              "      --hover-fill-color: #FFFFFF;\n",
              "      --disabled-bg-color: #3B4455;\n",
              "      --disabled-fill-color: #666;\n",
              "  }\n",
              "\n",
              "  .colab-df-quickchart {\n",
              "    background-color: var(--bg-color);\n",
              "    border: none;\n",
              "    border-radius: 50%;\n",
              "    cursor: pointer;\n",
              "    display: none;\n",
              "    fill: var(--fill-color);\n",
              "    height: 32px;\n",
              "    padding: 0;\n",
              "    width: 32px;\n",
              "  }\n",
              "\n",
              "  .colab-df-quickchart:hover {\n",
              "    background-color: var(--hover-bg-color);\n",
              "    box-shadow: 0 1px 2px rgba(60, 64, 67, 0.3), 0 1px 3px 1px rgba(60, 64, 67, 0.15);\n",
              "    fill: var(--button-hover-fill-color);\n",
              "  }\n",
              "\n",
              "  .colab-df-quickchart-complete:disabled,\n",
              "  .colab-df-quickchart-complete:disabled:hover {\n",
              "    background-color: var(--disabled-bg-color);\n",
              "    fill: var(--disabled-fill-color);\n",
              "    box-shadow: none;\n",
              "  }\n",
              "\n",
              "  .colab-df-spinner {\n",
              "    border: 2px solid var(--fill-color);\n",
              "    border-color: transparent;\n",
              "    border-bottom-color: var(--fill-color);\n",
              "    animation:\n",
              "      spin 1s steps(1) infinite;\n",
              "  }\n",
              "\n",
              "  @keyframes spin {\n",
              "    0% {\n",
              "      border-color: transparent;\n",
              "      border-bottom-color: var(--fill-color);\n",
              "      border-left-color: var(--fill-color);\n",
              "    }\n",
              "    20% {\n",
              "      border-color: transparent;\n",
              "      border-left-color: var(--fill-color);\n",
              "      border-top-color: var(--fill-color);\n",
              "    }\n",
              "    30% {\n",
              "      border-color: transparent;\n",
              "      border-left-color: var(--fill-color);\n",
              "      border-top-color: var(--fill-color);\n",
              "      border-right-color: var(--fill-color);\n",
              "    }\n",
              "    40% {\n",
              "      border-color: transparent;\n",
              "      border-right-color: var(--fill-color);\n",
              "      border-top-color: var(--fill-color);\n",
              "    }\n",
              "    60% {\n",
              "      border-color: transparent;\n",
              "      border-right-color: var(--fill-color);\n",
              "    }\n",
              "    80% {\n",
              "      border-color: transparent;\n",
              "      border-right-color: var(--fill-color);\n",
              "      border-bottom-color: var(--fill-color);\n",
              "    }\n",
              "    90% {\n",
              "      border-color: transparent;\n",
              "      border-bottom-color: var(--fill-color);\n",
              "    }\n",
              "  }\n",
              "</style>\n",
              "\n",
              "  <script>\n",
              "    async function quickchart(key) {\n",
              "      const quickchartButtonEl =\n",
              "        document.querySelector('#' + key + ' button');\n",
              "      quickchartButtonEl.disabled = true;  // To prevent multiple clicks.\n",
              "      quickchartButtonEl.classList.add('colab-df-spinner');\n",
              "      try {\n",
              "        const charts = await google.colab.kernel.invokeFunction(\n",
              "            'suggestCharts', [key], {});\n",
              "      } catch (error) {\n",
              "        console.error('Error during call to suggestCharts:', error);\n",
              "      }\n",
              "      quickchartButtonEl.classList.remove('colab-df-spinner');\n",
              "      quickchartButtonEl.classList.add('colab-df-quickchart-complete');\n",
              "    }\n",
              "    (() => {\n",
              "      let quickchartButtonEl =\n",
              "        document.querySelector('#df-6bed4604-4888-415f-8601-2f7aef624508 button');\n",
              "      quickchartButtonEl.style.display =\n",
              "        google.colab.kernel.accessAllowed ? 'block' : 'none';\n",
              "    })();\n",
              "  </script>\n",
              "</div>\n",
              "    </div>\n",
              "  </div>\n"
            ]
          },
          "metadata": {},
          "execution_count": 12
        }
      ]
    },
    {
      "cell_type": "code",
      "source": [
        "df.describe(include='object')"
      ],
      "metadata": {
        "colab": {
          "base_uri": "https://localhost:8080/",
          "height": 175
        },
        "id": "QNdrXFrZuAyF",
        "outputId": "25b3c97c-90d9-45ab-e9fd-0e0cf705572a"
      },
      "execution_count": 11,
      "outputs": [
        {
          "output_type": "execute_result",
          "data": {
            "text/plain": [
              "       Product_ID Stay_In_Current_City_Years\n",
              "count      550068                     550068\n",
              "unique       3631                          5\n",
              "top     P00265242                          1\n",
              "freq         1880                     193821"
            ],
            "text/html": [
              "\n",
              "  <div id=\"df-67f711b5-622f-47cc-ae3c-031940164a5e\" class=\"colab-df-container\">\n",
              "    <div>\n",
              "<style scoped>\n",
              "    .dataframe tbody tr th:only-of-type {\n",
              "        vertical-align: middle;\n",
              "    }\n",
              "\n",
              "    .dataframe tbody tr th {\n",
              "        vertical-align: top;\n",
              "    }\n",
              "\n",
              "    .dataframe thead th {\n",
              "        text-align: right;\n",
              "    }\n",
              "</style>\n",
              "<table border=\"1\" class=\"dataframe\">\n",
              "  <thead>\n",
              "    <tr style=\"text-align: right;\">\n",
              "      <th></th>\n",
              "      <th>Product_ID</th>\n",
              "      <th>Stay_In_Current_City_Years</th>\n",
              "    </tr>\n",
              "  </thead>\n",
              "  <tbody>\n",
              "    <tr>\n",
              "      <th>count</th>\n",
              "      <td>550068</td>\n",
              "      <td>550068</td>\n",
              "    </tr>\n",
              "    <tr>\n",
              "      <th>unique</th>\n",
              "      <td>3631</td>\n",
              "      <td>5</td>\n",
              "    </tr>\n",
              "    <tr>\n",
              "      <th>top</th>\n",
              "      <td>P00265242</td>\n",
              "      <td>1</td>\n",
              "    </tr>\n",
              "    <tr>\n",
              "      <th>freq</th>\n",
              "      <td>1880</td>\n",
              "      <td>193821</td>\n",
              "    </tr>\n",
              "  </tbody>\n",
              "</table>\n",
              "</div>\n",
              "    <div class=\"colab-df-buttons\">\n",
              "\n",
              "  <div class=\"colab-df-container\">\n",
              "    <button class=\"colab-df-convert\" onclick=\"convertToInteractive('df-67f711b5-622f-47cc-ae3c-031940164a5e')\"\n",
              "            title=\"Convert this dataframe to an interactive table.\"\n",
              "            style=\"display:none;\">\n",
              "\n",
              "  <svg xmlns=\"http://www.w3.org/2000/svg\" height=\"24px\" viewBox=\"0 -960 960 960\">\n",
              "    <path d=\"M120-120v-720h720v720H120Zm60-500h600v-160H180v160Zm220 220h160v-160H400v160Zm0 220h160v-160H400v160ZM180-400h160v-160H180v160Zm440 0h160v-160H620v160ZM180-180h160v-160H180v160Zm440 0h160v-160H620v160Z\"/>\n",
              "  </svg>\n",
              "    </button>\n",
              "\n",
              "  <style>\n",
              "    .colab-df-container {\n",
              "      display:flex;\n",
              "      gap: 12px;\n",
              "    }\n",
              "\n",
              "    .colab-df-convert {\n",
              "      background-color: #E8F0FE;\n",
              "      border: none;\n",
              "      border-radius: 50%;\n",
              "      cursor: pointer;\n",
              "      display: none;\n",
              "      fill: #1967D2;\n",
              "      height: 32px;\n",
              "      padding: 0 0 0 0;\n",
              "      width: 32px;\n",
              "    }\n",
              "\n",
              "    .colab-df-convert:hover {\n",
              "      background-color: #E2EBFA;\n",
              "      box-shadow: 0px 1px 2px rgba(60, 64, 67, 0.3), 0px 1px 3px 1px rgba(60, 64, 67, 0.15);\n",
              "      fill: #174EA6;\n",
              "    }\n",
              "\n",
              "    .colab-df-buttons div {\n",
              "      margin-bottom: 4px;\n",
              "    }\n",
              "\n",
              "    [theme=dark] .colab-df-convert {\n",
              "      background-color: #3B4455;\n",
              "      fill: #D2E3FC;\n",
              "    }\n",
              "\n",
              "    [theme=dark] .colab-df-convert:hover {\n",
              "      background-color: #434B5C;\n",
              "      box-shadow: 0px 1px 3px 1px rgba(0, 0, 0, 0.15);\n",
              "      filter: drop-shadow(0px 1px 2px rgba(0, 0, 0, 0.3));\n",
              "      fill: #FFFFFF;\n",
              "    }\n",
              "  </style>\n",
              "\n",
              "    <script>\n",
              "      const buttonEl =\n",
              "        document.querySelector('#df-67f711b5-622f-47cc-ae3c-031940164a5e button.colab-df-convert');\n",
              "      buttonEl.style.display =\n",
              "        google.colab.kernel.accessAllowed ? 'block' : 'none';\n",
              "\n",
              "      async function convertToInteractive(key) {\n",
              "        const element = document.querySelector('#df-67f711b5-622f-47cc-ae3c-031940164a5e');\n",
              "        const dataTable =\n",
              "          await google.colab.kernel.invokeFunction('convertToInteractive',\n",
              "                                                    [key], {});\n",
              "        if (!dataTable) return;\n",
              "\n",
              "        const docLinkHtml = 'Like what you see? Visit the ' +\n",
              "          '<a target=\"_blank\" href=https://colab.research.google.com/notebooks/data_table.ipynb>data table notebook</a>'\n",
              "          + ' to learn more about interactive tables.';\n",
              "        element.innerHTML = '';\n",
              "        dataTable['output_type'] = 'display_data';\n",
              "        await google.colab.output.renderOutput(dataTable, element);\n",
              "        const docLink = document.createElement('div');\n",
              "        docLink.innerHTML = docLinkHtml;\n",
              "        element.appendChild(docLink);\n",
              "      }\n",
              "    </script>\n",
              "  </div>\n",
              "\n",
              "\n",
              "<div id=\"df-67fe5259-7230-4a3a-a56a-ac2a37a1063c\">\n",
              "  <button class=\"colab-df-quickchart\" onclick=\"quickchart('df-67fe5259-7230-4a3a-a56a-ac2a37a1063c')\"\n",
              "            title=\"Suggest charts\"\n",
              "            style=\"display:none;\">\n",
              "\n",
              "<svg xmlns=\"http://www.w3.org/2000/svg\" height=\"24px\"viewBox=\"0 0 24 24\"\n",
              "     width=\"24px\">\n",
              "    <g>\n",
              "        <path d=\"M19 3H5c-1.1 0-2 .9-2 2v14c0 1.1.9 2 2 2h14c1.1 0 2-.9 2-2V5c0-1.1-.9-2-2-2zM9 17H7v-7h2v7zm4 0h-2V7h2v10zm4 0h-2v-4h2v4z\"/>\n",
              "    </g>\n",
              "</svg>\n",
              "  </button>\n",
              "\n",
              "<style>\n",
              "  .colab-df-quickchart {\n",
              "      --bg-color: #E8F0FE;\n",
              "      --fill-color: #1967D2;\n",
              "      --hover-bg-color: #E2EBFA;\n",
              "      --hover-fill-color: #174EA6;\n",
              "      --disabled-fill-color: #AAA;\n",
              "      --disabled-bg-color: #DDD;\n",
              "  }\n",
              "\n",
              "  [theme=dark] .colab-df-quickchart {\n",
              "      --bg-color: #3B4455;\n",
              "      --fill-color: #D2E3FC;\n",
              "      --hover-bg-color: #434B5C;\n",
              "      --hover-fill-color: #FFFFFF;\n",
              "      --disabled-bg-color: #3B4455;\n",
              "      --disabled-fill-color: #666;\n",
              "  }\n",
              "\n",
              "  .colab-df-quickchart {\n",
              "    background-color: var(--bg-color);\n",
              "    border: none;\n",
              "    border-radius: 50%;\n",
              "    cursor: pointer;\n",
              "    display: none;\n",
              "    fill: var(--fill-color);\n",
              "    height: 32px;\n",
              "    padding: 0;\n",
              "    width: 32px;\n",
              "  }\n",
              "\n",
              "  .colab-df-quickchart:hover {\n",
              "    background-color: var(--hover-bg-color);\n",
              "    box-shadow: 0 1px 2px rgba(60, 64, 67, 0.3), 0 1px 3px 1px rgba(60, 64, 67, 0.15);\n",
              "    fill: var(--button-hover-fill-color);\n",
              "  }\n",
              "\n",
              "  .colab-df-quickchart-complete:disabled,\n",
              "  .colab-df-quickchart-complete:disabled:hover {\n",
              "    background-color: var(--disabled-bg-color);\n",
              "    fill: var(--disabled-fill-color);\n",
              "    box-shadow: none;\n",
              "  }\n",
              "\n",
              "  .colab-df-spinner {\n",
              "    border: 2px solid var(--fill-color);\n",
              "    border-color: transparent;\n",
              "    border-bottom-color: var(--fill-color);\n",
              "    animation:\n",
              "      spin 1s steps(1) infinite;\n",
              "  }\n",
              "\n",
              "  @keyframes spin {\n",
              "    0% {\n",
              "      border-color: transparent;\n",
              "      border-bottom-color: var(--fill-color);\n",
              "      border-left-color: var(--fill-color);\n",
              "    }\n",
              "    20% {\n",
              "      border-color: transparent;\n",
              "      border-left-color: var(--fill-color);\n",
              "      border-top-color: var(--fill-color);\n",
              "    }\n",
              "    30% {\n",
              "      border-color: transparent;\n",
              "      border-left-color: var(--fill-color);\n",
              "      border-top-color: var(--fill-color);\n",
              "      border-right-color: var(--fill-color);\n",
              "    }\n",
              "    40% {\n",
              "      border-color: transparent;\n",
              "      border-right-color: var(--fill-color);\n",
              "      border-top-color: var(--fill-color);\n",
              "    }\n",
              "    60% {\n",
              "      border-color: transparent;\n",
              "      border-right-color: var(--fill-color);\n",
              "    }\n",
              "    80% {\n",
              "      border-color: transparent;\n",
              "      border-right-color: var(--fill-color);\n",
              "      border-bottom-color: var(--fill-color);\n",
              "    }\n",
              "    90% {\n",
              "      border-color: transparent;\n",
              "      border-bottom-color: var(--fill-color);\n",
              "    }\n",
              "  }\n",
              "</style>\n",
              "\n",
              "  <script>\n",
              "    async function quickchart(key) {\n",
              "      const quickchartButtonEl =\n",
              "        document.querySelector('#' + key + ' button');\n",
              "      quickchartButtonEl.disabled = true;  // To prevent multiple clicks.\n",
              "      quickchartButtonEl.classList.add('colab-df-spinner');\n",
              "      try {\n",
              "        const charts = await google.colab.kernel.invokeFunction(\n",
              "            'suggestCharts', [key], {});\n",
              "      } catch (error) {\n",
              "        console.error('Error during call to suggestCharts:', error);\n",
              "      }\n",
              "      quickchartButtonEl.classList.remove('colab-df-spinner');\n",
              "      quickchartButtonEl.classList.add('colab-df-quickchart-complete');\n",
              "    }\n",
              "    (() => {\n",
              "      let quickchartButtonEl =\n",
              "        document.querySelector('#df-67fe5259-7230-4a3a-a56a-ac2a37a1063c button');\n",
              "      quickchartButtonEl.style.display =\n",
              "        google.colab.kernel.accessAllowed ? 'block' : 'none';\n",
              "    })();\n",
              "  </script>\n",
              "</div>\n",
              "    </div>\n",
              "  </div>\n"
            ]
          },
          "metadata": {},
          "execution_count": 11
        }
      ]
    },
    {
      "cell_type": "markdown",
      "source": [
        "According to the results above, the Product_Id P00265242 had the highest frequency, reaching 1880, indicating that it was the most frequently purchased item."
      ],
      "metadata": {
        "id": "wZunMrs8ws2Y"
      }
    },
    {
      "cell_type": "markdown",
      "source": [
        "#Non-Graphical Analysis: Value counts and unique attributes"
      ],
      "metadata": {
        "id": "YoQDMEPowkG7"
      }
    },
    {
      "cell_type": "code",
      "source": [
        "df['User_ID'].nunique()"
      ],
      "metadata": {
        "colab": {
          "base_uri": "https://localhost:8080/"
        },
        "id": "b1j5eWPVuAvi",
        "outputId": "1c8b7994-059e-4597-f6ee-806bf12ca8a4"
      },
      "execution_count": 13,
      "outputs": [
        {
          "output_type": "execute_result",
          "data": {
            "text/plain": [
              "5891"
            ]
          },
          "metadata": {},
          "execution_count": 13
        }
      ]
    },
    {
      "cell_type": "code",
      "source": [
        "df['User_ID'].unique()\n"
      ],
      "metadata": {
        "colab": {
          "base_uri": "https://localhost:8080/"
        },
        "id": "RHb17I4FuAs0",
        "outputId": "2451cd9b-b652-4d08-f1e8-fd12ec5d2452"
      },
      "execution_count": 14,
      "outputs": [
        {
          "output_type": "execute_result",
          "data": {
            "text/plain": [
              "array([1000001, 1000002, 1000003, ..., 1004113, 1005391, 1001529])"
            ]
          },
          "metadata": {},
          "execution_count": 14
        }
      ]
    },
    {
      "cell_type": "code",
      "source": [
        "df.Product_ID.value_counts()"
      ],
      "metadata": {
        "colab": {
          "base_uri": "https://localhost:8080/"
        },
        "id": "973YNI9quAqJ",
        "outputId": "03a83fcc-7dc6-4318-8037-a5d65d68cb59"
      },
      "execution_count": 15,
      "outputs": [
        {
          "output_type": "execute_result",
          "data": {
            "text/plain": [
              "P00265242    1880\n",
              "P00025442    1615\n",
              "P00110742    1612\n",
              "P00112142    1562\n",
              "P00057642    1470\n",
              "             ... \n",
              "P00314842       1\n",
              "P00298842       1\n",
              "P00231642       1\n",
              "P00204442       1\n",
              "P00066342       1\n",
              "Name: Product_ID, Length: 3631, dtype: int64"
            ]
          },
          "metadata": {},
          "execution_count": 15
        }
      ]
    },
    {
      "cell_type": "code",
      "source": [
        "df.Product_Category.value_counts()"
      ],
      "metadata": {
        "colab": {
          "base_uri": "https://localhost:8080/"
        },
        "id": "_9BAr1uDuAnW",
        "outputId": "70711ed6-6682-44e0-a7b5-e6c91cdd64a1"
      },
      "execution_count": 16,
      "outputs": [
        {
          "output_type": "execute_result",
          "data": {
            "text/plain": [
              "5     150933\n",
              "1     140378\n",
              "8     113925\n",
              "11     24287\n",
              "2      23864\n",
              "6      20466\n",
              "3      20213\n",
              "4      11753\n",
              "16      9828\n",
              "15      6290\n",
              "13      5549\n",
              "10      5125\n",
              "12      3947\n",
              "7       3721\n",
              "18      3125\n",
              "20      2550\n",
              "19      1603\n",
              "14      1523\n",
              "17       578\n",
              "9        410\n",
              "Name: Product_Category, dtype: int64"
            ]
          },
          "metadata": {},
          "execution_count": 16
        }
      ]
    },
    {
      "cell_type": "code",
      "source": [
        "df.Age.unique()"
      ],
      "metadata": {
        "colab": {
          "base_uri": "https://localhost:8080/"
        },
        "id": "wI1ptVzbuAkh",
        "outputId": "7807cf36-6f65-4093-8d7c-d844fb7e8f67"
      },
      "execution_count": 17,
      "outputs": [
        {
          "output_type": "execute_result",
          "data": {
            "text/plain": [
              "['0-17', '55+', '26-35', '46-50', '51-55', '36-45', '18-25']\n",
              "Categories (7, object): ['0-17', '18-25', '26-35', '36-45', '46-50', '51-55', '55+']"
            ]
          },
          "metadata": {},
          "execution_count": 17
        }
      ]
    },
    {
      "cell_type": "code",
      "source": [
        "df.Age.value_counts()\n"
      ],
      "metadata": {
        "colab": {
          "base_uri": "https://localhost:8080/"
        },
        "id": "7JDEyk71vaOQ",
        "outputId": "a4ea6b80-b685-48af-ab0a-615743c3e9a2"
      },
      "execution_count": 18,
      "outputs": [
        {
          "output_type": "execute_result",
          "data": {
            "text/plain": [
              "26-35    219587\n",
              "36-45    110013\n",
              "18-25     99660\n",
              "46-50     45701\n",
              "51-55     38501\n",
              "55+       21504\n",
              "0-17      15102\n",
              "Name: Age, dtype: int64"
            ]
          },
          "metadata": {},
          "execution_count": 18
        }
      ]
    },
    {
      "cell_type": "code",
      "source": [
        "df.City_Category.nunique()"
      ],
      "metadata": {
        "colab": {
          "base_uri": "https://localhost:8080/"
        },
        "id": "4wSzWh78vaLp",
        "outputId": "99244aa5-eabd-4535-a42d-b5eaf8a47793"
      },
      "execution_count": 19,
      "outputs": [
        {
          "output_type": "execute_result",
          "data": {
            "text/plain": [
              "3"
            ]
          },
          "metadata": {},
          "execution_count": 19
        }
      ]
    },
    {
      "cell_type": "code",
      "source": [
        "df.City_Category.unique()"
      ],
      "metadata": {
        "colab": {
          "base_uri": "https://localhost:8080/"
        },
        "id": "Bpup65rrvaIr",
        "outputId": "16532cce-644e-4d14-bcdd-9a5d1cac5edb"
      },
      "execution_count": 20,
      "outputs": [
        {
          "output_type": "execute_result",
          "data": {
            "text/plain": [
              "['A', 'C', 'B']\n",
              "Categories (3, object): ['A', 'B', 'C']"
            ]
          },
          "metadata": {},
          "execution_count": 20
        }
      ]
    },
    {
      "cell_type": "code",
      "source": [
        "df['Gender'].value_counts(normalize = True)*100"
      ],
      "metadata": {
        "colab": {
          "base_uri": "https://localhost:8080/"
        },
        "id": "WmCAIt7zvaFj",
        "outputId": "80e9d28b-6374-4c73-a8fb-d03de9eb2912"
      },
      "execution_count": 21,
      "outputs": [
        {
          "output_type": "execute_result",
          "data": {
            "text/plain": [
              "M    75.310507\n",
              "F    24.689493\n",
              "Name: Gender, dtype: float64"
            ]
          },
          "metadata": {},
          "execution_count": 21
        }
      ]
    },
    {
      "cell_type": "markdown",
      "source": [
        "The results above show that 75% of the purchases come from males, and 25% of purchases come from females"
      ],
      "metadata": {
        "id": "Q_g27JC2yH5N"
      }
    },
    {
      "cell_type": "code",
      "source": [
        "df['Occupation'].value_counts(normalize=True)*100\n"
      ],
      "metadata": {
        "colab": {
          "base_uri": "https://localhost:8080/"
        },
        "id": "pcEm8uK5vaBq",
        "outputId": "145722c8-f4e3-4e23-af54-64569bbab552"
      },
      "execution_count": 22,
      "outputs": [
        {
          "output_type": "execute_result",
          "data": {
            "text/plain": [
              "4     13.145284\n",
              "0     12.659889\n",
              "7     10.750125\n",
              "1      8.621843\n",
              "17     7.279645\n",
              "20     6.101427\n",
              "12     5.668208\n",
              "14     4.964659\n",
              "2      4.833584\n",
              "16     4.612339\n",
              "6      3.700452\n",
              "3      3.208694\n",
              "10     2.350618\n",
              "5      2.213726\n",
              "15     2.211545\n",
              "11     2.106285\n",
              "19     1.538173\n",
              "13     1.404917\n",
              "18     1.203851\n",
              "9      1.143677\n",
              "8      0.281056\n",
              "Name: Occupation, dtype: float64"
            ]
          },
          "metadata": {},
          "execution_count": 22
        }
      ]
    },
    {
      "cell_type": "markdown",
      "source": [
        "From the above results, we can find the top 3 most purchases comes from the occupation 4, 0 and 7."
      ],
      "metadata": {
        "id": "40nDeLK3zHTO"
      }
    },
    {
      "cell_type": "code",
      "source": [
        "np.round(df['Age'].value_counts(normalize = True)*100,2)"
      ],
      "metadata": {
        "colab": {
          "base_uri": "https://localhost:8080/"
        },
        "id": "-iedTeJ4vZ8U",
        "outputId": "23450534-88cb-48b2-9b39-fb384f75d5e7"
      },
      "execution_count": 24,
      "outputs": [
        {
          "output_type": "execute_result",
          "data": {
            "text/plain": [
              "26-35    39.92\n",
              "36-45    20.00\n",
              "18-25    18.12\n",
              "46-50     8.31\n",
              "51-55     7.00\n",
              "55+       3.91\n",
              "0-17      2.75\n",
              "Name: Age, dtype: float64"
            ]
          },
          "metadata": {},
          "execution_count": 24
        }
      ]
    },
    {
      "cell_type": "markdown",
      "source": [
        "From the above results, we can find that the most purchases are made by the individuals in the age category of 26-35."
      ],
      "metadata": {
        "id": "SgsYHqyT0PN-"
      }
    },
    {
      "cell_type": "code",
      "source": [
        "# perecentage share of each gender and unique customers\n",
        "df_dist_cust = pd.DataFrame(df.groupby(by=['Gender'])['User_ID'].nunique().rename('unique_customers'))\n",
        "df_dist_cust['percentage'] = np.round(df_dist_cust['unique_customers']/sum(df_dist_cust['unique_customers'])*100,2)\n",
        "df_dist_cust.reset_index()"
      ],
      "metadata": {
        "colab": {
          "base_uri": "https://localhost:8080/",
          "height": 112
        },
        "id": "_ncNr4mqvZ5Y",
        "outputId": "8184ebad-30be-461b-c0dd-2e876425d5d2"
      },
      "execution_count": 32,
      "outputs": [
        {
          "output_type": "execute_result",
          "data": {
            "text/plain": [
              "  Gender  unique_customers  percentage\n",
              "0      F              1666       28.28\n",
              "1      M              4225       71.72"
            ],
            "text/html": [
              "\n",
              "  <div id=\"df-deba5040-3d37-466c-ba96-b2d4b497a267\" class=\"colab-df-container\">\n",
              "    <div>\n",
              "<style scoped>\n",
              "    .dataframe tbody tr th:only-of-type {\n",
              "        vertical-align: middle;\n",
              "    }\n",
              "\n",
              "    .dataframe tbody tr th {\n",
              "        vertical-align: top;\n",
              "    }\n",
              "\n",
              "    .dataframe thead th {\n",
              "        text-align: right;\n",
              "    }\n",
              "</style>\n",
              "<table border=\"1\" class=\"dataframe\">\n",
              "  <thead>\n",
              "    <tr style=\"text-align: right;\">\n",
              "      <th></th>\n",
              "      <th>Gender</th>\n",
              "      <th>unique_customers</th>\n",
              "      <th>percentage</th>\n",
              "    </tr>\n",
              "  </thead>\n",
              "  <tbody>\n",
              "    <tr>\n",
              "      <th>0</th>\n",
              "      <td>F</td>\n",
              "      <td>1666</td>\n",
              "      <td>28.28</td>\n",
              "    </tr>\n",
              "    <tr>\n",
              "      <th>1</th>\n",
              "      <td>M</td>\n",
              "      <td>4225</td>\n",
              "      <td>71.72</td>\n",
              "    </tr>\n",
              "  </tbody>\n",
              "</table>\n",
              "</div>\n",
              "    <div class=\"colab-df-buttons\">\n",
              "\n",
              "  <div class=\"colab-df-container\">\n",
              "    <button class=\"colab-df-convert\" onclick=\"convertToInteractive('df-deba5040-3d37-466c-ba96-b2d4b497a267')\"\n",
              "            title=\"Convert this dataframe to an interactive table.\"\n",
              "            style=\"display:none;\">\n",
              "\n",
              "  <svg xmlns=\"http://www.w3.org/2000/svg\" height=\"24px\" viewBox=\"0 -960 960 960\">\n",
              "    <path d=\"M120-120v-720h720v720H120Zm60-500h600v-160H180v160Zm220 220h160v-160H400v160Zm0 220h160v-160H400v160ZM180-400h160v-160H180v160Zm440 0h160v-160H620v160ZM180-180h160v-160H180v160Zm440 0h160v-160H620v160Z\"/>\n",
              "  </svg>\n",
              "    </button>\n",
              "\n",
              "  <style>\n",
              "    .colab-df-container {\n",
              "      display:flex;\n",
              "      gap: 12px;\n",
              "    }\n",
              "\n",
              "    .colab-df-convert {\n",
              "      background-color: #E8F0FE;\n",
              "      border: none;\n",
              "      border-radius: 50%;\n",
              "      cursor: pointer;\n",
              "      display: none;\n",
              "      fill: #1967D2;\n",
              "      height: 32px;\n",
              "      padding: 0 0 0 0;\n",
              "      width: 32px;\n",
              "    }\n",
              "\n",
              "    .colab-df-convert:hover {\n",
              "      background-color: #E2EBFA;\n",
              "      box-shadow: 0px 1px 2px rgba(60, 64, 67, 0.3), 0px 1px 3px 1px rgba(60, 64, 67, 0.15);\n",
              "      fill: #174EA6;\n",
              "    }\n",
              "\n",
              "    .colab-df-buttons div {\n",
              "      margin-bottom: 4px;\n",
              "    }\n",
              "\n",
              "    [theme=dark] .colab-df-convert {\n",
              "      background-color: #3B4455;\n",
              "      fill: #D2E3FC;\n",
              "    }\n",
              "\n",
              "    [theme=dark] .colab-df-convert:hover {\n",
              "      background-color: #434B5C;\n",
              "      box-shadow: 0px 1px 3px 1px rgba(0, 0, 0, 0.15);\n",
              "      filter: drop-shadow(0px 1px 2px rgba(0, 0, 0, 0.3));\n",
              "      fill: #FFFFFF;\n",
              "    }\n",
              "  </style>\n",
              "\n",
              "    <script>\n",
              "      const buttonEl =\n",
              "        document.querySelector('#df-deba5040-3d37-466c-ba96-b2d4b497a267 button.colab-df-convert');\n",
              "      buttonEl.style.display =\n",
              "        google.colab.kernel.accessAllowed ? 'block' : 'none';\n",
              "\n",
              "      async function convertToInteractive(key) {\n",
              "        const element = document.querySelector('#df-deba5040-3d37-466c-ba96-b2d4b497a267');\n",
              "        const dataTable =\n",
              "          await google.colab.kernel.invokeFunction('convertToInteractive',\n",
              "                                                    [key], {});\n",
              "        if (!dataTable) return;\n",
              "\n",
              "        const docLinkHtml = 'Like what you see? Visit the ' +\n",
              "          '<a target=\"_blank\" href=https://colab.research.google.com/notebooks/data_table.ipynb>data table notebook</a>'\n",
              "          + ' to learn more about interactive tables.';\n",
              "        element.innerHTML = '';\n",
              "        dataTable['output_type'] = 'display_data';\n",
              "        await google.colab.output.renderOutput(dataTable, element);\n",
              "        const docLink = document.createElement('div');\n",
              "        docLink.innerHTML = docLinkHtml;\n",
              "        element.appendChild(docLink);\n",
              "      }\n",
              "    </script>\n",
              "  </div>\n",
              "\n",
              "\n",
              "<div id=\"df-8a289d82-b6da-4a17-b46c-ce39ca82679f\">\n",
              "  <button class=\"colab-df-quickchart\" onclick=\"quickchart('df-8a289d82-b6da-4a17-b46c-ce39ca82679f')\"\n",
              "            title=\"Suggest charts\"\n",
              "            style=\"display:none;\">\n",
              "\n",
              "<svg xmlns=\"http://www.w3.org/2000/svg\" height=\"24px\"viewBox=\"0 0 24 24\"\n",
              "     width=\"24px\">\n",
              "    <g>\n",
              "        <path d=\"M19 3H5c-1.1 0-2 .9-2 2v14c0 1.1.9 2 2 2h14c1.1 0 2-.9 2-2V5c0-1.1-.9-2-2-2zM9 17H7v-7h2v7zm4 0h-2V7h2v10zm4 0h-2v-4h2v4z\"/>\n",
              "    </g>\n",
              "</svg>\n",
              "  </button>\n",
              "\n",
              "<style>\n",
              "  .colab-df-quickchart {\n",
              "      --bg-color: #E8F0FE;\n",
              "      --fill-color: #1967D2;\n",
              "      --hover-bg-color: #E2EBFA;\n",
              "      --hover-fill-color: #174EA6;\n",
              "      --disabled-fill-color: #AAA;\n",
              "      --disabled-bg-color: #DDD;\n",
              "  }\n",
              "\n",
              "  [theme=dark] .colab-df-quickchart {\n",
              "      --bg-color: #3B4455;\n",
              "      --fill-color: #D2E3FC;\n",
              "      --hover-bg-color: #434B5C;\n",
              "      --hover-fill-color: #FFFFFF;\n",
              "      --disabled-bg-color: #3B4455;\n",
              "      --disabled-fill-color: #666;\n",
              "  }\n",
              "\n",
              "  .colab-df-quickchart {\n",
              "    background-color: var(--bg-color);\n",
              "    border: none;\n",
              "    border-radius: 50%;\n",
              "    cursor: pointer;\n",
              "    display: none;\n",
              "    fill: var(--fill-color);\n",
              "    height: 32px;\n",
              "    padding: 0;\n",
              "    width: 32px;\n",
              "  }\n",
              "\n",
              "  .colab-df-quickchart:hover {\n",
              "    background-color: var(--hover-bg-color);\n",
              "    box-shadow: 0 1px 2px rgba(60, 64, 67, 0.3), 0 1px 3px 1px rgba(60, 64, 67, 0.15);\n",
              "    fill: var(--button-hover-fill-color);\n",
              "  }\n",
              "\n",
              "  .colab-df-quickchart-complete:disabled,\n",
              "  .colab-df-quickchart-complete:disabled:hover {\n",
              "    background-color: var(--disabled-bg-color);\n",
              "    fill: var(--disabled-fill-color);\n",
              "    box-shadow: none;\n",
              "  }\n",
              "\n",
              "  .colab-df-spinner {\n",
              "    border: 2px solid var(--fill-color);\n",
              "    border-color: transparent;\n",
              "    border-bottom-color: var(--fill-color);\n",
              "    animation:\n",
              "      spin 1s steps(1) infinite;\n",
              "  }\n",
              "\n",
              "  @keyframes spin {\n",
              "    0% {\n",
              "      border-color: transparent;\n",
              "      border-bottom-color: var(--fill-color);\n",
              "      border-left-color: var(--fill-color);\n",
              "    }\n",
              "    20% {\n",
              "      border-color: transparent;\n",
              "      border-left-color: var(--fill-color);\n",
              "      border-top-color: var(--fill-color);\n",
              "    }\n",
              "    30% {\n",
              "      border-color: transparent;\n",
              "      border-left-color: var(--fill-color);\n",
              "      border-top-color: var(--fill-color);\n",
              "      border-right-color: var(--fill-color);\n",
              "    }\n",
              "    40% {\n",
              "      border-color: transparent;\n",
              "      border-right-color: var(--fill-color);\n",
              "      border-top-color: var(--fill-color);\n",
              "    }\n",
              "    60% {\n",
              "      border-color: transparent;\n",
              "      border-right-color: var(--fill-color);\n",
              "    }\n",
              "    80% {\n",
              "      border-color: transparent;\n",
              "      border-right-color: var(--fill-color);\n",
              "      border-bottom-color: var(--fill-color);\n",
              "    }\n",
              "    90% {\n",
              "      border-color: transparent;\n",
              "      border-bottom-color: var(--fill-color);\n",
              "    }\n",
              "  }\n",
              "</style>\n",
              "\n",
              "  <script>\n",
              "    async function quickchart(key) {\n",
              "      const quickchartButtonEl =\n",
              "        document.querySelector('#' + key + ' button');\n",
              "      quickchartButtonEl.disabled = true;  // To prevent multiple clicks.\n",
              "      quickchartButtonEl.classList.add('colab-df-spinner');\n",
              "      try {\n",
              "        const charts = await google.colab.kernel.invokeFunction(\n",
              "            'suggestCharts', [key], {});\n",
              "      } catch (error) {\n",
              "        console.error('Error during call to suggestCharts:', error);\n",
              "      }\n",
              "      quickchartButtonEl.classList.remove('colab-df-spinner');\n",
              "      quickchartButtonEl.classList.add('colab-df-quickchart-complete');\n",
              "    }\n",
              "    (() => {\n",
              "      let quickchartButtonEl =\n",
              "        document.querySelector('#df-8a289d82-b6da-4a17-b46c-ce39ca82679f button');\n",
              "      quickchartButtonEl.style.display =\n",
              "        google.colab.kernel.accessAllowed ? 'block' : 'none';\n",
              "    })();\n",
              "  </script>\n",
              "</div>\n",
              "    </div>\n",
              "  </div>\n"
            ]
          },
          "metadata": {},
          "execution_count": 32
        }
      ]
    },
    {
      "cell_type": "markdown",
      "source": [
        "From the above table it is clear that female purchase is almost 28% and male percentage is almost 72%"
      ],
      "metadata": {
        "id": "MXntqxQx3Dqd"
      }
    },
    {
      "cell_type": "code",
      "source": [
        "#average no of transactions made by each gender\n",
        "df_gender = pd.DataFrame(df.groupby(by='Gender')['User_ID'].count().rename('Total_transactions'))\n",
        "df_gender['unique_customers'] = df_dist_cust['unique_customers']\n",
        "df_gender['avg_no_trns'] = np.round(df_gender['Total_transactions']/(df_gender['unique_customers']),2)\n",
        "df_gender.reset_index()\n"
      ],
      "metadata": {
        "colab": {
          "base_uri": "https://localhost:8080/",
          "height": 112
        },
        "id": "WbeQ8SHWvZ21",
        "outputId": "5958466f-11bb-4228-c7cc-0b504b6a32a7"
      },
      "execution_count": 34,
      "outputs": [
        {
          "output_type": "execute_result",
          "data": {
            "text/plain": [
              "  Gender  Total_transactions  unique_customers  avg_no_trns\n",
              "0      F              135809              1666        81.52\n",
              "1      M              414259              4225        98.05"
            ],
            "text/html": [
              "\n",
              "  <div id=\"df-cffe5462-8512-40db-87f7-642827d7ae1f\" class=\"colab-df-container\">\n",
              "    <div>\n",
              "<style scoped>\n",
              "    .dataframe tbody tr th:only-of-type {\n",
              "        vertical-align: middle;\n",
              "    }\n",
              "\n",
              "    .dataframe tbody tr th {\n",
              "        vertical-align: top;\n",
              "    }\n",
              "\n",
              "    .dataframe thead th {\n",
              "        text-align: right;\n",
              "    }\n",
              "</style>\n",
              "<table border=\"1\" class=\"dataframe\">\n",
              "  <thead>\n",
              "    <tr style=\"text-align: right;\">\n",
              "      <th></th>\n",
              "      <th>Gender</th>\n",
              "      <th>Total_transactions</th>\n",
              "      <th>unique_customers</th>\n",
              "      <th>avg_no_trns</th>\n",
              "    </tr>\n",
              "  </thead>\n",
              "  <tbody>\n",
              "    <tr>\n",
              "      <th>0</th>\n",
              "      <td>F</td>\n",
              "      <td>135809</td>\n",
              "      <td>1666</td>\n",
              "      <td>81.52</td>\n",
              "    </tr>\n",
              "    <tr>\n",
              "      <th>1</th>\n",
              "      <td>M</td>\n",
              "      <td>414259</td>\n",
              "      <td>4225</td>\n",
              "      <td>98.05</td>\n",
              "    </tr>\n",
              "  </tbody>\n",
              "</table>\n",
              "</div>\n",
              "    <div class=\"colab-df-buttons\">\n",
              "\n",
              "  <div class=\"colab-df-container\">\n",
              "    <button class=\"colab-df-convert\" onclick=\"convertToInteractive('df-cffe5462-8512-40db-87f7-642827d7ae1f')\"\n",
              "            title=\"Convert this dataframe to an interactive table.\"\n",
              "            style=\"display:none;\">\n",
              "\n",
              "  <svg xmlns=\"http://www.w3.org/2000/svg\" height=\"24px\" viewBox=\"0 -960 960 960\">\n",
              "    <path d=\"M120-120v-720h720v720H120Zm60-500h600v-160H180v160Zm220 220h160v-160H400v160Zm0 220h160v-160H400v160ZM180-400h160v-160H180v160Zm440 0h160v-160H620v160ZM180-180h160v-160H180v160Zm440 0h160v-160H620v160Z\"/>\n",
              "  </svg>\n",
              "    </button>\n",
              "\n",
              "  <style>\n",
              "    .colab-df-container {\n",
              "      display:flex;\n",
              "      gap: 12px;\n",
              "    }\n",
              "\n",
              "    .colab-df-convert {\n",
              "      background-color: #E8F0FE;\n",
              "      border: none;\n",
              "      border-radius: 50%;\n",
              "      cursor: pointer;\n",
              "      display: none;\n",
              "      fill: #1967D2;\n",
              "      height: 32px;\n",
              "      padding: 0 0 0 0;\n",
              "      width: 32px;\n",
              "    }\n",
              "\n",
              "    .colab-df-convert:hover {\n",
              "      background-color: #E2EBFA;\n",
              "      box-shadow: 0px 1px 2px rgba(60, 64, 67, 0.3), 0px 1px 3px 1px rgba(60, 64, 67, 0.15);\n",
              "      fill: #174EA6;\n",
              "    }\n",
              "\n",
              "    .colab-df-buttons div {\n",
              "      margin-bottom: 4px;\n",
              "    }\n",
              "\n",
              "    [theme=dark] .colab-df-convert {\n",
              "      background-color: #3B4455;\n",
              "      fill: #D2E3FC;\n",
              "    }\n",
              "\n",
              "    [theme=dark] .colab-df-convert:hover {\n",
              "      background-color: #434B5C;\n",
              "      box-shadow: 0px 1px 3px 1px rgba(0, 0, 0, 0.15);\n",
              "      filter: drop-shadow(0px 1px 2px rgba(0, 0, 0, 0.3));\n",
              "      fill: #FFFFFF;\n",
              "    }\n",
              "  </style>\n",
              "\n",
              "    <script>\n",
              "      const buttonEl =\n",
              "        document.querySelector('#df-cffe5462-8512-40db-87f7-642827d7ae1f button.colab-df-convert');\n",
              "      buttonEl.style.display =\n",
              "        google.colab.kernel.accessAllowed ? 'block' : 'none';\n",
              "\n",
              "      async function convertToInteractive(key) {\n",
              "        const element = document.querySelector('#df-cffe5462-8512-40db-87f7-642827d7ae1f');\n",
              "        const dataTable =\n",
              "          await google.colab.kernel.invokeFunction('convertToInteractive',\n",
              "                                                    [key], {});\n",
              "        if (!dataTable) return;\n",
              "\n",
              "        const docLinkHtml = 'Like what you see? Visit the ' +\n",
              "          '<a target=\"_blank\" href=https://colab.research.google.com/notebooks/data_table.ipynb>data table notebook</a>'\n",
              "          + ' to learn more about interactive tables.';\n",
              "        element.innerHTML = '';\n",
              "        dataTable['output_type'] = 'display_data';\n",
              "        await google.colab.output.renderOutput(dataTable, element);\n",
              "        const docLink = document.createElement('div');\n",
              "        docLink.innerHTML = docLinkHtml;\n",
              "        element.appendChild(docLink);\n",
              "      }\n",
              "    </script>\n",
              "  </div>\n",
              "\n",
              "\n",
              "<div id=\"df-da04e3ad-9782-4bae-a893-08c122fd2467\">\n",
              "  <button class=\"colab-df-quickchart\" onclick=\"quickchart('df-da04e3ad-9782-4bae-a893-08c122fd2467')\"\n",
              "            title=\"Suggest charts\"\n",
              "            style=\"display:none;\">\n",
              "\n",
              "<svg xmlns=\"http://www.w3.org/2000/svg\" height=\"24px\"viewBox=\"0 0 24 24\"\n",
              "     width=\"24px\">\n",
              "    <g>\n",
              "        <path d=\"M19 3H5c-1.1 0-2 .9-2 2v14c0 1.1.9 2 2 2h14c1.1 0 2-.9 2-2V5c0-1.1-.9-2-2-2zM9 17H7v-7h2v7zm4 0h-2V7h2v10zm4 0h-2v-4h2v4z\"/>\n",
              "    </g>\n",
              "</svg>\n",
              "  </button>\n",
              "\n",
              "<style>\n",
              "  .colab-df-quickchart {\n",
              "      --bg-color: #E8F0FE;\n",
              "      --fill-color: #1967D2;\n",
              "      --hover-bg-color: #E2EBFA;\n",
              "      --hover-fill-color: #174EA6;\n",
              "      --disabled-fill-color: #AAA;\n",
              "      --disabled-bg-color: #DDD;\n",
              "  }\n",
              "\n",
              "  [theme=dark] .colab-df-quickchart {\n",
              "      --bg-color: #3B4455;\n",
              "      --fill-color: #D2E3FC;\n",
              "      --hover-bg-color: #434B5C;\n",
              "      --hover-fill-color: #FFFFFF;\n",
              "      --disabled-bg-color: #3B4455;\n",
              "      --disabled-fill-color: #666;\n",
              "  }\n",
              "\n",
              "  .colab-df-quickchart {\n",
              "    background-color: var(--bg-color);\n",
              "    border: none;\n",
              "    border-radius: 50%;\n",
              "    cursor: pointer;\n",
              "    display: none;\n",
              "    fill: var(--fill-color);\n",
              "    height: 32px;\n",
              "    padding: 0;\n",
              "    width: 32px;\n",
              "  }\n",
              "\n",
              "  .colab-df-quickchart:hover {\n",
              "    background-color: var(--hover-bg-color);\n",
              "    box-shadow: 0 1px 2px rgba(60, 64, 67, 0.3), 0 1px 3px 1px rgba(60, 64, 67, 0.15);\n",
              "    fill: var(--button-hover-fill-color);\n",
              "  }\n",
              "\n",
              "  .colab-df-quickchart-complete:disabled,\n",
              "  .colab-df-quickchart-complete:disabled:hover {\n",
              "    background-color: var(--disabled-bg-color);\n",
              "    fill: var(--disabled-fill-color);\n",
              "    box-shadow: none;\n",
              "  }\n",
              "\n",
              "  .colab-df-spinner {\n",
              "    border: 2px solid var(--fill-color);\n",
              "    border-color: transparent;\n",
              "    border-bottom-color: var(--fill-color);\n",
              "    animation:\n",
              "      spin 1s steps(1) infinite;\n",
              "  }\n",
              "\n",
              "  @keyframes spin {\n",
              "    0% {\n",
              "      border-color: transparent;\n",
              "      border-bottom-color: var(--fill-color);\n",
              "      border-left-color: var(--fill-color);\n",
              "    }\n",
              "    20% {\n",
              "      border-color: transparent;\n",
              "      border-left-color: var(--fill-color);\n",
              "      border-top-color: var(--fill-color);\n",
              "    }\n",
              "    30% {\n",
              "      border-color: transparent;\n",
              "      border-left-color: var(--fill-color);\n",
              "      border-top-color: var(--fill-color);\n",
              "      border-right-color: var(--fill-color);\n",
              "    }\n",
              "    40% {\n",
              "      border-color: transparent;\n",
              "      border-right-color: var(--fill-color);\n",
              "      border-top-color: var(--fill-color);\n",
              "    }\n",
              "    60% {\n",
              "      border-color: transparent;\n",
              "      border-right-color: var(--fill-color);\n",
              "    }\n",
              "    80% {\n",
              "      border-color: transparent;\n",
              "      border-right-color: var(--fill-color);\n",
              "      border-bottom-color: var(--fill-color);\n",
              "    }\n",
              "    90% {\n",
              "      border-color: transparent;\n",
              "      border-bottom-color: var(--fill-color);\n",
              "    }\n",
              "  }\n",
              "</style>\n",
              "\n",
              "  <script>\n",
              "    async function quickchart(key) {\n",
              "      const quickchartButtonEl =\n",
              "        document.querySelector('#' + key + ' button');\n",
              "      quickchartButtonEl.disabled = true;  // To prevent multiple clicks.\n",
              "      quickchartButtonEl.classList.add('colab-df-spinner');\n",
              "      try {\n",
              "        const charts = await google.colab.kernel.invokeFunction(\n",
              "            'suggestCharts', [key], {});\n",
              "      } catch (error) {\n",
              "        console.error('Error during call to suggestCharts:', error);\n",
              "      }\n",
              "      quickchartButtonEl.classList.remove('colab-df-spinner');\n",
              "      quickchartButtonEl.classList.add('colab-df-quickchart-complete');\n",
              "    }\n",
              "    (() => {\n",
              "      let quickchartButtonEl =\n",
              "        document.querySelector('#df-da04e3ad-9782-4bae-a893-08c122fd2467 button');\n",
              "      quickchartButtonEl.style.display =\n",
              "        google.colab.kernel.accessAllowed ? 'block' : 'none';\n",
              "    })();\n",
              "  </script>\n",
              "</div>\n",
              "    </div>\n",
              "  </div>\n"
            ]
          },
          "metadata": {},
          "execution_count": 34
        }
      ]
    },
    {
      "cell_type": "markdown",
      "source": [
        "On an average, females make 82 transactions and males make 98 transactions"
      ],
      "metadata": {
        "id": "pl0alDV49aAZ"
      }
    },
    {
      "cell_type": "code",
      "source": [
        "#revenue generated by each gender\n",
        "df_revenue = pd.DataFrame(df.groupby(by='Gender')['Purchase'].sum().rename('total_purchase_amount'))\n",
        "df_revenue['percent share'] = np.round(df_revenue['total_purchase_amount']/sum(df_revenue['total_purchase_amount'])*100,2)\n",
        "df_revenue.reset_index()\n"
      ],
      "metadata": {
        "colab": {
          "base_uri": "https://localhost:8080/",
          "height": 112
        },
        "id": "LjKZI-3T9Zqy",
        "outputId": "3f8f8032-ff5f-4e4a-cd5e-f4d3d959be2d"
      },
      "execution_count": 39,
      "outputs": [
        {
          "output_type": "execute_result",
          "data": {
            "text/plain": [
              "  Gender  total_purchase_amount  percent share\n",
              "0      F             1186232642          23.28\n",
              "1      M             3909580100          76.72"
            ],
            "text/html": [
              "\n",
              "  <div id=\"df-c36c8644-dc42-4d69-9e76-3f49bea70d1e\" class=\"colab-df-container\">\n",
              "    <div>\n",
              "<style scoped>\n",
              "    .dataframe tbody tr th:only-of-type {\n",
              "        vertical-align: middle;\n",
              "    }\n",
              "\n",
              "    .dataframe tbody tr th {\n",
              "        vertical-align: top;\n",
              "    }\n",
              "\n",
              "    .dataframe thead th {\n",
              "        text-align: right;\n",
              "    }\n",
              "</style>\n",
              "<table border=\"1\" class=\"dataframe\">\n",
              "  <thead>\n",
              "    <tr style=\"text-align: right;\">\n",
              "      <th></th>\n",
              "      <th>Gender</th>\n",
              "      <th>total_purchase_amount</th>\n",
              "      <th>percent share</th>\n",
              "    </tr>\n",
              "  </thead>\n",
              "  <tbody>\n",
              "    <tr>\n",
              "      <th>0</th>\n",
              "      <td>F</td>\n",
              "      <td>1186232642</td>\n",
              "      <td>23.28</td>\n",
              "    </tr>\n",
              "    <tr>\n",
              "      <th>1</th>\n",
              "      <td>M</td>\n",
              "      <td>3909580100</td>\n",
              "      <td>76.72</td>\n",
              "    </tr>\n",
              "  </tbody>\n",
              "</table>\n",
              "</div>\n",
              "    <div class=\"colab-df-buttons\">\n",
              "\n",
              "  <div class=\"colab-df-container\">\n",
              "    <button class=\"colab-df-convert\" onclick=\"convertToInteractive('df-c36c8644-dc42-4d69-9e76-3f49bea70d1e')\"\n",
              "            title=\"Convert this dataframe to an interactive table.\"\n",
              "            style=\"display:none;\">\n",
              "\n",
              "  <svg xmlns=\"http://www.w3.org/2000/svg\" height=\"24px\" viewBox=\"0 -960 960 960\">\n",
              "    <path d=\"M120-120v-720h720v720H120Zm60-500h600v-160H180v160Zm220 220h160v-160H400v160Zm0 220h160v-160H400v160ZM180-400h160v-160H180v160Zm440 0h160v-160H620v160ZM180-180h160v-160H180v160Zm440 0h160v-160H620v160Z\"/>\n",
              "  </svg>\n",
              "    </button>\n",
              "\n",
              "  <style>\n",
              "    .colab-df-container {\n",
              "      display:flex;\n",
              "      gap: 12px;\n",
              "    }\n",
              "\n",
              "    .colab-df-convert {\n",
              "      background-color: #E8F0FE;\n",
              "      border: none;\n",
              "      border-radius: 50%;\n",
              "      cursor: pointer;\n",
              "      display: none;\n",
              "      fill: #1967D2;\n",
              "      height: 32px;\n",
              "      padding: 0 0 0 0;\n",
              "      width: 32px;\n",
              "    }\n",
              "\n",
              "    .colab-df-convert:hover {\n",
              "      background-color: #E2EBFA;\n",
              "      box-shadow: 0px 1px 2px rgba(60, 64, 67, 0.3), 0px 1px 3px 1px rgba(60, 64, 67, 0.15);\n",
              "      fill: #174EA6;\n",
              "    }\n",
              "\n",
              "    .colab-df-buttons div {\n",
              "      margin-bottom: 4px;\n",
              "    }\n",
              "\n",
              "    [theme=dark] .colab-df-convert {\n",
              "      background-color: #3B4455;\n",
              "      fill: #D2E3FC;\n",
              "    }\n",
              "\n",
              "    [theme=dark] .colab-df-convert:hover {\n",
              "      background-color: #434B5C;\n",
              "      box-shadow: 0px 1px 3px 1px rgba(0, 0, 0, 0.15);\n",
              "      filter: drop-shadow(0px 1px 2px rgba(0, 0, 0, 0.3));\n",
              "      fill: #FFFFFF;\n",
              "    }\n",
              "  </style>\n",
              "\n",
              "    <script>\n",
              "      const buttonEl =\n",
              "        document.querySelector('#df-c36c8644-dc42-4d69-9e76-3f49bea70d1e button.colab-df-convert');\n",
              "      buttonEl.style.display =\n",
              "        google.colab.kernel.accessAllowed ? 'block' : 'none';\n",
              "\n",
              "      async function convertToInteractive(key) {\n",
              "        const element = document.querySelector('#df-c36c8644-dc42-4d69-9e76-3f49bea70d1e');\n",
              "        const dataTable =\n",
              "          await google.colab.kernel.invokeFunction('convertToInteractive',\n",
              "                                                    [key], {});\n",
              "        if (!dataTable) return;\n",
              "\n",
              "        const docLinkHtml = 'Like what you see? Visit the ' +\n",
              "          '<a target=\"_blank\" href=https://colab.research.google.com/notebooks/data_table.ipynb>data table notebook</a>'\n",
              "          + ' to learn more about interactive tables.';\n",
              "        element.innerHTML = '';\n",
              "        dataTable['output_type'] = 'display_data';\n",
              "        await google.colab.output.renderOutput(dataTable, element);\n",
              "        const docLink = document.createElement('div');\n",
              "        docLink.innerHTML = docLinkHtml;\n",
              "        element.appendChild(docLink);\n",
              "      }\n",
              "    </script>\n",
              "  </div>\n",
              "\n",
              "\n",
              "<div id=\"df-78068f71-35c0-4612-882e-4976fae72aed\">\n",
              "  <button class=\"colab-df-quickchart\" onclick=\"quickchart('df-78068f71-35c0-4612-882e-4976fae72aed')\"\n",
              "            title=\"Suggest charts\"\n",
              "            style=\"display:none;\">\n",
              "\n",
              "<svg xmlns=\"http://www.w3.org/2000/svg\" height=\"24px\"viewBox=\"0 0 24 24\"\n",
              "     width=\"24px\">\n",
              "    <g>\n",
              "        <path d=\"M19 3H5c-1.1 0-2 .9-2 2v14c0 1.1.9 2 2 2h14c1.1 0 2-.9 2-2V5c0-1.1-.9-2-2-2zM9 17H7v-7h2v7zm4 0h-2V7h2v10zm4 0h-2v-4h2v4z\"/>\n",
              "    </g>\n",
              "</svg>\n",
              "  </button>\n",
              "\n",
              "<style>\n",
              "  .colab-df-quickchart {\n",
              "      --bg-color: #E8F0FE;\n",
              "      --fill-color: #1967D2;\n",
              "      --hover-bg-color: #E2EBFA;\n",
              "      --hover-fill-color: #174EA6;\n",
              "      --disabled-fill-color: #AAA;\n",
              "      --disabled-bg-color: #DDD;\n",
              "  }\n",
              "\n",
              "  [theme=dark] .colab-df-quickchart {\n",
              "      --bg-color: #3B4455;\n",
              "      --fill-color: #D2E3FC;\n",
              "      --hover-bg-color: #434B5C;\n",
              "      --hover-fill-color: #FFFFFF;\n",
              "      --disabled-bg-color: #3B4455;\n",
              "      --disabled-fill-color: #666;\n",
              "  }\n",
              "\n",
              "  .colab-df-quickchart {\n",
              "    background-color: var(--bg-color);\n",
              "    border: none;\n",
              "    border-radius: 50%;\n",
              "    cursor: pointer;\n",
              "    display: none;\n",
              "    fill: var(--fill-color);\n",
              "    height: 32px;\n",
              "    padding: 0;\n",
              "    width: 32px;\n",
              "  }\n",
              "\n",
              "  .colab-df-quickchart:hover {\n",
              "    background-color: var(--hover-bg-color);\n",
              "    box-shadow: 0 1px 2px rgba(60, 64, 67, 0.3), 0 1px 3px 1px rgba(60, 64, 67, 0.15);\n",
              "    fill: var(--button-hover-fill-color);\n",
              "  }\n",
              "\n",
              "  .colab-df-quickchart-complete:disabled,\n",
              "  .colab-df-quickchart-complete:disabled:hover {\n",
              "    background-color: var(--disabled-bg-color);\n",
              "    fill: var(--disabled-fill-color);\n",
              "    box-shadow: none;\n",
              "  }\n",
              "\n",
              "  .colab-df-spinner {\n",
              "    border: 2px solid var(--fill-color);\n",
              "    border-color: transparent;\n",
              "    border-bottom-color: var(--fill-color);\n",
              "    animation:\n",
              "      spin 1s steps(1) infinite;\n",
              "  }\n",
              "\n",
              "  @keyframes spin {\n",
              "    0% {\n",
              "      border-color: transparent;\n",
              "      border-bottom-color: var(--fill-color);\n",
              "      border-left-color: var(--fill-color);\n",
              "    }\n",
              "    20% {\n",
              "      border-color: transparent;\n",
              "      border-left-color: var(--fill-color);\n",
              "      border-top-color: var(--fill-color);\n",
              "    }\n",
              "    30% {\n",
              "      border-color: transparent;\n",
              "      border-left-color: var(--fill-color);\n",
              "      border-top-color: var(--fill-color);\n",
              "      border-right-color: var(--fill-color);\n",
              "    }\n",
              "    40% {\n",
              "      border-color: transparent;\n",
              "      border-right-color: var(--fill-color);\n",
              "      border-top-color: var(--fill-color);\n",
              "    }\n",
              "    60% {\n",
              "      border-color: transparent;\n",
              "      border-right-color: var(--fill-color);\n",
              "    }\n",
              "    80% {\n",
              "      border-color: transparent;\n",
              "      border-right-color: var(--fill-color);\n",
              "      border-bottom-color: var(--fill-color);\n",
              "    }\n",
              "    90% {\n",
              "      border-color: transparent;\n",
              "      border-bottom-color: var(--fill-color);\n",
              "    }\n",
              "  }\n",
              "</style>\n",
              "\n",
              "  <script>\n",
              "    async function quickchart(key) {\n",
              "      const quickchartButtonEl =\n",
              "        document.querySelector('#' + key + ' button');\n",
              "      quickchartButtonEl.disabled = true;  // To prevent multiple clicks.\n",
              "      quickchartButtonEl.classList.add('colab-df-spinner');\n",
              "      try {\n",
              "        const charts = await google.colab.kernel.invokeFunction(\n",
              "            'suggestCharts', [key], {});\n",
              "      } catch (error) {\n",
              "        console.error('Error during call to suggestCharts:', error);\n",
              "      }\n",
              "      quickchartButtonEl.classList.remove('colab-df-spinner');\n",
              "      quickchartButtonEl.classList.add('colab-df-quickchart-complete');\n",
              "    }\n",
              "    (() => {\n",
              "      let quickchartButtonEl =\n",
              "        document.querySelector('#df-78068f71-35c0-4612-882e-4976fae72aed button');\n",
              "      quickchartButtonEl.style.display =\n",
              "        google.colab.kernel.accessAllowed ? 'block' : 'none';\n",
              "    })();\n",
              "  </script>\n",
              "</div>\n",
              "    </div>\n",
              "  </div>\n"
            ]
          },
          "metadata": {},
          "execution_count": 39
        }
      ]
    },
    {
      "cell_type": "markdown",
      "source": [
        "Revenue generated by\n",
        "\n",
        "Females = 23%\n",
        "\n",
        "Males = 77%"
      ],
      "metadata": {
        "id": "XhjtMrCx-QzE"
      }
    },
    {
      "cell_type": "code",
      "source": [
        "# city vs purchase analysis\n",
        "df_city = pd.DataFrame(df.groupby(by ='City_Category')['Purchase'].sum().rename('total_purchase'))\n",
        "df_city['% revenue_share'] =np.round(df_city['total_purchase']/sum(df_city['total_purchase'])*100,2)\n",
        "df_city.reset_index()\n"
      ],
      "metadata": {
        "colab": {
          "base_uri": "https://localhost:8080/",
          "height": 143
        },
        "id": "ox1i3I1HvZ0E",
        "outputId": "ab06252b-882d-41a5-d43c-0dda53626513"
      },
      "execution_count": 41,
      "outputs": [
        {
          "output_type": "execute_result",
          "data": {
            "text/plain": [
              "  City_Category  total_purchase  % revenue_share\n",
              "0             A      1316471661            25.83\n",
              "1             B      2115533605            41.52\n",
              "2             C      1663807476            32.65"
            ],
            "text/html": [
              "\n",
              "  <div id=\"df-393e9b35-c032-4802-a60e-8011d279b2d0\" class=\"colab-df-container\">\n",
              "    <div>\n",
              "<style scoped>\n",
              "    .dataframe tbody tr th:only-of-type {\n",
              "        vertical-align: middle;\n",
              "    }\n",
              "\n",
              "    .dataframe tbody tr th {\n",
              "        vertical-align: top;\n",
              "    }\n",
              "\n",
              "    .dataframe thead th {\n",
              "        text-align: right;\n",
              "    }\n",
              "</style>\n",
              "<table border=\"1\" class=\"dataframe\">\n",
              "  <thead>\n",
              "    <tr style=\"text-align: right;\">\n",
              "      <th></th>\n",
              "      <th>City_Category</th>\n",
              "      <th>total_purchase</th>\n",
              "      <th>% revenue_share</th>\n",
              "    </tr>\n",
              "  </thead>\n",
              "  <tbody>\n",
              "    <tr>\n",
              "      <th>0</th>\n",
              "      <td>A</td>\n",
              "      <td>1316471661</td>\n",
              "      <td>25.83</td>\n",
              "    </tr>\n",
              "    <tr>\n",
              "      <th>1</th>\n",
              "      <td>B</td>\n",
              "      <td>2115533605</td>\n",
              "      <td>41.52</td>\n",
              "    </tr>\n",
              "    <tr>\n",
              "      <th>2</th>\n",
              "      <td>C</td>\n",
              "      <td>1663807476</td>\n",
              "      <td>32.65</td>\n",
              "    </tr>\n",
              "  </tbody>\n",
              "</table>\n",
              "</div>\n",
              "    <div class=\"colab-df-buttons\">\n",
              "\n",
              "  <div class=\"colab-df-container\">\n",
              "    <button class=\"colab-df-convert\" onclick=\"convertToInteractive('df-393e9b35-c032-4802-a60e-8011d279b2d0')\"\n",
              "            title=\"Convert this dataframe to an interactive table.\"\n",
              "            style=\"display:none;\">\n",
              "\n",
              "  <svg xmlns=\"http://www.w3.org/2000/svg\" height=\"24px\" viewBox=\"0 -960 960 960\">\n",
              "    <path d=\"M120-120v-720h720v720H120Zm60-500h600v-160H180v160Zm220 220h160v-160H400v160Zm0 220h160v-160H400v160ZM180-400h160v-160H180v160Zm440 0h160v-160H620v160ZM180-180h160v-160H180v160Zm440 0h160v-160H620v160Z\"/>\n",
              "  </svg>\n",
              "    </button>\n",
              "\n",
              "  <style>\n",
              "    .colab-df-container {\n",
              "      display:flex;\n",
              "      gap: 12px;\n",
              "    }\n",
              "\n",
              "    .colab-df-convert {\n",
              "      background-color: #E8F0FE;\n",
              "      border: none;\n",
              "      border-radius: 50%;\n",
              "      cursor: pointer;\n",
              "      display: none;\n",
              "      fill: #1967D2;\n",
              "      height: 32px;\n",
              "      padding: 0 0 0 0;\n",
              "      width: 32px;\n",
              "    }\n",
              "\n",
              "    .colab-df-convert:hover {\n",
              "      background-color: #E2EBFA;\n",
              "      box-shadow: 0px 1px 2px rgba(60, 64, 67, 0.3), 0px 1px 3px 1px rgba(60, 64, 67, 0.15);\n",
              "      fill: #174EA6;\n",
              "    }\n",
              "\n",
              "    .colab-df-buttons div {\n",
              "      margin-bottom: 4px;\n",
              "    }\n",
              "\n",
              "    [theme=dark] .colab-df-convert {\n",
              "      background-color: #3B4455;\n",
              "      fill: #D2E3FC;\n",
              "    }\n",
              "\n",
              "    [theme=dark] .colab-df-convert:hover {\n",
              "      background-color: #434B5C;\n",
              "      box-shadow: 0px 1px 3px 1px rgba(0, 0, 0, 0.15);\n",
              "      filter: drop-shadow(0px 1px 2px rgba(0, 0, 0, 0.3));\n",
              "      fill: #FFFFFF;\n",
              "    }\n",
              "  </style>\n",
              "\n",
              "    <script>\n",
              "      const buttonEl =\n",
              "        document.querySelector('#df-393e9b35-c032-4802-a60e-8011d279b2d0 button.colab-df-convert');\n",
              "      buttonEl.style.display =\n",
              "        google.colab.kernel.accessAllowed ? 'block' : 'none';\n",
              "\n",
              "      async function convertToInteractive(key) {\n",
              "        const element = document.querySelector('#df-393e9b35-c032-4802-a60e-8011d279b2d0');\n",
              "        const dataTable =\n",
              "          await google.colab.kernel.invokeFunction('convertToInteractive',\n",
              "                                                    [key], {});\n",
              "        if (!dataTable) return;\n",
              "\n",
              "        const docLinkHtml = 'Like what you see? Visit the ' +\n",
              "          '<a target=\"_blank\" href=https://colab.research.google.com/notebooks/data_table.ipynb>data table notebook</a>'\n",
              "          + ' to learn more about interactive tables.';\n",
              "        element.innerHTML = '';\n",
              "        dataTable['output_type'] = 'display_data';\n",
              "        await google.colab.output.renderOutput(dataTable, element);\n",
              "        const docLink = document.createElement('div');\n",
              "        docLink.innerHTML = docLinkHtml;\n",
              "        element.appendChild(docLink);\n",
              "      }\n",
              "    </script>\n",
              "  </div>\n",
              "\n",
              "\n",
              "<div id=\"df-e6c628a0-1b3a-47f4-91c4-3623a473679a\">\n",
              "  <button class=\"colab-df-quickchart\" onclick=\"quickchart('df-e6c628a0-1b3a-47f4-91c4-3623a473679a')\"\n",
              "            title=\"Suggest charts\"\n",
              "            style=\"display:none;\">\n",
              "\n",
              "<svg xmlns=\"http://www.w3.org/2000/svg\" height=\"24px\"viewBox=\"0 0 24 24\"\n",
              "     width=\"24px\">\n",
              "    <g>\n",
              "        <path d=\"M19 3H5c-1.1 0-2 .9-2 2v14c0 1.1.9 2 2 2h14c1.1 0 2-.9 2-2V5c0-1.1-.9-2-2-2zM9 17H7v-7h2v7zm4 0h-2V7h2v10zm4 0h-2v-4h2v4z\"/>\n",
              "    </g>\n",
              "</svg>\n",
              "  </button>\n",
              "\n",
              "<style>\n",
              "  .colab-df-quickchart {\n",
              "      --bg-color: #E8F0FE;\n",
              "      --fill-color: #1967D2;\n",
              "      --hover-bg-color: #E2EBFA;\n",
              "      --hover-fill-color: #174EA6;\n",
              "      --disabled-fill-color: #AAA;\n",
              "      --disabled-bg-color: #DDD;\n",
              "  }\n",
              "\n",
              "  [theme=dark] .colab-df-quickchart {\n",
              "      --bg-color: #3B4455;\n",
              "      --fill-color: #D2E3FC;\n",
              "      --hover-bg-color: #434B5C;\n",
              "      --hover-fill-color: #FFFFFF;\n",
              "      --disabled-bg-color: #3B4455;\n",
              "      --disabled-fill-color: #666;\n",
              "  }\n",
              "\n",
              "  .colab-df-quickchart {\n",
              "    background-color: var(--bg-color);\n",
              "    border: none;\n",
              "    border-radius: 50%;\n",
              "    cursor: pointer;\n",
              "    display: none;\n",
              "    fill: var(--fill-color);\n",
              "    height: 32px;\n",
              "    padding: 0;\n",
              "    width: 32px;\n",
              "  }\n",
              "\n",
              "  .colab-df-quickchart:hover {\n",
              "    background-color: var(--hover-bg-color);\n",
              "    box-shadow: 0 1px 2px rgba(60, 64, 67, 0.3), 0 1px 3px 1px rgba(60, 64, 67, 0.15);\n",
              "    fill: var(--button-hover-fill-color);\n",
              "  }\n",
              "\n",
              "  .colab-df-quickchart-complete:disabled,\n",
              "  .colab-df-quickchart-complete:disabled:hover {\n",
              "    background-color: var(--disabled-bg-color);\n",
              "    fill: var(--disabled-fill-color);\n",
              "    box-shadow: none;\n",
              "  }\n",
              "\n",
              "  .colab-df-spinner {\n",
              "    border: 2px solid var(--fill-color);\n",
              "    border-color: transparent;\n",
              "    border-bottom-color: var(--fill-color);\n",
              "    animation:\n",
              "      spin 1s steps(1) infinite;\n",
              "  }\n",
              "\n",
              "  @keyframes spin {\n",
              "    0% {\n",
              "      border-color: transparent;\n",
              "      border-bottom-color: var(--fill-color);\n",
              "      border-left-color: var(--fill-color);\n",
              "    }\n",
              "    20% {\n",
              "      border-color: transparent;\n",
              "      border-left-color: var(--fill-color);\n",
              "      border-top-color: var(--fill-color);\n",
              "    }\n",
              "    30% {\n",
              "      border-color: transparent;\n",
              "      border-left-color: var(--fill-color);\n",
              "      border-top-color: var(--fill-color);\n",
              "      border-right-color: var(--fill-color);\n",
              "    }\n",
              "    40% {\n",
              "      border-color: transparent;\n",
              "      border-right-color: var(--fill-color);\n",
              "      border-top-color: var(--fill-color);\n",
              "    }\n",
              "    60% {\n",
              "      border-color: transparent;\n",
              "      border-right-color: var(--fill-color);\n",
              "    }\n",
              "    80% {\n",
              "      border-color: transparent;\n",
              "      border-right-color: var(--fill-color);\n",
              "      border-bottom-color: var(--fill-color);\n",
              "    }\n",
              "    90% {\n",
              "      border-color: transparent;\n",
              "      border-bottom-color: var(--fill-color);\n",
              "    }\n",
              "  }\n",
              "</style>\n",
              "\n",
              "  <script>\n",
              "    async function quickchart(key) {\n",
              "      const quickchartButtonEl =\n",
              "        document.querySelector('#' + key + ' button');\n",
              "      quickchartButtonEl.disabled = true;  // To prevent multiple clicks.\n",
              "      quickchartButtonEl.classList.add('colab-df-spinner');\n",
              "      try {\n",
              "        const charts = await google.colab.kernel.invokeFunction(\n",
              "            'suggestCharts', [key], {});\n",
              "      } catch (error) {\n",
              "        console.error('Error during call to suggestCharts:', error);\n",
              "      }\n",
              "      quickchartButtonEl.classList.remove('colab-df-spinner');\n",
              "      quickchartButtonEl.classList.add('colab-df-quickchart-complete');\n",
              "    }\n",
              "    (() => {\n",
              "      let quickchartButtonEl =\n",
              "        document.querySelector('#df-e6c628a0-1b3a-47f4-91c4-3623a473679a button');\n",
              "      quickchartButtonEl.style.display =\n",
              "        google.colab.kernel.accessAllowed ? 'block' : 'none';\n",
              "    })();\n",
              "  </script>\n",
              "</div>\n",
              "    </div>\n",
              "  </div>\n"
            ]
          },
          "metadata": {},
          "execution_count": 41
        }
      ]
    },
    {
      "cell_type": "markdown",
      "source": [
        " City B is generating more revenue share"
      ],
      "metadata": {
        "id": "Vs39-Aq5_GYX"
      }
    },
    {
      "cell_type": "code",
      "source": [
        "#age vs purchase\n",
        "df_age = pd.DataFrame(df.groupby('Age')['Purchase'].sum().rename('Total_purchase'))\n",
        "df_age['% percent_share'] = np.round(df_age['Total_purchase']/sum(df_age['Total_purchase'])*100,2)\n",
        "df_age.reset_index()"
      ],
      "metadata": {
        "colab": {
          "base_uri": "https://localhost:8080/",
          "height": 269
        },
        "id": "OWAS9XHqvZxq",
        "outputId": "dbd0ea40-de88-4a5c-e4e8-84aaf60105d6"
      },
      "execution_count": 46,
      "outputs": [
        {
          "output_type": "execute_result",
          "data": {
            "text/plain": [
              "     Age  Total_purchase  % percent_share\n",
              "0   0-17       134913183             2.65\n",
              "1  18-25       913848675            17.93\n",
              "2  26-35      2031770578            39.87\n",
              "3  36-45      1026569884            20.15\n",
              "4  46-50       420843403             8.26\n",
              "5  51-55       367099644             7.20\n",
              "6    55+       200767375             3.94"
            ],
            "text/html": [
              "\n",
              "  <div id=\"df-782773e6-3908-4600-a205-e3f32b5caa15\" class=\"colab-df-container\">\n",
              "    <div>\n",
              "<style scoped>\n",
              "    .dataframe tbody tr th:only-of-type {\n",
              "        vertical-align: middle;\n",
              "    }\n",
              "\n",
              "    .dataframe tbody tr th {\n",
              "        vertical-align: top;\n",
              "    }\n",
              "\n",
              "    .dataframe thead th {\n",
              "        text-align: right;\n",
              "    }\n",
              "</style>\n",
              "<table border=\"1\" class=\"dataframe\">\n",
              "  <thead>\n",
              "    <tr style=\"text-align: right;\">\n",
              "      <th></th>\n",
              "      <th>Age</th>\n",
              "      <th>Total_purchase</th>\n",
              "      <th>% percent_share</th>\n",
              "    </tr>\n",
              "  </thead>\n",
              "  <tbody>\n",
              "    <tr>\n",
              "      <th>0</th>\n",
              "      <td>0-17</td>\n",
              "      <td>134913183</td>\n",
              "      <td>2.65</td>\n",
              "    </tr>\n",
              "    <tr>\n",
              "      <th>1</th>\n",
              "      <td>18-25</td>\n",
              "      <td>913848675</td>\n",
              "      <td>17.93</td>\n",
              "    </tr>\n",
              "    <tr>\n",
              "      <th>2</th>\n",
              "      <td>26-35</td>\n",
              "      <td>2031770578</td>\n",
              "      <td>39.87</td>\n",
              "    </tr>\n",
              "    <tr>\n",
              "      <th>3</th>\n",
              "      <td>36-45</td>\n",
              "      <td>1026569884</td>\n",
              "      <td>20.15</td>\n",
              "    </tr>\n",
              "    <tr>\n",
              "      <th>4</th>\n",
              "      <td>46-50</td>\n",
              "      <td>420843403</td>\n",
              "      <td>8.26</td>\n",
              "    </tr>\n",
              "    <tr>\n",
              "      <th>5</th>\n",
              "      <td>51-55</td>\n",
              "      <td>367099644</td>\n",
              "      <td>7.20</td>\n",
              "    </tr>\n",
              "    <tr>\n",
              "      <th>6</th>\n",
              "      <td>55+</td>\n",
              "      <td>200767375</td>\n",
              "      <td>3.94</td>\n",
              "    </tr>\n",
              "  </tbody>\n",
              "</table>\n",
              "</div>\n",
              "    <div class=\"colab-df-buttons\">\n",
              "\n",
              "  <div class=\"colab-df-container\">\n",
              "    <button class=\"colab-df-convert\" onclick=\"convertToInteractive('df-782773e6-3908-4600-a205-e3f32b5caa15')\"\n",
              "            title=\"Convert this dataframe to an interactive table.\"\n",
              "            style=\"display:none;\">\n",
              "\n",
              "  <svg xmlns=\"http://www.w3.org/2000/svg\" height=\"24px\" viewBox=\"0 -960 960 960\">\n",
              "    <path d=\"M120-120v-720h720v720H120Zm60-500h600v-160H180v160Zm220 220h160v-160H400v160Zm0 220h160v-160H400v160ZM180-400h160v-160H180v160Zm440 0h160v-160H620v160ZM180-180h160v-160H180v160Zm440 0h160v-160H620v160Z\"/>\n",
              "  </svg>\n",
              "    </button>\n",
              "\n",
              "  <style>\n",
              "    .colab-df-container {\n",
              "      display:flex;\n",
              "      gap: 12px;\n",
              "    }\n",
              "\n",
              "    .colab-df-convert {\n",
              "      background-color: #E8F0FE;\n",
              "      border: none;\n",
              "      border-radius: 50%;\n",
              "      cursor: pointer;\n",
              "      display: none;\n",
              "      fill: #1967D2;\n",
              "      height: 32px;\n",
              "      padding: 0 0 0 0;\n",
              "      width: 32px;\n",
              "    }\n",
              "\n",
              "    .colab-df-convert:hover {\n",
              "      background-color: #E2EBFA;\n",
              "      box-shadow: 0px 1px 2px rgba(60, 64, 67, 0.3), 0px 1px 3px 1px rgba(60, 64, 67, 0.15);\n",
              "      fill: #174EA6;\n",
              "    }\n",
              "\n",
              "    .colab-df-buttons div {\n",
              "      margin-bottom: 4px;\n",
              "    }\n",
              "\n",
              "    [theme=dark] .colab-df-convert {\n",
              "      background-color: #3B4455;\n",
              "      fill: #D2E3FC;\n",
              "    }\n",
              "\n",
              "    [theme=dark] .colab-df-convert:hover {\n",
              "      background-color: #434B5C;\n",
              "      box-shadow: 0px 1px 3px 1px rgba(0, 0, 0, 0.15);\n",
              "      filter: drop-shadow(0px 1px 2px rgba(0, 0, 0, 0.3));\n",
              "      fill: #FFFFFF;\n",
              "    }\n",
              "  </style>\n",
              "\n",
              "    <script>\n",
              "      const buttonEl =\n",
              "        document.querySelector('#df-782773e6-3908-4600-a205-e3f32b5caa15 button.colab-df-convert');\n",
              "      buttonEl.style.display =\n",
              "        google.colab.kernel.accessAllowed ? 'block' : 'none';\n",
              "\n",
              "      async function convertToInteractive(key) {\n",
              "        const element = document.querySelector('#df-782773e6-3908-4600-a205-e3f32b5caa15');\n",
              "        const dataTable =\n",
              "          await google.colab.kernel.invokeFunction('convertToInteractive',\n",
              "                                                    [key], {});\n",
              "        if (!dataTable) return;\n",
              "\n",
              "        const docLinkHtml = 'Like what you see? Visit the ' +\n",
              "          '<a target=\"_blank\" href=https://colab.research.google.com/notebooks/data_table.ipynb>data table notebook</a>'\n",
              "          + ' to learn more about interactive tables.';\n",
              "        element.innerHTML = '';\n",
              "        dataTable['output_type'] = 'display_data';\n",
              "        await google.colab.output.renderOutput(dataTable, element);\n",
              "        const docLink = document.createElement('div');\n",
              "        docLink.innerHTML = docLinkHtml;\n",
              "        element.appendChild(docLink);\n",
              "      }\n",
              "    </script>\n",
              "  </div>\n",
              "\n",
              "\n",
              "<div id=\"df-b72fc0c1-2df9-489d-96a3-867d36220613\">\n",
              "  <button class=\"colab-df-quickchart\" onclick=\"quickchart('df-b72fc0c1-2df9-489d-96a3-867d36220613')\"\n",
              "            title=\"Suggest charts\"\n",
              "            style=\"display:none;\">\n",
              "\n",
              "<svg xmlns=\"http://www.w3.org/2000/svg\" height=\"24px\"viewBox=\"0 0 24 24\"\n",
              "     width=\"24px\">\n",
              "    <g>\n",
              "        <path d=\"M19 3H5c-1.1 0-2 .9-2 2v14c0 1.1.9 2 2 2h14c1.1 0 2-.9 2-2V5c0-1.1-.9-2-2-2zM9 17H7v-7h2v7zm4 0h-2V7h2v10zm4 0h-2v-4h2v4z\"/>\n",
              "    </g>\n",
              "</svg>\n",
              "  </button>\n",
              "\n",
              "<style>\n",
              "  .colab-df-quickchart {\n",
              "      --bg-color: #E8F0FE;\n",
              "      --fill-color: #1967D2;\n",
              "      --hover-bg-color: #E2EBFA;\n",
              "      --hover-fill-color: #174EA6;\n",
              "      --disabled-fill-color: #AAA;\n",
              "      --disabled-bg-color: #DDD;\n",
              "  }\n",
              "\n",
              "  [theme=dark] .colab-df-quickchart {\n",
              "      --bg-color: #3B4455;\n",
              "      --fill-color: #D2E3FC;\n",
              "      --hover-bg-color: #434B5C;\n",
              "      --hover-fill-color: #FFFFFF;\n",
              "      --disabled-bg-color: #3B4455;\n",
              "      --disabled-fill-color: #666;\n",
              "  }\n",
              "\n",
              "  .colab-df-quickchart {\n",
              "    background-color: var(--bg-color);\n",
              "    border: none;\n",
              "    border-radius: 50%;\n",
              "    cursor: pointer;\n",
              "    display: none;\n",
              "    fill: var(--fill-color);\n",
              "    height: 32px;\n",
              "    padding: 0;\n",
              "    width: 32px;\n",
              "  }\n",
              "\n",
              "  .colab-df-quickchart:hover {\n",
              "    background-color: var(--hover-bg-color);\n",
              "    box-shadow: 0 1px 2px rgba(60, 64, 67, 0.3), 0 1px 3px 1px rgba(60, 64, 67, 0.15);\n",
              "    fill: var(--button-hover-fill-color);\n",
              "  }\n",
              "\n",
              "  .colab-df-quickchart-complete:disabled,\n",
              "  .colab-df-quickchart-complete:disabled:hover {\n",
              "    background-color: var(--disabled-bg-color);\n",
              "    fill: var(--disabled-fill-color);\n",
              "    box-shadow: none;\n",
              "  }\n",
              "\n",
              "  .colab-df-spinner {\n",
              "    border: 2px solid var(--fill-color);\n",
              "    border-color: transparent;\n",
              "    border-bottom-color: var(--fill-color);\n",
              "    animation:\n",
              "      spin 1s steps(1) infinite;\n",
              "  }\n",
              "\n",
              "  @keyframes spin {\n",
              "    0% {\n",
              "      border-color: transparent;\n",
              "      border-bottom-color: var(--fill-color);\n",
              "      border-left-color: var(--fill-color);\n",
              "    }\n",
              "    20% {\n",
              "      border-color: transparent;\n",
              "      border-left-color: var(--fill-color);\n",
              "      border-top-color: var(--fill-color);\n",
              "    }\n",
              "    30% {\n",
              "      border-color: transparent;\n",
              "      border-left-color: var(--fill-color);\n",
              "      border-top-color: var(--fill-color);\n",
              "      border-right-color: var(--fill-color);\n",
              "    }\n",
              "    40% {\n",
              "      border-color: transparent;\n",
              "      border-right-color: var(--fill-color);\n",
              "      border-top-color: var(--fill-color);\n",
              "    }\n",
              "    60% {\n",
              "      border-color: transparent;\n",
              "      border-right-color: var(--fill-color);\n",
              "    }\n",
              "    80% {\n",
              "      border-color: transparent;\n",
              "      border-right-color: var(--fill-color);\n",
              "      border-bottom-color: var(--fill-color);\n",
              "    }\n",
              "    90% {\n",
              "      border-color: transparent;\n",
              "      border-bottom-color: var(--fill-color);\n",
              "    }\n",
              "  }\n",
              "</style>\n",
              "\n",
              "  <script>\n",
              "    async function quickchart(key) {\n",
              "      const quickchartButtonEl =\n",
              "        document.querySelector('#' + key + ' button');\n",
              "      quickchartButtonEl.disabled = true;  // To prevent multiple clicks.\n",
              "      quickchartButtonEl.classList.add('colab-df-spinner');\n",
              "      try {\n",
              "        const charts = await google.colab.kernel.invokeFunction(\n",
              "            'suggestCharts', [key], {});\n",
              "      } catch (error) {\n",
              "        console.error('Error during call to suggestCharts:', error);\n",
              "      }\n",
              "      quickchartButtonEl.classList.remove('colab-df-spinner');\n",
              "      quickchartButtonEl.classList.add('colab-df-quickchart-complete');\n",
              "    }\n",
              "    (() => {\n",
              "      let quickchartButtonEl =\n",
              "        document.querySelector('#df-b72fc0c1-2df9-489d-96a3-867d36220613 button');\n",
              "      quickchartButtonEl.style.display =\n",
              "        google.colab.kernel.accessAllowed ? 'block' : 'none';\n",
              "    })();\n",
              "  </script>\n",
              "</div>\n",
              "    </div>\n",
              "  </div>\n"
            ]
          },
          "metadata": {},
          "execution_count": 46
        }
      ]
    },
    {
      "cell_type": "markdown",
      "source": [
        "78% of total purchases comes from individuals in 18-45 age category"
      ],
      "metadata": {
        "id": "XxMEqW5V_ulb"
      }
    },
    {
      "cell_type": "code",
      "source": [
        "df.Product_Category.nunique()"
      ],
      "metadata": {
        "colab": {
          "base_uri": "https://localhost:8080/"
        },
        "id": "P-0XGaVbvZua",
        "outputId": "eeda5b80-9afb-449d-bc7a-b92c6d7771c6"
      },
      "execution_count": 47,
      "outputs": [
        {
          "output_type": "execute_result",
          "data": {
            "text/plain": [
              "20"
            ]
          },
          "metadata": {},
          "execution_count": 47
        }
      ]
    },
    {
      "cell_type": "markdown",
      "source": [
        "df.info"
      ],
      "metadata": {
        "id": "CyfHZ9sZBLp4"
      }
    },
    {
      "cell_type": "code",
      "source": [
        "df.info()"
      ],
      "metadata": {
        "colab": {
          "base_uri": "https://localhost:8080/"
        },
        "id": "tSKwt1E1BNY7",
        "outputId": "1280dd95-6303-4c71-a5b3-63a084f143a3"
      },
      "execution_count": 51,
      "outputs": [
        {
          "output_type": "stream",
          "name": "stdout",
          "text": [
            "<class 'pandas.core.frame.DataFrame'>\n",
            "RangeIndex: 550068 entries, 0 to 550067\n",
            "Data columns (total 10 columns):\n",
            " #   Column                      Non-Null Count   Dtype   \n",
            "---  ------                      --------------   -----   \n",
            " 0   User_ID                     550068 non-null  int64   \n",
            " 1   Product_ID                  550068 non-null  object  \n",
            " 2   Gender                      550068 non-null  category\n",
            " 3   Age                         550068 non-null  category\n",
            " 4   Occupation                  550068 non-null  int64   \n",
            " 5   City_Category               550068 non-null  category\n",
            " 6   Stay_In_Current_City_Years  550068 non-null  object  \n",
            " 7   Marital_Status              550068 non-null  category\n",
            " 8   Product_Category            550068 non-null  category\n",
            " 9   Purchase                    550068 non-null  int64   \n",
            "dtypes: category(5), int64(3), object(2)\n",
            "memory usage: 23.6+ MB\n"
          ]
        }
      ]
    },
    {
      "cell_type": "code",
      "source": [
        "# product_category vs purchase\n",
        "df_product_cat = pd.DataFrame(df.groupby(by = 'Product_Category')['Purchase'].sum('Purchase').rename('Total_purchasing_value'))\n",
        "df_product_cat['percent_share'] = np.round(df_product_cat['Total_purchasing_value']/sum(df_product_cat['Total_purchasing_value'])*100,2)\n",
        "df_product_cat=df_product_cat.sort_values(by=['percent_share'], ascending=False)\n",
        "df_product_cat['cumulative_percentage_sum'] = df_product_cat['percent_share'].cumsum()\n",
        "df2=df_product_cat.head(10).reset_index()\n",
        "df2\n"
      ],
      "metadata": {
        "colab": {
          "base_uri": "https://localhost:8080/",
          "height": 363
        },
        "id": "Nt6G3JCtvZry",
        "outputId": "785f50c3-10fe-42b8-985a-54bdfec1ba63"
      },
      "execution_count": 54,
      "outputs": [
        {
          "output_type": "execute_result",
          "data": {
            "text/plain": [
              "  Product_Category  Total_purchasing_value  percent_share  \\\n",
              "0                1              1910013754          37.48   \n",
              "1                5               941835229          18.48   \n",
              "2                8               854318799          16.77   \n",
              "3                6               324150302           6.36   \n",
              "4                2               268516186           5.27   \n",
              "5                3               204084713           4.00   \n",
              "6               16               145120612           2.85   \n",
              "7               11               113791115           2.23   \n",
              "8               10               100837301           1.98   \n",
              "9               15                92969042           1.82   \n",
              "\n",
              "   cumulative_percentage_sum  \n",
              "0                      37.48  \n",
              "1                      55.96  \n",
              "2                      72.73  \n",
              "3                      79.09  \n",
              "4                      84.36  \n",
              "5                      88.36  \n",
              "6                      91.21  \n",
              "7                      93.44  \n",
              "8                      95.42  \n",
              "9                      97.24  "
            ],
            "text/html": [
              "\n",
              "  <div id=\"df-7cfb914c-a1fb-4679-89b8-76675ef47b25\" class=\"colab-df-container\">\n",
              "    <div>\n",
              "<style scoped>\n",
              "    .dataframe tbody tr th:only-of-type {\n",
              "        vertical-align: middle;\n",
              "    }\n",
              "\n",
              "    .dataframe tbody tr th {\n",
              "        vertical-align: top;\n",
              "    }\n",
              "\n",
              "    .dataframe thead th {\n",
              "        text-align: right;\n",
              "    }\n",
              "</style>\n",
              "<table border=\"1\" class=\"dataframe\">\n",
              "  <thead>\n",
              "    <tr style=\"text-align: right;\">\n",
              "      <th></th>\n",
              "      <th>Product_Category</th>\n",
              "      <th>Total_purchasing_value</th>\n",
              "      <th>percent_share</th>\n",
              "      <th>cumulative_percentage_sum</th>\n",
              "    </tr>\n",
              "  </thead>\n",
              "  <tbody>\n",
              "    <tr>\n",
              "      <th>0</th>\n",
              "      <td>1</td>\n",
              "      <td>1910013754</td>\n",
              "      <td>37.48</td>\n",
              "      <td>37.48</td>\n",
              "    </tr>\n",
              "    <tr>\n",
              "      <th>1</th>\n",
              "      <td>5</td>\n",
              "      <td>941835229</td>\n",
              "      <td>18.48</td>\n",
              "      <td>55.96</td>\n",
              "    </tr>\n",
              "    <tr>\n",
              "      <th>2</th>\n",
              "      <td>8</td>\n",
              "      <td>854318799</td>\n",
              "      <td>16.77</td>\n",
              "      <td>72.73</td>\n",
              "    </tr>\n",
              "    <tr>\n",
              "      <th>3</th>\n",
              "      <td>6</td>\n",
              "      <td>324150302</td>\n",
              "      <td>6.36</td>\n",
              "      <td>79.09</td>\n",
              "    </tr>\n",
              "    <tr>\n",
              "      <th>4</th>\n",
              "      <td>2</td>\n",
              "      <td>268516186</td>\n",
              "      <td>5.27</td>\n",
              "      <td>84.36</td>\n",
              "    </tr>\n",
              "    <tr>\n",
              "      <th>5</th>\n",
              "      <td>3</td>\n",
              "      <td>204084713</td>\n",
              "      <td>4.00</td>\n",
              "      <td>88.36</td>\n",
              "    </tr>\n",
              "    <tr>\n",
              "      <th>6</th>\n",
              "      <td>16</td>\n",
              "      <td>145120612</td>\n",
              "      <td>2.85</td>\n",
              "      <td>91.21</td>\n",
              "    </tr>\n",
              "    <tr>\n",
              "      <th>7</th>\n",
              "      <td>11</td>\n",
              "      <td>113791115</td>\n",
              "      <td>2.23</td>\n",
              "      <td>93.44</td>\n",
              "    </tr>\n",
              "    <tr>\n",
              "      <th>8</th>\n",
              "      <td>10</td>\n",
              "      <td>100837301</td>\n",
              "      <td>1.98</td>\n",
              "      <td>95.42</td>\n",
              "    </tr>\n",
              "    <tr>\n",
              "      <th>9</th>\n",
              "      <td>15</td>\n",
              "      <td>92969042</td>\n",
              "      <td>1.82</td>\n",
              "      <td>97.24</td>\n",
              "    </tr>\n",
              "  </tbody>\n",
              "</table>\n",
              "</div>\n",
              "    <div class=\"colab-df-buttons\">\n",
              "\n",
              "  <div class=\"colab-df-container\">\n",
              "    <button class=\"colab-df-convert\" onclick=\"convertToInteractive('df-7cfb914c-a1fb-4679-89b8-76675ef47b25')\"\n",
              "            title=\"Convert this dataframe to an interactive table.\"\n",
              "            style=\"display:none;\">\n",
              "\n",
              "  <svg xmlns=\"http://www.w3.org/2000/svg\" height=\"24px\" viewBox=\"0 -960 960 960\">\n",
              "    <path d=\"M120-120v-720h720v720H120Zm60-500h600v-160H180v160Zm220 220h160v-160H400v160Zm0 220h160v-160H400v160ZM180-400h160v-160H180v160Zm440 0h160v-160H620v160ZM180-180h160v-160H180v160Zm440 0h160v-160H620v160Z\"/>\n",
              "  </svg>\n",
              "    </button>\n",
              "\n",
              "  <style>\n",
              "    .colab-df-container {\n",
              "      display:flex;\n",
              "      gap: 12px;\n",
              "    }\n",
              "\n",
              "    .colab-df-convert {\n",
              "      background-color: #E8F0FE;\n",
              "      border: none;\n",
              "      border-radius: 50%;\n",
              "      cursor: pointer;\n",
              "      display: none;\n",
              "      fill: #1967D2;\n",
              "      height: 32px;\n",
              "      padding: 0 0 0 0;\n",
              "      width: 32px;\n",
              "    }\n",
              "\n",
              "    .colab-df-convert:hover {\n",
              "      background-color: #E2EBFA;\n",
              "      box-shadow: 0px 1px 2px rgba(60, 64, 67, 0.3), 0px 1px 3px 1px rgba(60, 64, 67, 0.15);\n",
              "      fill: #174EA6;\n",
              "    }\n",
              "\n",
              "    .colab-df-buttons div {\n",
              "      margin-bottom: 4px;\n",
              "    }\n",
              "\n",
              "    [theme=dark] .colab-df-convert {\n",
              "      background-color: #3B4455;\n",
              "      fill: #D2E3FC;\n",
              "    }\n",
              "\n",
              "    [theme=dark] .colab-df-convert:hover {\n",
              "      background-color: #434B5C;\n",
              "      box-shadow: 0px 1px 3px 1px rgba(0, 0, 0, 0.15);\n",
              "      filter: drop-shadow(0px 1px 2px rgba(0, 0, 0, 0.3));\n",
              "      fill: #FFFFFF;\n",
              "    }\n",
              "  </style>\n",
              "\n",
              "    <script>\n",
              "      const buttonEl =\n",
              "        document.querySelector('#df-7cfb914c-a1fb-4679-89b8-76675ef47b25 button.colab-df-convert');\n",
              "      buttonEl.style.display =\n",
              "        google.colab.kernel.accessAllowed ? 'block' : 'none';\n",
              "\n",
              "      async function convertToInteractive(key) {\n",
              "        const element = document.querySelector('#df-7cfb914c-a1fb-4679-89b8-76675ef47b25');\n",
              "        const dataTable =\n",
              "          await google.colab.kernel.invokeFunction('convertToInteractive',\n",
              "                                                    [key], {});\n",
              "        if (!dataTable) return;\n",
              "\n",
              "        const docLinkHtml = 'Like what you see? Visit the ' +\n",
              "          '<a target=\"_blank\" href=https://colab.research.google.com/notebooks/data_table.ipynb>data table notebook</a>'\n",
              "          + ' to learn more about interactive tables.';\n",
              "        element.innerHTML = '';\n",
              "        dataTable['output_type'] = 'display_data';\n",
              "        await google.colab.output.renderOutput(dataTable, element);\n",
              "        const docLink = document.createElement('div');\n",
              "        docLink.innerHTML = docLinkHtml;\n",
              "        element.appendChild(docLink);\n",
              "      }\n",
              "    </script>\n",
              "  </div>\n",
              "\n",
              "\n",
              "<div id=\"df-23d073b2-b120-4993-8808-bcb58e6106c2\">\n",
              "  <button class=\"colab-df-quickchart\" onclick=\"quickchart('df-23d073b2-b120-4993-8808-bcb58e6106c2')\"\n",
              "            title=\"Suggest charts\"\n",
              "            style=\"display:none;\">\n",
              "\n",
              "<svg xmlns=\"http://www.w3.org/2000/svg\" height=\"24px\"viewBox=\"0 0 24 24\"\n",
              "     width=\"24px\">\n",
              "    <g>\n",
              "        <path d=\"M19 3H5c-1.1 0-2 .9-2 2v14c0 1.1.9 2 2 2h14c1.1 0 2-.9 2-2V5c0-1.1-.9-2-2-2zM9 17H7v-7h2v7zm4 0h-2V7h2v10zm4 0h-2v-4h2v4z\"/>\n",
              "    </g>\n",
              "</svg>\n",
              "  </button>\n",
              "\n",
              "<style>\n",
              "  .colab-df-quickchart {\n",
              "      --bg-color: #E8F0FE;\n",
              "      --fill-color: #1967D2;\n",
              "      --hover-bg-color: #E2EBFA;\n",
              "      --hover-fill-color: #174EA6;\n",
              "      --disabled-fill-color: #AAA;\n",
              "      --disabled-bg-color: #DDD;\n",
              "  }\n",
              "\n",
              "  [theme=dark] .colab-df-quickchart {\n",
              "      --bg-color: #3B4455;\n",
              "      --fill-color: #D2E3FC;\n",
              "      --hover-bg-color: #434B5C;\n",
              "      --hover-fill-color: #FFFFFF;\n",
              "      --disabled-bg-color: #3B4455;\n",
              "      --disabled-fill-color: #666;\n",
              "  }\n",
              "\n",
              "  .colab-df-quickchart {\n",
              "    background-color: var(--bg-color);\n",
              "    border: none;\n",
              "    border-radius: 50%;\n",
              "    cursor: pointer;\n",
              "    display: none;\n",
              "    fill: var(--fill-color);\n",
              "    height: 32px;\n",
              "    padding: 0;\n",
              "    width: 32px;\n",
              "  }\n",
              "\n",
              "  .colab-df-quickchart:hover {\n",
              "    background-color: var(--hover-bg-color);\n",
              "    box-shadow: 0 1px 2px rgba(60, 64, 67, 0.3), 0 1px 3px 1px rgba(60, 64, 67, 0.15);\n",
              "    fill: var(--button-hover-fill-color);\n",
              "  }\n",
              "\n",
              "  .colab-df-quickchart-complete:disabled,\n",
              "  .colab-df-quickchart-complete:disabled:hover {\n",
              "    background-color: var(--disabled-bg-color);\n",
              "    fill: var(--disabled-fill-color);\n",
              "    box-shadow: none;\n",
              "  }\n",
              "\n",
              "  .colab-df-spinner {\n",
              "    border: 2px solid var(--fill-color);\n",
              "    border-color: transparent;\n",
              "    border-bottom-color: var(--fill-color);\n",
              "    animation:\n",
              "      spin 1s steps(1) infinite;\n",
              "  }\n",
              "\n",
              "  @keyframes spin {\n",
              "    0% {\n",
              "      border-color: transparent;\n",
              "      border-bottom-color: var(--fill-color);\n",
              "      border-left-color: var(--fill-color);\n",
              "    }\n",
              "    20% {\n",
              "      border-color: transparent;\n",
              "      border-left-color: var(--fill-color);\n",
              "      border-top-color: var(--fill-color);\n",
              "    }\n",
              "    30% {\n",
              "      border-color: transparent;\n",
              "      border-left-color: var(--fill-color);\n",
              "      border-top-color: var(--fill-color);\n",
              "      border-right-color: var(--fill-color);\n",
              "    }\n",
              "    40% {\n",
              "      border-color: transparent;\n",
              "      border-right-color: var(--fill-color);\n",
              "      border-top-color: var(--fill-color);\n",
              "    }\n",
              "    60% {\n",
              "      border-color: transparent;\n",
              "      border-right-color: var(--fill-color);\n",
              "    }\n",
              "    80% {\n",
              "      border-color: transparent;\n",
              "      border-right-color: var(--fill-color);\n",
              "      border-bottom-color: var(--fill-color);\n",
              "    }\n",
              "    90% {\n",
              "      border-color: transparent;\n",
              "      border-bottom-color: var(--fill-color);\n",
              "    }\n",
              "  }\n",
              "</style>\n",
              "\n",
              "  <script>\n",
              "    async function quickchart(key) {\n",
              "      const quickchartButtonEl =\n",
              "        document.querySelector('#' + key + ' button');\n",
              "      quickchartButtonEl.disabled = true;  // To prevent multiple clicks.\n",
              "      quickchartButtonEl.classList.add('colab-df-spinner');\n",
              "      try {\n",
              "        const charts = await google.colab.kernel.invokeFunction(\n",
              "            'suggestCharts', [key], {});\n",
              "      } catch (error) {\n",
              "        console.error('Error during call to suggestCharts:', error);\n",
              "      }\n",
              "      quickchartButtonEl.classList.remove('colab-df-spinner');\n",
              "      quickchartButtonEl.classList.add('colab-df-quickchart-complete');\n",
              "    }\n",
              "    (() => {\n",
              "      let quickchartButtonEl =\n",
              "        document.querySelector('#df-23d073b2-b120-4993-8808-bcb58e6106c2 button');\n",
              "      quickchartButtonEl.style.display =\n",
              "        google.colab.kernel.accessAllowed ? 'block' : 'none';\n",
              "    })();\n",
              "  </script>\n",
              "</div>\n",
              "    </div>\n",
              "  </div>\n"
            ]
          },
          "metadata": {},
          "execution_count": 54
        }
      ]
    },
    {
      "cell_type": "markdown",
      "source": [
        "Top 10 product revenue share"
      ],
      "metadata": {
        "id": "KfhxRQSUB1pw"
      }
    },
    {
      "cell_type": "markdown",
      "source": [
        "\n",
        "# Visual analysis\n",
        "#Univariate\n"
      ],
      "metadata": {
        "id": "lOGYMdSbCGo6"
      }
    },
    {
      "cell_type": "code",
      "source": [
        "#percentage of revenue shared by top 10 products\n",
        "plt.figure(figsize =(10,4))\n",
        "plt.title('Product revenue share',fontsize = 15,color = 'Black')\n",
        "sns.barplot(data = df2, x = df2.head(10)[\"Product_Category\"],y = \"percent_share\" )"
      ],
      "metadata": {
        "colab": {
          "base_uri": "https://localhost:8080/",
          "height": 430
        },
        "id": "sClyfWoMvZoZ",
        "outputId": "a792ea87-ea7c-4e23-ff00-08d65027d98b"
      },
      "execution_count": 184,
      "outputs": [
        {
          "output_type": "execute_result",
          "data": {
            "text/plain": [
              "<Axes: title={'center': 'Product revenue share'}, xlabel='Product_Category', ylabel='percent_share'>"
            ]
          },
          "metadata": {},
          "execution_count": 184
        },
        {
          "output_type": "display_data",
          "data": {
            "text/plain": [
              "<Figure size 1000x400 with 1 Axes>"
            ],
            "image/png": "[encoded data removed]"
          },
          "metadata": {}
        }
      ]
    },
    {
      "cell_type": "code",
      "source": [
        "#purchase\n",
        "sns.boxplot(data= df, y='Purchase')\n"
      ],
      "metadata": {
        "colab": {
          "base_uri": "https://localhost:8080/",
          "height": 432
        },
        "id": "Gt-Zk3BUvZlt",
        "outputId": "dcd54955-3ecf-41a4-9d72-5fea02f9300a"
      },
      "execution_count": 67,
      "outputs": [
        {
          "output_type": "execute_result",
          "data": {
            "text/plain": [
              "<Axes: ylabel='Purchase'>"
            ]
          },
          "metadata": {},
          "execution_count": 67
        },
        {
          "output_type": "display_data",
          "data": {
            "text/plain": [
              "<Figure size 640x480 with 1 Axes>"
            ],
            "image/png": "[encoded data removed]"
          },
          "metadata": {}
        }
      ]
    },
    {
      "cell_type": "code",
      "source": [
        "np.median(df['Purchase'])"
      ],
      "metadata": {
        "colab": {
          "base_uri": "https://localhost:8080/"
        },
        "id": "-bO-s2AgvZi_",
        "outputId": "a8a1a37d-e914-47c3-f8ee-104423b9b8ed"
      },
      "execution_count": 69,
      "outputs": [
        {
          "output_type": "execute_result",
          "data": {
            "text/plain": [
              "8047.0"
            ]
          },
          "metadata": {},
          "execution_count": 69
        }
      ]
    },
    {
      "cell_type": "code",
      "source": [
        "df.info()"
      ],
      "metadata": {
        "colab": {
          "base_uri": "https://localhost:8080/"
        },
        "id": "aeyX2R2WFOIW",
        "outputId": "6d5403fa-521f-4ee1-dc39-9b43b0573249"
      },
      "execution_count": 75,
      "outputs": [
        {
          "output_type": "stream",
          "name": "stdout",
          "text": [
            "<class 'pandas.core.frame.DataFrame'>\n",
            "RangeIndex: 550068 entries, 0 to 550067\n",
            "Data columns (total 10 columns):\n",
            " #   Column                      Non-Null Count   Dtype   \n",
            "---  ------                      --------------   -----   \n",
            " 0   User_ID                     550068 non-null  int64   \n",
            " 1   Product_ID                  550068 non-null  object  \n",
            " 2   Gender                      550068 non-null  category\n",
            " 3   Age                         550068 non-null  category\n",
            " 4   Occupation                  550068 non-null  int64   \n",
            " 5   City_Category               550068 non-null  category\n",
            " 6   Stay_In_Current_City_Years  550068 non-null  object  \n",
            " 7   Marital_Status              550068 non-null  category\n",
            " 8   Product_Category            550068 non-null  category\n",
            " 9   Purchase                    550068 non-null  int64   \n",
            "dtypes: category(5), int64(3), object(2)\n",
            "memory usage: 23.6+ MB\n"
          ]
        }
      ]
    },
    {
      "cell_type": "code",
      "source": [
        "sns.countplot(x = 'Age', data = df)"
      ],
      "metadata": {
        "colab": {
          "base_uri": "https://localhost:8080/",
          "height": 467
        },
        "id": "hGVR2cBbvZgp",
        "outputId": "01db73ca-f343-4d77-b577-c7304fa6a81b"
      },
      "execution_count": 92,
      "outputs": [
        {
          "output_type": "execute_result",
          "data": {
            "text/plain": [
              "<Axes: xlabel='Age', ylabel='count'>"
            ]
          },
          "metadata": {},
          "execution_count": 92
        },
        {
          "output_type": "display_data",
          "data": {
            "text/plain": [
              "<Figure size 640x480 with 1 Axes>"
            ],
            "image/png": "[encoded data removed]"
          },
          "metadata": {}
        }
      ]
    },
    {
      "cell_type": "code",
      "source": [
        "sns.countplot(x = 'Gender', data = df)"
      ],
      "metadata": {
        "colab": {
          "base_uri": "https://localhost:8080/",
          "height": 467
        },
        "id": "72wuZu8lJw0y",
        "outputId": "1bfc9b18-e6e8-43f7-f43e-fb6618a7cdb2"
      },
      "execution_count": 95,
      "outputs": [
        {
          "output_type": "execute_result",
          "data": {
            "text/plain": [
              "<Axes: xlabel='Gender', ylabel='count'>"
            ]
          },
          "metadata": {},
          "execution_count": 95
        },
        {
          "output_type": "display_data",
          "data": {
            "text/plain": [
              "<Figure size 640x480 with 1 Axes>"
            ],
            "image/png": "[encoded data removed]"
          },
          "metadata": {}
        }
      ]
    },
    {
      "cell_type": "code",
      "source": [
        "# Counting Marital Status\n",
        "sns.countplot(data = df, x = \"Marital_Status\", order = df[\"Marital_Status\"].value_counts().index)\n"
      ],
      "metadata": {
        "colab": {
          "base_uri": "https://localhost:8080/",
          "height": 468
        },
        "id": "NtsDgo2bvZeG",
        "outputId": "6e208c17-31ef-4464-cc3e-99c903af0dcc"
      },
      "execution_count": 99,
      "outputs": [
        {
          "output_type": "execute_result",
          "data": {
            "text/plain": [
              "<Axes: xlabel='Marital_Status', ylabel='count'>"
            ]
          },
          "metadata": {},
          "execution_count": 99
        },
        {
          "output_type": "display_data",
          "data": {
            "text/plain": [
              "<Figure size 640x480 with 1 Axes>"
            ],
            "image/png": "[encoded data removed]"
          },
          "metadata": {}
        }
      ]
    },
    {
      "cell_type": "code",
      "source": [
        "df5 = pd.DataFrame(df.groupby('Product_ID')['Purchase'].sum().rename('Total_purchase'))\n",
        "df5"
      ],
      "metadata": {
        "colab": {
          "base_uri": "https://localhost:8080/",
          "height": 455
        },
        "id": "hc0OA8v9LiU1",
        "outputId": "91857da4-9ff7-412d-f9be-4d40bb4cafa5"
      },
      "execution_count": 101,
      "outputs": [
        {
          "output_type": "execute_result",
          "data": {
            "text/plain": [
              "            Total_purchase\n",
              "Product_ID                \n",
              "P00000142         12837476\n",
              "P00000242          3967496\n",
              "P00000342          1296475\n",
              "P00000442           441173\n",
              "P00000542           807212\n",
              "...                    ...\n",
              "P0099442           2870383\n",
              "P0099642             83710\n",
              "P0099742            991948\n",
              "P0099842            737312\n",
              "P0099942             78019\n",
              "\n",
              "[3631 rows x 1 columns]"
            ],
            "text/html": [
              "\n",
              "  <div id=\"df-8af956de-23bc-4cf2-803a-fb78ed3307b2\" class=\"colab-df-container\">\n",
              "    <div>\n",
              "<style scoped>\n",
              "    .dataframe tbody tr th:only-of-type {\n",
              "        vertical-align: middle;\n",
              "    }\n",
              "\n",
              "    .dataframe tbody tr th {\n",
              "        vertical-align: top;\n",
              "    }\n",
              "\n",
              "    .dataframe thead th {\n",
              "        text-align: right;\n",
              "    }\n",
              "</style>\n",
              "<table border=\"1\" class=\"dataframe\">\n",
              "  <thead>\n",
              "    <tr style=\"text-align: right;\">\n",
              "      <th></th>\n",
              "      <th>Total_purchase</th>\n",
              "    </tr>\n",
              "    <tr>\n",
              "      <th>Product_ID</th>\n",
              "      <th></th>\n",
              "    </tr>\n",
              "  </thead>\n",
              "  <tbody>\n",
              "    <tr>\n",
              "      <th>P00000142</th>\n",
              "      <td>12837476</td>\n",
              "    </tr>\n",
              "    <tr>\n",
              "      <th>P00000242</th>\n",
              "      <td>3967496</td>\n",
              "    </tr>\n",
              "    <tr>\n",
              "      <th>P00000342</th>\n",
              "      <td>1296475</td>\n",
              "    </tr>\n",
              "    <tr>\n",
              "      <th>P00000442</th>\n",
              "      <td>441173</td>\n",
              "    </tr>\n",
              "    <tr>\n",
              "      <th>P00000542</th>\n",
              "      <td>807212</td>\n",
              "    </tr>\n",
              "    <tr>\n",
              "      <th>...</th>\n",
              "      <td>...</td>\n",
              "    </tr>\n",
              "    <tr>\n",
              "      <th>P0099442</th>\n",
              "      <td>2870383</td>\n",
              "    </tr>\n",
              "    <tr>\n",
              "      <th>P0099642</th>\n",
              "      <td>83710</td>\n",
              "    </tr>\n",
              "    <tr>\n",
              "      <th>P0099742</th>\n",
              "      <td>991948</td>\n",
              "    </tr>\n",
              "    <tr>\n",
              "      <th>P0099842</th>\n",
              "      <td>737312</td>\n",
              "    </tr>\n",
              "    <tr>\n",
              "      <th>P0099942</th>\n",
              "      <td>78019</td>\n",
              "    </tr>\n",
              "  </tbody>\n",
              "</table>\n",
              "<p>3631 rows × 1 columns</p>\n",
              "</div>\n",
              "    <div class=\"colab-df-buttons\">\n",
              "\n",
              "  <div class=\"colab-df-container\">\n",
              "    <button class=\"colab-df-convert\" onclick=\"convertToInteractive('df-8af956de-23bc-4cf2-803a-fb78ed3307b2')\"\n",
              "            title=\"Convert this dataframe to an interactive table.\"\n",
              "            style=\"display:none;\">\n",
              "\n",
              "  <svg xmlns=\"http://www.w3.org/2000/svg\" height=\"24px\" viewBox=\"0 -960 960 960\">\n",
              "    <path d=\"M120-120v-720h720v720H120Zm60-500h600v-160H180v160Zm220 220h160v-160H400v160Zm0 220h160v-160H400v160ZM180-400h160v-160H180v160Zm440 0h160v-160H620v160ZM180-180h160v-160H180v160Zm440 0h160v-160H620v160Z\"/>\n",
              "  </svg>\n",
              "    </button>\n",
              "\n",
              "  <style>\n",
              "    .colab-df-container {\n",
              "      display:flex;\n",
              "      gap: 12px;\n",
              "    }\n",
              "\n",
              "    .colab-df-convert {\n",
              "      background-color: #E8F0FE;\n",
              "      border: none;\n",
              "      border-radius: 50%;\n",
              "      cursor: pointer;\n",
              "      display: none;\n",
              "      fill: #1967D2;\n",
              "      height: 32px;\n",
              "      padding: 0 0 0 0;\n",
              "      width: 32px;\n",
              "    }\n",
              "\n",
              "    .colab-df-convert:hover {\n",
              "      background-color: #E2EBFA;\n",
              "      box-shadow: 0px 1px 2px rgba(60, 64, 67, 0.3), 0px 1px 3px 1px rgba(60, 64, 67, 0.15);\n",
              "      fill: #174EA6;\n",
              "    }\n",
              "\n",
              "    .colab-df-buttons div {\n",
              "      margin-bottom: 4px;\n",
              "    }\n",
              "\n",
              "    [theme=dark] .colab-df-convert {\n",
              "      background-color: #3B4455;\n",
              "      fill: #D2E3FC;\n",
              "    }\n",
              "\n",
              "    [theme=dark] .colab-df-convert:hover {\n",
              "      background-color: #434B5C;\n",
              "      box-shadow: 0px 1px 3px 1px rgba(0, 0, 0, 0.15);\n",
              "      filter: drop-shadow(0px 1px 2px rgba(0, 0, 0, 0.3));\n",
              "      fill: #FFFFFF;\n",
              "    }\n",
              "  </style>\n",
              "\n",
              "    <script>\n",
              "      const buttonEl =\n",
              "        document.querySelector('#df-8af956de-23bc-4cf2-803a-fb78ed3307b2 button.colab-df-convert');\n",
              "      buttonEl.style.display =\n",
              "        google.colab.kernel.accessAllowed ? 'block' : 'none';\n",
              "\n",
              "      async function convertToInteractive(key) {\n",
              "        const element = document.querySelector('#df-8af956de-23bc-4cf2-803a-fb78ed3307b2');\n",
              "        const dataTable =\n",
              "          await google.colab.kernel.invokeFunction('convertToInteractive',\n",
              "                                                    [key], {});\n",
              "        if (!dataTable) return;\n",
              "\n",
              "        const docLinkHtml = 'Like what you see? Visit the ' +\n",
              "          '<a target=\"_blank\" href=https://colab.research.google.com/notebooks/data_table.ipynb>data table notebook</a>'\n",
              "          + ' to learn more about interactive tables.';\n",
              "        element.innerHTML = '';\n",
              "        dataTable['output_type'] = 'display_data';\n",
              "        await google.colab.output.renderOutput(dataTable, element);\n",
              "        const docLink = document.createElement('div');\n",
              "        docLink.innerHTML = docLinkHtml;\n",
              "        element.appendChild(docLink);\n",
              "      }\n",
              "    </script>\n",
              "  </div>\n",
              "\n",
              "\n",
              "<div id=\"df-2cd6c660-9ab0-489d-9a11-baf0613c7083\">\n",
              "  <button class=\"colab-df-quickchart\" onclick=\"quickchart('df-2cd6c660-9ab0-489d-9a11-baf0613c7083')\"\n",
              "            title=\"Suggest charts\"\n",
              "            style=\"display:none;\">\n",
              "\n",
              "<svg xmlns=\"http://www.w3.org/2000/svg\" height=\"24px\"viewBox=\"0 0 24 24\"\n",
              "     width=\"24px\">\n",
              "    <g>\n",
              "        <path d=\"M19 3H5c-1.1 0-2 .9-2 2v14c0 1.1.9 2 2 2h14c1.1 0 2-.9 2-2V5c0-1.1-.9-2-2-2zM9 17H7v-7h2v7zm4 0h-2V7h2v10zm4 0h-2v-4h2v4z\"/>\n",
              "    </g>\n",
              "</svg>\n",
              "  </button>\n",
              "\n",
              "<style>\n",
              "  .colab-df-quickchart {\n",
              "      --bg-color: #E8F0FE;\n",
              "      --fill-color: #1967D2;\n",
              "      --hover-bg-color: #E2EBFA;\n",
              "      --hover-fill-color: #174EA6;\n",
              "      --disabled-fill-color: #AAA;\n",
              "      --disabled-bg-color: #DDD;\n",
              "  }\n",
              "\n",
              "  [theme=dark] .colab-df-quickchart {\n",
              "      --bg-color: #3B4455;\n",
              "      --fill-color: #D2E3FC;\n",
              "      --hover-bg-color: #434B5C;\n",
              "      --hover-fill-color: #FFFFFF;\n",
              "      --disabled-bg-color: #3B4455;\n",
              "      --disabled-fill-color: #666;\n",
              "  }\n",
              "\n",
              "  .colab-df-quickchart {\n",
              "    background-color: var(--bg-color);\n",
              "    border: none;\n",
              "    border-radius: 50%;\n",
              "    cursor: pointer;\n",
              "    display: none;\n",
              "    fill: var(--fill-color);\n",
              "    height: 32px;\n",
              "    padding: 0;\n",
              "    width: 32px;\n",
              "  }\n",
              "\n",
              "  .colab-df-quickchart:hover {\n",
              "    background-color: var(--hover-bg-color);\n",
              "    box-shadow: 0 1px 2px rgba(60, 64, 67, 0.3), 0 1px 3px 1px rgba(60, 64, 67, 0.15);\n",
              "    fill: var(--button-hover-fill-color);\n",
              "  }\n",
              "\n",
              "  .colab-df-quickchart-complete:disabled,\n",
              "  .colab-df-quickchart-complete:disabled:hover {\n",
              "    background-color: var(--disabled-bg-color);\n",
              "    fill: var(--disabled-fill-color);\n",
              "    box-shadow: none;\n",
              "  }\n",
              "\n",
              "  .colab-df-spinner {\n",
              "    border: 2px solid var(--fill-color);\n",
              "    border-color: transparent;\n",
              "    border-bottom-color: var(--fill-color);\n",
              "    animation:\n",
              "      spin 1s steps(1) infinite;\n",
              "  }\n",
              "\n",
              "  @keyframes spin {\n",
              "    0% {\n",
              "      border-color: transparent;\n",
              "      border-bottom-color: var(--fill-color);\n",
              "      border-left-color: var(--fill-color);\n",
              "    }\n",
              "    20% {\n",
              "      border-color: transparent;\n",
              "      border-left-color: var(--fill-color);\n",
              "      border-top-color: var(--fill-color);\n",
              "    }\n",
              "    30% {\n",
              "      border-color: transparent;\n",
              "      border-left-color: var(--fill-color);\n",
              "      border-top-color: var(--fill-color);\n",
              "      border-right-color: var(--fill-color);\n",
              "    }\n",
              "    40% {\n",
              "      border-color: transparent;\n",
              "      border-right-color: var(--fill-color);\n",
              "      border-top-color: var(--fill-color);\n",
              "    }\n",
              "    60% {\n",
              "      border-color: transparent;\n",
              "      border-right-color: var(--fill-color);\n",
              "    }\n",
              "    80% {\n",
              "      border-color: transparent;\n",
              "      border-right-color: var(--fill-color);\n",
              "      border-bottom-color: var(--fill-color);\n",
              "    }\n",
              "    90% {\n",
              "      border-color: transparent;\n",
              "      border-bottom-color: var(--fill-color);\n",
              "    }\n",
              "  }\n",
              "</style>\n",
              "\n",
              "  <script>\n",
              "    async function quickchart(key) {\n",
              "      const quickchartButtonEl =\n",
              "        document.querySelector('#' + key + ' button');\n",
              "      quickchartButtonEl.disabled = true;  // To prevent multiple clicks.\n",
              "      quickchartButtonEl.classList.add('colab-df-spinner');\n",
              "      try {\n",
              "        const charts = await google.colab.kernel.invokeFunction(\n",
              "            'suggestCharts', [key], {});\n",
              "      } catch (error) {\n",
              "        console.error('Error during call to suggestCharts:', error);\n",
              "      }\n",
              "      quickchartButtonEl.classList.remove('colab-df-spinner');\n",
              "      quickchartButtonEl.classList.add('colab-df-quickchart-complete');\n",
              "    }\n",
              "    (() => {\n",
              "      let quickchartButtonEl =\n",
              "        document.querySelector('#df-2cd6c660-9ab0-489d-9a11-baf0613c7083 button');\n",
              "      quickchartButtonEl.style.display =\n",
              "        google.colab.kernel.accessAllowed ? 'block' : 'none';\n",
              "    })();\n",
              "  </script>\n",
              "</div>\n",
              "    </div>\n",
              "  </div>\n"
            ]
          },
          "metadata": {},
          "execution_count": 101
        }
      ]
    },
    {
      "cell_type": "code",
      "source": [
        "# Checking the count of product categories\n",
        "sns.countplot(data = df, x = \"Product_Category\", order = df[\"Product_Category\"].value_counts().index)"
      ],
      "metadata": {
        "colab": {
          "base_uri": "https://localhost:8080/",
          "height": 468
        },
        "id": "32cExSlSvZbX",
        "outputId": "16e7c401-02f1-46b3-d975-669ba7e3b11c"
      },
      "execution_count": 103,
      "outputs": [
        {
          "output_type": "execute_result",
          "data": {
            "text/plain": [
              "<Axes: xlabel='Product_Category', ylabel='count'>"
            ]
          },
          "metadata": {},
          "execution_count": 103
        },
        {
          "output_type": "display_data",
          "data": {
            "text/plain": [
              "<Figure size 640x480 with 1 Axes>"
            ],
            "image/png": "[encoded data removed]"
          },
          "metadata": {}
        }
      ]
    },
    {
      "cell_type": "markdown",
      "source": [
        "The top 3 most purchased product category is 5, 1 and 8."
      ],
      "metadata": {
        "id": "5agQqne32OvQ"
      }
    },
    {
      "cell_type": "code",
      "source": [
        "# Distribution of Age\n",
        "sns.countplot(data = df, x = \"City_Category\", order = df[\"City_Category\"].value_counts().index)"
      ],
      "metadata": {
        "colab": {
          "base_uri": "https://localhost:8080/",
          "height": 468
        },
        "id": "zw6kwP7IvZZI",
        "outputId": "25e16b96-5caa-42de-972d-37335e06cdbd"
      },
      "execution_count": 104,
      "outputs": [
        {
          "output_type": "execute_result",
          "data": {
            "text/plain": [
              "<Axes: xlabel='City_Category', ylabel='count'>"
            ]
          },
          "metadata": {},
          "execution_count": 104
        },
        {
          "output_type": "display_data",
          "data": {
            "text/plain": [
              "<Figure size 640x480 with 1 Axes>"
            ],
            "image/png": "[encoded data removed]"
          },
          "metadata": {}
        }
      ]
    },
    {
      "cell_type": "code",
      "source": [
        "#occupation analysis\n",
        "sns.countplot(data = df, x = \"Occupation\", order = df[\"Occupation\"].value_counts().index)"
      ],
      "metadata": {
        "colab": {
          "base_uri": "https://localhost:8080/",
          "height": 467
        },
        "id": "QIvfS5rxvZWd",
        "outputId": "f73e6844-63f5-4044-99be-268c9cd0f8f3"
      },
      "execution_count": 105,
      "outputs": [
        {
          "output_type": "execute_result",
          "data": {
            "text/plain": [
              "<Axes: xlabel='Occupation', ylabel='count'>"
            ]
          },
          "metadata": {},
          "execution_count": 105
        },
        {
          "output_type": "display_data",
          "data": {
            "text/plain": [
              "<Figure size 640x480 with 1 Axes>"
            ],
            "image/png": "[encoded data removed]"
          },
          "metadata": {}
        }
      ]
    },
    {
      "cell_type": "code",
      "source": [
        "# checking which age group having more purchases\n",
        "sns.boxplot(data = df, x = \"Age\", y = \"Purchase\")"
      ],
      "metadata": {
        "colab": {
          "base_uri": "https://localhost:8080/",
          "height": 471
        },
        "id": "Fj1PBIEMvZUO",
        "outputId": "b8ff1034-00d2-49ea-cdf9-8623d3a255d9"
      },
      "execution_count": 106,
      "outputs": [
        {
          "output_type": "execute_result",
          "data": {
            "text/plain": [
              "<Axes: xlabel='Age', ylabel='Purchase'>"
            ]
          },
          "metadata": {},
          "execution_count": 106
        },
        {
          "output_type": "display_data",
          "data": {
            "text/plain": [
              "<Figure size 640x480 with 1 Axes>"
            ],
            "image/png": "[encoded data removed]"
          },
          "metadata": {}
        }
      ]
    },
    {
      "cell_type": "code",
      "source": [
        "\n",
        "# Which Gender tends to shop more on Black Friday sale\n",
        "sns.boxplot(data = df, x = \"Gender\", y = \"Purchase\",hue = 'Marital_Status')\n"
      ],
      "metadata": {
        "colab": {
          "base_uri": "https://localhost:8080/",
          "height": 471
        },
        "id": "aFkvQf7HMj-A",
        "outputId": "138a2fd2-236e-4325-c726-255522ad56db"
      },
      "execution_count": 115,
      "outputs": [
        {
          "output_type": "execute_result",
          "data": {
            "text/plain": [
              "<Axes: xlabel='Gender', ylabel='Purchase'>"
            ]
          },
          "metadata": {},
          "execution_count": 115
        },
        {
          "output_type": "display_data",
          "data": {
            "text/plain": [
              "<Figure size 640x480 with 1 Axes>"
            ],
            "image/png": "[encoded data removed]"
          },
          "metadata": {}
        }
      ]
    },
    {
      "cell_type": "code",
      "source": [
        "# Which marital status tends to do more shopping and less shopping\n",
        "sns.boxplot(data = df, x= \"Marital_Status\", y = \"Purchase\",hue='Gender')"
      ],
      "metadata": {
        "colab": {
          "base_uri": "https://localhost:8080/",
          "height": 471
        },
        "id": "je1JcYoVMj7C",
        "outputId": "8836e716-a09f-4615-d5fc-f1434672e362"
      },
      "execution_count": 119,
      "outputs": [
        {
          "output_type": "execute_result",
          "data": {
            "text/plain": [
              "<Axes: xlabel='Marital_Status', ylabel='Purchase'>"
            ]
          },
          "metadata": {},
          "execution_count": 119
        },
        {
          "output_type": "display_data",
          "data": {
            "text/plain": [
              "<Figure size 640x480 with 1 Axes>"
            ],
            "image/png": "[encoded data removed]"
          },
          "metadata": {}
        }
      ]
    },
    {
      "cell_type": "code",
      "source": [
        "sns.boxplot(data = df, x= \"Stay_In_Current_City_Years\", y = \"Purchase\",hue='Gender')"
      ],
      "metadata": {
        "colab": {
          "base_uri": "https://localhost:8080/",
          "height": 471
        },
        "id": "wLtQx2bgMj3a",
        "outputId": "7d092457-5dbb-4ac7-c0fb-c3c4b1715e63"
      },
      "execution_count": 120,
      "outputs": [
        {
          "output_type": "execute_result",
          "data": {
            "text/plain": [
              "<Axes: xlabel='Stay_In_Current_City_Years', ylabel='Purchase'>"
            ]
          },
          "metadata": {},
          "execution_count": 120
        },
        {
          "output_type": "display_data",
          "data": {
            "text/plain": [
              "<Figure size 640x480 with 1 Axes>"
            ],
            "image/png": "[encoded data removed]"
          },
          "metadata": {}
        }
      ]
    },
    {
      "cell_type": "code",
      "source": [
        "# We can see how much is being spent by which age group\n",
        "pd.crosstab(df[\"Purchase\"],df[\"Age\"])"
      ],
      "metadata": {
        "colab": {
          "base_uri": "https://localhost:8080/",
          "height": 455
        },
        "id": "I0OAonofMjzt",
        "outputId": "304ad62d-9e0b-42fd-d054-c3bf669cc040"
      },
      "execution_count": 121,
      "outputs": [
        {
          "output_type": "execute_result",
          "data": {
            "text/plain": [
              "Age       0-17  18-25  26-35  36-45  46-50  51-55  55+\n",
              "Purchase                                              \n",
              "12           3     20     29     23     12      7    7\n",
              "13           3     17     50     16     10      5    5\n",
              "14           2     19     33     19      7     13    2\n",
              "24           5     21     46     22      9      8    7\n",
              "25           5     16     34     25     12     12    9\n",
              "...        ...    ...    ...    ...    ...    ...  ...\n",
              "23956        0      0      1      0      0      0    0\n",
              "23958        0      2      0      0      0      1    1\n",
              "23959        0      0      1      0      0      1    0\n",
              "23960        0      0      0      1      1      1    1\n",
              "23961        0      0      3      0      0      0    0\n",
              "\n",
              "[18105 rows x 7 columns]"
            ],
            "text/html": [
              "\n",
              "  <div id=\"df-d75d7fcc-d237-4d70-93e4-808508555d34\" class=\"colab-df-container\">\n",
              "    <div>\n",
              "<style scoped>\n",
              "    .dataframe tbody tr th:only-of-type {\n",
              "        vertical-align: middle;\n",
              "    }\n",
              "\n",
              "    .dataframe tbody tr th {\n",
              "        vertical-align: top;\n",
              "    }\n",
              "\n",
              "    .dataframe thead th {\n",
              "        text-align: right;\n",
              "    }\n",
              "</style>\n",
              "<table border=\"1\" class=\"dataframe\">\n",
              "  <thead>\n",
              "    <tr style=\"text-align: right;\">\n",
              "      <th>Age</th>\n",
              "      <th>0-17</th>\n",
              "      <th>18-25</th>\n",
              "      <th>26-35</th>\n",
              "      <th>36-45</th>\n",
              "      <th>46-50</th>\n",
              "      <th>51-55</th>\n",
              "      <th>55+</th>\n",
              "    </tr>\n",
              "    <tr>\n",
              "      <th>Purchase</th>\n",
              "      <th></th>\n",
              "      <th></th>\n",
              "      <th></th>\n",
              "      <th></th>\n",
              "      <th></th>\n",
              "      <th></th>\n",
              "      <th></th>\n",
              "    </tr>\n",
              "  </thead>\n",
              "  <tbody>\n",
              "    <tr>\n",
              "      <th>12</th>\n",
              "      <td>3</td>\n",
              "      <td>20</td>\n",
              "      <td>29</td>\n",
              "      <td>23</td>\n",
              "      <td>12</td>\n",
              "      <td>7</td>\n",
              "      <td>7</td>\n",
              "    </tr>\n",
              "    <tr>\n",
              "      <th>13</th>\n",
              "      <td>3</td>\n",
              "      <td>17</td>\n",
              "      <td>50</td>\n",
              "      <td>16</td>\n",
              "      <td>10</td>\n",
              "      <td>5</td>\n",
              "      <td>5</td>\n",
              "    </tr>\n",
              "    <tr>\n",
              "      <th>14</th>\n",
              "      <td>2</td>\n",
              "      <td>19</td>\n",
              "      <td>33</td>\n",
              "      <td>19</td>\n",
              "      <td>7</td>\n",
              "      <td>13</td>\n",
              "      <td>2</td>\n",
              "    </tr>\n",
              "    <tr>\n",
              "      <th>24</th>\n",
              "      <td>5</td>\n",
              "      <td>21</td>\n",
              "      <td>46</td>\n",
              "      <td>22</td>\n",
              "      <td>9</td>\n",
              "      <td>8</td>\n",
              "      <td>7</td>\n",
              "    </tr>\n",
              "    <tr>\n",
              "      <th>25</th>\n",
              "      <td>5</td>\n",
              "      <td>16</td>\n",
              "      <td>34</td>\n",
              "      <td>25</td>\n",
              "      <td>12</td>\n",
              "      <td>12</td>\n",
              "      <td>9</td>\n",
              "    </tr>\n",
              "    <tr>\n",
              "      <th>...</th>\n",
              "      <td>...</td>\n",
              "      <td>...</td>\n",
              "      <td>...</td>\n",
              "      <td>...</td>\n",
              "      <td>...</td>\n",
              "      <td>...</td>\n",
              "      <td>...</td>\n",
              "    </tr>\n",
              "    <tr>\n",
              "      <th>23956</th>\n",
              "      <td>0</td>\n",
              "      <td>0</td>\n",
              "      <td>1</td>\n",
              "      <td>0</td>\n",
              "      <td>0</td>\n",
              "      <td>0</td>\n",
              "      <td>0</td>\n",
              "    </tr>\n",
              "    <tr>\n",
              "      <th>23958</th>\n",
              "      <td>0</td>\n",
              "      <td>2</td>\n",
              "      <td>0</td>\n",
              "      <td>0</td>\n",
              "      <td>0</td>\n",
              "      <td>1</td>\n",
              "      <td>1</td>\n",
              "    </tr>\n",
              "    <tr>\n",
              "      <th>23959</th>\n",
              "      <td>0</td>\n",
              "      <td>0</td>\n",
              "      <td>1</td>\n",
              "      <td>0</td>\n",
              "      <td>0</td>\n",
              "      <td>1</td>\n",
              "      <td>0</td>\n",
              "    </tr>\n",
              "    <tr>\n",
              "      <th>23960</th>\n",
              "      <td>0</td>\n",
              "      <td>0</td>\n",
              "      <td>0</td>\n",
              "      <td>1</td>\n",
              "      <td>1</td>\n",
              "      <td>1</td>\n",
              "      <td>1</td>\n",
              "    </tr>\n",
              "    <tr>\n",
              "      <th>23961</th>\n",
              "      <td>0</td>\n",
              "      <td>0</td>\n",
              "      <td>3</td>\n",
              "      <td>0</td>\n",
              "      <td>0</td>\n",
              "      <td>0</td>\n",
              "      <td>0</td>\n",
              "    </tr>\n",
              "  </tbody>\n",
              "</table>\n",
              "<p>18105 rows × 7 columns</p>\n",
              "</div>\n",
              "    <div class=\"colab-df-buttons\">\n",
              "\n",
              "  <div class=\"colab-df-container\">\n",
              "    <button class=\"colab-df-convert\" onclick=\"convertToInteractive('df-d75d7fcc-d237-4d70-93e4-808508555d34')\"\n",
              "            title=\"Convert this dataframe to an interactive table.\"\n",
              "            style=\"display:none;\">\n",
              "\n",
              "  <svg xmlns=\"http://www.w3.org/2000/svg\" height=\"24px\" viewBox=\"0 -960 960 960\">\n",
              "    <path d=\"M120-120v-720h720v720H120Zm60-500h600v-160H180v160Zm220 220h160v-160H400v160Zm0 220h160v-160H400v160ZM180-400h160v-160H180v160Zm440 0h160v-160H620v160ZM180-180h160v-160H180v160Zm440 0h160v-160H620v160Z\"/>\n",
              "  </svg>\n",
              "    </button>\n",
              "\n",
              "  <style>\n",
              "    .colab-df-container {\n",
              "      display:flex;\n",
              "      gap: 12px;\n",
              "    }\n",
              "\n",
              "    .colab-df-convert {\n",
              "      background-color: #E8F0FE;\n",
              "      border: none;\n",
              "      border-radius: 50%;\n",
              "      cursor: pointer;\n",
              "      display: none;\n",
              "      fill: #1967D2;\n",
              "      height: 32px;\n",
              "      padding: 0 0 0 0;\n",
              "      width: 32px;\n",
              "    }\n",
              "\n",
              "    .colab-df-convert:hover {\n",
              "      background-color: #E2EBFA;\n",
              "      box-shadow: 0px 1px 2px rgba(60, 64, 67, 0.3), 0px 1px 3px 1px rgba(60, 64, 67, 0.15);\n",
              "      fill: #174EA6;\n",
              "    }\n",
              "\n",
              "    .colab-df-buttons div {\n",
              "      margin-bottom: 4px;\n",
              "    }\n",
              "\n",
              "    [theme=dark] .colab-df-convert {\n",
              "      background-color: #3B4455;\n",
              "      fill: #D2E3FC;\n",
              "    }\n",
              "\n",
              "    [theme=dark] .colab-df-convert:hover {\n",
              "      background-color: #434B5C;\n",
              "      box-shadow: 0px 1px 3px 1px rgba(0, 0, 0, 0.15);\n",
              "      filter: drop-shadow(0px 1px 2px rgba(0, 0, 0, 0.3));\n",
              "      fill: #FFFFFF;\n",
              "    }\n",
              "  </style>\n",
              "\n",
              "    <script>\n",
              "      const buttonEl =\n",
              "        document.querySelector('#df-d75d7fcc-d237-4d70-93e4-808508555d34 button.colab-df-convert');\n",
              "      buttonEl.style.display =\n",
              "        google.colab.kernel.accessAllowed ? 'block' : 'none';\n",
              "\n",
              "      async function convertToInteractive(key) {\n",
              "        const element = document.querySelector('#df-d75d7fcc-d237-4d70-93e4-808508555d34');\n",
              "        const dataTable =\n",
              "          await google.colab.kernel.invokeFunction('convertToInteractive',\n",
              "                                                    [key], {});\n",
              "        if (!dataTable) return;\n",
              "\n",
              "        const docLinkHtml = 'Like what you see? Visit the ' +\n",
              "          '<a target=\"_blank\" href=https://colab.research.google.com/notebooks/data_table.ipynb>data table notebook</a>'\n",
              "          + ' to learn more about interactive tables.';\n",
              "        element.innerHTML = '';\n",
              "        dataTable['output_type'] = 'display_data';\n",
              "        await google.colab.output.renderOutput(dataTable, element);\n",
              "        const docLink = document.createElement('div');\n",
              "        docLink.innerHTML = docLinkHtml;\n",
              "        element.appendChild(docLink);\n",
              "      }\n",
              "    </script>\n",
              "  </div>\n",
              "\n",
              "\n",
              "<div id=\"df-71b14c5c-f6af-433b-9a5d-84e6a13f854f\">\n",
              "  <button class=\"colab-df-quickchart\" onclick=\"quickchart('df-71b14c5c-f6af-433b-9a5d-84e6a13f854f')\"\n",
              "            title=\"Suggest charts\"\n",
              "            style=\"display:none;\">\n",
              "\n",
              "<svg xmlns=\"http://www.w3.org/2000/svg\" height=\"24px\"viewBox=\"0 0 24 24\"\n",
              "     width=\"24px\">\n",
              "    <g>\n",
              "        <path d=\"M19 3H5c-1.1 0-2 .9-2 2v14c0 1.1.9 2 2 2h14c1.1 0 2-.9 2-2V5c0-1.1-.9-2-2-2zM9 17H7v-7h2v7zm4 0h-2V7h2v10zm4 0h-2v-4h2v4z\"/>\n",
              "    </g>\n",
              "</svg>\n",
              "  </button>\n",
              "\n",
              "<style>\n",
              "  .colab-df-quickchart {\n",
              "      --bg-color: #E8F0FE;\n",
              "      --fill-color: #1967D2;\n",
              "      --hover-bg-color: #E2EBFA;\n",
              "      --hover-fill-color: #174EA6;\n",
              "      --disabled-fill-color: #AAA;\n",
              "      --disabled-bg-color: #DDD;\n",
              "  }\n",
              "\n",
              "  [theme=dark] .colab-df-quickchart {\n",
              "      --bg-color: #3B4455;\n",
              "      --fill-color: #D2E3FC;\n",
              "      --hover-bg-color: #434B5C;\n",
              "      --hover-fill-color: #FFFFFF;\n",
              "      --disabled-bg-color: #3B4455;\n",
              "      --disabled-fill-color: #666;\n",
              "  }\n",
              "\n",
              "  .colab-df-quickchart {\n",
              "    background-color: var(--bg-color);\n",
              "    border: none;\n",
              "    border-radius: 50%;\n",
              "    cursor: pointer;\n",
              "    display: none;\n",
              "    fill: var(--fill-color);\n",
              "    height: 32px;\n",
              "    padding: 0;\n",
              "    width: 32px;\n",
              "  }\n",
              "\n",
              "  .colab-df-quickchart:hover {\n",
              "    background-color: var(--hover-bg-color);\n",
              "    box-shadow: 0 1px 2px rgba(60, 64, 67, 0.3), 0 1px 3px 1px rgba(60, 64, 67, 0.15);\n",
              "    fill: var(--button-hover-fill-color);\n",
              "  }\n",
              "\n",
              "  .colab-df-quickchart-complete:disabled,\n",
              "  .colab-df-quickchart-complete:disabled:hover {\n",
              "    background-color: var(--disabled-bg-color);\n",
              "    fill: var(--disabled-fill-color);\n",
              "    box-shadow: none;\n",
              "  }\n",
              "\n",
              "  .colab-df-spinner {\n",
              "    border: 2px solid var(--fill-color);\n",
              "    border-color: transparent;\n",
              "    border-bottom-color: var(--fill-color);\n",
              "    animation:\n",
              "      spin 1s steps(1) infinite;\n",
              "  }\n",
              "\n",
              "  @keyframes spin {\n",
              "    0% {\n",
              "      border-color: transparent;\n",
              "      border-bottom-color: var(--fill-color);\n",
              "      border-left-color: var(--fill-color);\n",
              "    }\n",
              "    20% {\n",
              "      border-color: transparent;\n",
              "      border-left-color: var(--fill-color);\n",
              "      border-top-color: var(--fill-color);\n",
              "    }\n",
              "    30% {\n",
              "      border-color: transparent;\n",
              "      border-left-color: var(--fill-color);\n",
              "      border-top-color: var(--fill-color);\n",
              "      border-right-color: var(--fill-color);\n",
              "    }\n",
              "    40% {\n",
              "      border-color: transparent;\n",
              "      border-right-color: var(--fill-color);\n",
              "      border-top-color: var(--fill-color);\n",
              "    }\n",
              "    60% {\n",
              "      border-color: transparent;\n",
              "      border-right-color: var(--fill-color);\n",
              "    }\n",
              "    80% {\n",
              "      border-color: transparent;\n",
              "      border-right-color: var(--fill-color);\n",
              "      border-bottom-color: var(--fill-color);\n",
              "    }\n",
              "    90% {\n",
              "      border-color: transparent;\n",
              "      border-bottom-color: var(--fill-color);\n",
              "    }\n",
              "  }\n",
              "</style>\n",
              "\n",
              "  <script>\n",
              "    async function quickchart(key) {\n",
              "      const quickchartButtonEl =\n",
              "        document.querySelector('#' + key + ' button');\n",
              "      quickchartButtonEl.disabled = true;  // To prevent multiple clicks.\n",
              "      quickchartButtonEl.classList.add('colab-df-spinner');\n",
              "      try {\n",
              "        const charts = await google.colab.kernel.invokeFunction(\n",
              "            'suggestCharts', [key], {});\n",
              "      } catch (error) {\n",
              "        console.error('Error during call to suggestCharts:', error);\n",
              "      }\n",
              "      quickchartButtonEl.classList.remove('colab-df-spinner');\n",
              "      quickchartButtonEl.classList.add('colab-df-quickchart-complete');\n",
              "    }\n",
              "    (() => {\n",
              "      let quickchartButtonEl =\n",
              "        document.querySelector('#df-71b14c5c-f6af-433b-9a5d-84e6a13f854f button');\n",
              "      quickchartButtonEl.style.display =\n",
              "        google.colab.kernel.accessAllowed ? 'block' : 'none';\n",
              "    })();\n",
              "  </script>\n",
              "</div>\n",
              "    </div>\n",
              "  </div>\n"
            ]
          },
          "metadata": {},
          "execution_count": 121
        }
      ]
    },
    {
      "cell_type": "code",
      "source": [
        "df1.corr()\n"
      ],
      "metadata": {
        "colab": {
          "base_uri": "https://localhost:8080/",
          "height": 206
        },
        "id": "7Qf2U3DlMjwd",
        "outputId": "098c57ea-29ab-4116-8be7-bee4a24454a8"
      },
      "execution_count": 122,
      "outputs": [
        {
          "output_type": "execute_result",
          "data": {
            "text/plain": [
              "                   User_ID  Occupation  Marital_Status  Product_Category  \\\n",
              "User_ID           1.000000   -0.023971        0.020443          0.003825   \n",
              "Occupation       -0.023971    1.000000        0.024280         -0.007618   \n",
              "Marital_Status    0.020443    0.024280        1.000000          0.019888   \n",
              "Product_Category  0.003825   -0.007618        0.019888          1.000000   \n",
              "Purchase          0.004716    0.020833       -0.000463         -0.343703   \n",
              "\n",
              "                  Purchase  \n",
              "User_ID           0.004716  \n",
              "Occupation        0.020833  \n",
              "Marital_Status   -0.000463  \n",
              "Product_Category -0.343703  \n",
              "Purchase          1.000000  "
            ],
            "text/html": [
              "\n",
              "  <div id=\"df-a85b1dfb-aefc-4c25-876f-3bd747e13408\" class=\"colab-df-container\">\n",
              "    <div>\n",
              "<style scoped>\n",
              "    .dataframe tbody tr th:only-of-type {\n",
              "        vertical-align: middle;\n",
              "    }\n",
              "\n",
              "    .dataframe tbody tr th {\n",
              "        vertical-align: top;\n",
              "    }\n",
              "\n",
              "    .dataframe thead th {\n",
              "        text-align: right;\n",
              "    }\n",
              "</style>\n",
              "<table border=\"1\" class=\"dataframe\">\n",
              "  <thead>\n",
              "    <tr style=\"text-align: right;\">\n",
              "      <th></th>\n",
              "      <th>User_ID</th>\n",
              "      <th>Occupation</th>\n",
              "      <th>Marital_Status</th>\n",
              "      <th>Product_Category</th>\n",
              "      <th>Purchase</th>\n",
              "    </tr>\n",
              "  </thead>\n",
              "  <tbody>\n",
              "    <tr>\n",
              "      <th>User_ID</th>\n",
              "      <td>1.000000</td>\n",
              "      <td>-0.023971</td>\n",
              "      <td>0.020443</td>\n",
              "      <td>0.003825</td>\n",
              "      <td>0.004716</td>\n",
              "    </tr>\n",
              "    <tr>\n",
              "      <th>Occupation</th>\n",
              "      <td>-0.023971</td>\n",
              "      <td>1.000000</td>\n",
              "      <td>0.024280</td>\n",
              "      <td>-0.007618</td>\n",
              "      <td>0.020833</td>\n",
              "    </tr>\n",
              "    <tr>\n",
              "      <th>Marital_Status</th>\n",
              "      <td>0.020443</td>\n",
              "      <td>0.024280</td>\n",
              "      <td>1.000000</td>\n",
              "      <td>0.019888</td>\n",
              "      <td>-0.000463</td>\n",
              "    </tr>\n",
              "    <tr>\n",
              "      <th>Product_Category</th>\n",
              "      <td>0.003825</td>\n",
              "      <td>-0.007618</td>\n",
              "      <td>0.019888</td>\n",
              "      <td>1.000000</td>\n",
              "      <td>-0.343703</td>\n",
              "    </tr>\n",
              "    <tr>\n",
              "      <th>Purchase</th>\n",
              "      <td>0.004716</td>\n",
              "      <td>0.020833</td>\n",
              "      <td>-0.000463</td>\n",
              "      <td>-0.343703</td>\n",
              "      <td>1.000000</td>\n",
              "    </tr>\n",
              "  </tbody>\n",
              "</table>\n",
              "</div>\n",
              "    <div class=\"colab-df-buttons\">\n",
              "\n",
              "  <div class=\"colab-df-container\">\n",
              "    <button class=\"colab-df-convert\" onclick=\"convertToInteractive('df-a85b1dfb-aefc-4c25-876f-3bd747e13408')\"\n",
              "            title=\"Convert this dataframe to an interactive table.\"\n",
              "            style=\"display:none;\">\n",
              "\n",
              "  <svg xmlns=\"http://www.w3.org/2000/svg\" height=\"24px\" viewBox=\"0 -960 960 960\">\n",
              "    <path d=\"M120-120v-720h720v720H120Zm60-500h600v-160H180v160Zm220 220h160v-160H400v160Zm0 220h160v-160H400v160ZM180-400h160v-160H180v160Zm440 0h160v-160H620v160ZM180-180h160v-160H180v160Zm440 0h160v-160H620v160Z\"/>\n",
              "  </svg>\n",
              "    </button>\n",
              "\n",
              "  <style>\n",
              "    .colab-df-container {\n",
              "      display:flex;\n",
              "      gap: 12px;\n",
              "    }\n",
              "\n",
              "    .colab-df-convert {\n",
              "      background-color: #E8F0FE;\n",
              "      border: none;\n",
              "      border-radius: 50%;\n",
              "      cursor: pointer;\n",
              "      display: none;\n",
              "      fill: #1967D2;\n",
              "      height: 32px;\n",
              "      padding: 0 0 0 0;\n",
              "      width: 32px;\n",
              "    }\n",
              "\n",
              "    .colab-df-convert:hover {\n",
              "      background-color: #E2EBFA;\n",
              "      box-shadow: 0px 1px 2px rgba(60, 64, 67, 0.3), 0px 1px 3px 1px rgba(60, 64, 67, 0.15);\n",
              "      fill: #174EA6;\n",
              "    }\n",
              "\n",
              "    .colab-df-buttons div {\n",
              "      margin-bottom: 4px;\n",
              "    }\n",
              "\n",
              "    [theme=dark] .colab-df-convert {\n",
              "      background-color: #3B4455;\n",
              "      fill: #D2E3FC;\n",
              "    }\n",
              "\n",
              "    [theme=dark] .colab-df-convert:hover {\n",
              "      background-color: #434B5C;\n",
              "      box-shadow: 0px 1px 3px 1px rgba(0, 0, 0, 0.15);\n",
              "      filter: drop-shadow(0px 1px 2px rgba(0, 0, 0, 0.3));\n",
              "      fill: #FFFFFF;\n",
              "    }\n",
              "  </style>\n",
              "\n",
              "    <script>\n",
              "      const buttonEl =\n",
              "        document.querySelector('#df-a85b1dfb-aefc-4c25-876f-3bd747e13408 button.colab-df-convert');\n",
              "      buttonEl.style.display =\n",
              "        google.colab.kernel.accessAllowed ? 'block' : 'none';\n",
              "\n",
              "      async function convertToInteractive(key) {\n",
              "        const element = document.querySelector('#df-a85b1dfb-aefc-4c25-876f-3bd747e13408');\n",
              "        const dataTable =\n",
              "          await google.colab.kernel.invokeFunction('convertToInteractive',\n",
              "                                                    [key], {});\n",
              "        if (!dataTable) return;\n",
              "\n",
              "        const docLinkHtml = 'Like what you see? Visit the ' +\n",
              "          '<a target=\"_blank\" href=https://colab.research.google.com/notebooks/data_table.ipynb>data table notebook</a>'\n",
              "          + ' to learn more about interactive tables.';\n",
              "        element.innerHTML = '';\n",
              "        dataTable['output_type'] = 'display_data';\n",
              "        await google.colab.output.renderOutput(dataTable, element);\n",
              "        const docLink = document.createElement('div');\n",
              "        docLink.innerHTML = docLinkHtml;\n",
              "        element.appendChild(docLink);\n",
              "      }\n",
              "    </script>\n",
              "  </div>\n",
              "\n",
              "\n",
              "<div id=\"df-33e6576d-fdee-44cc-a48f-7924fb13a3a7\">\n",
              "  <button class=\"colab-df-quickchart\" onclick=\"quickchart('df-33e6576d-fdee-44cc-a48f-7924fb13a3a7')\"\n",
              "            title=\"Suggest charts\"\n",
              "            style=\"display:none;\">\n",
              "\n",
              "<svg xmlns=\"http://www.w3.org/2000/svg\" height=\"24px\"viewBox=\"0 0 24 24\"\n",
              "     width=\"24px\">\n",
              "    <g>\n",
              "        <path d=\"M19 3H5c-1.1 0-2 .9-2 2v14c0 1.1.9 2 2 2h14c1.1 0 2-.9 2-2V5c0-1.1-.9-2-2-2zM9 17H7v-7h2v7zm4 0h-2V7h2v10zm4 0h-2v-4h2v4z\"/>\n",
              "    </g>\n",
              "</svg>\n",
              "  </button>\n",
              "\n",
              "<style>\n",
              "  .colab-df-quickchart {\n",
              "      --bg-color: #E8F0FE;\n",
              "      --fill-color: #1967D2;\n",
              "      --hover-bg-color: #E2EBFA;\n",
              "      --hover-fill-color: #174EA6;\n",
              "      --disabled-fill-color: #AAA;\n",
              "      --disabled-bg-color: #DDD;\n",
              "  }\n",
              "\n",
              "  [theme=dark] .colab-df-quickchart {\n",
              "      --bg-color: #3B4455;\n",
              "      --fill-color: #D2E3FC;\n",
              "      --hover-bg-color: #434B5C;\n",
              "      --hover-fill-color: #FFFFFF;\n",
              "      --disabled-bg-color: #3B4455;\n",
              "      --disabled-fill-color: #666;\n",
              "  }\n",
              "\n",
              "  .colab-df-quickchart {\n",
              "    background-color: var(--bg-color);\n",
              "    border: none;\n",
              "    border-radius: 50%;\n",
              "    cursor: pointer;\n",
              "    display: none;\n",
              "    fill: var(--fill-color);\n",
              "    height: 32px;\n",
              "    padding: 0;\n",
              "    width: 32px;\n",
              "  }\n",
              "\n",
              "  .colab-df-quickchart:hover {\n",
              "    background-color: var(--hover-bg-color);\n",
              "    box-shadow: 0 1px 2px rgba(60, 64, 67, 0.3), 0 1px 3px 1px rgba(60, 64, 67, 0.15);\n",
              "    fill: var(--button-hover-fill-color);\n",
              "  }\n",
              "\n",
              "  .colab-df-quickchart-complete:disabled,\n",
              "  .colab-df-quickchart-complete:disabled:hover {\n",
              "    background-color: var(--disabled-bg-color);\n",
              "    fill: var(--disabled-fill-color);\n",
              "    box-shadow: none;\n",
              "  }\n",
              "\n",
              "  .colab-df-spinner {\n",
              "    border: 2px solid var(--fill-color);\n",
              "    border-color: transparent;\n",
              "    border-bottom-color: var(--fill-color);\n",
              "    animation:\n",
              "      spin 1s steps(1) infinite;\n",
              "  }\n",
              "\n",
              "  @keyframes spin {\n",
              "    0% {\n",
              "      border-color: transparent;\n",
              "      border-bottom-color: var(--fill-color);\n",
              "      border-left-color: var(--fill-color);\n",
              "    }\n",
              "    20% {\n",
              "      border-color: transparent;\n",
              "      border-left-color: var(--fill-color);\n",
              "      border-top-color: var(--fill-color);\n",
              "    }\n",
              "    30% {\n",
              "      border-color: transparent;\n",
              "      border-left-color: var(--fill-color);\n",
              "      border-top-color: var(--fill-color);\n",
              "      border-right-color: var(--fill-color);\n",
              "    }\n",
              "    40% {\n",
              "      border-color: transparent;\n",
              "      border-right-color: var(--fill-color);\n",
              "      border-top-color: var(--fill-color);\n",
              "    }\n",
              "    60% {\n",
              "      border-color: transparent;\n",
              "      border-right-color: var(--fill-color);\n",
              "    }\n",
              "    80% {\n",
              "      border-color: transparent;\n",
              "      border-right-color: var(--fill-color);\n",
              "      border-bottom-color: var(--fill-color);\n",
              "    }\n",
              "    90% {\n",
              "      border-color: transparent;\n",
              "      border-bottom-color: var(--fill-color);\n",
              "    }\n",
              "  }\n",
              "</style>\n",
              "\n",
              "  <script>\n",
              "    async function quickchart(key) {\n",
              "      const quickchartButtonEl =\n",
              "        document.querySelector('#' + key + ' button');\n",
              "      quickchartButtonEl.disabled = true;  // To prevent multiple clicks.\n",
              "      quickchartButtonEl.classList.add('colab-df-spinner');\n",
              "      try {\n",
              "        const charts = await google.colab.kernel.invokeFunction(\n",
              "            'suggestCharts', [key], {});\n",
              "      } catch (error) {\n",
              "        console.error('Error during call to suggestCharts:', error);\n",
              "      }\n",
              "      quickchartButtonEl.classList.remove('colab-df-spinner');\n",
              "      quickchartButtonEl.classList.add('colab-df-quickchart-complete');\n",
              "    }\n",
              "    (() => {\n",
              "      let quickchartButtonEl =\n",
              "        document.querySelector('#df-33e6576d-fdee-44cc-a48f-7924fb13a3a7 button');\n",
              "      quickchartButtonEl.style.display =\n",
              "        google.colab.kernel.accessAllowed ? 'block' : 'none';\n",
              "    })();\n",
              "  </script>\n",
              "</div>\n",
              "    </div>\n",
              "  </div>\n"
            ]
          },
          "metadata": {},
          "execution_count": 122
        }
      ]
    },
    {
      "cell_type": "code",
      "source": [
        "sns.heatmap(data=df1.corr(), annot=True)"
      ],
      "metadata": {
        "colab": {
          "base_uri": "https://localhost:8080/",
          "height": 563
        },
        "id": "arPTZuplMjto",
        "outputId": "e4f14aa0-691a-452d-b3c7-3de99ce9b721"
      },
      "execution_count": 126,
      "outputs": [
        {
          "output_type": "execute_result",
          "data": {
            "text/plain": [
              "<Axes: >"
            ]
          },
          "metadata": {},
          "execution_count": 126
        },
        {
          "output_type": "display_data",
          "data": {
            "text/plain": [
              "<Figure size 640x480 with 2 Axes>"
            ],
            "image/png": "[encoded data removed]"
          },
          "metadata": {}
        }
      ]
    },
    {
      "cell_type": "markdown",
      "source": [
        "Heatmap for depicting co-relation amongst variables: Higher the value, higher the co-relation between those variables."
      ],
      "metadata": {
        "id": "IMW3fbqEPvGX"
      }
    },
    {
      "cell_type": "markdown",
      "source": [
        "#Missing values and outlier detection:"
      ],
      "metadata": {
        "id": "kH3bmcxXP9vS"
      }
    },
    {
      "cell_type": "code",
      "source": [
        "# Checking whether there are any missing values present or not\n",
        "df.isna().sum(axis = 0)"
      ],
      "metadata": {
        "colab": {
          "base_uri": "https://localhost:8080/"
        },
        "id": "hY4JWawVMjqm",
        "outputId": "80ea5efe-b919-4f3d-cacd-1304af40b53f"
      },
      "execution_count": 127,
      "outputs": [
        {
          "output_type": "execute_result",
          "data": {
            "text/plain": [
              "User_ID                       0\n",
              "Product_ID                    0\n",
              "Gender                        0\n",
              "Age                           0\n",
              "Occupation                    0\n",
              "City_Category                 0\n",
              "Stay_In_Current_City_Years    0\n",
              "Marital_Status                0\n",
              "Product_Category              0\n",
              "Purchase                      0\n",
              "dtype: int64"
            ]
          },
          "metadata": {},
          "execution_count": 127
        }
      ]
    },
    {
      "cell_type": "code",
      "source": [
        "# Checking Outliers\n",
        "sns.boxplot(data = df, x = \"Purchase\")"
      ],
      "metadata": {
        "colab": {
          "base_uri": "https://localhost:8080/",
          "height": 467
        },
        "id": "jSOH36mUMjj0",
        "outputId": "0f556073-90a4-4538-fa2f-376dd7933672"
      },
      "execution_count": 128,
      "outputs": [
        {
          "output_type": "execute_result",
          "data": {
            "text/plain": [
              "<Axes: xlabel='Purchase'>"
            ]
          },
          "metadata": {},
          "execution_count": 128
        },
        {
          "output_type": "display_data",
          "data": {
            "text/plain": [
              "<Figure size 640x480 with 1 Axes>"
            ],
            "image/png": "[encoded data removed]"
          },
          "metadata": {}
        }
      ]
    },
    {
      "cell_type": "code",
      "source": [
        "# here we can clearly noticed that outliers are located more than 21000\n",
        "#finding count of outliers in purchase\n",
        "df.loc[df[\"Purchase\"]>21000][\"Purchase\"].count()"
      ],
      "metadata": {
        "colab": {
          "base_uri": "https://localhost:8080/"
        },
        "id": "t53jPskzMjgl",
        "outputId": "f2356dbb-26e9-4115-adeb-3b12e0aed0e0"
      },
      "execution_count": 129,
      "outputs": [
        {
          "output_type": "execute_result",
          "data": {
            "text/plain": [
              "3541"
            ]
          },
          "metadata": {},
          "execution_count": 129
        }
      ]
    },
    {
      "cell_type": "markdown",
      "source": [
        "3541 outliers are found in purchase amounts"
      ],
      "metadata": {
        "id": "mCPtFo9iSNoY"
      }
    },
    {
      "cell_type": "code",
      "source": [
        "df.info()"
      ],
      "metadata": {
        "colab": {
          "base_uri": "https://localhost:8080/"
        },
        "id": "nSjY_GocTIJO",
        "outputId": "e82f2a95-e19a-498b-d8d7-fa9a2df5508b"
      },
      "execution_count": 130,
      "outputs": [
        {
          "output_type": "stream",
          "name": "stdout",
          "text": [
            "<class 'pandas.core.frame.DataFrame'>\n",
            "RangeIndex: 550068 entries, 0 to 550067\n",
            "Data columns (total 10 columns):\n",
            " #   Column                      Non-Null Count   Dtype   \n",
            "---  ------                      --------------   -----   \n",
            " 0   User_ID                     550068 non-null  int64   \n",
            " 1   Product_ID                  550068 non-null  object  \n",
            " 2   Gender                      550068 non-null  category\n",
            " 3   Age                         550068 non-null  category\n",
            " 4   Occupation                  550068 non-null  int64   \n",
            " 5   City_Category               550068 non-null  category\n",
            " 6   Stay_In_Current_City_Years  550068 non-null  object  \n",
            " 7   Marital_Status              550068 non-null  category\n",
            " 8   Product_Category            550068 non-null  category\n",
            " 9   Purchase                    550068 non-null  int64   \n",
            "dtypes: category(5), int64(3), object(2)\n",
            "memory usage: 23.6+ MB\n"
          ]
        }
      ]
    },
    {
      "cell_type": "markdown",
      "source": [
        "# Business Insights based on Non- Graphical and Visual Analysis"
      ],
      "metadata": {
        "id": "c4ke6GG2SVYC"
      }
    },
    {
      "cell_type": "markdown",
      "source": [
        "**Comments on the range of attributes**\n",
        "\n",
        "1. There are 550068 rows and 10 columns.\n",
        "\n",
        "2. Column names are User_ID,  Product_ID,  Gender, Age, Occupation, City_Category, Stay_In_Current_City_Years, Marital_Status, Product_Category and Purchase.\n",
        "\n",
        "3. User_id, Occupation,Marital_Status,Product_Category and Purchase are of integer.\n",
        "\n",
        "4. Product_id,Gender,Age,City_Category,Stay_In_Current_City_Years are of String or Object data types.\n",
        "\n",
        "5. Occupation and Marital_Status are given in masked form.\n",
        "\n",
        "6. Statistics of the Purchase columns:\n",
        "      - Mean : 9263.9687\n",
        "      - Standard deviation : 5023.0653\n",
        "      - Minimum value : 12\n",
        "      - Maximum value : 23961\n",
        "\n",
        "7. There are 5891 unique User_id who did the purchase during black friday sale.\n",
        "\n",
        "8. There are 3631 unique product_ids.\n",
        "\n",
        "9. There are only 2 genders presents : Male and Female.\n",
        "\n",
        "10. There are only two values present in Marital Status column 0 and 1. We are assuming that 0 represents unmarried, 1 represents married.\n",
        "\n",
        "11. A total of 18105 purchases has been done.\n",
        "\n",
        "12. Maximum amount spent in the purchase was 23961 and minimum amount was 12.\n",
        "\n",
        "13. The units of money is not mentioned , since its an American organization, we are assuming the unit to be in dollars.\n",
        "\n",
        "14. There are 7 age groups who made the puchase and they are been categorized into 0-17,18-25,26-35,36-45,45-50,50-55,55+\n",
        "\n",
        "15. Occupation is present in masked form , maximum number of people purchasing item are from with mask 4.\n",
        "\n",
        "16. A total number of 18105 unique purchases have been made."
      ],
      "metadata": {
        "id": "wB6_ztJPSnTj"
      }
    },
    {
      "cell_type": "markdown",
      "source": [
        "**Comment on the distribution of variables:**\n",
        "\n",
        "1. User with userid = 1001680 made the highest number of purchases i.e 1026.\n",
        "\n",
        "2. User with userid = 1000708 made the lowest number of purchases i.e 6.\n",
        "\n",
        "3. Most sold out product is P00265242 with 1880 units sold out.\n",
        "\n",
        "4. Least sold products were P00314842, P00298842 , P00231642, P00204442 and  P00066342 with only a single unit sold.\n",
        "\n",
        "5. There are approximately 414259 Males and 135809 who did the purchase on black friday sale.\n",
        "\n",
        "6. Maximum number of purchases were made in the age bracket of 26 - 35 i.e 219587.\n",
        "\n",
        "7. Two age groups i.e minors and senior citizens made the minimum purchase.\n",
        "\n",
        "8. Since, occupation is masked, we can only say that maximum number of people  are doing the job with mask 4.\n",
        "\n",
        "9. We have assumed that 0 represents single and 1 represents married, so, there are 324731 single people making purchase and 225337 married people making purchase.\n"
      ],
      "metadata": {
        "id": "T8UBP8UWU9c7"
      }
    },
    {
      "cell_type": "markdown",
      "source": [
        "**Comment on each univariate and bivariate:**\n",
        "\n",
        "1. Age group of 26 - 35 is present mostly and age group of 0 -17 is present least.\n",
        "\n",
        "2. Females are too less as compared to Males.\n",
        "\n",
        "3. There are 20 product categories whereas the product category 5 is most purchased and product category 9 is least purchased.\n",
        "\n",
        "4. There is not much difference in selling units of product categories 18,20,19,14,7,9.\n",
        "\n",
        "5. If we assume 0 as unmarried and 1 as married, then unmarried people are more inclined towards purchasing more.\n",
        "\n",
        "6. Highest number of the customers who purchased on Black Friday are from City B, then city C and then city A.\n",
        "\n",
        "7. Most of the customers purchasing during the Black Friday sale are from occupation mask 4.\n"
      ],
      "metadata": {
        "id": "o84uk1meVzAG"
      }
    },
    {
      "cell_type": "markdown",
      "source": [
        "#Are women spending more money per transaction than men? Why or Why not?"
      ],
      "metadata": {
        "id": "azTyMRumXAem"
      }
    },
    {
      "cell_type": "code",
      "source": [
        "df.groupby(\"Gender\")[\"Purchase\"].agg([\"min\",\"max\",\"count\",\"sum\"]).reset_index()\n"
      ],
      "metadata": {
        "colab": {
          "base_uri": "https://localhost:8080/",
          "height": 112
        },
        "id": "O1VFbkLTSfeF",
        "outputId": "71ea6493-e913-41e7-be1a-786db48af737"
      },
      "execution_count": 131,
      "outputs": [
        {
          "output_type": "execute_result",
          "data": {
            "text/plain": [
              "  Gender  min    max   count         sum\n",
              "0      F   12  23959  135809  1186232642\n",
              "1      M   12  23961  414259  3909580100"
            ],
            "text/html": [
              "\n",
              "  <div id=\"df-f8c17be9-5e53-48f5-bac8-d8c24c4d323b\" class=\"colab-df-container\">\n",
              "    <div>\n",
              "<style scoped>\n",
              "    .dataframe tbody tr th:only-of-type {\n",
              "        vertical-align: middle;\n",
              "    }\n",
              "\n",
              "    .dataframe tbody tr th {\n",
              "        vertical-align: top;\n",
              "    }\n",
              "\n",
              "    .dataframe thead th {\n",
              "        text-align: right;\n",
              "    }\n",
              "</style>\n",
              "<table border=\"1\" class=\"dataframe\">\n",
              "  <thead>\n",
              "    <tr style=\"text-align: right;\">\n",
              "      <th></th>\n",
              "      <th>Gender</th>\n",
              "      <th>min</th>\n",
              "      <th>max</th>\n",
              "      <th>count</th>\n",
              "      <th>sum</th>\n",
              "    </tr>\n",
              "  </thead>\n",
              "  <tbody>\n",
              "    <tr>\n",
              "      <th>0</th>\n",
              "      <td>F</td>\n",
              "      <td>12</td>\n",
              "      <td>23959</td>\n",
              "      <td>135809</td>\n",
              "      <td>1186232642</td>\n",
              "    </tr>\n",
              "    <tr>\n",
              "      <th>1</th>\n",
              "      <td>M</td>\n",
              "      <td>12</td>\n",
              "      <td>23961</td>\n",
              "      <td>414259</td>\n",
              "      <td>3909580100</td>\n",
              "    </tr>\n",
              "  </tbody>\n",
              "</table>\n",
              "</div>\n",
              "    <div class=\"colab-df-buttons\">\n",
              "\n",
              "  <div class=\"colab-df-container\">\n",
              "    <button class=\"colab-df-convert\" onclick=\"convertToInteractive('df-f8c17be9-5e53-48f5-bac8-d8c24c4d323b')\"\n",
              "            title=\"Convert this dataframe to an interactive table.\"\n",
              "            style=\"display:none;\">\n",
              "\n",
              "  <svg xmlns=\"http://www.w3.org/2000/svg\" height=\"24px\" viewBox=\"0 -960 960 960\">\n",
              "    <path d=\"M120-120v-720h720v720H120Zm60-500h600v-160H180v160Zm220 220h160v-160H400v160Zm0 220h160v-160H400v160ZM180-400h160v-160H180v160Zm440 0h160v-160H620v160ZM180-180h160v-160H180v160Zm440 0h160v-160H620v160Z\"/>\n",
              "  </svg>\n",
              "    </button>\n",
              "\n",
              "  <style>\n",
              "    .colab-df-container {\n",
              "      display:flex;\n",
              "      gap: 12px;\n",
              "    }\n",
              "\n",
              "    .colab-df-convert {\n",
              "      background-color: #E8F0FE;\n",
              "      border: none;\n",
              "      border-radius: 50%;\n",
              "      cursor: pointer;\n",
              "      display: none;\n",
              "      fill: #1967D2;\n",
              "      height: 32px;\n",
              "      padding: 0 0 0 0;\n",
              "      width: 32px;\n",
              "    }\n",
              "\n",
              "    .colab-df-convert:hover {\n",
              "      background-color: #E2EBFA;\n",
              "      box-shadow: 0px 1px 2px rgba(60, 64, 67, 0.3), 0px 1px 3px 1px rgba(60, 64, 67, 0.15);\n",
              "      fill: #174EA6;\n",
              "    }\n",
              "\n",
              "    .colab-df-buttons div {\n",
              "      margin-bottom: 4px;\n",
              "    }\n",
              "\n",
              "    [theme=dark] .colab-df-convert {\n",
              "      background-color: #3B4455;\n",
              "      fill: #D2E3FC;\n",
              "    }\n",
              "\n",
              "    [theme=dark] .colab-df-convert:hover {\n",
              "      background-color: #434B5C;\n",
              "      box-shadow: 0px 1px 3px 1px rgba(0, 0, 0, 0.15);\n",
              "      filter: drop-shadow(0px 1px 2px rgba(0, 0, 0, 0.3));\n",
              "      fill: #FFFFFF;\n",
              "    }\n",
              "  </style>\n",
              "\n",
              "    <script>\n",
              "      const buttonEl =\n",
              "        document.querySelector('#df-f8c17be9-5e53-48f5-bac8-d8c24c4d323b button.colab-df-convert');\n",
              "      buttonEl.style.display =\n",
              "        google.colab.kernel.accessAllowed ? 'block' : 'none';\n",
              "\n",
              "      async function convertToInteractive(key) {\n",
              "        const element = document.querySelector('#df-f8c17be9-5e53-48f5-bac8-d8c24c4d323b');\n",
              "        const dataTable =\n",
              "          await google.colab.kernel.invokeFunction('convertToInteractive',\n",
              "                                                    [key], {});\n",
              "        if (!dataTable) return;\n",
              "\n",
              "        const docLinkHtml = 'Like what you see? Visit the ' +\n",
              "          '<a target=\"_blank\" href=https://colab.research.google.com/notebooks/data_table.ipynb>data table notebook</a>'\n",
              "          + ' to learn more about interactive tables.';\n",
              "        element.innerHTML = '';\n",
              "        dataTable['output_type'] = 'display_data';\n",
              "        await google.colab.output.renderOutput(dataTable, element);\n",
              "        const docLink = document.createElement('div');\n",
              "        docLink.innerHTML = docLinkHtml;\n",
              "        element.appendChild(docLink);\n",
              "      }\n",
              "    </script>\n",
              "  </div>\n",
              "\n",
              "\n",
              "<div id=\"df-0fef4181-db5d-4ec1-abbb-798fb9f89a13\">\n",
              "  <button class=\"colab-df-quickchart\" onclick=\"quickchart('df-0fef4181-db5d-4ec1-abbb-798fb9f89a13')\"\n",
              "            title=\"Suggest charts\"\n",
              "            style=\"display:none;\">\n",
              "\n",
              "<svg xmlns=\"http://www.w3.org/2000/svg\" height=\"24px\"viewBox=\"0 0 24 24\"\n",
              "     width=\"24px\">\n",
              "    <g>\n",
              "        <path d=\"M19 3H5c-1.1 0-2 .9-2 2v14c0 1.1.9 2 2 2h14c1.1 0 2-.9 2-2V5c0-1.1-.9-2-2-2zM9 17H7v-7h2v7zm4 0h-2V7h2v10zm4 0h-2v-4h2v4z\"/>\n",
              "    </g>\n",
              "</svg>\n",
              "  </button>\n",
              "\n",
              "<style>\n",
              "  .colab-df-quickchart {\n",
              "      --bg-color: #E8F0FE;\n",
              "      --fill-color: #1967D2;\n",
              "      --hover-bg-color: #E2EBFA;\n",
              "      --hover-fill-color: #174EA6;\n",
              "      --disabled-fill-color: #AAA;\n",
              "      --disabled-bg-color: #DDD;\n",
              "  }\n",
              "\n",
              "  [theme=dark] .colab-df-quickchart {\n",
              "      --bg-color: #3B4455;\n",
              "      --fill-color: #D2E3FC;\n",
              "      --hover-bg-color: #434B5C;\n",
              "      --hover-fill-color: #FFFFFF;\n",
              "      --disabled-bg-color: #3B4455;\n",
              "      --disabled-fill-color: #666;\n",
              "  }\n",
              "\n",
              "  .colab-df-quickchart {\n",
              "    background-color: var(--bg-color);\n",
              "    border: none;\n",
              "    border-radius: 50%;\n",
              "    cursor: pointer;\n",
              "    display: none;\n",
              "    fill: var(--fill-color);\n",
              "    height: 32px;\n",
              "    padding: 0;\n",
              "    width: 32px;\n",
              "  }\n",
              "\n",
              "  .colab-df-quickchart:hover {\n",
              "    background-color: var(--hover-bg-color);\n",
              "    box-shadow: 0 1px 2px rgba(60, 64, 67, 0.3), 0 1px 3px 1px rgba(60, 64, 67, 0.15);\n",
              "    fill: var(--button-hover-fill-color);\n",
              "  }\n",
              "\n",
              "  .colab-df-quickchart-complete:disabled,\n",
              "  .colab-df-quickchart-complete:disabled:hover {\n",
              "    background-color: var(--disabled-bg-color);\n",
              "    fill: var(--disabled-fill-color);\n",
              "    box-shadow: none;\n",
              "  }\n",
              "\n",
              "  .colab-df-spinner {\n",
              "    border: 2px solid var(--fill-color);\n",
              "    border-color: transparent;\n",
              "    border-bottom-color: var(--fill-color);\n",
              "    animation:\n",
              "      spin 1s steps(1) infinite;\n",
              "  }\n",
              "\n",
              "  @keyframes spin {\n",
              "    0% {\n",
              "      border-color: transparent;\n",
              "      border-bottom-color: var(--fill-color);\n",
              "      border-left-color: var(--fill-color);\n",
              "    }\n",
              "    20% {\n",
              "      border-color: transparent;\n",
              "      border-left-color: var(--fill-color);\n",
              "      border-top-color: var(--fill-color);\n",
              "    }\n",
              "    30% {\n",
              "      border-color: transparent;\n",
              "      border-left-color: var(--fill-color);\n",
              "      border-top-color: var(--fill-color);\n",
              "      border-right-color: var(--fill-color);\n",
              "    }\n",
              "    40% {\n",
              "      border-color: transparent;\n",
              "      border-right-color: var(--fill-color);\n",
              "      border-top-color: var(--fill-color);\n",
              "    }\n",
              "    60% {\n",
              "      border-color: transparent;\n",
              "      border-right-color: var(--fill-color);\n",
              "    }\n",
              "    80% {\n",
              "      border-color: transparent;\n",
              "      border-right-color: var(--fill-color);\n",
              "      border-bottom-color: var(--fill-color);\n",
              "    }\n",
              "    90% {\n",
              "      border-color: transparent;\n",
              "      border-bottom-color: var(--fill-color);\n",
              "    }\n",
              "  }\n",
              "</style>\n",
              "\n",
              "  <script>\n",
              "    async function quickchart(key) {\n",
              "      const quickchartButtonEl =\n",
              "        document.querySelector('#' + key + ' button');\n",
              "      quickchartButtonEl.disabled = true;  // To prevent multiple clicks.\n",
              "      quickchartButtonEl.classList.add('colab-df-spinner');\n",
              "      try {\n",
              "        const charts = await google.colab.kernel.invokeFunction(\n",
              "            'suggestCharts', [key], {});\n",
              "      } catch (error) {\n",
              "        console.error('Error during call to suggestCharts:', error);\n",
              "      }\n",
              "      quickchartButtonEl.classList.remove('colab-df-spinner');\n",
              "      quickchartButtonEl.classList.add('colab-df-quickchart-complete');\n",
              "    }\n",
              "    (() => {\n",
              "      let quickchartButtonEl =\n",
              "        document.querySelector('#df-0fef4181-db5d-4ec1-abbb-798fb9f89a13 button');\n",
              "      quickchartButtonEl.style.display =\n",
              "        google.colab.kernel.accessAllowed ? 'block' : 'none';\n",
              "    })();\n",
              "  </script>\n",
              "</div>\n",
              "    </div>\n",
              "  </div>\n"
            ]
          },
          "metadata": {},
          "execution_count": 131
        }
      ]
    },
    {
      "cell_type": "markdown",
      "source": [
        "There is not much difference in maximum amount spent by a female and male.\n",
        "\n",
        "There is a huge difference in count and sum of purchases which indicates that males are purchasing more and also spending more."
      ],
      "metadata": {
        "id": "IPvauUFIXPvA"
      }
    },
    {
      "cell_type": "markdown",
      "source": [
        "#Confidence intervals and distribution of the mean of the expenses by female and male customers"
      ],
      "metadata": {
        "id": "2qbmOaV8X1V4"
      }
    },
    {
      "cell_type": "code",
      "source": [
        "df_female = df[df[\"Gender\"]==\"F\"]\n",
        "df_female"
      ],
      "metadata": {
        "colab": {
          "base_uri": "https://localhost:8080/",
          "height": 423
        },
        "id": "wNakg36HSfal",
        "outputId": "7bd7d056-c456-4f19-93ed-12d0cc8095dd"
      },
      "execution_count": 132,
      "outputs": [
        {
          "output_type": "execute_result",
          "data": {
            "text/plain": [
              "        User_ID Product_ID Gender    Age  Occupation City_Category  \\\n",
              "0       1000001  P00069042      F   0-17          10             A   \n",
              "1       1000001  P00248942      F   0-17          10             A   \n",
              "2       1000001  P00087842      F   0-17          10             A   \n",
              "3       1000001  P00085442      F   0-17          10             A   \n",
              "14      1000006  P00231342      F  51-55           9             A   \n",
              "...         ...        ...    ...    ...         ...           ...   \n",
              "550061  1006029  P00372445      F  26-35           1             C   \n",
              "550064  1006035  P00375436      F  26-35           1             C   \n",
              "550065  1006036  P00375436      F  26-35          15             B   \n",
              "550066  1006038  P00375436      F    55+           1             C   \n",
              "550067  1006039  P00371644      F  46-50           0             B   \n",
              "\n",
              "       Stay_In_Current_City_Years Marital_Status Product_Category  Purchase  \n",
              "0                               2              0                3      8370  \n",
              "1                               2              0                1     15200  \n",
              "2                               2              0               12      1422  \n",
              "3                               2              0               12      1057  \n",
              "14                              1              0                5      5378  \n",
              "...                           ...            ...              ...       ...  \n",
              "550061                          1              1               20       599  \n",
              "550064                          3              0               20       371  \n",
              "550065                         4+              1               20       137  \n",
              "550066                          2              0               20       365  \n",
              "550067                         4+              1               20       490  \n",
              "\n",
              "[135809 rows x 10 columns]"
            ],
            "text/html": [
              "\n",
              "  <div id=\"df-2c1ec3ad-9f23-41b8-9335-f1d4ec55a4f3\" class=\"colab-df-container\">\n",
              "    <div>\n",
              "<style scoped>\n",
              "    .dataframe tbody tr th:only-of-type {\n",
              "        vertical-align: middle;\n",
              "    }\n",
              "\n",
              "    .dataframe tbody tr th {\n",
              "        vertical-align: top;\n",
              "    }\n",
              "\n",
              "    .dataframe thead th {\n",
              "        text-align: right;\n",
              "    }\n",
              "</style>\n",
              "<table border=\"1\" class=\"dataframe\">\n",
              "  <thead>\n",
              "    <tr style=\"text-align: right;\">\n",
              "      <th></th>\n",
              "      <th>User_ID</th>\n",
              "      <th>Product_ID</th>\n",
              "      <th>Gender</th>\n",
              "      <th>Age</th>\n",
              "      <th>Occupation</th>\n",
              "      <th>City_Category</th>\n",
              "      <th>Stay_In_Current_City_Years</th>\n",
              "      <th>Marital_Status</th>\n",
              "      <th>Product_Category</th>\n",
              "      <th>Purchase</th>\n",
              "    </tr>\n",
              "  </thead>\n",
              "  <tbody>\n",
              "    <tr>\n",
              "      <th>0</th>\n",
              "      <td>1000001</td>\n",
              "      <td>P00069042</td>\n",
              "      <td>F</td>\n",
              "      <td>0-17</td>\n",
              "      <td>10</td>\n",
              "      <td>A</td>\n",
              "      <td>2</td>\n",
              "      <td>0</td>\n",
              "      <td>3</td>\n",
              "      <td>8370</td>\n",
              "    </tr>\n",
              "    <tr>\n",
              "      <th>1</th>\n",
              "      <td>1000001</td>\n",
              "      <td>P00248942</td>\n",
              "      <td>F</td>\n",
              "      <td>0-17</td>\n",
              "      <td>10</td>\n",
              "      <td>A</td>\n",
              "      <td>2</td>\n",
              "      <td>0</td>\n",
              "      <td>1</td>\n",
              "      <td>15200</td>\n",
              "    </tr>\n",
              "    <tr>\n",
              "      <th>2</th>\n",
              "      <td>1000001</td>\n",
              "      <td>P00087842</td>\n",
              "      <td>F</td>\n",
              "      <td>0-17</td>\n",
              "      <td>10</td>\n",
              "      <td>A</td>\n",
              "      <td>2</td>\n",
              "      <td>0</td>\n",
              "      <td>12</td>\n",
              "      <td>1422</td>\n",
              "    </tr>\n",
              "    <tr>\n",
              "      <th>3</th>\n",
              "      <td>1000001</td>\n",
              "      <td>P00085442</td>\n",
              "      <td>F</td>\n",
              "      <td>0-17</td>\n",
              "      <td>10</td>\n",
              "      <td>A</td>\n",
              "      <td>2</td>\n",
              "      <td>0</td>\n",
              "      <td>12</td>\n",
              "      <td>1057</td>\n",
              "    </tr>\n",
              "    <tr>\n",
              "      <th>14</th>\n",
              "      <td>1000006</td>\n",
              "      <td>P00231342</td>\n",
              "      <td>F</td>\n",
              "      <td>51-55</td>\n",
              "      <td>9</td>\n",
              "      <td>A</td>\n",
              "      <td>1</td>\n",
              "      <td>0</td>\n",
              "      <td>5</td>\n",
              "      <td>5378</td>\n",
              "    </tr>\n",
              "    <tr>\n",
              "      <th>...</th>\n",
              "      <td>...</td>\n",
              "      <td>...</td>\n",
              "      <td>...</td>\n",
              "      <td>...</td>\n",
              "      <td>...</td>\n",
              "      <td>...</td>\n",
              "      <td>...</td>\n",
              "      <td>...</td>\n",
              "      <td>...</td>\n",
              "      <td>...</td>\n",
              "    </tr>\n",
              "    <tr>\n",
              "      <th>550061</th>\n",
              "      <td>1006029</td>\n",
              "      <td>P00372445</td>\n",
              "      <td>F</td>\n",
              "      <td>26-35</td>\n",
              "      <td>1</td>\n",
              "      <td>C</td>\n",
              "      <td>1</td>\n",
              "      <td>1</td>\n",
              "      <td>20</td>\n",
              "      <td>599</td>\n",
              "    </tr>\n",
              "    <tr>\n",
              "      <th>550064</th>\n",
              "      <td>1006035</td>\n",
              "      <td>P00375436</td>\n",
              "      <td>F</td>\n",
              "      <td>26-35</td>\n",
              "      <td>1</td>\n",
              "      <td>C</td>\n",
              "      <td>3</td>\n",
              "      <td>0</td>\n",
              "      <td>20</td>\n",
              "      <td>371</td>\n",
              "    </tr>\n",
              "    <tr>\n",
              "      <th>550065</th>\n",
              "      <td>1006036</td>\n",
              "      <td>P00375436</td>\n",
              "      <td>F</td>\n",
              "      <td>26-35</td>\n",
              "      <td>15</td>\n",
              "      <td>B</td>\n",
              "      <td>4+</td>\n",
              "      <td>1</td>\n",
              "      <td>20</td>\n",
              "      <td>137</td>\n",
              "    </tr>\n",
              "    <tr>\n",
              "      <th>550066</th>\n",
              "      <td>1006038</td>\n",
              "      <td>P00375436</td>\n",
              "      <td>F</td>\n",
              "      <td>55+</td>\n",
              "      <td>1</td>\n",
              "      <td>C</td>\n",
              "      <td>2</td>\n",
              "      <td>0</td>\n",
              "      <td>20</td>\n",
              "      <td>365</td>\n",
              "    </tr>\n",
              "    <tr>\n",
              "      <th>550067</th>\n",
              "      <td>1006039</td>\n",
              "      <td>P00371644</td>\n",
              "      <td>F</td>\n",
              "      <td>46-50</td>\n",
              "      <td>0</td>\n",
              "      <td>B</td>\n",
              "      <td>4+</td>\n",
              "      <td>1</td>\n",
              "      <td>20</td>\n",
              "      <td>490</td>\n",
              "    </tr>\n",
              "  </tbody>\n",
              "</table>\n",
              "<p>135809 rows × 10 columns</p>\n",
              "</div>\n",
              "    <div class=\"colab-df-buttons\">\n",
              "\n",
              "  <div class=\"colab-df-container\">\n",
              "    <button class=\"colab-df-convert\" onclick=\"convertToInteractive('df-2c1ec3ad-9f23-41b8-9335-f1d4ec55a4f3')\"\n",
              "            title=\"Convert this dataframe to an interactive table.\"\n",
              "            style=\"display:none;\">\n",
              "\n",
              "  <svg xmlns=\"http://www.w3.org/2000/svg\" height=\"24px\" viewBox=\"0 -960 960 960\">\n",
              "    <path d=\"M120-120v-720h720v720H120Zm60-500h600v-160H180v160Zm220 220h160v-160H400v160Zm0 220h160v-160H400v160ZM180-400h160v-160H180v160Zm440 0h160v-160H620v160ZM180-180h160v-160H180v160Zm440 0h160v-160H620v160Z\"/>\n",
              "  </svg>\n",
              "    </button>\n",
              "\n",
              "  <style>\n",
              "    .colab-df-container {\n",
              "      display:flex;\n",
              "      gap: 12px;\n",
              "    }\n",
              "\n",
              "    .colab-df-convert {\n",
              "      background-color: #E8F0FE;\n",
              "      border: none;\n",
              "      border-radius: 50%;\n",
              "      cursor: pointer;\n",
              "      display: none;\n",
              "      fill: #1967D2;\n",
              "      height: 32px;\n",
              "      padding: 0 0 0 0;\n",
              "      width: 32px;\n",
              "    }\n",
              "\n",
              "    .colab-df-convert:hover {\n",
              "      background-color: #E2EBFA;\n",
              "      box-shadow: 0px 1px 2px rgba(60, 64, 67, 0.3), 0px 1px 3px 1px rgba(60, 64, 67, 0.15);\n",
              "      fill: #174EA6;\n",
              "    }\n",
              "\n",
              "    .colab-df-buttons div {\n",
              "      margin-bottom: 4px;\n",
              "    }\n",
              "\n",
              "    [theme=dark] .colab-df-convert {\n",
              "      background-color: #3B4455;\n",
              "      fill: #D2E3FC;\n",
              "    }\n",
              "\n",
              "    [theme=dark] .colab-df-convert:hover {\n",
              "      background-color: #434B5C;\n",
              "      box-shadow: 0px 1px 3px 1px rgba(0, 0, 0, 0.15);\n",
              "      filter: drop-shadow(0px 1px 2px rgba(0, 0, 0, 0.3));\n",
              "      fill: #FFFFFF;\n",
              "    }\n",
              "  </style>\n",
              "\n",
              "    <script>\n",
              "      const buttonEl =\n",
              "        document.querySelector('#df-2c1ec3ad-9f23-41b8-9335-f1d4ec55a4f3 button.colab-df-convert');\n",
              "      buttonEl.style.display =\n",
              "        google.colab.kernel.accessAllowed ? 'block' : 'none';\n",
              "\n",
              "      async function convertToInteractive(key) {\n",
              "        const element = document.querySelector('#df-2c1ec3ad-9f23-41b8-9335-f1d4ec55a4f3');\n",
              "        const dataTable =\n",
              "          await google.colab.kernel.invokeFunction('convertToInteractive',\n",
              "                                                    [key], {});\n",
              "        if (!dataTable) return;\n",
              "\n",
              "        const docLinkHtml = 'Like what you see? Visit the ' +\n",
              "          '<a target=\"_blank\" href=https://colab.research.google.com/notebooks/data_table.ipynb>data table notebook</a>'\n",
              "          + ' to learn more about interactive tables.';\n",
              "        element.innerHTML = '';\n",
              "        dataTable['output_type'] = 'display_data';\n",
              "        await google.colab.output.renderOutput(dataTable, element);\n",
              "        const docLink = document.createElement('div');\n",
              "        docLink.innerHTML = docLinkHtml;\n",
              "        element.appendChild(docLink);\n",
              "      }\n",
              "    </script>\n",
              "  </div>\n",
              "\n",
              "\n",
              "<div id=\"df-ac6786ee-506f-429e-a07b-46f28237cfce\">\n",
              "  <button class=\"colab-df-quickchart\" onclick=\"quickchart('df-ac6786ee-506f-429e-a07b-46f28237cfce')\"\n",
              "            title=\"Suggest charts\"\n",
              "            style=\"display:none;\">\n",
              "\n",
              "<svg xmlns=\"http://www.w3.org/2000/svg\" height=\"24px\"viewBox=\"0 0 24 24\"\n",
              "     width=\"24px\">\n",
              "    <g>\n",
              "        <path d=\"M19 3H5c-1.1 0-2 .9-2 2v14c0 1.1.9 2 2 2h14c1.1 0 2-.9 2-2V5c0-1.1-.9-2-2-2zM9 17H7v-7h2v7zm4 0h-2V7h2v10zm4 0h-2v-4h2v4z\"/>\n",
              "    </g>\n",
              "</svg>\n",
              "  </button>\n",
              "\n",
              "<style>\n",
              "  .colab-df-quickchart {\n",
              "      --bg-color: #E8F0FE;\n",
              "      --fill-color: #1967D2;\n",
              "      --hover-bg-color: #E2EBFA;\n",
              "      --hover-fill-color: #174EA6;\n",
              "      --disabled-fill-color: #AAA;\n",
              "      --disabled-bg-color: #DDD;\n",
              "  }\n",
              "\n",
              "  [theme=dark] .colab-df-quickchart {\n",
              "      --bg-color: #3B4455;\n",
              "      --fill-color: #D2E3FC;\n",
              "      --hover-bg-color: #434B5C;\n",
              "      --hover-fill-color: #FFFFFF;\n",
              "      --disabled-bg-color: #3B4455;\n",
              "      --disabled-fill-color: #666;\n",
              "  }\n",
              "\n",
              "  .colab-df-quickchart {\n",
              "    background-color: var(--bg-color);\n",
              "    border: none;\n",
              "    border-radius: 50%;\n",
              "    cursor: pointer;\n",
              "    display: none;\n",
              "    fill: var(--fill-color);\n",
              "    height: 32px;\n",
              "    padding: 0;\n",
              "    width: 32px;\n",
              "  }\n",
              "\n",
              "  .colab-df-quickchart:hover {\n",
              "    background-color: var(--hover-bg-color);\n",
              "    box-shadow: 0 1px 2px rgba(60, 64, 67, 0.3), 0 1px 3px 1px rgba(60, 64, 67, 0.15);\n",
              "    fill: var(--button-hover-fill-color);\n",
              "  }\n",
              "\n",
              "  .colab-df-quickchart-complete:disabled,\n",
              "  .colab-df-quickchart-complete:disabled:hover {\n",
              "    background-color: var(--disabled-bg-color);\n",
              "    fill: var(--disabled-fill-color);\n",
              "    box-shadow: none;\n",
              "  }\n",
              "\n",
              "  .colab-df-spinner {\n",
              "    border: 2px solid var(--fill-color);\n",
              "    border-color: transparent;\n",
              "    border-bottom-color: var(--fill-color);\n",
              "    animation:\n",
              "      spin 1s steps(1) infinite;\n",
              "  }\n",
              "\n",
              "  @keyframes spin {\n",
              "    0% {\n",
              "      border-color: transparent;\n",
              "      border-bottom-color: var(--fill-color);\n",
              "      border-left-color: var(--fill-color);\n",
              "    }\n",
              "    20% {\n",
              "      border-color: transparent;\n",
              "      border-left-color: var(--fill-color);\n",
              "      border-top-color: var(--fill-color);\n",
              "    }\n",
              "    30% {\n",
              "      border-color: transparent;\n",
              "      border-left-color: var(--fill-color);\n",
              "      border-top-color: var(--fill-color);\n",
              "      border-right-color: var(--fill-color);\n",
              "    }\n",
              "    40% {\n",
              "      border-color: transparent;\n",
              "      border-right-color: var(--fill-color);\n",
              "      border-top-color: var(--fill-color);\n",
              "    }\n",
              "    60% {\n",
              "      border-color: transparent;\n",
              "      border-right-color: var(--fill-color);\n",
              "    }\n",
              "    80% {\n",
              "      border-color: transparent;\n",
              "      border-right-color: var(--fill-color);\n",
              "      border-bottom-color: var(--fill-color);\n",
              "    }\n",
              "    90% {\n",
              "      border-color: transparent;\n",
              "      border-bottom-color: var(--fill-color);\n",
              "    }\n",
              "  }\n",
              "</style>\n",
              "\n",
              "  <script>\n",
              "    async function quickchart(key) {\n",
              "      const quickchartButtonEl =\n",
              "        document.querySelector('#' + key + ' button');\n",
              "      quickchartButtonEl.disabled = true;  // To prevent multiple clicks.\n",
              "      quickchartButtonEl.classList.add('colab-df-spinner');\n",
              "      try {\n",
              "        const charts = await google.colab.kernel.invokeFunction(\n",
              "            'suggestCharts', [key], {});\n",
              "      } catch (error) {\n",
              "        console.error('Error during call to suggestCharts:', error);\n",
              "      }\n",
              "      quickchartButtonEl.classList.remove('colab-df-spinner');\n",
              "      quickchartButtonEl.classList.add('colab-df-quickchart-complete');\n",
              "    }\n",
              "    (() => {\n",
              "      let quickchartButtonEl =\n",
              "        document.querySelector('#df-ac6786ee-506f-429e-a07b-46f28237cfce button');\n",
              "      quickchartButtonEl.style.display =\n",
              "        google.colab.kernel.accessAllowed ? 'block' : 'none';\n",
              "    })();\n",
              "  </script>\n",
              "</div>\n",
              "    </div>\n",
              "  </div>\n"
            ]
          },
          "metadata": {},
          "execution_count": 132
        }
      ]
    },
    {
      "cell_type": "code",
      "source": [
        "sample_size = 8000\n",
        "iterations = 5000\n",
        "\n",
        "male_sample_df = [ df[df[\"Gender\"] == \"M\"].sample(sample_size, replace = True)[\"Purchase\"].mean()  for i in range(iterations)]"
      ],
      "metadata": {
        "id": "8EHd3Go_dpnP"
      },
      "execution_count": 134,
      "outputs": []
    },
    {
      "cell_type": "code",
      "source": [
        "sample_size = 8000\n",
        "iterations = 5000\n",
        "\n",
        "female_sample_df = [ df[df[\"Gender\"] == \"F\"].sample(sample_size, replace = True)[\"Purchase\"].mean()  for i in range(iterations)]"
      ],
      "metadata": {
        "id": "uIAAVaIgcwxh"
      },
      "execution_count": 133,
      "outputs": []
    },
    {
      "cell_type": "code",
      "source": [
        "print(male_sample_df)"
      ],
      "metadata": {
        "colab": {
          "base_uri": "https://localhost:8080/"
        },
        "id": "gKlEvY6ydSCm",
        "outputId": "31825b5d-9427-44b9-b358-08930a7ff46f"
      },
      "execution_count": 135,
      "outputs": [
        {
          "output_type": "stream",
          "name": "stdout",
          "text": [
            "[9396.07525, 9334.556875, 9470.165875, 9358.634625, 9407.0615, 9415.607375, 9485.143, 9415.05275, 9523.1475, 9522.016875, 9355.557, 9396.37825, 9433.41925, 9448.44125, 9403.481, 9512.245375, 9505.627, 9521.05225, 9438.59425, 9385.84725, 9346.928625, 9399.899375, 9549.6265, 9489.6, 9482.5885, 9457.559125, 9481.76625, 9475.979, 9474.261375, 9465.660875, 9453.465, 9490.767875, 9505.700125, 9424.114375, 9415.39475, 9519.982875, 9281.834375, 9366.84025, 9434.965375, 9422.392, 9551.53625, 9472.110375, 9440.235, 9408.361625, 9428.8475, 9321.653875, 9433.18575, 9481.260375, 9432.333, 9448.19375, 9373.521375, 9343.7535, 9439.6245, 9451.152, 9372.051875, 9315.922375, 9425.36, 9598.56625, 9532.516875, 9414.538875, 9414.141625, 9420.98925, 9440.318875, 9321.839125, 9382.01725, 9426.87375, 9431.5345, 9520.09675, 9408.927, 9425.7455, 9439.211, 9443.244875, 9536.318375, 9386.294375, 9479.9735, 9474.62425, 9460.87075, 9463.765, 9442.972875, 9378.96925, 9413.393, 9443.58725, 9477.181875, 9474.20425, 9433.828875, 9488.696375, 9464.945875, 9400.470625, 9447.039, 9472.866375, 9412.393, 9411.414, 9402.3035, 9502.36975, 9434.177125, 9385.341, 9391.19, 9451.00625, 9323.69525, 9450.396, 9405.40875, 9366.849875, 9409.0615, 9425.5905, 9495.652625, 9489.28475, 9556.763, 9348.191375, 9389.171625, 9422.1455, 9356.826125, 9372.781875, 9499.647375, 9339.1165, 9498.928875, 9491.262375, 9439.281125, 9331.086125, 9430.10575, 9470.113125, 9414.410375, 9387.508, 9387.03275, 9470.709625, 9442.92625, 9432.389875, 9462.41675, 9469.501, 9448.867, 9437.8495, 9317.8385, 9473.51725, 9373.481125, 9473.055125, 9454.027375, 9468.65275, 9363.89575, 9409.70025, 9421.7175, 9423.9925, 9430.941, 9346.005625, 9416.905625, 9534.66025, 9471.154, 9485.90525, 9436.17275, 9474.344625, 9500.631125, 9363.07075, 9370.84425, 9412.396625, 9383.716375, 9366.454, 9473.1645, 9384.933125, 9475.746875, 9426.524625, 9464.132625, 9351.225625, 9391.405875, 9502.120875, 9401.475625, 9385.17575, 9417.287, 9460.11375, 9429.840375, 9409.147, 9474.922875, 9470.4805, 9507.1045, 9406.455125, 9399.121125, 9454.12225, 9421.847625, 9587.846375, 9386.60075, 9375.477125, 9395.570625, 9412.8485, 9428.375375, 9426.150375, 9421.996375, 9300.482125, 9394.415, 9417.396375, 9392.038625, 9350.745, 9426.117, 9364.28975, 9446.7275, 9454.2015, 9413.605125, 9399.438125, 9447.6975, 9489.286375, 9467.139375, 9397.11975, 9459.548375, 9413.145875, 9482.613, 9435.38, 9456.0975, 9563.964625, 9423.530375, 9445.813625, 9501.489375, 9384.247625, 9292.15025, 9411.5255, 9459.670875, 9401.650875, 9418.381, 9526.77825, 9529.233375, 9498.6235, 9473.578625, 9426.982625, 9564.0225, 9479.412875, 9360.971625, 9449.82475, 9309.291375, 9398.992125, 9390.7875, 9394.639375, 9378.7245, 9348.087, 9439.510625, 9419.97, 9392.193625, 9546.61425, 9498.548125, 9463.362, 9395.038, 9519.973125, 9448.066, 9464.2985, 9443.593, 9290.69975, 9413.0275, 9451.707, 9314.803125, 9408.599375, 9425.767375, 9502.867125, 9310.85675, 9526.0245, 9397.271875, 9482.345, 9428.96525, 9433.834375, 9465.104875, 9438.296625, 9458.94725, 9435.425, 9412.71525, 9491.932625, 9482.1415, 9414.215875, 9475.778, 9486.756875, 9401.602875, 9424.50075, 9455.476375, 9456.202375, 9430.52475, 9414.817875, 9442.48825, 9456.421, 9532.176, 9476.209125, 9466.676, 9390.832125, 9391.657625, 9527.747, 9459.682125, 9382.964625, 9465.11625, 9401.97, 9392.925125, 9426.095375, 9439.810875, 9508.963625, 9387.433625, 9491.5065, 9423.805875, 9501.07175, 9443.784125, 9484.821875, 9492.091375, 9459.120375, 9464.439875, 9479.27925, 9423.454625, 9521.769625, 9479.33725, 9517.756875, 9467.662875, 9453.059375, 9524.98175, 9513.619625, 9450.0195, 9370.121, 9471.226, 9450.1305, 9431.956125, 9369.377375, 9531.17475, 9604.175875, 9493.638, 9410.812375, 9442.944125, 9468.6605, 9449.85725, 9364.899875, 9486.515, 9434.70975, 9422.05425, 9406.514, 9477.12625, 9502.707375, 9456.50875, 9400.987, 9513.25875, 9371.587375, 9452.187375, 9496.464875, 9413.158625, 9420.01225, 9452.139875, 9411.787625, 9271.964, 9395.713, 9514.718125, 9517.258875, 9369.737, 9450.978125, 9412.56625, 9481.245, 9398.49025, 9372.353875, 9391.421125, 9418.698125, 9455.192875, 9429.213625, 9430.737625, 9539.17125, 9438.65525, 9396.0545, 9399.777875, 9476.152375, 9384.194125, 9423.5835, 9435.13575, 9398.341375, 9417.282, 9470.296625, 9417.110375, 9468.792375, 9396.601125, 9395.47425, 9354.165, 9271.741875, 9407.308625, 9444.55575, 9470.528, 9387.197875, 9363.743625, 9390.705625, 9415.1515, 9560.278625, 9501.55775, 9458.51625, 9438.129125, 9373.77775, 9451.187125, 9454.199125, 9519.492875, 9414.2455, 9453.827375, 9368.79625, 9414.070125, 9490.5005, 9533.75575, 9296.874, 9485.8245, 9555.5645, 9444.45075, 9344.71925, 9473.313, 9460.112, 9559.70175, 9528.546, 9585.4145, 9508.478875, 9464.915125, 9494.496875, 9369.70425, 9493.9015, 9421.60175, 9346.297625, 9450.303375, 9433.764125, 9427.539, 9439.6535, 9398.332125, 9485.91625, 9460.293375, 9352.364125, 9465.163875, 9427.0535, 9468.961875, 9433.556375, 9492.42825, 9370.59125, 9443.284, 9469.213, 9272.605125, 9539.356, 9502.668875, 9451.948125, 9305.03025, 9401.397125, 9492.26575, 9425.08125, 9448.030875, 9416.886875, 9461.678, 9415.0975, 9484.783375, 9402.15775, 9394.202125, 9333.42225, 9562.307125, 9469.5145, 9429.571375, 9372.687625, 9416.796625, 9407.892125, 9313.347625, 9382.10275, 9453.91375, 9470.9605, 9525.531375, 9504.608375, 9513.807875, 9396.459125, 9494.329875, 9516.0525, 9498.07825, 9434.031875, 9424.7145, 9372.17025, 9364.436125, 9390.280375, 9404.164875, 9504.185125, 9465.94875, 9392.027, 9405.216125, 9432.260375, 9378.0275, 9429.36025, 9526.88375, 9476.518125, 9428.77025, 9386.851625, 9329.663625, 9557.874875, 9426.695, 9367.495875, 9476.275375, 9471.40125, 9428.142875, 9538.7565, 9522.277375, 9498.01625, 9369.965125, 9521.812, 9450.42425, 9412.31625, 9405.2755, 9470.839875, 9460.33475, 9460.68875, 9331.021125, 9465.35, 9403.88075, 9487.707125, 9378.610125, 9427.2975, 9336.89975, 9298.82125, 9446.732125, 9449.647375, 9448.914, 9474.7, 9431.937625, 9412.199875, 9427.21575, 9550.3375, 9418.68425, 9393.51225, 9440.36375, 9497.529625, 9381.918375, 9458.214875, 9427.194375, 9453.829625, 9386.41775, 9384.62075, 9494.971625, 9438.960875, 9419.265, 9426.284, 9387.71575, 9535.433875, 9351.28475, 9541.074375, 9532.63625, 9489.1505, 9545.28925, 9489.99725, 9384.5795, 9598.60175, 9349.444, 9461.17425, 9468.084125, 9465.922, 9359.49125, 9447.210375, 9384.9565, 9425.87925, 9341.594125, 9315.847375, 9419.3655, 9470.184875, 9522.888, 9490.49475, 9418.444375, 9509.175125, 9439.42575, 9465.8395, 9340.870625, 9483.067375, 9315.440375, 9557.35775, 9523.58275, 9450.160625, 9429.464, 9392.94025, 9367.532875, 9476.3285, 9440.70075, 9489.92875, 9434.259625, 9459.0735, 9441.35825, 9426.26225, 9487.93675, 9463.56275, 9467.44025, 9498.887875, 9435.576125, 9400.1305, 9410.37825, 9404.4225, 9448.192625, 9356.856125, 9413.484, 9393.396375, 9535.64, 9415.21225, 9387.411, 9381.332, 9459.6495, 9469.164, 9427.64025, 9467.152375, 9404.03125, 9521.155625, 9446.137375, 9381.91375, 9427.90675, 9436.608125, 9404.4805, 9470.20175, 9354.449625, 9346.115125, 9473.90325, 9484.631375, 9448.860875, 9485.945, 9430.2275, 9432.250625, 9466.335875, 9402.79375, 9450.176625, 9524.063375, 9464.27775, 9383.168375, 9416.96225, 9407.345875, 9434.7915, 9442.27975, 9263.875875, 9536.79475, 9381.434625, 9424.812375, 9355.746375, 9400.93425, 9486.488875, 9437.535875, 9499.883125, 9381.300125, 9524.469875, 9419.43275, 9510.324625, 9408.9605, 9359.535125, 9429.016875, 9462.64, 9475.4125, 9422.266625, 9458.066, 9483.034625, 9438.984125, 9450.789625, 9461.183625, 9319.648875, 9483.590875, 9307.487625, 9541.378125, 9478.78425, 9576.48, 9345.578375, 9452.420625, 9517.868625, 9407.676, 9396.435625, 9441.612625, 9448.616, 9458.44725, 9450.258, 9431.404375, 9333.29525, 9367.758625, 9361.262375, 9449.15375, 9410.28275, 9379.2105, 9438.746, 9463.488375, 9432.29175, 9400.72225, 9519.656875, 9400.331875, 9372.2805, 9354.717125, 9490.826375, 9441.9945, 9464.339625, 9490.606625, 9412.026, 9508.227125, 9430.657, 9407.25225, 9354.695125, 9361.3125, 9454.840625, 9468.807625, 9476.576125, 9425.148375, 9439.407, 9451.26225, 9523.776875, 9375.1595, 9411.919125, 9444.003625, 9496.53475, 9436.611875, 9396.74025, 9462.5095, 9433.33425, 9293.45175, 9412.168625, 9442.36075, 9422.555375, 9475.56125, 9396.948, 9367.152375, 9376.589, 9336.363375, 9435.687375, 9393.569, 9431.790875, 9395.7695, 9421.662125, 9402.693875, 9397.876, 9327.369, 9483.368375, 9394.271, 9396.787625, 9326.55625, 9460.130875, 9408.18075, 9421.71625, 9428.72275, 9417.992375, 9406.4755, 9434.334, 9389.547, 9407.872125, 9415.253625, 9331.06075, 9419.85625, 9460.992125, 9531.406875, 9448.2205, 9446.74975, 9458.216125, 9426.35175, 9508.955, 9395.311, 9466.711875, 9521.66575, 9497.6215, 9356.6305, 9511.784, 9368.8875, 9388.09475, 9448.389, 9588.4635, 9516.959625, 9517.82025, 9418.76375, 9416.8985, 9502.239375, 9539.69425, 9460.8475, 9486.37125, 9344.28125, 9430.892625, 9467.74025, 9419.794, 9467.980625, 9414.37975, 9405.762, 9452.5895, 9408.700625, 9372.20725, 9500.235875, 9540.487125, 9425.385, 9409.331375, 9500.73, 9388.876625, 9485.59675, 9526.26925, 9407.953375, 9487.8875, 9392.600625, 9472.48225, 9494.09075, 9356.866375, 9453.57, 9412.954875, 9410.6645, 9397.643375, 9398.383375, 9454.291875, 9414.6585, 9422.5665, 9447.58325, 9432.452375, 9386.363125, 9414.511, 9419.99225, 9365.58425, 9334.781625, 9339.443875, 9462.583625, 9564.4695, 9516.58175, 9470.830625, 9570.176875, 9447.24725, 9492.073375, 9453.354875, 9468.873125, 9519.6365, 9437.231375, 9368.4015, 9549.8605, 9529.241375, 9550.12, 9358.848875, 9453.0425, 9398.54475, 9470.19025, 9488.160625, 9335.429375, 9287.312875, 9423.821, 9485.09675, 9439.418, 9476.18375, 9426.22325, 9421.86075, 9422.19525, 9448.173125, 9465.0095, 9480.26425, 9436.0035, 9470.406875, 9397.023, 9434.84275, 9529.511875, 9389.648875, 9357.962875, 9473.0195, 9319.7525, 9440.781875, 9335.064, 9400.247375, 9433.97025, 9474.945625, 9476.9575, 9337.51625, 9477.463125, 9471.156375, 9431.053125, 9448.46725, 9387.18825, 9473.079125, 9445.094875, 9439.97, 9418.611625, 9415.818375, 9469.370875, 9366.962125, 9525.537, 9389.76475, 9430.7825, 9472.867375, 9440.399125, 9510.26825, 9452.1235, 9507.120125, 9415.34425, 9445.70575, 9472.967375, 9493.4335, 9416.28375, 9333.1135, 9581.345375, 9437.92625, 9543.411875, 9391.014125, 9561.54125, 9435.064625, 9367.8395, 9364.608, 9407.081, 9499.805375, 9401.188625, 9472.24275, 9445.0075, 9536.11125, 9493.73175, 9446.35725, 9449.181375, 9416.342125, 9434.553875, 9467.713375, 9409.117625, 9514.107375, 9462.984, 9497.08725, 9490.39275, 9490.090125, 9448.805125, 9426.91975, 9381.549375, 9412.14125, 9342.118625, 9466.93825, 9490.148875, 9418.041875, 9380.6475, 9445.05975, 9427.210375, 9465.45775, 9438.34975, 9375.778, 9481.073625, 9437.68225, 9527.9295, 9434.085, 9473.218875, 9436.08175, 9497.757875, 9475.352875, 9543.046375, 9462.2795, 9376.67425, 9423.85475, 9457.71225, 9308.228625, 9404.308375, 9404.880375, 9514.1715, 9550.269125, 9226.176, 9504.0465, 9479.68525, 9434.432375, 9503.095, 9493.697, 9476.41925, 9442.338625, 9328.578375, 9414.855125, 9514.844125, 9435.457875, 9438.582875, 9526.6385, 9462.541, 9564.46175, 9295.410125, 9467.37125, 9512.360875, 9378.681375, 9322.71625, 9433.80725, 9403.202, 9567.513375, 9424.633375, 9367.274875, 9489.32825, 9489.318375, 9471.302125, 9397.3805, 9402.229125, 9498.239125, 9502.883125, 9535.21275, 9449.956, 9419.94425, 9427.676125, 9425.691125, 9355.971125, 9402.66075, 9364.504375, 9381.907625, 9480.8375, 9399.970875, 9454.625625, 9383.000375, 9453.371125, 9514.157875, 9520.129, 9396.528625, 9498.209625, 9475.187875, 9508.505875, 9508.6775, 9403.216375, 9473.866, 9449.858125, 9411.89725, 9373.434, 9430.655875, 9417.27125, 9480.03975, 9439.681, 9424.13825, 9491.45725, 9418.016875, 9409.3325, 9472.86275, 9322.616125, 9457.798625, 9427.319875, 9396.13125, 9371.71775, 9371.1135, 9462.997875, 9385.59825, 9483.694125, 9442.4935, 9449.2415, 9492.81075, 9402.6085, 9461.0515, 9465.695, 9410.409375, 9455.94725, 9504.931375, 9479.983375, 9471.5845, 9526.117375, 9489.43175, 9454.08, 9644.208375, 9527.76025, 9348.401875, 9486.670125, 9396.36225, 9497.310875, 9337.47775, 9387.033875, 9389.888375, 9337.958625, 9464.7785, 9413.035125, 9468.531625, 9508.206, 9501.53425, 9295.9785, 9428.03, 9449.57875, 9549.377625, 9447.763625, 9424.859375, 9457.70975, 9411.771375, 9359.94075, 9374.9235, 9446.757875, 9374.926375, 9407.840625, 9496.73525, 9420.469125, 9488.666625, 9350.0395, 9364.134875, 9471.881875, 9444.081, 9449.964625, 9368.726125, 9432.465, 9522.694375, 9353.434625, 9299.57375, 9343.462375, 9388.559125, 9445.464125, 9450.10375, 9371.17925, 9503.983625, 9390.791, 9354.477125, 9417.1525, 9410.984125, 9340.501625, 9401.853375, 9359.978375, 9381.614625, 9418.969875, 9380.172375, 9507.82125, 9363.620625, 9450.5925, 9413.27175, 9419.080625, 9492.08375, 9375.7945, 9441.520625, 9434.093625, 9412.552125, 9477.06875, 9429.5625, 9566.769625, 9424.517, 9353.234625, 9354.224125, 9348.467, 9430.114125, 9553.018, 9334.49975, 9507.201625, 9329.626125, 9521.04825, 9481.925375, 9422.330375, 9448.377125, 9455.9675, 9449.300875, 9462.3285, 9418.24075, 9465.460625, 9428.07675, 9355.931125, 9351.745125, 9429.983375, 9399.9205, 9440.364625, 9357.10675, 9484.556375, 9473.253375, 9596.6665, 9506.074375, 9341.934875, 9350.646, 9324.84975, 9488.88425, 9425.145, 9468.472, 9393.67175, 9408.039875, 9414.772875, 9487.623625, 9497.839625, 9527.790375, 9451.535375, 9464.462125, 9539.552, 9363.570375, 9461.612875, 9410.913875, 9356.058375, 9413.766, 9468.698875, 9451.854375, 9408.044, 9393.207, 9535.1075, 9458.30325, 9310.754125, 9487.720875, 9470.690375, 9504.67275, 9382.089125, 9442.97825, 9355.725125, 9344.62, 9428.945625, 9425.7665, 9426.036375, 9466.60425, 9404.441375, 9437.428, 9409.78725, 9560.115875, 9388.926875, 9411.199125, 9351.020375, 9379.371125, 9398.129, 9430.928, 9430.651125, 9419.293125, 9454.1635, 9358.278625, 9386.200375, 9437.31825, 9463.549, 9412.21975, 9408.165375, 9428.83375, 9367.3565, 9375.9115, 9442.749125, 9514.478375, 9497.131, 9403.635, 9395.278, 9433.315625, 9472.285875, 9388.00425, 9456.55925, 9443.929125, 9361.438375, 9477.258375, 9398.04225, 9431.758625, 9409.61375, 9372.570125, 9461.9835, 9390.316625, 9455.321, 9408.02075, 9450.56225, 9409.117625, 9468.504, 9472.106, 9455.484125, 9520.045625, 9426.611625, 9353.126625, 9417.682625, 9458.281625, 9340.392125, 9353.764625, 9428.874125, 9442.8995, 9549.789125, 9477.741625, 9437.9505, 9477.543125, 9383.992125, 9370.3245, 9407.982125, 9456.470875, 9416.539125, 9329.59825, 9474.007625, 9535.051875, 9463.098125, 9477.88875, 9468.3215, 9289.944375, 9428.72625, 9515.45575, 9413.479625, 9408.89525, 9443.177625, 9493.803, 9507.708625, 9382.618, 9392.821625, 9505.172875, 9387.5365, 9509.639125, 9568.8695, 9352.701125, 9485.379875, 9437.112375, 9454.50325, 9501.289375, 9406.098375, 9401.4275, 9462.808375, 9513.653875, 9404.593125, 9368.244375, 9457.96925, 9389.36825, 9540.8595, 9422.982125, 9312.13175, 9499.378, 9267.146, 9346.539125, 9369.701375, 9430.8155, 9475.83625, 9365.661875, 9474.587375, 9552.5065, 9371.215875, 9414.89175, 9465.13875, 9399.35225, 9337.705625, 9379.551125, 9533.110375, 9417.399, 9369.812625, 9440.878875, 9360.88675, 9397.858, 9485.863, 9403.184, 9384.553625, 9500.266625, 9340.7725, 9315.37425, 9546.5595, 9462.633375, 9477.187375, 9362.454625, 9436.56775, 9492.019625, 9521.67425, 9474.272375, 9446.818625, 9578.783125, 9482.16, 9384.3395, 9425.8615, 9354.84275, 9456.6105, 9496.466375, 9399.802375, 9512.71725, 9504.874875, 9368.58325, 9331.116625, 9281.553625, 9338.975125, 9397.6415, 9450.316875, 9409.425125, 9512.067875, 9388.881375, 9343.0455, 9401.22825, 9500.840375, 9394.933125, 9443.493, 9454.217125, 9412.690375, 9453.031625, 9435.9555, 9432.067875, 9442.7905, 9438.63625, 9459.574375, 9374.979625, 9353.031625, 9439.80625, 9487.134875, 9505.753625, 9411.37575, 9461.552, 9436.3725, 9389.7655, 9359.09475, 9363.801625, 9435.191375, 9363.26475, 9492.5515, 9496.577875, 9375.828, 9521.023875, 9393.740125, 9360.67475, 9515.376375, 9483.329125, 9346.788375, 9467.472875, 9375.02375, 9418.062375, 9477.268875, 9497.421875, 9476.713625, 9440.2245, 9434.0415, 9404.609, 9398.365125, 9462.54625, 9392.64225, 9478.45625, 9371.15425, 9396.003875, 9352.62475, 9449.860125, 9500.56125, 9466.99225, 9379.119375, 9460.723125, 9473.66625, 9429.653375, 9548.744375, 9408.364, 9408.263, 9410.684375, 9439.526625, 9527.65875, 9491.644875, 9449.88, 9365.0985, 9406.751375, 9494.281, 9516.5665, 9416.980625, 9416.733625, 9371.347875, 9503.65275, 9434.633125, 9433.587375, 9425.240125, 9430.2525, 9457.598375, 9458.47725, 9430.45525, 9320.06375, 9541.578, 9464.928875, 9462.790375, 9468.3335, 9522.04625, 9513.654125, 9407.15925, 9378.396, 9440.0845, 9404.1535, 9496.981375, 9345.01775, 9471.06125, 9428.34775, 9399.990625, 9432.27775, 9482.349875, 9523.325125, 9428.69625, 9453.707375, 9565.9635, 9558.302, 9617.284, 9416.301625, 9496.00675, 9311.506375, 9482.204875, 9416.800875, 9478.715625, 9533.313125, 9398.01525, 9477.9495, 9409.63275, 9347.047125, 9416.088625, 9494.845375, 9464.49875, 9402.762875, 9449.509625, 9313.56825, 9375.745125, 9450.504625, 9487.86175, 9376.49325, 9487.717375, 9394.481125, 9473.130125, 9532.131375, 9478.1105, 9382.550375, 9408.99325, 9371.634625, 9374.16675, 9441.29825, 9471.82025, 9414.475875, 9435.6555, 9432.356125, 9469.232125, 9456.470375, 9472.994, 9423.80275, 9462.089375, 9289.643, 9293.6125, 9394.6175, 9547.871625, 9420.145, 9495.441, 9366.55725, 9326.140625, 9382.1455, 9428.9075, 9338.098, 9544.5745, 9392.707375, 9424.459375, 9365.72575, 9360.690375, 9353.448125, 9479.197125, 9486.479, 9432.582125, 9393.11925, 9523.049125, 9391.53375, 9457.1565, 9452.60775, 9426.526875, 9380.166375, 9484.988375, 9470.988375, 9340.331625, 9472.848125, 9419.4905, 9401.5955, 9447.5225, 9483.96525, 9397.340625, 9417.067125, 9427.415375, 9386.473125, 9526.173625, 9376.779375, 9423.613375, 9389.444625, 9434.093125, 9441.23, 9445.044125, 9397.63075, 9460.437625, 9419.516625, 9414.773375, 9423.844125, 9373.714, 9434.871125, 9540.890875, 9389.50525, 9328.4615, 9443.749625, 9498.70325, 9448.4475, 9524.943375, 9499.06925, 9481.446625, 9336.362125, 9484.934875, 9493.0385, 9483.6765, 9430.536625, 9401.259375, 9444.04075, 9411.784125, 9410.170125, 9494.14025, 9400.10575, 9434.5075, 9446.595375, 9477.286875, 9457.485875, 9520.385, 9366.499875, 9366.548125, 9419.9205, 9420.191375, 9404.66125, 9397.9325, 9500.065125, 9501.373875, 9362.541375, 9452.5725, 9430.63475, 9502.1085, 9365.831875, 9407.955625, 9494.671375, 9460.74425, 9407.299875, 9374.78825, 9516.01875, 9446.070875, 9478.45825, 9430.177875, 9389.36575, 9429.137125, 9455.619875, 9494.947375, 9457.84275, 9390.3615, 9372.064875, 9490.448375, 9413.045125, 9394.876875, 9465.576125, 9473.073125, 9413.710875, 9475.14225, 9510.089, 9437.5995, 9436.228375, 9590.712375, 9455.381, 9427.077125, 9429.897375, 9386.114875, 9340.598875, 9433.760125, 9441.821375, 9439.838375, 9289.7045, 9439.464, 9412.55075, 9367.0725, 9543.551125, 9398.7745, 9452.5505, 9404.18875, 9484.803, 9463.797875, 9527.657, 9365.9145, 9502.774875, 9490.693, 9486.54325, 9316.14175, 9555.424, 9396.474875, 9519.9615, 9431.516875, 9477.586875, 9499.401875, 9400.00425, 9437.9525, 9498.543875, 9377.42725, 9472.50175, 9468.21525, 9456.5615, 9469.602125, 9452.934, 9411.511625, 9346.00375, 9394.885, 9430.152625, 9489.811625, 9469.711125, 9444.53275, 9399.647625, 9412.114125, 9462.491, 9484.24275, 9361.539625, 9447.553875, 9430.423125, 9336.963625, 9423.047375, 9456.261125, 9401.939125, 9358.35225, 9418.622125, 9435.602875, 9400.04275, 9424.673375, 9518.530125, 9427.003, 9527.5275, 9444.74025, 9459.38825, 9434.8795, 9275.236875, 9443.892375, 9435.804625, 9465.7555, 9468.850375, 9494.7615, 9532.643375, 9457.757, 9472.57575, 9449.698, 9457.604375, 9460.133875, 9406.746875, 9457.815625, 9344.354375, 9446.03375, 9392.191125, 9385.57475, 9349.058875, 9467.028875, 9367.799625, 9418.1475, 9419.823625, 9399.988625, 9460.0735, 9388.822125, 9596.088875, 9367.406875, 9402.154, 9398.29875, 9343.109375, 9498.434125, 9508.8795, 9526.689, 9379.964125, 9476.517125, 9444.944375, 9398.079625, 9380.57425, 9508.796875, 9481.992875, 9460.824375, 9497.880375, 9380.182375, 9462.713875, 9446.186375, 9393.592625, 9429.168875, 9332.503, 9418.1845, 9411.97125, 9368.871875, 9354.33625, 9404.074125, 9512.91325, 9459.816375, 9432.3175, 9503.933875, 9497.726875, 9397.1765, 9431.268, 9375.2735, 9405.99825, 9342.27175, 9389.3685, 9333.125125, 9436.37925, 9438.381125, 9428.338, 9437.680875, 9438.054875, 9400.248875, 9370.159375, 9398.979, 9483.44425, 9446.27975, 9459.064125, 9460.309125, 9363.82675, 9431.5975, 9495.82925, 9394.6635, 9332.359375, 9430.9765, 9360.492, 9440.99175, 9469.916375, 9466.58875, 9441.535375, 9419.25025, 9326.2645, 9448.92325, 9536.8675, 9486.351875, 9347.09925, 9491.940125, 9527.5455, 9454.0265, 9462.877875, 9423.99675, 9640.04075, 9399.85, 9397.551125, 9505.120375, 9535.632625, 9317.234125, 9462.028, 9460.24175, 9429.454625, 9375.83, 9500.986875, 9501.249375, 9379.316125, 9419.13975, 9537.978875, 9449.75925, 9361.71625, 9395.4855, 9426.601875, 9495.6425, 9395.20875, 9404.83625, 9398.067625, 9382.615625, 9409.736875, 9435.186, 9389.949875, 9404.66225, 9437.321375, 9384.007125, 9359.8505, 9421.8705, 9448.231125, 9349.873375, 9464.48825, 9525.39425, 9388.60725, 9484.917, 9388.757875, 9470.640125, 9447.513875, 9453.263125, 9421.12375, 9357.638, 9456.248375, 9462.376125, 9388.588, 9401.7075, 9369.324125, 9434.026875, 9379.29475, 9430.246375, 9490.410375, 9491.21975, 9484.788, 9431.011125, 9444.12475, 9278.046625, 9361.881625, 9416.932375, 9511.825, 9286.340625, 9376.769, 9472.27825, 9394.316625, 9379.020625, 9481.536625, 9453.646125, 9425.65425, 9460.434125, 9515.08875, 9379.201625, 9445.491625, 9352.858, 9406.814875, 9452.7895, 9406.894375, 9486.930625, 9467.245875, 9494.2665, 9396.249125, 9516.022875, 9534.1315, 9520.3275, 9420.8875, 9394.660625, 9455.221625, 9411.4, 9410.118125, 9340.092875, 9464.363375, 9404.576375, 9502.322375, 9358.123875, 9315.813375, 9432.01975, 9515.86375, 9467.091, 9488.703375, 9391.59825, 9468.2375, 9507.271625, 9519.423125, 9399.949875, 9490.09925, 9370.2285, 9474.511, 9443.973, 9420.202375, 9419.646, 9523.478875, 9381.719, 9467.133125, 9425.833, 9377.668125, 9472.754625, 9562.829, 9474.4855, 9506.63875, 9339.646, 9422.072125, 9484.831875, 9500.5555, 9417.401625, 9414.5905, 9406.6865, 9542.5485, 9472.492875, 9462.668875, 9456.779375, 9371.433625, 9404.650125, 9428.091625, 9536.483125, 9454.16, 9588.63625, 9497.9525, 9500.24325, 9294.85725, 9430.264125, 9382.909625, 9407.419, 9499.22825, 9514.1835, 9439.492875, 9422.019375, 9500.242625, 9465.629875, 9472.137875, 9618.157875, 9350.88775, 9457.96625, 9415.962625, 9386.189375, 9495.57325, 9493.201375, 9370.57225, 9417.8415, 9486.68375, 9353.02625, 9402.916375, 9367.987625, 9434.562375, 9437.34475, 9315.6005, 9331.8915, 9408.805, 9269.648, 9489.682375, 9458.506625, 9519.673125, 9447.497875, 9435.50775, 9477.886375, 9501.1705, 9481.131125, 9468.118875, 9519.6915, 9417.596125, 9448.86375, 9346.178625, 9447.42575, 9517.62075, 9409.41, 9507.415125, 9442.5265, 9378.1255, 9484.433, 9451.926875, 9465.7765, 9392.50475, 9438.62025, 9478.217875, 9435.98975, 9449.95475, 9438.664375, 9383.3485, 9543.8135, 9442.444375, 9423.78225, 9562.4215, 9396.980625, 9434.028, 9454.712, 9386.077375, 9511.49575, 9304.51875, 9395.202125, 9411.99775, 9381.42425, 9388.766875, 9531.217, 9406.15575, 9393.994375, 9507.647125, 9517.41, 9314.0665, 9472.8165, 9409.572625, 9374.820375, 9481.147, 9447.830625, 9468.66275, 9440.7635, 9485.74, 9531.3495, 9518.2235, 9499.553, 9526.572375, 9480.7925, 9390.428875, 9321.08125, 9486.1225, 9405.65325, 9504.9545, 9418.2165, 9531.047625, 9469.923875, 9486.37825, 9462.774375, 9506.545, 9441.89375, 9362.911125, 9448.9125, 9349.358125, 9411.639875, 9433.06525, 9410.612125, 9453.486875, 9469.311375, 9402.671125, 9431.591875, 9506.0625, 9492.665, 9419.875625, 9449.007875, 9407.260375, 9518.73475, 9364.37825, 9466.12575, 9345.536375, 9487.12575, 9406.0445, 9483.86075, 9553.1875, 9392.30575, 9406.337125, 9437.395625, 9475.646125, 9406.7965, 9598.449625, 9604.998375, 9415.437125, 9427.778, 9450.071125, 9399.7765, 9390.57375, 9466.141625, 9454.910875, 9507.452375, 9523.3395, 9450.61825, 9416.6165, 9510.657625, 9472.171375, 9502.32725, 9500.918875, 9429.134, 9471.797375, 9406.632875, 9399.345125, 9545.587125, 9488.7695, 9506.502625, 9447.01525, 9402.543, 9483.414375, 9387.698875, 9438.88425, 9410.4235, 9413.597625, 9550.61725, 9465.37175, 9474.550375, 9478.47525, 9482.022, 9485.942875, 9454.31275, 9483.523625, 9504.51925, 9431.487625, 9457.28825, 9560.323, 9452.886, 9472.69375, 9483.069375, 9518.543375, 9490.513, 9492.833125, 9410.383375, 9455.139375, 9461.1975, 9364.5805, 9409.208125, 9467.119375, 9386.283, 9378.88, 9354.4865, 9407.423625, 9463.779375, 9498.777625, 9382.001875, 9464.734625, 9410.888, 9312.34475, 9371.506875, 9456.417375, 9454.228, 9326.746375, 9403.29975, 9543.524, 9512.072875, 9437.49625, 9454.60875, 9460.352625, 9392.061375, 9471.31175, 9481.60975, 9442.20125, 9414.904875, 9458.334375, 9417.2705, 9508.234625, 9401.588875, 9508.41075, 9543.71675, 9433.271625, 9441.980625, 9530.6595, 9350.068375, 9508.238875, 9342.105125, 9424.901, 9419.401, 9519.05775, 9524.87775, 9424.623625, 9495.63675, 9418.36325, 9494.959875, 9506.794125, 9432.3995, 9372.899875, 9367.392, 9387.6115, 9381.295125, 9332.21475, 9359.368125, 9416.099375, 9315.356125, 9403.996375, 9445.5965, 9353.97025, 9449.92875, 9306.169625, 9471.02725, 9390.505375, 9372.853875, 9428.1335, 9487.924375, 9518.8085, 9395.27125, 9404.393625, 9412.2965, 9354.616125, 9354.97675, 9440.554625, 9443.58475, 9462.507125, 9416.0275, 9375.347875, 9440.873875, 9390.206875, 9410.97475, 9478.36625, 9392.445625, 9357.134625, 9356.9495, 9371.7925, 9348.576875, 9472.85025, 9497.461375, 9388.68225, 9515.81625, 9495.339125, 9334.07625, 9448.731875, 9480.655625, 9464.80675, 9423.47, 9361.200125, 9510.87275, 9385.443375, 9385.84175, 9501.60225, 9446.031125, 9527.830125, 9525.06275, 9438.9275, 9453.195, 9327.5105, 9492.03825, 9439.697875, 9376.132, 9510.37925, 9306.95075, 9441.18975, 9423.501625, 9440.30175, 9433.37, 9317.561125, 9400.171125, 9487.16325, 9353.086625, 9447.594875, 9571.583125, 9497.71025, 9465.318, 9388.66325, 9483.136375, 9438.479, 9343.293875, 9384.035125, 9474.103, 9352.3125, 9401.551, 9411.020375, 9430.664375, 9508.53075, 9397.206625, 9405.112625, 9498.90675, 9426.247875, 9455.930625, 9433.51375, 9439.283, 9426.923125, 9456.130625, 9439.615, 9404.547, 9374.64175, 9448.4605, 9358.369375, 9459.210375, 9362.95175, 9487.417375, 9495.24475, 9563.78575, 9373.775, 9478.48325, 9399.449375, 9473.425625, 9368.11025, 9476.832875, 9537.57975, 9396.999, 9432.380375, 9381.675, 9432.340125, 9445.334625, 9489.626625, 9464.262125, 9449.88575, 9429.49475, 9372.332375, 9417.331125, 9464.1285, 9367.146125, 9414.786375, 9516.85075, 9419.878375, 9427.415875, 9287.853375, 9377.717875, 9444.873125, 9313.489375, 9499.041375, 9460.594625, 9411.67425, 9437.253875, 9453.689125, 9330.598875, 9429.7695, 9454.026125, 9463.679625, 9448.972125, 9464.12675, 9483.954375, 9395.447625, 9461.42275, 9489.38575, 9391.997625, 9349.7795, 9479.2485, 9476.03025, 9440.26475, 9520.486375, 9446.882125, 9482.580375, 9456.242, 9497.520125, 9498.191375, 9504.721125, 9322.407625, 9375.055625, 9462.718125, 9515.6365, 9504.225375, 9460.430125, 9441.813625, 9528.070625, 9417.637125, 9575.7815, 9493.372875, 9445.757375, 9410.513875, 9431.315375, 9471.436375, 9488.044375, 9408.545875, 9421.187625, 9484.7985, 9572.009, 9464.52525, 9393.52825, 9465.476875, 9404.067875, 9460.29325, 9371.013, 9371.66, 9446.983375, 9398.18875, 9535.89875, 9472.188125, 9487.430125, 9479.339625, 9489.203, 9454.063625, 9365.7725, 9564.473125, 9418.684625, 9397.097875, 9392.068125, 9459.77275, 9365.9095, 9371.0445, 9491.12325, 9546.891125, 9428.240375, 9409.97225, 9370.661, 9385.402125, 9480.440375, 9388.2065, 9412.115625, 9414.55875, 9420.68325, 9403.099625, 9443.02375, 9466.282, 9441.66525, 9369.0405, 9477.254125, 9501.228625, 9511.950625, 9432.561, 9418.162125, 9487.4915, 9387.821, 9343.092625, 9570.552, 9457.803375, 9481.8085, 9389.64425, 9519.761625, 9465.343375, 9443.952625, 9377.4515, 9458.141125, 9375.889, 9420.75275, 9370.878625, 9487.0045, 9360.1625, 9356.63175, 9490.32575, 9418.28875, 9535.30775, 9540.046625, 9491.294625, 9481.10375, 9509.020375, 9477.38425, 9628.640625, 9509.084375, 9406.9055, 9465.660625, 9430.8525, 9417.049625, 9445.2555, 9397.540125, 9500.0765, 9362.63425, 9496.057375, 9410.89775, 9397.092, 9413.7455, 9351.441875, 9408.77425, 9484.3205, 9347.9935, 9438.771, 9465.858375, 9415.8175, 9508.999375, 9304.395375, 9457.497875, 9495.676375, 9412.401, 9336.216375, 9525.31475, 9398.706375, 9451.140875, 9417.38325, 9428.01525, 9471.554625, 9417.591, 9426.277875, 9402.670375, 9441.72875, 9470.732625, 9330.1485, 9362.889125, 9503.95925, 9482.946125, 9488.862, 9408.0705, 9532.449375, 9434.186375, 9443.568875, 9411.910625, 9388.28775, 9462.0875, 9518.95225, 9491.926875, 9362.796625, 9454.364, 9493.47925, 9430.917125, 9444.43325, 9323.837125, 9404.431, 9411.35725, 9418.31725, 9406.669375, 9556.343375, 9426.897, 9588.5355, 9426.54475, 9448.574625, 9436.802875, 9457.697625, 9461.938125, 9472.193375, 9393.52075, 9515.11575, 9532.20475, 9430.6235, 9368.51075, 9326.86425, 9398.36875, 9371.937625, 9412.682, 9438.7405, 9372.161875, 9448.465875, 9376.421875, 9441.25975, 9333.926875, 9319.45525, 9399.786375, 9528.76075, 9387.865125, 9468.93625, 9401.88925, 9493.010125, 9408.453875, 9431.86925, 9531.054, 9522.199875, 9355.07225, 9450.83425, 9532.465625, 9423.720375, 9406.266375, 9479.58, 9363.916375, 9458.065625, 9522.186125, 9363.560125, 9408.913875, 9425.935875, 9455.51675, 9472.2965, 9403.967625, 9417.299125, 9370.417, 9427.17, 9433.167125, 9363.523125, 9534.314125, 9449.906125, 9369.17225, 9501.1855, 9401.06225, 9436.492625, 9490.563875, 9320.373375, 9342.004125, 9491.400625, 9457.88275, 9397.7815, 9389.548625, 9448.49775, 9402.49525, 9516.502, 9450.31225, 9521.129125, 9466.473875, 9403.10675, 9327.422625, 9506.98675, 9473.92975, 9350.435375, 9408.18525, 9473.97725, 9364.046125, 9355.345625, 9407.23675, 9418.278125, 9464.417, 9493.029125, 9439.258625, 9518.950625, 9349.077875, 9362.059125, 9488.2475, 9382.676625, 9394.543625, 9417.253125, 9482.6735, 9413.160875, 9515.02875, 9498.608, 9465.52125, 9435.477625, 9406.77275, 9495.428625, 9401.411375, 9515.739625, 9410.563375, 9415.7765, 9419.315875, 9526.399875, 9469.58, 9592.78025, 9472.622125, 9444.28175, 9477.315625, 9398.437125, 9444.758, 9494.804125, 9574.138, 9621.574625, 9421.517875, 9419.7585, 9487.703875, 9371.64825, 9454.704625, 9405.22575, 9415.040125, 9220.2665, 9422.80275, 9471.528875, 9418.255875, 9464.921875, 9446.98775, 9420.840125, 9412.08925, 9427.38025, 9412.99025, 9413.718625, 9502.1925, 9333.9565, 9491.106625, 9422.70425, 9377.673, 9396.383125, 9428.181125, 9473.659375, 9465.557, 9447.118, 9495.332875, 9460.398875, 9369.1915, 9435.363375, 9397.58775, 9435.058625, 9444.461625, 9417.97675, 9468.78125, 9459.377875, 9402.262125, 9503.656875, 9513.709625, 9492.142, 9462.895625, 9601.54325, 9435.758, 9364.364875, 9515.488625, 9406.01175, 9565.945625, 9396.394, 9402.241125, 9496.865375, 9410.20975, 9511.3215, 9406.359875, 9387.723125, 9501.577125, 9406.1795, 9415.747875, 9312.88175, 9374.680125, 9430.001625, 9433.4085, 9445.7825, 9405.245375, 9362.7645, 9381.10875, 9482.251125, 9416.707125, 9480.375125, 9491.6945, 9350.85175, 9523.876, 9429.17125, 9524.53225, 9537.895375, 9447.7685, 9496.102625, 9465.691, 9403.651875, 9310.193875, 9437.693625, 9508.49775, 9432.799875, 9537.58775, 9449.297875, 9525.03325, 9425.858625, 9560.72025, 9361.563875, 9412.677875, 9507.84725, 9406.51075, 9435.424625, 9418.869125, 9398.987125, 9484.78325, 9553.3165, 9387.777375, 9478.572375, 9434.387125, 9448.92325, 9417.936375, 9394.4165, 9470.29825, 9525.671125, 9434.308, 9435.788125, 9513.0985, 9493.897875, 9379.9515, 9358.407, 9454.9425, 9460.4265, 9264.27525, 9414.281875, 9496.763375, 9514.448125, 9356.400375, 9463.185125, 9387.733625, 9472.177875, 9356.496375, 9435.431, 9501.536875, 9425.485625, 9481.291375, 9352.10275, 9359.7375, 9523.525375, 9418.7685, 9428.5425, 9389.9875, 9453.965125, 9440.597125, 9320.178625, 9457.640125, 9330.195375, 9398.921375, 9486.57, 9441.319125, 9521.830375, 9370.79225, 9296.7815, 9426.75175, 9365.339375, 9422.821375, 9461.418125, 9423.85375, 9443.006, 9429.231125, 9419.032125, 9370.602125, 9450.6565, 9369.087125, 9557.55725, 9490.36375, 9511.181, 9479.899125, 9410.736875, 9332.75925, 9494.796625, 9432.45475, 9355.728625, 9359.958, 9401.74, 9397.783625, 9324.621125, 9364.94025, 9421.914375, 9434.616125, 9388.764625, 9479.712625, 9470.9725, 9504.945125, 9492.9255, 9465.176, 9502.290375, 9538.341625, 9417.7725, 9442.234, 9418.457875, 9375.67125, 9525.497625, 9406.441375, 9406.29525, 9474.871875, 9451.472, 9355.398375, 9389.165625, 9457.584375, 9403.916625, 9354.74975, 9418.076875, 9378.035625, 9487.281125, 9453.598, 9458.65575, 9467.976, 9530.146125, 9470.57125, 9541.28025, 9429.779375, 9416.795875, 9440.74675, 9451.520625, 9403.70425, 9450.012875, 9424.063625, 9298.54725, 9483.318125, 9403.25525, 9398.334375, 9312.782625, 9366.63475, 9490.73375, 9427.858625, 9422.64325, 9420.5995, 9372.709875, 9461.783875, 9490.1565, 9492.635375, 9467.19875, 9467.494125, 9549.0515, 9463.478125, 9299.998125, 9440.483625, 9391.05625, 9359.0385, 9379.167875, 9442.184875, 9397.206125, 9482.47775, 9360.060375, 9435.776625, 9461.663875, 9427.055, 9353.02675, 9352.528125, 9410.909, 9371.817625, 9440.495, 9466.57175, 9454.1, 9454.260125, 9429.735625, 9401.64675, 9478.20725, 9494.561, 9482.60575, 9397.451625, 9408.16875, 9412.186, 9389.082875, 9329.80625, 9385.161125, 9417.74175, 9379.694, 9415.8425, 9572.37325, 9430.642875, 9510.782, 9513.858125, 9375.025875, 9380.2445, 9400.1625, 9387.7975, 9414.170375, 9380.778375, 9449.58575, 9400.10475, 9518.138625, 9559.617625, 9393.9045, 9520.52525, 9455.878375, 9473.073875, 9468.043125, 9412.318625, 9398.21, 9410.047625, 9475.608375, 9458.92275, 9455.838875, 9483.876, 9414.798, 9329.9, 9504.575125, 9505.92625, 9416.0535, 9495.52325, 9459.50675, 9350.34875, 9493.64075, 9547.730125, 9489.026625, 9472.958625, 9514.094875, 9391.8735, 9412.460875, 9432.57325, 9394.882, 9429.670125, 9383.5905, 9502.994875, 9435.419875, 9480.833375, 9423.248875, 9521.679875, 9381.276125, 9425.256875, 9425.6135, 9322.451125, 9444.64625, 9458.5145, 9407.68375, 9403.799625, 9456.344625, 9412.563875, 9483.58175, 9515.973375, 9501.90725, 9453.4555, 9430.263125, 9416.448125, 9396.558875, 9356.67525, 9482.37575, 9330.36975, 9432.667375, 9394.407, 9562.297125, 9414.811375, 9528.247875, 9441.352125, 9404.474625, 9405.92025, 9413.6565, 9482.274625, 9484.595625, 9401.196375, 9417.84625, 9466.474375, 9352.590875, 9385.524375, 9390.67475, 9351.642125, 9411.56825, 9532.387625, 9489.56925, 9445.40775, 9413.35375, 9416.53575, 9413.628125, 9464.025125, 9493.002125, 9477.628625, 9474.8, 9426.125, 9409.491375, 9391.129625, 9405.07475, 9372.8955, 9419.779625, 9379.4425, 9339.9575, 9477.518, 9279.3525, 9412.987, 9365.355625, 9579.116125, 9414.1545, 9480.18075, 9500.904375, 9424.822875, 9499.40975, 9431.667, 9266.17325, 9409.441875, 9438.38075, 9416.184, 9296.722125, 9506.259875, 9608.49775, 9493.547875, 9408.939375, 9380.296, 9506.76725, 9362.958125, 9483.54425, 9514.34975, 9499.984125, 9441.13975, 9484.13175, 9449.98375, 9408.644375, 9416.58125, 9371.563625, 9454.276125, 9450.51825, 9448.046125, 9354.425, 9432.898625, 9352.243875, 9441.70375, 9404.0365, 9434.5085, 9496.7175, 9491.69, 9501.809125, 9440.017625, 9430.041625, 9430.38225, 9368.79675, 9415.0035, 9344.08, 9414.21425, 9406.1035, 9448.742, 9459.757875, 9468.8575, 9519.8695, 9455.984875, 9481.348375, 9435.0545, 9472.266125, 9424.688875, 9430.69625, 9433.81825, 9499.20625, 9525.836375, 9427.262375, 9415.64425, 9504.643375, 9402.492125, 9398.6345, 9396.057125, 9395.680375, 9431.935125, 9441.730875, 9415.2825, 9391.549125, 9444.5265, 9410.58625, 9387.022625, 9407.361375, 9331.76175, 9405.952375, 9436.988875, 9470.636875, 9492.21225, 9518.654625, 9473.71275, 9412.416625, 9468.465625, 9548.918875, 9465.4985, 9500.364625, 9416.744, 9448.5625, 9379.1835, 9419.436375, 9337.418875, 9467.514625, 9383.939625, 9463.50525, 9413.955125, 9608.8395, 9453.94575, 9468.01175, 9457.1045, 9458.707875, 9381.905375, 9510.153875, 9493.39775, 9395.613875, 9494.092625, 9460.946375, 9393.091125, 9439.838625, 9440.914375, 9422.7245, 9541.99475, 9410.828, 9353.57925, 9376.3805, 9372.118, 9408.679375, 9385.2115, 9397.509, 9445.261375, 9413.734, 9447.11725, 9482.5585, 9354.714875, 9403.9965, 9377.622875, 9442.8515, 9376.590125, 9454.502875, 9367.657125, 9462.363625, 9402.295, 9290.92675, 9433.89675, 9475.811125, 9427.933, 9424.65625, 9374.747125, 9349.405125, 9502.211625, 9488.222875, 9479.61875, 9499.957, 9592.398125, 9451.765875, 9412.537375, 9376.6065, 9398.809375, 9472.895125, 9398.38225, 9410.787625, 9367.212625, 9467.077125, 9585.569, 9443.29575, 9384.1115, 9331.468, 9486.387625, 9467.521125, 9369.0665, 9279.171625, 9493.3835, 9411.309375, 9400.562625, 9481.004375, 9601.113625, 9459.677, 9395.7235, 9450.8175, 9370.9195, 9608.37175, 9487.393375, 9365.306, 9421.723375, 9515.873625, 9475.44275, 9462.424875, 9503.864, 9390.03175, 9461.860375, 9390.755875, 9434.74075, 9478.24875, 9371.91, 9388.26325, 9478.734125, 9472.169375, 9442.3135, 9492.791375, 9339.89225, 9497.243375, 9432.173125, 9406.809, 9367.31325, 9366.636875, 9393.2885, 9457.179375, 9544.56025, 9402.123125, 9456.391625, 9417.96775, 9398.454375, 9528.59175, 9423.299375, 9455.19, 9480.30375, 9442.418, 9446.365125, 9352.599125, 9412.82025, 9377.336625, 9310.821125, 9588.364, 9448.93375, 9461.614375, 9354.256625, 9334.81, 9541.8625, 9435.06425, 9527.545, 9405.869625, 9473.995375, 9420.89775, 9323.165625, 9464.3955, 9413.662625, 9343.866125, 9398.420125, 9468.594375, 9418.1645, 9508.4095, 9534.99175, 9331.5205, 9469.9275, 9422.533125, 9495.49825, 9478.44825, 9474.9615, 9414.16825, 9510.415875, 9443.83575, 9434.645875, 9373.74975, 9474.25425, 9484.467125, 9412.1215, 9383.395, 9376.652, 9380.030875, 9450.467125, 9364.24275, 9399.124125, 9423.528125, 9436.727125, 9393.758125, 9475.415125, 9425.587, 9372.879625, 9482.738875, 9420.5505, 9468.68425, 9512.76325, 9458.897375, 9398.455875, 9385.39625, 9364.69875, 9449.82425, 9383.955375, 9400.972375, 9479.60475, 9485.303375, 9334.375, 9495.459, 9422.52425, 9494.55625, 9415.6025, 9348.89675, 9436.47925, 9350.679125, 9433.198625, 9403.985625, 9510.39825, 9514.812625, 9508.980375, 9422.928375, 9487.34075, 9423.3595, 9511.536875, 9532.402625, 9511.3995, 9465.6395, 9348.774875, 9450.577, 9390.41975, 9402.0765, 9369.058125, 9466.768375, 9334.16325, 9410.8495, 9543.948375, 9495.6015, 9426.76425, 9462.63125, 9444.581625, 9331.027125, 9525.744375, 9514.575875, 9441.956625, 9439.61075, 9372.958125, 9520.585, 9322.06025, 9454.591125, 9486.301875, 9417.125375, 9570.34, 9401.6555, 9432.347625, 9371.644, 9340.499375, 9520.437875, 9446.437875, 9408.552625, 9432.745125, 9408.015125, 9378.13625, 9459.570375, 9511.86125, 9347.308875, 9394.81375, 9496.762125, 9374.55825, 9363.974, 9459.34575, 9476.3665, 9531.967875, 9460.0545, 9441.45175, 9320.356125, 9424.286625, 9376.20025, 9393.684875, 9447.384125, 9411.124125, 9331.037, 9468.57, 9455.38, 9482.284375, 9510.2255, 9369.388625, 9394.1725, 9377.876, 9410.924875, 9407.5685, 9404.55375, 9597.59725, 9459.357375, 9424.208125, 9431.94325, 9439.429375, 9421.983125, 9406.2525, 9378.357, 9471.06675, 9377.37625, 9384.0555, 9491.644875, 9369.08875, 9463.027625, 9447.253, 9326.690375, 9578.744375, 9470.150625, 9371.999875, 9567.495625, 9350.353, 9427.80725, 9467.934625, 9467.93375, 9333.568, 9437.488125, 9390.141625, 9388.89375, 9472.493, 9347.7, 9422.2565, 9426.614875, 9524.925875, 9566.450125, 9410.459875, 9531.3595, 9418.7125, 9517.08625, 9514.2825, 9367.315, 9455.607875, 9399.584875, 9424.10175, 9381.119125, 9443.1515, 9482.8565, 9516.58375, 9422.683125, 9498.453875, 9280.761375, 9374.132875, 9470.366875, 9456.0285, 9315.080375, 9362.2705, 9427.85225, 9508.643125, 9440.450125, 9522.394125, 9510.503125, 9524.72875, 9549.7935, 9394.41125, 9423.574875, 9456.180875, 9483.124125, 9495.95275, 9418.9665, 9428.370375, 9399.867, 9371.68425, 9446.097, 9386.048625, 9403.355125, 9445.910375, 9466.406875, 9447.14875, 9443.406875, 9489.1005, 9527.927, 9386.141875, 9420.6345, 9427.2275, 9395.815625, 9425.555125, 9433.139625, 9496.0945, 9426.53425, 9476.092875, 9507.8705, 9498.63525, 9485.777, 9374.726875, 9355.887125, 9424.95575, 9444.573625, 9433.45725, 9491.97925, 9485.859, 9467.446625, 9393.060125, 9475.662875, 9535.026125, 9548.8455, 9354.752625, 9373.042125, 9415.72825, 9357.500875, 9402.516, 9399.16075, 9388.8805, 9394.8735, 9411.310125, 9544.57075, 9402.488875, 9453.325125, 9386.499125, 9403.1435, 9389.021375, 9453.731125, 9456.912875, 9500.275375, 9572.512375, 9469.866625, 9421.862625, 9599.980625, 9528.299625, 9574.42425, 9393.742875, 9424.87275, 9546.302875, 9343.8885, 9549.057625, 9415.840875, 9451.02725, 9460.02275, 9483.995125, 9439.84875, 9378.00625, 9506.675875, 9433.62425, 9456.42675, 9470.594625, 9455.185, 9378.1575, 9523.72275, 9394.92075, 9448.28525, 9452.981625, 9479.963, 9395.337625, 9424.69225, 9244.8365, 9451.46525, 9521.329875, 9465.62575, 9520.85275, 9433.8385, 9373.97175, 9398.742625, 9375.8975, 9530.1755, 9414.417875, 9528.6105, 9484.223375, 9384.140375, 9442.618125, 9419.90125, 9386.77425, 9426.151125, 9438.234875, 9408.432625, 9479.23575, 9454.340125, 9387.8275, 9319.09425, 9474.3675, 9401.44775, 9472.380875, 9459.622625, 9398.703875, 9470.793375, 9407.88775, 9557.397, 9432.91225, 9366.2855, 9420.566875, 9491.53425, 9430.559375, 9428.85, 9502.543625, 9373.1825, 9540.46575, 9548.241375, 9479.117875, 9395.597375, 9413.613125, 9418.62575, 9484.0055, 9518.134125, 9400.87375, 9506.4615, 9507.850625, 9411.18775, 9368.23575, 9447.393, 9400.147875, 9446.062, 9515.183375, 9422.962125, 9477.358625, 9427.885875, 9410.668125, 9406.707625, 9388.14875, 9481.354875, 9552.015875, 9451.21475, 9530.808125, 9410.7715, 9423.288375, 9518.41575, 9427.03825, 9429.296875, 9386.19625, 9492.98025, 9496.0245, 9390.00125, 9582.62725, 9422.70775, 9429.393, 9437.21325, 9313.793375, 9411.034125, 9406.123, 9390.87575, 9479.020375, 9324.306625, 9364.6655, 9462.566, 9502.90075, 9494.981125, 9425.373375, 9420.386, 9385.4555, 9426.356, 9401.036, 9439.02525, 9409.835, 9457.570625, 9432.706625, 9480.781, 9356.92825, 9490.3955, 9452.93375, 9369.007125, 9427.627625, 9447.758625, 9465.74775, 9466.17825, 9473.267875, 9463.45175, 9515.158, 9528.82575, 9342.691875, 9444.907375, 9407.73825, 9319.009875, 9464.508125, 9439.954125, 9343.759375, 9505.739, 9330.309, 9407.36675, 9508.73975, 9569.764125, 9486.88625, 9525.64175, 9377.268875, 9407.04375, 9531.670125, 9383.086875, 9481.196375, 9404.677, 9385.402625, 9521.037625, 9374.445375, 9369.24075, 9561.381625, 9466.341625, 9334.663625, 9293.881875, 9424.55125, 9396.129125, 9506.69225, 9414.724875, 9387.861, 9458.056375, 9379.400375, 9456.424625, 9458.09325, 9492.429125, 9374.902375, 9470.3015, 9483.936125, 9494.20725, 9405.072125, 9419.607625, 9455.321875, 9475.144, 9343.814625, 9540.301125, 9433.93075, 9469.75675, 9415.289625, 9361.039375, 9475.440375, 9492.970875, 9510.462375, 9412.271875, 9471.129375, 9421.617375, 9356.809, 9438.63125, 9420.352, 9468.592625, 9447.13025, 9392.34375, 9451.670625, 9433.103125, 9395.227625, 9388.9905, 9497.563125, 9396.472875, 9528.09375, 9406.728875, 9390.860875, 9414.41475, 9393.2115, 9485.54375, 9462.77925, 9420.67175, 9447.451625, 9480.229125, 9441.19675, 9421.556625, 9402.97725, 9448.898875, 9416.965875, 9362.069125, 9504.578125, 9449.38225, 9490.222375, 9424.105875, 9409.856875, 9563.1425, 9351.93825, 9442.2135, 9509.735, 9426.604875, 9390.39525, 9435.609875, 9408.48875, 9503.209125, 9484.114375, 9534.31975, 9402.812875, 9401.637875, 9415.626875, 9394.99625, 9407.504375, 9554.558, 9357.951625, 9521.919375, 9481.989875, 9532.505625, 9416.228375, 9417.348125, 9378.04425, 9410.968625, 9426.843875, 9369.41425, 9441.8775, 9410.435375, 9465.694125, 9563.122, 9432.11125, 9417.070375, 9528.22225, 9567.1295, 9437.681125, 9416.8355, 9395.94175, 9553.63025, 9452.475125, 9344.041, 9479.135625, 9499.9195, 9525.6525, 9464.435375, 9429.765, 9389.0485, 9410.406625, 9422.137125, 9354.121375, 9460.813125, 9462.93475, 9481.04925, 9404.0655, 9445.99625, 9398.15675, 9557.41975, 9410.716125, 9455.1505, 9315.687, 9330.547875, 9424.597, 9326.3275, 9594.863, 9513.72075, 9413.747625, 9424.652625, 9419.335375, 9359.764125, 9358.490625, 9455.666, 9414.8, 9398.942125, 9494.9335, 9519.969125, 9334.975875, 9387.395125, 9544.67325, 9362.3905, 9475.100625, 9390.33825, 9433.385875, 9450.84075, 9577.497875, 9477.586625, 9436.585625, 9451.97, 9393.454125, 9519.02275, 9432.12975, 9467.483375, 9440.63475, 9485.2655, 9381.8025, 9529.7655, 9549.584, 9471.787125, 9494.092, 9379.809375, 9406.7985, 9457.712375, 9284.39325, 9416.396125, 9330.9225, 9377.4485, 9505.699125, 9462.668, 9418.0145, 9501.569125, 9394.54675, 9352.084125, 9342.979125, 9422.89775, 9453.973375, 9456.6495, 9391.00575, 9405.447875, 9372.561, 9407.4365, 9413.743375, 9446.402125, 9572.86675, 9529.46625, 9359.0555, 9393.33625, 9390.229, 9392.391625, 9325.379875, 9481.962125, 9505.060375, 9413.023125, 9393.19175, 9488.072875, 9487.380125, 9483.99275, 9387.35325, 9352.336875, 9288.277125, 9403.750125, 9455.646125, 9504.2955, 9410.302375, 9498.3745, 9373.668875, 9406.5915, 9443.562375, 9469.786375, 9480.587625, 9415.44725, 9489.23025, 9338.200875, 9451.81325, 9426.607375, 9403.771625, 9373.6785, 9418.967, 9399.067375, 9387.209625, 9417.97825, 9359.072125, 9395.188625, 9432.3145, 9454.049625, 9324.30525, 9436.08975, 9551.684625, 9451.19475, 9520.2915, 9548.55325, 9390.224375, 9383.793, 9478.002125, 9550.99875, 9448.629625, 9411.33375, 9379.99425, 9471.837, 9557.469375, 9452.432875, 9392.480375, 9424.31375, 9424.070875, 9465.68975, 9418.051125, 9409.15475, 9366.244875, 9288.238625, 9547.157375, 9360.58225, 9401.648625, 9500.87225, 9401.662375, 9516.492375, 9482.1035, 9404.581625, 9465.885875, 9447.1555, 9499.418, 9435.194125, 9426.805375, 9371.841375, 9374.59375, 9437.984625, 9416.06125, 9467.248875, 9475.329125, 9431.093125, 9443.8475, 9447.556625, 9400.369, 9357.777375, 9468.10325, 9465.53575, 9403.517625, 9566.03425, 9400.692, 9339.906375, 9595.890125, 9307.634625, 9375.880125, 9530.292625, 9441.10825, 9377.207625, 9436.80025, 9457.549, 9472.0765, 9443.655125, 9390.953875, 9373.222625, 9344.418875, 9475.512625, 9489.451625, 9429.4, 9441.89825, 9447.053125, 9365.810375, 9445.5855, 9493.239875, 9364.918375, 9448.289875, 9388.879125, 9420.356125, 9522.048625, 9431.958375, 9408.835375, 9482.56225, 9510.507375, 9481.0345, 9389.804125, 9461.23, 9457.12475, 9425.94025, 9380.279125, 9426.823375, 9491.299375, 9417.7695, 9453.933, 9349.03575, 9380.481875, 9514.073625, 9455.246125, 9362.51075, 9507.918875, 9455.682, 9405.41325, 9355.068375, 9379.267625, 9400.307125, 9509.990375, 9401.342125, 9419.209125, 9637.693, 9448.2335, 9421.752625, 9616.549875, 9404.421125, 9347.677, 9404.25, 9417.226375, 9336.99275, 9482.633, 9468.680875, 9389.59425, 9380.4285, 9447.659875, 9378.691375, 9498.403125, 9419.483375, 9517.8715, 9390.22075, 9470.620875, 9364.90925, 9440.000125, 9502.867875, 9486.639875, 9462.027125, 9531.41625, 9453.6675, 9507.692625, 9504.591, 9465.846, 9398.9885, 9484.97875, 9506.799875, 9340.438625, 9286.9185, 9416.63175, 9437.302375, 9492.234625, 9490.273625, 9455.580125, 9460.963875, 9412.283875, 9475.133875, 9409.147625, 9467.68025, 9570.402375, 9484.383625, 9463.97125, 9447.213125, 9389.394125, 9327.156125, 9449.39675, 9447.789, 9388.861, 9354.453875, 9428.104375, 9433.871125, 9415.680625, 9450.425625, 9412.820375, 9400.7275, 9426.192125, 9493.3205, 9470.81475, 9424.089625, 9464.32925, 9424.846, 9482.558375, 9470.368625, 9408.2335, 9448.973, 9415.979625, 9448.71575, 9419.929375, 9487.73275, 9408.994, 9439.496, 9489.9865, 9488.76825, 9362.3015, 9438.5855, 9372.210375, 9527.345, 9498.53325, 9419.959125, 9492.028625, 9303.24825, 9419.9005, 9526.776125, 9379.62225, 9449.126, 9397.0915, 9457.0915, 9428.880125, 9431.31625, 9504.869, 9464.847125, 9419.664125, 9435.225625, 9431.51025, 9333.33975, 9503.118125, 9495.824125, 9433.533, 9448.704, 9333.087125, 9438.994375, 9392.364875, 9484.576125, 9393.714125, 9458.2005, 9448.078625, 9393.151375, 9478.262875, 9423.55225, 9406.42875, 9503.267625, 9363.4825, 9418.091625, 9533.33925, 9535.8125, 9527.867125, 9355.95625, 9548.242875, 9459.729875, 9440.2575, 9505.380375, 9334.86175, 9505.142125, 9326.742125, 9457.4645, 9489.913125, 9463.044125, 9464.09575, 9537.063125, 9412.114875, 9425.30825, 9494.486375, 9459.5875, 9485.62325, 9468.823375, 9431.68075, 9560.289625, 9374.2505, 9507.620125, 9427.234, 9336.013625, 9486.453875, 9545.13675, 9553.729, 9434.894625, 9435.614125, 9412.359875, 9501.345, 9457.728375, 9454.308875, 9455.8955, 9409.314625, 9399.323625, 9508.22825, 9475.774625, 9494.241, 9458.467125, 9393.948875, 9448.824625, 9523.41925, 9398.49725, 9415.63025, 9629.12275, 9494.3175, 9521.52925, 9355.455125, 9497.481125, 9521.1525, 9368.63625, 9514.988875, 9437.38075, 9443.808125, 9448.360125, 9382.38525, 9359.585875, 9407.356375, 9472.2725, 9459.12175, 9462.085375, 9450.678625, 9418.87275, 9457.4505, 9408.889875, 9511.348875, 9482.7985, 9438.86875, 9470.77975, 9510.403125, 9360.26675, 9553.489375, 9451.468375, 9435.056, 9429.596375, 9239.826, 9374.4665, 9388.69775, 9461.312, 9444.5125, 9415.2635, 9411.95975, 9356.4605, 9421.963375, 9339.11075, 9472.317875, 9430.61875, 9352.740875, 9397.33625, 9481.878375, 9409.745625, 9422.56925, 9432.14075, 9469.362875, 9386.278625, 9460.743375, 9386.56075, 9438.73475, 9400.22725, 9484.68675, 9441.684, 9440.960625, 9453.150375, 9538.55325, 9480.515625, 9405.659375, 9365.381875, 9439.794625, 9474.199375, 9375.374125, 9389.93225, 9417.57325, 9464.187, 9493.657875, 9408.627125, 9445.1795, 9428.856125, 9480.575, 9376.6505, 9394.985875, 9406.9555, 9419.249125, 9435.8145, 9445.685625, 9438.269, 9497.543125, 9465.03525, 9384.670125, 9573.21025, 9432.190375, 9394.2665, 9440.147, 9451.997875, 9471.387375, 9333.666125, 9345.784125, 9382.692375, 9394.0285, 9441.226875, 9397.40925, 9446.619375, 9469.18475, 9352.628625, 9380.92925, 9404.775625, 9455.016875, 9366.4595, 9456.67775, 9407.61525, 9540.5895, 9508.382, 9401.58975, 9528.641875, 9351.333375, 9523.655875, 9510.749125, 9504.164625, 9409.204375, 9431.883625, 9366.700125, 9391.220125, 9548.39675, 9385.197125, 9534.060125, 9416.656, 9392.8085, 9257.40825, 9419.818375, 9412.6125, 9322.657125, 9395.03175, 9489.086625, 9486.98975, 9457.437625, 9459.8355, 9433.684375, 9436.166125, 9511.914125, 9357.96875, 9486.48375, 9453.87875, 9465.951625, 9377.52025, 9407.307625, 9458.81575, 9479.023125, 9396.659625, 9455.39525, 9448.325125, 9451.2475, 9385.0745, 9448.4775, 9502.74025, 9401.313875, 9404.037125, 9475.4685, 9458.8325, 9428.716375, 9345.451625, 9398.733875, 9336.522, 9506.87, 9473.180375, 9344.6445, 9335.494125, 9452.425625, 9491.15425, 9410.62375, 9395.502, 9463.335875, 9438.27, 9498.394625, 9552.02625, 9427.791125, 9452.76075, 9324.82025, 9361.281375, 9423.024625, 9501.380375, 9420.0735, 9491.124375, 9440.268, 9404.821375, 9441.700625, 9395.77, 9575.232375, 9362.894625, 9428.116875, 9389.022875, 9401.710875, 9468.296625, 9526.377125, 9511.008125, 9453.987375, 9422.928875, 9296.287875, 9371.3935, 9473.374875, 9550.894375, 9493.134625, 9412.532125, 9476.029875, 9400.247125, 9501.689875, 9376.622875, 9427.8075, 9455.98675, 9463.804625, 9369.17625, 9401.7285, 9479.582125, 9396.796875, 9452.78925, 9476.943125, 9455.924, 9461.95375, 9532.64325, 9503.111375, 9449.863375, 9404.4925, 9518.94, 9420.575625, 9358.690125, 9386.095625, 9453.139875, 9478.3835, 9271.80125, 9426.38575, 9522.53975, 9359.88575, 9414.040375, 9460.09875, 9438.362625, 9412.77175, 9425.972875, 9478.32625, 9415.33075, 9283.160375, 9469.002625, 9444.08675, 9415.49525, 9375.811, 9390.11325, 9468.892, 9506.794875, 9330.773375, 9404.030125, 9507.157625, 9336.46875, 9380.415625, 9397.121125, 9360.919875, 9486.762875, 9428.86125, 9416.12175, 9436.198625, 9323.781625, 9470.7795, 9473.78925, 9401.799, 9360.212125, 9451.169125, 9459.318875, 9360.278625, 9483.911375, 9452.4255, 9406.393125, 9388.237875, 9532.05425, 9402.2425, 9559.9395, 9446.657875, 9436.518625, 9489.22075, 9373.326, 9440.04075, 9554.961625, 9511.86675, 9356.023875, 9425.6645, 9323.766, 9563.231, 9418.028875, 9361.82875, 9328.948875, 9380.34925, 9416.773, 9519.67725, 9441.706, 9374.07975, 9516.61075, 9468.8355, 9380.988625, 9425.14125, 9369.95375, 9387.9395, 9443.8135, 9455.825375, 9452.094625, 9472.72575, 9454.94825, 9517.1685, 9462.716625, 9350.91975, 9524.335, 9429.52075, 9447.278375, 9464.4735, 9449.602125, 9414.303625, 9540.89675, 9428.510125, 9491.48275, 9445.957, 9598.297125, 9434.5085, 9504.698875, 9421.2765, 9373.560375, 9552.435875, 9573.53775, 9441.391625, 9468.557, 9496.166625, 9409.509125, 9430.643625, 9376.529125, 9482.095375, 9381.826125, 9436.08825, 9453.321875, 9496.5755, 9444.279875, 9419.415875, 9582.065125, 9467.57275, 9358.731625, 9441.113875, 9573.61225, 9395.43875, 9422.33675, 9540.901875, 9479.1655, 9340.233125, 9397.639, 9316.42575, 9396.482125, 9408.162, 9517.818, 9515.54975, 9432.48275, 9463.681625, 9365.549, 9356.60275, 9419.626625, 9413.556625, 9489.886625, 9453.094375, 9462.144, 9441.73475, 9536.337, 9463.639, 9508.402375, 9426.2035, 9429.8725, 9500.32275, 9397.76025, 9490.1985, 9453.325375, 9495.571625, 9405.93, 9372.70575, 9406.618125, 9391.684, 9451.046, 9384.636, 9364.67925, 9537.15275, 9502.523, 9513.200375, 9418.069125, 9371.66375, 9440.291, 9413.922625, 9398.6325, 9337.96025, 9343.044375, 9421.2485, 9378.243, 9561.840625, 9373.6725, 9465.724625, 9510.729375, 9559.593875, 9516.638875, 9445.979125, 9474.72525, 9408.398125, 9565.863375, 9484.624625, 9287.052125, 9411.121875, 9346.94175, 9432.662375, 9550.966375, 9418.485375, 9451.8935, 9453.050125, 9440.84625, 9430.328875, 9380.27275, 9327.05425, 9394.20525, 9370.989875, 9513.29375, 9440.984375, 9393.8955, 9334.451375, 9493.9715, 9419.7085, 9549.03975, 9490.5665, 9323.752875, 9491.916, 9466.857875, 9440.7975, 9447.15875, 9315.811, 9485.789875, 9498.01625, 9506.84575, 9498.100125, 9392.7195, 9423.685875, 9448.814, 9404.558625, 9401.277125, 9344.623, 9382.2485, 9503.892625, 9430.527125, 9463.509375, 9497.5085, 9444.339, 9323.60825, 9395.028625, 9449.62475, 9503.37625, 9329.12525, 9497.79375, 9403.932125, 9330.188125, 9374.434375, 9420.237875, 9504.47675, 9590.144125, 9475.282375, 9600.2675, 9482.62525, 9483.98025, 9384.773625, 9407.189375, 9490.713875, 9443.470125, 9454.685375, 9453.244625, 9393.17925, 9418.431625, 9375.657125, 9440.1135, 9446.64225, 9443.8895, 9406.69525, 9474.758375, 9448.584625, 9472.921625, 9474.313375, 9465.312625, 9474.988375, 9509.636375, 9524.52875, 9445.47175, 9381.3475, 9433.507375, 9399.057125, 9464.38625, 9416.132, 9593.432625, 9514.956875, 9448.929125, 9418.10775, 9401.349875, 9427.656375, 9458.0395, 9459.398625, 9367.245125, 9442.7445, 9348.475125, 9505.66575, 9445.759, 9308.652875, 9439.1175, 9374.385875, 9438.181375, 9443.1305, 9451.47325, 9423.997, 9453.552, 9414.54475, 9392.011375, 9454.2125, 9495.339, 9378.244625, 9458.3085, 9401.2185, 9493.284, 9395.980875, 9500.609375, 9369.023125, 9443.44325, 9454.315625, 9420.73775, 9400.321, 9341.769625, 9547.846625, 9395.587125, 9456.345625, 9374.4105, 9381.9665, 9498.352125, 9449.407375, 9511.639375, 9313.06325, 9401.43925, 9514.488875, 9426.18075, 9534.516125, 9394.9735, 9404.43475, 9412.7985, 9369.5575, 9441.343, 9499.7675, 9504.353125, 9481.79875, 9399.965125, 9406.181875, 9441.338125, 9423.66775, 9427.24775, 9435.759875, 9407.260375, 9447.192875, 9512.757, 9379.3475, 9379.665125, 9446.484, 9503.288875, 9395.99725, 9573.6025, 9331.9525, 9460.104, 9455.262875, 9477.41725, 9392.828375, 9362.6605, 9392.442125, 9445.266875, 9472.56875, 9412.169625, 9433.467125, 9401.48975, 9589.519625, 9482.94325, 9432.655375, 9490.620875, 9382.865875, 9504.1775, 9348.764, 9382.971125, 9420.599625, 9505.927375, 9398.816375, 9441.984375, 9415.818875, 9364.209625, 9463.5905, 9424.17625, 9471.309875, 9436.711625, 9518.634875, 9444.8585, 9449.94725, 9437.355375, 9433.181875, 9390.38775, 9426.551625, 9453.02825, 9437.406875, 9490.7125, 9349.418375, 9523.011125, 9532.667125, 9480.370125, 9387.785625, 9452.015125, 9519.1855, 9336.256875, 9441.56125, 9449.00675, 9456.182625, 9473.758375, 9487.727875, 9311.185, 9383.87675, 9422.66425, 9530.253625, 9472.77325, 9371.671875, 9621.177, 9475.7325, 9448.623875, 9457.38225, 9452.892625, 9487.218625, 9536.95775, 9331.245125, 9459.984875, 9391.217, 9422.834, 9425.930875, 9403.075125, 9429.39475, 9472.32375, 9493.954625, 9445.599375, 9436.341375, 9352.6925, 9548.042875, 9421.6475, 9457.694375, 9407.09625, 9521.37625, 9520.369875, 9434.830125, 9503.840125, 9357.581875, 9418.3365, 9357.8965, 9370.935625, 9498.197625, 9364.591, 9482.004375, 9401.55575, 9430.91875, 9465.0665, 9402.621, 9355.144, 9420.5815, 9500.586875, 9434.873875, 9454.82575, 9404.263875, 9440.364125, 9463.942375, 9494.8295, 9442.0485, 9478.498875, 9439.79525, 9336.347375, 9339.653125, 9542.271625, 9395.692875, 9480.8935, 9415.164875, 9421.04925, 9471.054125, 9378.27575, 9444.1925, 9401.02925, 9583.852, 9463.82225, 9461.290625, 9378.288125, 9375.449375, 9404.47775, 9554.307125, 9403.006875, 9421.140375, 9481.655125, 9506.26975, 9408.31725, 9389.079, 9475.34725, 9355.081625, 9319.981625, 9504.622625, 9347.486375, 9408.5585, 9452.965125, 9427.486375, 9430.546125, 9523.3475, 9428.686125, 9431.73525, 9478.38225, 9375.4215, 9465.64075, 9488.266125, 9442.915125, 9409.477625, 9425.122, 9403.156, 9386.04825, 9346.581125, 9407.194125, 9479.910875, 9488.501875, 9471.199625, 9422.3265, 9352.633625, 9444.911625, 9333.86625, 9424.580875, 9508.294, 9423.216125, 9251.657125, 9476.022875, 9456.378625, 9501.990125, 9372.800375, 9440.95375, 9484.88375, 9380.2505, 9344.4325, 9395.5675, 9439.668, 9417.262625, 9447.63325, 9430.106125, 9417.369625, 9425.322875, 9356.270125, 9428.376, 9442.51125, 9439.456625, 9518.052625, 9418.448125, 9367.034125, 9461.88625, 9515.926, 9345.797875, 9390.09075, 9393.053625, 9412.086125, 9511.4255, 9442.884, 9521.643125, 9424.023125, 9464.718875, 9393.212625, 9444.633875, 9415.707375, 9519.280875, 9577.984625, 9399.85275, 9470.515625, 9439.10075, 9423.095125, 9396.30525, 9479.172, 9450.7365, 9427.238875, 9385.46625, 9470.923, 9537.74775, 9469.572, 9463.4885, 9359.93375, 9376.655625, 9404.41425, 9464.025875, 9371.858375, 9390.398375, 9415.188875, 9469.319125, 9506.059875, 9497.768, 9354.973625, 9435.25375, 9323.043875, 9467.9335, 9348.18275, 9477.544625, 9554.439125, 9423.308, 9405.32425, 9394.855125, 9341.333125, 9590.179875, 9335.121625, 9460.695, 9381.968375, 9420.857875, 9387.20275, 9481.138375, 9416.274625, 9383.02675, 9397.005625, 9385.662625, 9454.34925, 9445.45, 9493.349625, 9349.58, 9548.61475, 9453.117375, 9408.791875, 9416.083125, 9424.3715, 9488.100875, 9432.00725, 9461.4975, 9484.953625, 9436.9865, 9408.14725, 9505.515, 9413.318875, 9431.4665, 9474.016, 9452.509, 9576.080625, 9415.332625, 9502.526875, 9452.202625, 9423.895625, 9506.023125, 9352.7485, 9518.4395, 9341.29425, 9413.448125, 9407.901875, 9530.752875, 9512.261, 9372.16625, 9403.953625, 9463.626625, 9300.634875, 9427.839625, 9441.187375, 9343.528625, 9461.9775, 9456.910125, 9492.0045, 9435.569625, 9442.774125, 9373.52725, 9431.15375, 9428.642625, 9366.26625, 9552.196125, 9523.179625, 9363.704625, 9534.453125, 9450.590875, 9510.23675, 9373.5855, 9376.097, 9399.766375, 9437.656, 9421.457125, 9476.682, 9399.218, 9532.633, 9472.456375, 9454.990875, 9409.16525, 9450.433875, 9480.2835, 9354.330875, 9467.2645, 9436.92925, 9426.46725, 9440.61575, 9497.122125, 9411.0025, 9470.180125, 9373.33725, 9359.404, 9418.262375, 9407.622875, 9472.57225, 9536.60175, 9332.558125, 9509.4625, 9384.157, 9376.86475, 9427.63375, 9438.682875, 9450.636875, 9449.25475, 9460.645375, 9458.179625, 9414.512125, 9428.99225, 9449.08525, 9478.398625, 9407.928875, 9417.1185, 9388.608, 9391.593625, 9367.2425, 9455.45675, 9479.044625, 9398.95775, 9395.33975, 9375.96775, 9410.467, 9486.03525, 9399.95125, 9473.584125, 9448.45375, 9359.656125, 9481.967625, 9446.79225, 9365.372875, 9450.287375, 9438.427625, 9367.552375, 9461.368625, 9480.1895, 9319.758875, 9399.161875, 9449.732875, 9449.3965, 9423.789375, 9387.66325, 9480.94325, 9449.099875, 9338.680375, 9383.321, 9456.909125, 9398.814, 9449.742, 9442.311875, 9490.6395, 9384.704625, 9365.132875, 9377.276]\n"
          ]
        }
      ]
    },
    {
      "cell_type": "code",
      "source": [
        "print(female_sample_df)"
      ],
      "metadata": {
        "colab": {
          "base_uri": "https://localhost:8080/"
        },
        "id": "gXhL3z5Cd6dK",
        "outputId": "6c9b3d07-4e05-44c6-ff1c-520404cab574"
      },
      "execution_count": 136,
      "outputs": [
        {
          "output_type": "stream",
          "name": "stdout",
          "text": [
            "[8661.12325, 8757.943, 8789.591875, 8745.623, 8743.83775, 8648.613625, 8757.217125, 8540.328, 8701.80875, 8777.949875, 8743.688875, 8761.047375, 8711.261625, 8768.572625, 8802.51075, 8808.359625, 8728.7005, 8751.85925, 8738.32075, 8813.790125, 8724.89175, 8749.676, 8720.523625, 8766.109375, 8811.5755, 8780.369375, 8804.360125, 8821.4655, 8771.902875, 8790.82325, 8698.047375, 8657.482125, 8780.22925, 8699.08375, 8593.119875, 8684.77975, 8717.99375, 8698.36675, 8715.46225, 8735.70325, 8756.413625, 8789.606375, 8762.209375, 8720.808625, 8710.629125, 8735.33125, 8783.430125, 8795.339875, 8780.561125, 8743.045125, 8789.2495, 8759.495125, 8763.055625, 8803.900125, 8775.92075, 8735.449625, 8784.272625, 8676.016125, 8743.966125, 8747.931, 8703.58225, 8800.09775, 8839.515875, 8742.62325, 8751.234875, 8787.512125, 8744.909, 8769.25175, 8774.04875, 8696.947625, 8770.84275, 8871.528625, 8775.8125, 8680.4435, 8649.23375, 8689.11675, 8710.0445, 8714.014625, 8683.341125, 8739.7525, 8677.931375, 8711.32075, 8722.953375, 8696.599375, 8704.737, 8768.011625, 8765.645875, 8767.032125, 8673.9555, 8785.48875, 8817.73575, 8712.154875, 8684.39475, 8744.725625, 8727.376125, 8666.53125, 8752.34875, 8791.036125, 8750.882, 8781.057125, 8727.992625, 8689.937875, 8639.94125, 8735.278375, 8725.946625, 8675.2545, 8760.53675, 8664.031375, 8800.082625, 8798.703875, 8824.056875, 8781.846875, 8745.6365, 8776.180375, 8725.216125, 8680.782875, 8676.96575, 8805.9345, 8698.539625, 8647.191625, 8723.520625, 8711.685125, 8780.094875, 8653.597125, 8765.0195, 8814.25525, 8746.11125, 8814.579, 8722.678875, 8700.9615, 8723.515625, 8788.67825, 8675.575, 8714.796875, 8692.147125, 8718.199375, 8815.4025, 8711.7575, 8735.8115, 8644.827875, 8755.329625, 8684.745625, 8788.121875, 8691.778125, 8883.559125, 8793.503375, 8741.36975, 8647.919375, 8733.14025, 8836.533375, 8723.436125, 8806.952, 8726.40575, 8761.125375, 8776.694875, 8680.909, 8684.244625, 8740.657, 8757.05825, 8762.4235, 8724.083, 8710.967, 8692.744625, 8720.242625, 8795.0265, 8744.2565, 8819.992125, 8664.98125, 8781.920625, 8768.501625, 8805.722, 8646.7915, 8757.22125, 8745.533625, 8764.237125, 8698.659375, 8686.111375, 8652.6985, 8689.40275, 8700.346625, 8658.992625, 8710.755, 8725.7595, 8789.04575, 8678.551625, 8749.7445, 8765.42025, 8725.593625, 8805.948375, 8730.29275, 8768.406875, 8658.791, 8663.284125, 8848.1965, 8697.218125, 8659.896875, 8644.010625, 8693.696625, 8755.657625, 8707.247375, 8805.933625, 8769.9325, 8718.268, 8700.402375, 8660.735125, 8801.028375, 8814.676875, 8736.8785, 8773.33925, 8714.5755, 8721.0005, 8671.60375, 8733.283125, 8741.6575, 8657.637625, 8701.712625, 8786.530125, 8752.598375, 8774.321375, 8726.31175, 8793.38875, 8710.8655, 8661.0955, 8781.419625, 8805.493125, 8713.625625, 8682.779125, 8701.938875, 8700.608, 8627.822, 8640.78325, 8675.533, 8642.027125, 8732.0875, 8765.11275, 8715.998125, 8747.94325, 8794.049625, 8739.6905, 8754.173125, 8707.950125, 8730.996375, 8651.714, 8699.229625, 8732.80075, 8707.844625, 8748.953, 8785.050375, 8744.55025, 8774.967625, 8730.67575, 8734.811625, 8818.840875, 8760.72225, 8709.813875, 8755.804, 8678.294375, 8658.215125, 8695.170125, 8754.142875, 8713.6555, 8710.30025, 8703.2835, 8717.016, 8734.319, 8728.376375, 8747.685375, 8699.97975, 8711.501, 8664.3105, 8733.475875, 8830.01725, 8698.613625, 8774.074625, 8745.82425, 8801.5175, 8701.08275, 8616.1395, 8691.31175, 8744.839625, 8718.066125, 8846.48225, 8741.908875, 8713.5455, 8609.9225, 8695.50425, 8635.9285, 8766.866375, 8781.36575, 8775.953125, 8737.929125, 8693.4485, 8618.853, 8709.768875, 8651.8655, 8773.46275, 8738.68975, 8686.731, 8828.7945, 8754.94675, 8711.164375, 8724.010375, 8695.713, 8776.9805, 8760.4185, 8721.143125, 8732.680875, 8765.542625, 8755.518375, 8749.657875, 8836.686375, 8770.602875, 8810.342625, 8726.56825, 8671.290125, 8713.87, 8726.298375, 8722.995125, 8762.728125, 8671.59575, 8804.897625, 8746.68675, 8807.16425, 8683.87775, 8723.95925, 8694.795875, 8586.190875, 8631.057, 8701.224375, 8675.36525, 8725.2665, 8749.669375, 8751.083375, 8725.06, 8658.714125, 8724.83125, 8765.8665, 8675.405375, 8767.313875, 8741.3175, 8745.231375, 8741.294125, 8659.120625, 8702.575875, 8728.838125, 8744.87975, 8781.9615, 8831.027125, 8684.374875, 8735.655875, 8727.850625, 8765.212625, 8824.25275, 8647.012625, 8692.730125, 8752.442625, 8623.9575, 8737.354, 8790.924125, 8788.53975, 8726.098125, 8710.75775, 8655.802375, 8651.829125, 8851.8705, 8702.3555, 8787.8905, 8716.375375, 8737.08825, 8824.129875, 8723.48475, 8812.480625, 8805.571, 8676.00825, 8702.487125, 8674.680375, 8842.283, 8690.863625, 8740.066125, 8730.5855, 8785.136125, 8750.935, 8701.974, 8732.650875, 8786.6565, 8725.675875, 8748.825875, 8749.7255, 8715.2695, 8740.049375, 8747.561625, 8745.95475, 8737.701, 8767.321375, 8764.6345, 8746.2265, 8680.53975, 8658.88375, 8703.29225, 8830.243125, 8700.4415, 8731.106, 8767.158375, 8845.6365, 8741.16325, 8788.087, 8780.848125, 8762.734, 8672.677375, 8760.222875, 8758.4645, 8709.365375, 8727.998625, 8717.4745, 8682.48175, 8764.059125, 8771.373125, 8724.682375, 8650.728125, 8795.555, 8675.875375, 8723.85975, 8746.991125, 8752.08275, 8690.704, 8706.552875, 8708.796, 8742.807875, 8722.178125, 8652.25725, 8832.930125, 8749.101125, 8751.95875, 8702.53475, 8720.63575, 8744.9525, 8728.40625, 8736.79975, 8681.310625, 8817.112125, 8745.719625, 8584.64075, 8745.64175, 8786.04775, 8683.22025, 8683.160125, 8743.78475, 8737.2845, 8721.334625, 8724.1435, 8590.380625, 8669.072875, 8805.9495, 8622.74975, 8702.05475, 8733.895625, 8759.026125, 8833.841125, 8742.85075, 8781.154375, 8701.750625, 8686.32325, 8716.0515, 8749.994875, 8711.789125, 8726.745625, 8723.327375, 8735.375375, 8664.559625, 8750.910875, 8612.71375, 8795.143125, 8696.491875, 8770.26025, 8748.325, 8684.50625, 8660.97975, 8777.642375, 8742.152375, 8877.339, 8767.982625, 8761.70375, 8761.539, 8717.094875, 8681.92875, 8747.3715, 8617.43675, 8718.0115, 8732.501, 8744.882125, 8738.956375, 8831.529625, 8720.02725, 8782.214125, 8763.419125, 8695.45775, 8699.4775, 8792.069875, 8707.741375, 8826.996875, 8704.885875, 8793.805375, 8783.845625, 8829.751, 8701.417375, 8758.484625, 8737.906875, 8785.588875, 8683.082625, 8712.51, 8790.13575, 8662.55925, 8780.35525, 8662.489875, 8717.43425, 8634.83025, 8633.24775, 8805.48725, 8738.063625, 8808.910375, 8691.193125, 8679.451, 8838.937125, 8654.134375, 8776.21175, 8672.6185, 8667.014625, 8619.82575, 8771.01375, 8631.30025, 8823.579875, 8685.51025, 8748.11425, 8717.679, 8701.971625, 8706.161875, 8765.9015, 8770.655, 8748.476, 8724.546125, 8742.101375, 8773.958375, 8764.925125, 8648.18725, 8767.2725, 8671.007875, 8705.909125, 8705.9105, 8703.58, 8746.93925, 8723.017, 8745.946, 8703.765375, 8723.48775, 8660.52975, 8736.97425, 8798.541375, 8721.698875, 8698.61275, 8671.62525, 8706.5565, 8772.275875, 8767.363625, 8718.844125, 8662.231875, 8695.803875, 8739.294375, 8711.174125, 8682.144, 8759.876625, 8724.35825, 8740.406125, 8734.7795, 8735.502125, 8722.478, 8664.07875, 8768.941125, 8784.166625, 8690.065375, 8787.80525, 8687.42075, 8705.080125, 8731.832375, 8672.04025, 8708.554625, 8744.0025, 8671.858125, 8730.2515, 8904.704875, 8731.829875, 8653.49225, 8824.33975, 8622.0475, 8755.93575, 8712.55625, 8883.4055, 8734.388125, 8759.55975, 8721.63375, 8760.867125, 8729.9435, 8664.1385, 8715.762, 8680.186875, 8746.453875, 8661.941125, 8809.202375, 8771.28725, 8725.777375, 8704.0685, 8840.73575, 8698.150875, 8790.34975, 8777.839, 8737.9805, 8653.67175, 8731.94575, 8684.274, 8816.465875, 8717.1585, 8710.852625, 8798.02325, 8658.143125, 8774.453125, 8705.91625, 8746.34725, 8703.460625, 8767.879625, 8678.32675, 8858.987875, 8704.681125, 8696.658625, 8717.75975, 8739.85025, 8767.61375, 8777.4985, 8672.753125, 8686.338125, 8730.66, 8651.502625, 8705.938625, 8668.92, 8615.47725, 8727.65175, 8669.346375, 8695.977625, 8753.40575, 8744.24225, 8810.528625, 8745.7525, 8772.703625, 8712.55575, 8787.171125, 8688.697625, 8623.41825, 8620.05525, 8690.308125, 8557.886875, 8716.8935, 8741.226875, 8670.389375, 8742.933875, 8754.104875, 8713.56275, 8715.752, 8794.104625, 8716.51725, 8768.3635, 8697.7605, 8571.43475, 8719.6425, 8758.874875, 8792.830625, 8742.292625, 8834.62525, 8787.71725, 8763.604375, 8782.10775, 8746.27575, 8720.58325, 8750.004875, 8831.29325, 8687.232, 8868.07425, 8677.32575, 8801.033375, 8743.233125, 8744.974875, 8786.7135, 8760.115875, 8770.584625, 8748.42475, 8639.84475, 8619.091, 8784.36475, 8683.024875, 8887.7565, 8677.099875, 8863.094625, 8609.449375, 8750.761375, 8780.986875, 8771.0405, 8710.46325, 8651.66275, 8694.60025, 8746.0775, 8700.368125, 8754.85825, 8645.258625, 8799.493625, 8739.991, 8746.747875, 8797.941, 8682.347875, 8765.00375, 8676.3805, 8673.322875, 8596.884375, 8785.0245, 8732.97375, 8847.5905, 8680.169125, 8746.62775, 8710.328875, 8672.90675, 8798.61275, 8756.034875, 8786.277625, 8691.44125, 8656.220625, 8829.234875, 8736.869625, 8751.82075, 8742.859, 8731.21125, 8824.936875, 8689.320875, 8735.494125, 8799.93975, 8745.09525, 8736.43425, 8737.19175, 8734.177125, 8734.1535, 8740.62875, 8789.772, 8663.75475, 8687.928, 8705.911875, 8684.855125, 8755.267, 8696.313625, 8768.789875, 8747.679375, 8762.869625, 8651.158625, 8666.55725, 8803.418125, 8687.03475, 8751.01875, 8698.75725, 8741.051625, 8661.286125, 8678.925625, 8658.582, 8710.31925, 8671.100125, 8675.22775, 8701.14025, 8751.22175, 8739.175375, 8626.858125, 8762.565125, 8708.0525, 8680.745375, 8717.86225, 8749.581125, 8781.1845, 8677.449875, 8706.80625, 8672.161625, 8717.499625, 8665.311625, 8694.889, 8768.567625, 8732.30325, 8824.77325, 8768.39225, 8747.910375, 8674.355875, 8732.746, 8819.478375, 8710.613875, 8633.606375, 8920.500625, 8851.858375, 8659.15975, 8734.357625, 8702.97475, 8706.993125, 8671.478, 8740.847, 8721.905, 8740.9395, 8719.56375, 8787.416875, 8741.7575, 8700.20225, 8783.2555, 8717.32875, 8754.851125, 8778.402625, 8676.6155, 8729.335125, 8701.76075, 8634.50075, 8805.969375, 8711.762375, 8752.956125, 8796.278375, 8708.244, 8668.1655, 8704.79325, 8740.35125, 8725.157, 8788.843625, 8774.404625, 8732.03625, 8678.184375, 8647.37425, 8791.541, 8717.666875, 8720.296875, 8695.808125, 8833.2785, 8822.070625, 8667.636125, 8765.731125, 8702.660625, 8781.22725, 8760.4345, 8705.97, 8699.82, 8748.719875, 8739.820625, 8691.318875, 8813.47725, 8640.731375, 8712.147875, 8721.536, 8652.46575, 8735.958875, 8777.825875, 8763.492125, 8723.0355, 8761.1645, 8691.957375, 8758.18725, 8704.0835, 8846.50125, 8634.449375, 8771.749875, 8770.17275, 8736.84025, 8717.50475, 8783.724, 8771.21775, 8704.621125, 8665.664375, 8766.38175, 8762.874875, 8679.4595, 8805.618875, 8840.963, 8730.127, 8819.113125, 8757.479625, 8768.61825, 8766.89575, 8757.045375, 8742.947375, 8690.334625, 8683.4565, 8747.84425, 8678.591, 8682.9535, 8720.878375, 8826.013125, 8869.4605, 8803.201625, 8774.6175, 8801.897625, 8774.36225, 8755.834875, 8708.04775, 8779.99875, 8730.36775, 8748.43825, 8781.5385, 8717.205875, 8736.32225, 8730.147875, 8785.40375, 8750.025875, 8829.435625, 8756.86075, 8797.920875, 8702.511875, 8771.852125, 8811.022875, 8626.888375, 8720.874625, 8740.642875, 8813.4595, 8715.912, 8789.667125, 8720.04525, 8766.597625, 8688.266625, 8720.94125, 8675.88525, 8715.000625, 8805.32, 8757.695375, 8644.529, 8789.11475, 8716.210875, 8786.04525, 8753.318, 8801.756, 8749.009375, 8700.823375, 8707.108, 8724.217375, 8698.763125, 8700.80175, 8785.205875, 8796.38125, 8725.540125, 8768.489625, 8771.328875, 8705.10175, 8817.1875, 8660.367625, 8771.556375, 8688.325375, 8675.234875, 8764.777, 8737.05175, 8789.548625, 8827.689, 8662.9285, 8776.187125, 8644.182625, 8591.018375, 8643.620375, 8764.326, 8713.60475, 8794.250375, 8607.720125, 8724.315875, 8781.358625, 8767.745625, 8807.668875, 8693.59325, 8728.161125, 8690.896625, 8672.21225, 8770.274625, 8834.621125, 8744.32125, 8736.621625, 8717.240125, 8669.85225, 8836.47225, 8738.85, 8657.01975, 8849.5695, 8744.36175, 8723.278375, 8739.336375, 8710.79725, 8730.113875, 8791.927875, 8779.485875, 8651.41225, 8698.45725, 8732.098125, 8674.251, 8783.759, 8713.8695, 8726.203, 8767.4725, 8702.088625, 8762.505125, 8718.38875, 8770.773625, 8682.989, 8744.58775, 8730.87875, 8725.606, 8681.7375, 8774.710875, 8684.271625, 8669.999875, 8731.4035, 8659.797875, 8763.367, 8665.571625, 8761.113375, 8633.236375, 8777.64275, 8657.2455, 8709.152375, 8713.129, 8662.05575, 8683.2635, 8725.4215, 8792.576375, 8770.312375, 8662.99675, 8694.7635, 8845.022125, 8829.114375, 8773.773375, 8711.9955, 8823.067375, 8733.710125, 8712.653125, 8808.5725, 8747.14075, 8676.73525, 8631.906625, 8806.436875, 8805.90925, 8640.825, 8775.66875, 8712.75375, 8820.6185, 8773.261875, 8777.643125, 8770.267125, 8732.928375, 8788.65425, 8652.74225, 8767.72925, 8781.589, 8729.197125, 8745.593375, 8733.36875, 8685.164875, 8700.94025, 8708.457, 8677.750625, 8684.314875, 8770.949375, 8742.11375, 8728.073625, 8645.64975, 8757.83425, 8763.712625, 8751.704875, 8843.12175, 8774.221625, 8750.46775, 8721.78125, 8634.988625, 8729.1995, 8782.873875, 8712.005125, 8669.51675, 8764.093125, 8794.444375, 8763.651375, 8730.399875, 8709.110875, 8669.506625, 8753.52325, 8700.952625, 8669.635625, 8673.5615, 8738.850875, 8723.929125, 8694.406125, 8736.888625, 8715.5295, 8737.903375, 8586.03325, 8743.10975, 8782.458125, 8710.861375, 8715.658375, 8729.6615, 8738.06475, 8720.377625, 8857.185375, 8762.905, 8751.895375, 8702.890625, 8818.460625, 8706.3815, 8732.57625, 8635.182875, 8653.956, 8735.029, 8777.38575, 8670.5295, 8688.421625, 8709.4295, 8784.88925, 8706.80625, 8760.671, 8750.833875, 8724.06725, 8726.829, 8780.01025, 8755.1985, 8742.064375, 8683.72125, 8797.444, 8736.941, 8678.941625, 8665.9665, 8740.804375, 8702.28925, 8724.705875, 8703.614125, 8801.576, 8776.889625, 8698.414625, 8765.961, 8741.4315, 8732.99375, 8714.557125, 8734.441375, 8728.524625, 8776.175, 8672.489375, 8702.623625, 8686.824875, 8706.7675, 8687.2635, 8722.21075, 8817.576375, 8751.315625, 8632.029875, 8704.662375, 8757.203625, 8708.25025, 8707.721625, 8785.27275, 8766.892, 8833.771625, 8669.727125, 8748.131125, 8856.49225, 8687.852625, 8730.43325, 8709.67225, 8663.076375, 8733.342125, 8645.470375, 8692.3805, 8754.264875, 8792.1965, 8712.7015, 8789.941875, 8729.108125, 8784.367625, 8807.49275, 8770.667875, 8738.32575, 8677.168875, 8713.751125, 8726.595125, 8703.583625, 8731.198875, 8744.799, 8652.47475, 8690.48625, 8683.857875, 8605.67075, 8723.954125, 8676.096625, 8809.575, 8775.447625, 8805.095125, 8634.77625, 8689.29975, 8774.962625, 8658.92775, 8674.967375, 8808.46, 8763.1765, 8792.975375, 8714.70225, 8774.714, 8739.340625, 8723.285125, 8661.9605, 8738.571125, 8659.31325, 8715.196875, 8734.774375, 8685.148125, 8809.4525, 8710.934, 8730.100625, 8650.336875, 8688.953625, 8856.7675, 8763.842625, 8723.270125, 8728.536, 8729.958875, 8783.746125, 8758.31475, 8670.766875, 8731.4285, 8754.00375, 8700.8235, 8776.745875, 8718.71525, 8762.467375, 8799.599, 8686.431, 8683.37125, 8703.565125, 8723.97325, 8669.828125, 8820.477, 8730.225375, 8856.75275, 8806.830625, 8745.60725, 8719.039, 8804.547125, 8670.17825, 8746.926625, 8758.955625, 8747.602, 8766.2, 8730.863625, 8741.9295, 8840.02175, 8707.891375, 8740.806125, 8810.351625, 8790.47925, 8691.1085, 8697.422, 8696.241, 8697.360875, 8640.668875, 8764.185125, 8752.4855, 8739.14, 8669.37575, 8733.600625, 8719.470375, 8760.361875, 8740.98575, 8696.748625, 8658.476375, 8693.249875, 8727.977375, 8698.064125, 8735.491125, 8739.937125, 8771.493625, 8718.091625, 8677.379375, 8716.533375, 8715.63375, 8711.63825, 8706.832625, 8737.0575, 8740.3465, 8773.18725, 8663.6035, 8705.51725, 8742.245875, 8742.941375, 8717.8425, 8821.39775, 8682.180625, 8697.89225, 8782.4555, 8695.466, 8763.748625, 8717.0935, 8792.624625, 8622.4245, 8705.62475, 8680.76425, 8800.961, 8773.27175, 8730.621875, 8829.1005, 8763.474375, 8822.375625, 8769.18825, 8757.90775, 8701.564625, 8763.57975, 8710.4875, 8811.839125, 8723.188875, 8761.722375, 8855.207375, 8812.250875, 8686.25675, 8778.4055, 8787.012625, 8791.720375, 8737.374375, 8685.794, 8651.10925, 8801.5405, 8775.930875, 8682.983625, 8748.420125, 8827.3115, 8626.36375, 8842.66825, 8774.01125, 8701.534375, 8666.996375, 8767.595875, 8735.473875, 8724.133125, 8695.27975, 8794.186125, 8820.733125, 8770.929875, 8738.5285, 8797.09925, 8780.174375, 8731.579625, 8723.82375, 8712.88, 8802.703375, 8656.7285, 8738.698875, 8711.671875, 8677.384125, 8631.152125, 8617.232, 8693.25, 8704.169625, 8708.148375, 8634.09275, 8670.0055, 8789.7485, 8795.171125, 8628.599375, 8804.204375, 8772.74975, 8754.267625, 8760.897375, 8625.713625, 8756.631375, 8711.569625, 8716.542, 8758.594625, 8692.06025, 8701.48825, 8696.852875, 8697.05425, 8767.65025, 8756.44725, 8708.44375, 8771.498625, 8756.031875, 8664.364625, 8746.426375, 8809.6355, 8615.19975, 8729.518625, 8798.8375, 8700.07575, 8775.47025, 8685.066625, 8815.59875, 8761.601125, 8704.814125, 8782.601875, 8673.990625, 8718.410625, 8775.204, 8746.0715, 8639.071, 8707.696125, 8740.831375, 8813.518625, 8753.002625, 8780.113625, 8817.197, 8754.11025, 8631.619625, 8724.123375, 8709.62425, 8651.140125, 8720.059625, 8720.7035, 8733.54425, 8749.095875, 8773.37325, 8695.610875, 8748.28375, 8741.413375, 8683.8335, 8826.875, 8666.99425, 8776.68125, 8689.32825, 8717.410875, 8677.291125, 8741.958875, 8752.976375, 8722.5695, 8726.616125, 8762.868875, 8652.486125, 8715.965875, 8754.038875, 8690.082, 8745.08675, 8725.994125, 8852.945875, 8738.269, 8683.782, 8670.444875, 8749.79375, 8815.3075, 8776.49175, 8596.3225, 8728.763625, 8627.834, 8846.399875, 8730.280125, 8709.687625, 8652.367375, 8755.595375, 8776.2105, 8698.01725, 8707.886625, 8746.4565, 8706.98975, 8803.592125, 8746.012375, 8752.176125, 8747.11575, 8634.816625, 8815.7105, 8786.43275, 8789.181625, 8758.433, 8815.62025, 8720.041125, 8728.813625, 8715.354375, 8725.222625, 8753.481875, 8749.421125, 8728.660625, 8745.532, 8762.420125, 8750.344125, 8650.32675, 8772.869, 8737.701125, 8758.07125, 8709.2205, 8647.0355, 8732.043125, 8833.881, 8761.0, 8641.347, 8702.250125, 8700.036875, 8699.737375, 8705.71425, 8825.926, 8722.239625, 8801.288125, 8727.344, 8783.660875, 8676.70125, 8762.235, 8747.526375, 8742.36275, 8845.040125, 8822.71875, 8695.202875, 8693.025375, 8789.060875, 8628.3385, 8676.303, 8785.17925, 8760.4225, 8764.85125, 8791.082875, 8764.193875, 8777.466125, 8782.950875, 8663.972375, 8744.922, 8855.29325, 8747.905125, 8810.30325, 8737.802625, 8639.0035, 8754.38875, 8759.93925, 8691.056, 8680.29425, 8733.719875, 8728.866375, 8695.600875, 8699.086375, 8592.567, 8722.9875, 8612.97475, 8767.50825, 8742.073, 8681.986125, 8742.245125, 8747.104875, 8666.09475, 8687.8135, 8850.096625, 8652.38925, 8770.9025, 8716.138625, 8734.0255, 8809.908125, 8744.749125, 8775.68, 8746.679875, 8649.450125, 8741.192125, 8766.89975, 8783.725125, 8738.63925, 8850.645125, 8740.766375, 8685.482, 8657.4655, 8749.8495, 8747.5395, 8760.029375, 8692.409, 8772.933625, 8777.302875, 8760.63125, 8783.609375, 8666.008375, 8708.911125, 8696.883625, 8812.531625, 8683.920375, 8769.5125, 8823.8485, 8711.15275, 8743.072375, 8650.570625, 8768.044375, 8856.201375, 8736.34075, 8667.400625, 8725.251625, 8712.6585, 8719.00575, 8758.7705, 8738.374625, 8760.982625, 8698.37425, 8741.38575, 8792.0745, 8687.741375, 8736.091375, 8766.526125, 8748.9, 8718.278, 8708.173375, 8636.419375, 8612.991125, 8732.51075, 8704.445125, 8636.9775, 8739.061875, 8727.764375, 8747.025875, 8712.05325, 8729.962125, 8759.31025, 8750.722625, 8791.625875, 8710.7655, 8606.868625, 8751.55375, 8802.464875, 8797.110125, 8767.12425, 8760.57725, 8652.873875, 8729.39525, 8762.59325, 8743.708625, 8703.006625, 8682.807625, 8775.007125, 8697.557375, 8755.321, 8804.170625, 8718.831875, 8718.161125, 8823.224375, 8652.20425, 8697.32925, 8725.23375, 8741.918, 8639.739, 8698.212625, 8760.135, 8702.346125, 8752.19825, 8712.838, 8671.648375, 8732.943375, 8887.205125, 8787.27675, 8696.13525, 8683.739875, 8772.336, 8781.190875, 8647.241625, 8630.646125, 8768.34375, 8781.892625, 8772.141875, 8741.608, 8643.04525, 8692.473625, 8737.765875, 8694.96125, 8738.341875, 8776.531625, 8753.497625, 8707.1025, 8750.54775, 8676.815, 8724.6425, 8701.03525, 8740.470625, 8756.307625, 8851.99725, 8744.724625, 8782.5705, 8681.41275, 8671.65575, 8732.628375, 8714.45325, 8749.007875, 8738.36525, 8692.9475, 8728.558125, 8731.02575, 8688.577875, 8751.258375, 8719.479625, 8788.622875, 8661.12175, 8745.780375, 8741.5075, 8674.677875, 8754.063875, 8814.091, 8795.220875, 8755.366625, 8610.837125, 8707.92475, 8707.75675, 8669.93625, 8671.594, 8811.81475, 8749.774625, 8738.451875, 8664.79275, 8753.2765, 8737.20575, 8777.447875, 8790.9545, 8684.319125, 8721.523875, 8761.25075, 8760.9235, 8730.77625, 8835.17375, 8726.6745, 8731.38925, 8708.94775, 8740.0315, 8700.224125, 8762.3205, 8811.263375, 8668.661125, 8732.6595, 8821.450375, 8727.090875, 8753.785, 8868.72825, 8726.472875, 8627.965625, 8732.26475, 8787.992375, 8685.310875, 8736.961125, 8621.93275, 8649.216625, 8842.540125, 8796.08075, 8856.093125, 8675.644125, 8753.923625, 8757.887625, 8690.71325, 8786.6725, 8770.889375, 8741.141875, 8710.695875, 8695.440875, 8698.78325, 8752.048, 8725.299125, 8701.395875, 8832.21375, 8775.29375, 8678.1865, 8712.065875, 8767.5915, 8807.923375, 8722.756, 8743.74225, 8738.59975, 8850.33475, 8788.2945, 8790.099875, 8659.6125, 8697.918875, 8730.447125, 8743.117625, 8767.8855, 8678.591625, 8690.703375, 8781.839875, 8747.229875, 8712.677875, 8671.768125, 8734.23275, 8827.587375, 8638.687875, 8717.224875, 8690.566125, 8820.503125, 8775.119375, 8778.393, 8785.281, 8759.058, 8758.2725, 8732.4755, 8760.554875, 8770.447875, 8742.970125, 8684.91875, 8743.408875, 8762.084875, 8831.354375, 8792.800375, 8792.811125, 8835.460375, 8491.656125, 8727.470125, 8645.958, 8728.627625, 8742.826625, 8846.424875, 8655.935625, 8746.038625, 8791.33125, 8708.504, 8755.08225, 8764.182, 8833.095625, 8705.272125, 8763.516625, 8665.183125, 8664.39875, 8706.615625, 8753.047875, 8695.119125, 8657.186875, 8752.261125, 8791.651875, 8723.315875, 8662.337375, 8802.640625, 8829.33875, 8643.3625, 8720.764, 8716.352875, 8753.671125, 8781.46225, 8847.18075, 8682.860625, 8775.89225, 8752.85275, 8725.687, 8670.666875, 8835.99175, 8771.608125, 8648.782125, 8659.634625, 8702.343875, 8771.9095, 8759.31025, 8710.37075, 8657.097125, 8734.312125, 8721.29625, 8791.69925, 8635.7895, 8730.608125, 8635.4765, 8738.619, 8608.599875, 8734.85475, 8749.741875, 8718.270875, 8768.93625, 8733.82225, 8624.885375, 8734.38625, 8751.51175, 8631.768, 8742.992875, 8731.892625, 8696.557375, 8794.914125, 8785.569875, 8684.539, 8673.13, 8685.630875, 8718.295625, 8713.515125, 8804.6335, 8764.193875, 8741.72875, 8622.966375, 8799.512, 8765.671125, 8796.222, 8735.1065, 8692.754125, 8655.972375, 8730.361375, 8790.551375, 8622.947125, 8765.6665, 8818.950125, 8727.148875, 8723.027375, 8693.426125, 8771.036625, 8785.3245, 8784.439625, 8607.49375, 8758.13725, 8692.26125, 8718.767, 8729.825125, 8807.61275, 8721.810375, 8831.191125, 8712.30575, 8717.32725, 8628.6, 8730.808875, 8764.92225, 8710.845625, 8736.586625, 8802.88275, 8765.21925, 8708.700625, 8731.618625, 8754.88, 8741.03625, 8616.946, 8735.080875, 8769.822625, 8762.657625, 8687.932625, 8728.38425, 8708.07175, 8841.529, 8758.24325, 8733.072375, 8699.68825, 8802.400125, 8789.541375, 8743.426625, 8807.2945, 8768.888625, 8657.865375, 8827.9465, 8694.25075, 8766.905125, 8754.4155, 8745.79175, 8682.416875, 8780.35275, 8766.260875, 8742.454, 8662.122875, 8794.419125, 8665.847125, 8724.2475, 8660.020625, 8707.908, 8617.12775, 8734.48325, 8747.71025, 8712.371, 8627.916875, 8830.4745, 8698.875125, 8807.41225, 8692.202125, 8748.74425, 8769.576375, 8760.75925, 8751.769125, 8788.2735, 8712.42725, 8780.721375, 8780.93775, 8726.862125, 8675.402125, 8723.23825, 8795.0825, 8839.5375, 8680.660125, 8761.221875, 8786.05375, 8704.628875, 8737.9135, 8754.032125, 8783.8675, 8767.445125, 8762.109, 8705.773375, 8769.974875, 8688.105, 8656.4925, 8731.53475, 8713.30775, 8843.6405, 8729.581625, 8669.805625, 8761.743375, 8757.107125, 8820.4445, 8692.149125, 8697.20075, 8754.647125, 8730.619875, 8758.258625, 8770.91975, 8750.792625, 8658.782375, 8739.18, 8801.112125, 8676.56775, 8749.365875, 8707.81625, 8600.171375, 8762.9195, 8792.70375, 8680.108625, 8703.980375, 8830.365, 8822.569125, 8791.141375, 8726.547875, 8829.984125, 8668.256375, 8817.456625, 8706.439875, 8698.680125, 8796.71775, 8748.968, 8711.788625, 8703.1895, 8747.167625, 8806.49525, 8796.869625, 8787.56875, 8725.9515, 8796.69075, 8742.913125, 8727.329125, 8667.050625, 8740.9265, 8731.256875, 8758.749875, 8825.073625, 8665.49825, 8789.007875, 8660.48325, 8872.659125, 8877.145625, 8684.964125, 8724.64175, 8651.357, 8700.849375, 8678.273, 8646.78875, 8781.84525, 8668.81675, 8803.14275, 8728.520375, 8798.93375, 8670.1475, 8700.84475, 8724.051375, 8641.754, 8697.54075, 8698.367125, 8685.3455, 8710.523875, 8722.14275, 8764.816375, 8794.315875, 8839.998, 8767.51175, 8761.115875, 8761.667375, 8817.987625, 8704.785875, 8835.071, 8765.147375, 8654.493375, 8705.06325, 8702.547875, 8834.175625, 8716.792875, 8671.22175, 8723.458875, 8706.619375, 8691.938125, 8797.2115, 8761.35925, 8775.573, 8792.40125, 8635.8615, 8689.277625, 8751.470625, 8727.108, 8646.58625, 8688.18425, 8719.031625, 8766.172375, 8702.61475, 8793.434875, 8751.28975, 8676.583625, 8720.711, 8683.547875, 8665.34525, 8719.193375, 8815.8485, 8748.600125, 8720.5785, 8688.7065, 8707.2935, 8856.706125, 8713.252375, 8606.324875, 8752.584125, 8673.179, 8646.7975, 8659.1885, 8756.129375, 8689.73775, 8750.686375, 8725.80325, 8683.13625, 8758.518875, 8697.609, 8795.732625, 8800.04575, 8831.61975, 8733.33075, 8776.595875, 8770.935875, 8706.2225, 8811.220125, 8888.04375, 8726.90075, 8716.533125, 8820.100125, 8811.495875, 8822.31625, 8815.093125, 8775.502, 8820.25575, 8716.2815, 8737.42, 8836.855875, 8759.600625, 8720.97825, 8702.86675, 8862.762875, 8762.882375, 8749.39775, 8648.019875, 8589.694, 8792.37975, 8674.90175, 8692.94575, 8680.693625, 8677.83025, 8793.167875, 8749.625, 8753.912875, 8728.3335, 8647.613875, 8742.27525, 8747.2275, 8669.3905, 8790.849875, 8848.589, 8676.370375, 8660.230875, 8699.269125, 8800.888, 8692.5005, 8812.180875, 8737.50025, 8695.415875, 8791.534125, 8750.152625, 8737.730625, 8848.63275, 8711.70175, 8694.903, 8751.92075, 8758.008875, 8753.3975, 8682.88775, 8760.221, 8754.935875, 8761.689375, 8698.7975, 8857.393625, 8790.4635, 8723.277125, 8819.973, 8803.61775, 8731.687125, 8762.599, 8646.515875, 8661.0935, 8789.693875, 8639.355375, 8679.58775, 8544.08275, 8737.055875, 8717.889, 8712.225625, 8734.904125, 8701.828, 8708.5555, 8732.594125, 8778.97375, 8689.10225, 8700.33425, 8768.5855, 8799.880875, 8723.96825, 8665.542875, 8782.498125, 8751.008125, 8711.09375, 8730.817, 8685.017, 8667.937375, 8823.837, 8788.660625, 8717.29025, 8671.302375, 8751.77725, 8781.617625, 8700.17575, 8658.4605, 8743.1175, 8718.86825, 8734.254, 8745.596125, 8709.813, 8639.647375, 8701.40075, 8721.4815, 8761.37125, 8784.05125, 8772.27575, 8676.987875, 8717.885375, 8680.099375, 8861.246375, 8814.716375, 8697.64125, 8703.269375, 8776.63725, 8764.401875, 8759.356125, 8723.538875, 8789.049875, 8732.53575, 8696.134875, 8792.716, 8752.666125, 8797.022625, 8743.14475, 8797.239125, 8702.913, 8690.5265, 8819.469375, 8712.803, 8736.779125, 8751.55075, 8764.57025, 8781.345625, 8726.2705, 8785.473, 8770.702375, 8732.1825, 8638.456125, 8718.937875, 8834.828375, 8763.2155, 8791.70275, 8782.098875, 8721.995875, 8804.815375, 8701.120875, 8799.52475, 8783.017375, 8649.27175, 8717.955625, 8743.84225, 8651.915875, 8757.366, 8804.46475, 8748.244, 8739.733875, 8708.638, 8702.43125, 8718.347375, 8684.363, 8741.119125, 8702.372, 8734.022, 8697.688875, 8719.369, 8645.227, 8739.859875, 8773.45775, 8837.5615, 8747.709125, 8696.740625, 8756.42875, 8631.68975, 8699.800125, 8784.5665, 8685.79575, 8710.354125, 8646.806875, 8752.918375, 8786.399, 8632.223625, 8812.2815, 8741.458125, 8806.96675, 8711.62325, 8687.4405, 8669.413, 8732.339125, 8691.043, 8749.64325, 8675.313125, 8780.54975, 8717.177375, 8633.2275, 8719.582125, 8770.6895, 8757.566625, 8767.949875, 8657.28525, 8773.034875, 8653.933625, 8683.086875, 8737.602375, 8667.253, 8698.79925, 8725.249875, 8783.718875, 8733.63075, 8721.13475, 8706.73, 8729.102875, 8712.858, 8706.296, 8736.10275, 8753.986125, 8519.845625, 8849.436625, 8691.987375, 8772.289375, 8806.548875, 8734.59275, 8752.49175, 8668.9345, 8798.7765, 8716.81625, 8736.755875, 8739.33375, 8761.17925, 8688.9465, 8846.603125, 8701.5935, 8641.52475, 8747.035875, 8713.627125, 8668.50225, 8647.616625, 8729.9215, 8601.474375, 8750.0355, 8710.869375, 8697.16425, 8769.080125, 8791.251, 8697.74975, 8665.35425, 8710.652, 8733.951125, 8754.649625, 8684.481, 8761.195375, 8784.994375, 8804.930875, 8720.179625, 8794.704, 8744.713375, 8779.292, 8749.91825, 8712.877375, 8742.936, 8794.589125, 8755.2545, 8712.26375, 8709.071, 8726.997, 8801.069, 8746.244875, 8612.436625, 8778.159875, 8737.11375, 8789.18825, 8737.066375, 8774.471375, 8737.721, 8716.374875, 8834.0055, 8614.69975, 8770.34675, 8727.959875, 8683.170125, 8728.98675, 8716.01525, 8690.028125, 8798.968125, 8749.9555, 8719.425875, 8748.0405, 8785.0135, 8727.1, 8675.444375, 8681.3265, 8716.848625, 8677.16275, 8649.1755, 8757.978375, 8676.297125, 8682.667375, 8806.782875, 8619.5055, 8759.818625, 8667.39675, 8671.752875, 8768.988125, 8766.615375, 8650.711375, 8776.57775, 8716.607625, 8638.32475, 8771.611375, 8752.55925, 8711.27575, 8750.30175, 8720.78275, 8709.209625, 8851.039125, 8767.541875, 8789.688, 8696.49475, 8708.3535, 8668.74275, 8753.8225, 8747.898125, 8740.15075, 8599.4275, 8810.5215, 8714.36575, 8727.506625, 8745.233875, 8770.62125, 8731.47625, 8819.493125, 8777.807625, 8689.707625, 8696.912375, 8756.304, 8725.880125, 8625.18275, 8740.646875, 8624.8465, 8705.954625, 8770.4685, 8601.35675, 8793.60525, 8782.689625, 8869.06325, 8757.780875, 8770.573375, 8694.36975, 8801.753, 8680.64075, 8838.012625, 8642.42, 8802.3975, 8709.052, 8722.421625, 8816.438625, 8729.87, 8791.617875, 8657.00075, 8798.38575, 8739.635, 8718.0905, 8706.675875, 8616.1465, 8743.72275, 8806.2755, 8694.871, 8767.704, 8747.488, 8722.75625, 8713.642125, 8732.12375, 8769.458, 8767.48775, 8706.059, 8751.939875, 8708.13025, 8742.465875, 8724.102, 8761.298125, 8716.326375, 8651.441375, 8686.2775, 8702.2255, 8801.566, 8673.805875, 8767.617875, 8686.202375, 8840.565, 8712.811375, 8734.772375, 8670.602875, 8800.16875, 8728.54825, 8727.333, 8683.752, 8684.772625, 8768.504125, 8694.302125, 8745.519, 8787.774125, 8750.69075, 8731.15225, 8631.23675, 8692.77875, 8666.775625, 8784.337375, 8680.453375, 8716.324, 8700.23875, 8706.67725, 8738.37325, 8719.222125, 8716.399625, 8768.33575, 8885.706375, 8683.272375, 8727.2375, 8694.7315, 8669.09675, 8686.554375, 8728.083625, 8692.570125, 8700.42575, 8694.039625, 8684.2545, 8735.252125, 8677.441375, 8738.267625, 8762.204625, 8700.914625, 8612.579375, 8847.0185, 8891.27575, 8754.535625, 8766.378, 8695.285625, 8744.9545, 8671.27425, 8783.6495, 8717.31325, 8801.469625, 8657.500375, 8730.069875, 8850.489, 8671.040125, 8882.5705, 8746.2485, 8708.828125, 8792.87525, 8820.936, 8755.3245, 8781.143625, 8660.9415, 8784.98575, 8873.141625, 8678.15375, 8771.635375, 8731.82175, 8735.2605, 8772.101875, 8780.327375, 8800.230625, 8620.72125, 8653.494375, 8689.23975, 8780.228125, 8723.45225, 8765.784375, 8670.821, 8742.65925, 8678.8825, 8717.59675, 8853.84825, 8714.30525, 8778.85575, 8806.263875, 8731.138625, 8812.621125, 8833.1185, 8694.702125, 8682.6035, 8685.301625, 8759.48375, 8760.840125, 8730.43, 8670.856, 8679.114375, 8762.272375, 8737.07225, 8680.9755, 8762.19125, 8691.03175, 8688.915625, 8684.865875, 8747.0185, 8742.021625, 8678.08425, 8682.744625, 8781.067125, 8716.114625, 8711.999375, 8722.281625, 8667.5655, 8767.10925, 8762.300875, 8723.16775, 8719.949875, 8727.764, 8675.841625, 8751.097875, 8773.167125, 8651.574875, 8775.898125, 8601.1465, 8762.208625, 8829.899125, 8739.671875, 8821.908625, 8788.90975, 8769.99875, 8761.778875, 8779.9145, 8628.023625, 8719.83075, 8775.890125, 8719.427625, 8715.426875, 8722.400375, 8709.906375, 8653.5475, 8629.417, 8730.28925, 8779.106375, 8806.2835, 8734.061125, 8755.50775, 8661.66625, 8760.779125, 8768.38075, 8732.29525, 8678.674375, 8755.8875, 8706.63525, 8755.193875, 8760.650375, 8686.6715, 8736.587875, 8734.51275, 8765.023125, 8772.90725, 8779.8, 8695.30275, 8710.538, 8619.55025, 8762.665125, 8746.399, 8702.977375, 8596.107, 8746.6475, 8777.11625, 8675.519625, 8708.296375, 8691.55625, 8876.716, 8774.034875, 8673.0545, 8753.090375, 8724.6845, 8776.8145, 8755.11575, 8632.927625, 8700.17375, 8663.825875, 8629.56525, 8662.173875, 8631.405875, 8757.22775, 8767.476375, 8729.7115, 8747.657, 8680.046625, 8751.03625, 8742.017875, 8663.18925, 8786.490125, 8754.90625, 8785.628, 8786.47425, 8736.404875, 8754.676625, 8773.749875, 8628.164625, 8700.574, 8734.989625, 8633.931, 8696.86425, 8761.971875, 8780.3195, 8756.069375, 8780.50875, 8755.063, 8794.132, 8726.972375, 8851.636, 8715.893625, 8765.497125, 8746.755125, 8785.75425, 8711.3335, 8754.42, 8772.18325, 8750.941625, 8609.8745, 8789.896, 8721.941, 8764.235875, 8831.125875, 8790.375375, 8721.257375, 8663.851375, 8802.7445, 8656.1035, 8730.620125, 8730.69275, 8814.4935, 8606.474375, 8726.709375, 8678.204625, 8779.346375, 8716.396125, 8727.33225, 8770.343625, 8783.5295, 8686.929, 8771.573, 8767.493625, 8765.270125, 8777.81225, 8860.888625, 8779.404, 8704.788875, 8737.683375, 8734.679125, 8718.136375, 8782.239125, 8682.5515, 8617.192875, 8688.160625, 8733.77175, 8712.248375, 8761.81125, 8783.67225, 8694.534375, 8766.162125, 8760.9425, 8678.71775, 8812.439125, 8674.452125, 8763.9235, 8743.716, 8817.81275, 8716.61525, 8709.287625, 8692.4055, 8731.913625, 8722.434, 8566.349, 8721.26575, 8828.059875, 8664.005375, 8672.989, 8688.701625, 8722.090375, 8777.2675, 8627.20625, 8776.382375, 8822.107125, 8651.394, 8711.443875, 8804.564375, 8669.176625, 8806.871625, 8669.956625, 8686.525875, 8747.19275, 8729.9215, 8663.6815, 8641.902, 8687.566375, 8814.527125, 8728.74325, 8763.17575, 8601.313375, 8778.1555, 8765.747375, 8797.688875, 8848.31575, 8795.56825, 8787.401, 8659.705375, 8694.53775, 8759.521125, 8789.902375, 8649.460625, 8782.2825, 8709.05375, 8676.8315, 8760.5225, 8834.844625, 8834.670125, 8791.97475, 8713.980625, 8735.500875, 8792.78925, 8720.168125, 8713.21, 8757.455875, 8690.510875, 8693.449375, 8801.83, 8749.906625, 8799.371875, 8750.151, 8730.3185, 8762.34425, 8764.084125, 8746.121125, 8768.690125, 8715.598625, 8683.9755, 8852.405875, 8638.78825, 8761.1845, 8768.6765, 8767.555125, 8750.954875, 8612.629, 8766.39725, 8626.976875, 8692.19525, 8798.102625, 8775.991875, 8779.82775, 8748.312125, 8688.105875, 8744.975375, 8666.446, 8703.667875, 8842.915125, 8799.76575, 8749.086, 8712.981375, 8765.736375, 8777.73825, 8734.484, 8706.76725, 8718.612875, 8761.99525, 8635.07275, 8814.626375, 8755.717875, 8728.124, 8630.7925, 8752.0045, 8713.235125, 8770.25375, 8670.750375, 8656.45575, 8709.119875, 8719.973, 8704.514625, 8658.32075, 8678.116625, 8733.784125, 8749.43575, 8689.237375, 8650.0385, 8719.6675, 8704.523875, 8813.91025, 8752.288375, 8727.249375, 8859.2025, 8736.666625, 8786.77575, 8678.2395, 8831.198375, 8681.75825, 8730.836875, 8658.4575, 8649.581375, 8753.688375, 8786.937125, 8632.971125, 8770.01575, 8637.6825, 8731.733625, 8840.581875, 8662.198375, 8803.841125, 8768.42675, 8773.823125, 8597.5525, 8805.508875, 8674.811375, 8654.8535, 8753.362375, 8715.23875, 8717.207625, 8683.74575, 8666.365375, 8668.58125, 8800.902125, 8694.59825, 8654.37425, 8741.47175, 8808.364875, 8777.119, 8729.419875, 8740.756875, 8695.04375, 8765.56525, 8771.00425, 8805.999125, 8772.365875, 8805.299125, 8741.47875, 8802.496125, 8679.433375, 8737.958375, 8634.167125, 8754.2285, 8728.32175, 8701.82075, 8805.416, 8805.889375, 8838.13975, 8707.495375, 8722.69925, 8779.101625, 8797.535875, 8780.142125, 8696.648875, 8744.572375, 8775.68625, 8707.20475, 8649.677, 8641.371625, 8734.036125, 8703.752, 8818.166875, 8824.389, 8689.477375, 8748.282875, 8769.570875, 8655.387125, 8796.24225, 8766.126625, 8678.606, 8729.086875, 8712.16525, 8828.393375, 8726.55125, 8706.6315, 8588.16025, 8717.529, 8768.7495, 8655.50075, 8691.892875, 8713.03075, 8642.301875, 8837.186125, 8797.742625, 8770.15475, 8775.639875, 8708.70225, 8709.14975, 8804.696875, 8754.102875, 8733.514, 8729.09375, 8698.83825, 8728.200875, 8770.733625, 8675.787125, 8688.253, 8698.9235, 8767.197, 8709.14825, 8768.0825, 8790.6505, 8762.489, 8630.498625, 8802.764125, 8672.604375, 8614.715625, 8782.494875, 8721.82175, 8761.12, 8887.564125, 8796.914375, 8802.0375, 8724.068, 8763.08525, 8673.284625, 8798.574875, 8748.90125, 8646.12825, 8654.661375, 8837.958875, 8851.61575, 8668.092875, 8697.810125, 8758.581375, 8640.4355, 8738.399, 8789.51275, 8650.077625, 8758.929125, 8745.03675, 8657.402, 8707.876625, 8714.762375, 8751.251875, 8807.94575, 8713.13225, 8734.520625, 8620.521625, 8633.8045, 8812.969875, 8683.889625, 8690.714375, 8776.81775, 8670.838125, 8774.713875, 8688.692, 8751.235125, 8603.309875, 8730.183, 8753.527875, 8737.9705, 8665.01275, 8804.517125, 8765.44275, 8767.234375, 8737.019, 8771.631375, 8704.92775, 8710.049875, 8739.525375, 8782.29625, 8670.702625, 8724.144875, 8688.698375, 8687.8665, 8760.92325, 8728.948875, 8743.28225, 8751.072625, 8691.50925, 8702.846375, 8746.944, 8756.8875, 8788.110625, 8842.495875, 8811.2075, 8804.15525, 8730.11175, 8651.9355, 8582.2185, 8820.90325, 8788.5345, 8685.8295, 8753.366125, 8849.114125, 8801.269875, 8831.7875, 8764.985375, 8681.95425, 8757.570375, 8658.307625, 8688.5265, 8793.349125, 8674.702375, 8735.2305, 8689.70575, 8773.82525, 8708.32675, 8659.66175, 8776.91025, 8782.097, 8685.47, 8787.091625, 8667.548375, 8779.837375, 8675.757625, 8728.81075, 8793.7145, 8596.2775, 8802.0585, 8785.865625, 8786.650875, 8724.320875, 8775.031, 8709.653375, 8719.346875, 8653.274875, 8782.4545, 8685.85725, 8707.616, 8764.538125, 8780.278625, 8738.189375, 8755.403, 8701.75375, 8638.663, 8844.3845, 8651.783875, 8681.54925, 8778.07475, 8737.591, 8694.919375, 8760.009125, 8644.954625, 8710.141875, 8742.7075, 8833.178875, 8727.498625, 8807.74725, 8698.706, 8720.954375, 8757.417375, 8728.40125, 8721.21275, 8707.222, 8658.085125, 8806.937375, 8701.14775, 8801.21425, 8758.44675, 8685.884375, 8642.894875, 8744.9435, 8699.92, 8650.0225, 8678.07875, 8782.155625, 8796.964375, 8684.126375, 8681.922625, 8677.314625, 8704.907375, 8721.7795, 8791.015625, 8784.611375, 8689.506375, 8720.261375, 8705.577, 8681.999375, 8747.072375, 8729.819375, 8781.2645, 8662.192625, 8688.3875, 8781.628, 8740.37375, 8713.748375, 8778.450375, 8828.595125, 8648.16225, 8765.285, 8659.528125, 8683.040125, 8793.882375, 8717.41575, 8718.94775, 8789.06675, 8740.514, 8679.74275, 8705.379125, 8824.71925, 8711.168375, 8830.3955, 8669.290875, 8734.52125, 8756.055125, 8728.59325, 8714.279875, 8828.201375, 8739.21175, 8679.608375, 8694.437125, 8716.53875, 8769.89275, 8709.14, 8811.762375, 8681.804, 8806.86675, 8604.399875, 8675.958125, 8695.523125, 8652.087375, 8746.679875, 8851.031, 8724.29025, 8817.342375, 8730.136, 8722.8945, 8637.230125, 8774.8055, 8679.0785, 8676.409, 8818.200375, 8733.867875, 8696.511375, 8768.09625, 8780.85225, 8713.397125, 8687.624875, 8769.867625, 8800.866375, 8725.92175, 8782.526875, 8744.286375, 8811.877125, 8717.904875, 8775.9145, 8780.257875, 8744.015, 8705.76025, 8610.290125, 8738.099875, 8704.280375, 8629.575375, 8797.08525, 8641.7455, 8802.149625, 8779.082375, 8814.124875, 8755.033875, 8716.21775, 8725.01775, 8793.164625, 8698.128875, 8755.49025, 8796.6205, 8763.529, 8779.0605, 8737.712, 8688.106, 8751.151, 8696.077875, 8677.105, 8782.1375, 8729.52625, 8702.30875, 8671.25225, 8682.30525, 8675.69525, 8734.48, 8619.322625, 8620.54975, 8715.833875, 8780.518, 8812.398375, 8701.848125, 8739.326625, 8744.25425, 8753.29025, 8633.716625, 8778.28675, 8798.568375, 8648.777875, 8698.700875, 8676.201125, 8646.04525, 8679.313375, 8753.9765, 8835.241125, 8680.25975, 8796.114875, 8743.27025, 8677.019125, 8795.2715, 8715.63325, 8755.85975, 8748.636625, 8820.617125, 8688.567, 8668.5635, 8707.724625, 8748.16425, 8808.679125, 8838.972625, 8820.226, 8674.706875, 8710.5395, 8690.49825, 8711.903375, 8787.388375, 8722.78475, 8703.574625, 8805.5935, 8700.92025, 8803.8655, 8764.860625, 8663.862875, 8799.06875, 8755.291375, 8669.458625, 8789.167125, 8633.2045, 8785.991875, 8647.28975, 8700.22075, 8751.972875, 8688.7255, 8734.479625, 8673.27225, 8760.29775, 8704.44725, 8714.86025, 8826.874375, 8726.679375, 8767.644125, 8678.83225, 8609.489125, 8685.385, 8689.327125, 8778.7405, 8756.175625, 8742.078625, 8719.651625, 8735.393625, 8774.7335, 8662.076875, 8722.5405, 8731.714125, 8786.149625, 8835.544, 8708.953625, 8729.62625, 8649.576125, 8627.920125, 8733.427125, 8709.924375, 8649.745875, 8702.327875, 8776.86025, 8792.870375, 8820.693, 8698.458, 8712.5805, 8671.09675, 8763.48625, 8787.4285, 8690.6535, 8736.387375, 8705.9465, 8725.900125, 8640.256, 8761.775375, 8707.287875, 8715.643625, 8730.87725, 8694.806875, 8703.36925, 8737.558625, 8743.677125, 8729.6805, 8682.854625, 8676.429, 8742.676875, 8827.379625, 8690.521625, 8788.036, 8693.87375, 8743.617125, 8841.43875, 8843.629125, 8787.604875, 8735.814625, 8712.10575, 8752.43275, 8810.041, 8765.183625, 8669.5845, 8724.777875, 8724.416875, 8710.993625, 8706.929125, 8742.473625, 8684.523375, 8767.30125, 8763.627375, 8835.088625, 8769.73575, 8660.01225, 8790.051125, 8742.4085, 8742.730625, 8771.543, 8752.99175, 8691.623125, 8752.388875, 8760.033, 8694.26275, 8715.41525, 8717.894, 8745.865625, 8702.431375, 8751.203625, 8749.27425, 8833.290125, 8716.262625, 8818.914875, 8686.5545, 8699.372125, 8749.650625, 8808.5445, 8691.61975, 8667.01925, 8670.660625, 8637.51, 8696.245375, 8765.60875, 8782.104625, 8712.398, 8738.063375, 8769.902625, 8682.01475, 8825.206625, 8781.583375, 8755.7305, 8753.585375, 8655.784375, 8729.6995, 8589.9775, 8696.15975, 8743.138, 8741.19975, 8729.6215, 8728.83075, 8714.106625, 8713.638625, 8749.501625, 8818.79625, 8694.30025, 8737.389375, 8654.05875, 8744.041375, 8704.812125, 8722.2245, 8815.7845, 8712.733125, 8721.369, 8722.8955, 8734.535375, 8737.027125, 8792.362875, 8868.072625, 8829.886, 8801.219375, 8696.64175, 8736.418375, 8739.317625, 8819.967875, 8758.27825, 8727.896, 8838.567125, 8738.01725, 8760.37325, 8805.063625, 8722.645875, 8682.365, 8682.13725, 8707.3965, 8643.876625, 8774.23025, 8648.471125, 8729.55375, 8705.620125, 8744.25575, 8813.859375, 8802.36975, 8665.974875, 8732.003125, 8633.21275, 8763.421, 8674.929125, 8790.639625, 8766.71725, 8733.62575, 8681.53625, 8651.1435, 8700.750875, 8830.040625, 8723.203125, 8741.106, 8647.706, 8775.34125, 8732.84725, 8751.909125, 8767.545375, 8545.947875, 8703.878375, 8797.903375, 8783.695, 8765.014375, 8709.476625, 8734.634, 8671.955375, 8759.042125, 8853.540375, 8733.491125, 8820.262, 8828.394875, 8671.3915, 8697.687, 8785.437125, 8882.53325, 8822.876125, 8767.615, 8772.2565, 8802.868125, 8754.1995, 8744.284125, 8683.83925, 8695.962875, 8795.163375, 8730.958, 8758.1345, 8800.585875, 8777.537875, 8856.4355, 8779.493875, 8749.74175, 8706.29425, 8759.755375, 8776.23875, 8619.60075, 8661.010875, 8780.88975, 8726.44125, 8727.63, 8664.983625, 8779.547375, 8819.19825, 8770.379375, 8721.23, 8796.069375, 8731.316375, 8827.048125, 8762.402625, 8769.674875, 8747.491375, 8742.09525, 8739.107, 8735.387125, 8689.39575, 8747.942125, 8814.2945, 8783.737375, 8699.462625, 8730.195625, 8766.7515, 8565.708, 8688.40275, 8718.24975, 8722.412375, 8788.210875, 8703.71325, 8775.69975, 8730.554625, 8716.518, 8721.958, 8764.863, 8682.7055, 8628.758625, 8805.264875, 8764.989375, 8688.485625, 8746.57225, 8695.862625, 8694.361, 8653.756875, 8761.642125, 8752.297375, 8719.96375, 8618.50125, 8750.59225, 8728.680875, 8788.271, 8790.612625, 8774.99625, 8659.81125, 8658.146625, 8846.8595, 8672.873375, 8805.401875, 8670.26425, 8666.120625, 8672.398875, 8734.518, 8752.707375, 8730.8295, 8706.852375, 8650.61125, 8776.379875, 8809.3305, 8740.5995, 8768.224875, 8737.064375, 8630.59175, 8783.326375, 8715.253125, 8826.6645, 8717.394, 8773.92675, 8706.6985, 8780.514875, 8663.35125, 8695.7905, 8848.15475, 8742.65675, 8661.5795, 8628.554375, 8819.0095, 8700.669375, 8778.95475, 8775.384, 8796.696125, 8835.002875, 8702.180625, 8761.704875, 8755.7085, 8670.691875, 8688.493625, 8653.3725, 8828.5265, 8727.006, 8780.402625, 8715.960625, 8808.541375, 8742.84375, 8657.691625, 8701.30575, 8705.40525, 8818.827, 8709.05, 8767.156875, 8790.088625, 8708.429125, 8730.280625, 8650.855, 8754.26675, 8627.8745, 8724.619125, 8765.641625, 8749.847, 8809.603625, 8738.68375, 8698.12575, 8766.50175, 8749.928625, 8778.406, 8718.436125, 8645.795375, 8777.866375, 8696.9725, 8815.462375, 8752.979125, 8759.205125, 8708.694125, 8770.719875, 8829.333875, 8733.436875, 8754.7795, 8758.601125, 8734.602375, 8801.548375, 8673.3475, 8748.053, 8728.1925, 8641.9525, 8800.3415, 8758.4145, 8637.10225, 8660.99725, 8768.460625, 8785.481875, 8790.275375, 8752.850875, 8737.479, 8750.021875, 8694.64375, 8708.855125, 8753.83225, 8784.69825, 8728.433125, 8770.127375, 8723.90125, 8794.40675, 8714.097125, 8689.167375, 8660.92325, 8664.801875, 8694.597, 8690.766125, 8781.881125, 8738.227125, 8736.738, 8719.418875, 8752.538375, 8674.986, 8704.547875, 8696.851125, 8762.338125, 8692.37125, 8769.2115, 8684.6475, 8769.85725, 8680.018625, 8780.297375, 8797.77025, 8719.46475, 8806.5285, 8713.248875, 8739.20525, 8930.895375, 8718.26525, 8831.179375, 8798.756, 8695.7885, 8906.13475, 8751.96275, 8726.127125, 8649.0475, 8759.38525, 8792.485125, 8653.233625, 8715.753875, 8732.539875, 8713.27125, 8761.911125, 8701.0095, 8682.3485, 8655.82, 8835.031, 8804.4595, 8693.354375, 8699.328875, 8651.096125, 8629.06, 8619.834375, 8730.572875, 8730.260125, 8672.471625, 8744.329, 8655.135, 8760.69325, 8729.677125, 8693.17925, 8715.6165, 8681.677625, 8725.722625, 8736.66, 8695.694375, 8776.06125, 8679.143, 8705.74625, 8749.183875, 8691.83225, 8683.0795, 8807.765125, 8734.7685, 8800.466875, 8723.98025, 8685.806, 8728.719875, 8726.754, 8746.905625, 8744.5175, 8747.26975, 8670.4615, 8738.73225, 8729.408, 8687.0375, 8738.395625, 8686.443375, 8814.463, 8709.9505, 8764.407125, 8735.495625, 8670.127, 8714.892875, 8795.023875, 8811.23625, 8731.80625, 8741.82925, 8766.254, 8794.5555, 8752.756625, 8712.5715, 8724.181375, 8737.767625, 8664.652, 8885.00325, 8827.45175, 8815.0185, 8750.444375, 8772.35875, 8708.4945, 8663.69375, 8715.747625, 8837.497625, 8785.824625, 8725.16175, 8743.5455, 8718.1055, 8649.899125, 8808.71175, 8763.261875, 8750.602, 8866.508, 8654.442125, 8701.745875, 8775.5885, 8792.939, 8678.950125, 8735.2375, 8618.301125, 8791.239375, 8721.168, 8723.39675, 8715.302125, 8820.88975, 8917.98375, 8774.9655, 8825.732625, 8625.43475, 8781.29375, 8714.927, 8714.372, 8725.523, 8715.661375, 8701.17625, 8785.448375, 8711.069625, 8841.676875, 8722.856, 8707.692125, 8721.221375, 8789.452, 8766.06225, 8745.523, 8611.35825, 8763.993125, 8750.34325, 8661.084375, 8690.7795, 8779.0685, 8837.881375, 8771.3835, 8805.916875, 8769.57625, 8810.183875, 8757.313, 8792.539875, 8676.694875, 8724.355375, 8710.101625, 8667.360375, 8819.554, 8775.024375, 8704.45325, 8742.069625, 8717.95625, 8745.365875, 8807.204875, 8805.659375, 8715.685375, 8679.148, 8815.1685, 8726.6985, 8695.842, 8707.929375, 8779.451875, 8696.48325, 8728.420625, 8775.883, 8732.269375, 8778.253, 8740.520625, 8770.3695, 8735.9995, 8768.525, 8742.6655, 8679.655625, 8750.724125, 8650.215375, 8774.977625, 8835.7655, 8789.9545, 8697.692125, 8777.295625, 8649.243875, 8764.650875, 8683.497875, 8788.889625, 8701.2445, 8797.06125, 8730.663, 8782.233, 8673.428125, 8734.92325, 8682.959875, 8760.907375, 8832.328875, 8712.8145, 8811.147875, 8770.266875, 8748.183375, 8790.28875, 8759.697875, 8760.125, 8678.2245, 8677.810125, 8629.04475, 8702.14375, 8734.444, 8712.005875, 8852.78575, 8558.29275, 8754.82875, 8760.154125, 8768.6635, 8812.98525, 8769.998875, 8742.789, 8711.6105, 8690.551625, 8653.012875, 8655.374, 8759.999625, 8688.765, 8771.722875, 8732.032875, 8679.853, 8694.69825, 8798.713875, 8794.963875, 8753.14225, 8759.24825, 8722.9775, 8787.276625, 8707.1135, 8686.52025, 8726.9895, 8772.1675, 8610.829875, 8764.303375, 8687.07325, 8762.913625, 8735.870625, 8743.941375, 8776.5285, 8640.25975, 8694.145625, 8798.12325, 8797.794, 8714.03675, 8711.43025, 8766.345125, 8716.213625, 8713.39025, 8797.402, 8709.54025, 8659.164, 8763.595375, 8702.27275, 8747.233125, 8691.698, 8735.30475, 8678.261875, 8777.251375, 8709.19175, 8740.7745, 8728.953, 8776.639625, 8736.96575, 8689.69375, 8790.636875, 8713.88275, 8757.92275, 8720.781375, 8781.925625, 8863.379875, 8689.558625, 8861.536125, 8630.043125, 8664.333125, 8622.69475, 8632.742875, 8699.805375, 8685.81475, 8712.948, 8709.64075, 8792.229625, 8834.1215, 8773.058875, 8699.816375, 8764.69375, 8785.029, 8790.986375, 8649.726125, 8780.76, 8707.6865, 8724.111, 8706.32075, 8791.081, 8821.7, 8782.175625, 8793.36675, 8717.591875, 8670.991375, 8848.731, 8729.708375, 8725.383625, 8842.357125, 8745.362, 8808.68325, 8763.24575, 8667.377125, 8719.81975, 8704.305125, 8723.751125, 8749.6715, 8763.040375, 8668.698, 8687.727875, 8796.9835, 8715.569875, 8755.8975, 8626.545, 8761.9655, 8748.721875, 8768.775375, 8752.009875, 8732.25875, 8757.652, 8654.81125, 8729.245875, 8757.321125, 8780.68625, 8788.316125, 8774.566625, 8751.08525, 8702.58175, 8695.379625, 8792.061625, 8687.331375, 8607.176125, 8822.06925, 8772.796375, 8733.2685, 8811.485, 8785.777375, 8809.89575, 8737.450625, 8691.29275, 8725.159625, 8704.941125, 8656.643375, 8781.9115, 8730.238625, 8728.715625, 8680.585625, 8753.2425, 8701.635, 8719.832875, 8747.506, 8694.796875, 8677.19125, 8751.14725, 8813.0085, 8757.386625, 8641.078125, 8767.435375, 8778.795875, 8717.55875, 8745.17375, 8823.307125, 8750.0245, 8750.666625, 8769.837, 8685.518375, 8660.6135, 8687.673875, 8789.451375, 8713.777375, 8779.581375, 8719.85175, 8785.91475, 8664.06125, 8718.743, 8748.3015, 8791.615875, 8684.80125, 8697.135625, 8669.651125, 8753.768, 8663.224625, 8660.3545, 8743.782625, 8668.938, 8723.842, 8739.1065, 8663.94125, 8770.147625, 8793.162375, 8650.749, 8722.22925, 8663.566, 8745.230625, 8715.685125, 8792.238875, 8791.274375, 8833.1225, 8749.774625, 8702.236, 8757.109625, 8756.293125, 8747.499, 8696.438875, 8687.032, 8676.16525, 8751.81525, 8748.839, 8687.52525, 8745.3555, 8704.853875, 8628.192875, 8744.530875, 8772.859625, 8805.602125, 8703.140375, 8750.555125, 8700.78225, 8775.851375, 8698.63625, 8775.695375, 8730.108, 8730.398, 8684.7715, 8754.302375, 8661.185125, 8779.2685, 8712.130625, 8745.44375, 8784.417625, 8698.23075, 8730.405625, 8714.081875, 8713.518625, 8684.37975, 8835.184875, 8698.485375, 8761.632125, 8728.9505, 8708.147125, 8713.1485, 8678.364375, 8762.98, 8751.545625, 8836.585875, 8684.650375, 8676.29525, 8885.656, 8705.768375, 8745.940625, 8798.909125, 8744.011125, 8647.137125, 8858.1355, 8728.450375, 8708.4345, 8746.25325, 8705.598375, 8694.461625, 8660.527125, 8804.3795, 8763.285, 8733.356875, 8755.818, 8766.45775, 8776.5325, 8706.676125, 8766.211875, 8805.9925, 8723.197, 8792.145125, 8701.50925, 8750.454875, 8784.713875, 8709.706875, 8691.704375, 8775.683875, 8755.9995, 8772.24875, 8658.161125, 8763.979375, 8690.625125, 8742.61225, 8646.673375, 8747.6975, 8770.41175, 8733.0995, 8739.88475, 8748.430875, 8736.718125, 8700.410625, 8815.899375, 8648.438125, 8787.391625, 8692.63225, 8745.547375, 8788.218875, 8696.142625, 8694.301625, 8778.579, 8705.478625, 8778.415, 8743.55725, 8745.3765, 8686.04675, 8710.491375, 8675.45275, 8717.406125, 8806.403, 8712.33775, 8846.9835, 8781.996875, 8707.891875, 8752.54325, 8821.102125, 8671.717625, 8864.052875, 8649.839, 8759.3035, 8761.22075, 8729.235125, 8727.991625, 8731.716125, 8722.617375, 8785.459625, 8742.628125, 8816.947125, 8749.604625, 8755.646, 8789.206375, 8759.494375, 8769.093875, 8768.73525, 8723.715125, 8737.558375, 8749.096125, 8685.002, 8822.001875, 8770.6165, 8751.20925, 8633.15475, 8576.128375, 8689.690625, 8752.431875, 8703.26375, 8733.118, 8773.8365, 8717.9345, 8805.087875, 8658.4445, 8673.809875, 8711.099625, 8670.285375, 8727.123625, 8696.18725, 8711.978125, 8717.751625, 8706.849125, 8691.338875, 8698.2895, 8818.427875, 8698.500125, 8666.372625, 8763.090375, 8672.1005, 8722.8035, 8676.1715, 8820.296625, 8687.6435, 8639.44775, 8698.9465, 8713.298375, 8736.284125, 8600.922, 8762.91825, 8658.8615, 8670.107, 8819.296625, 8741.252125, 8740.811, 8695.42175, 8713.722, 8863.931125, 8704.07, 8768.374125, 8821.6005, 8763.8415, 8726.3175, 8776.648125, 8768.717, 8618.2535, 8727.918625, 8709.51375, 8720.594375, 8682.108375, 8696.653375, 8709.44375, 8753.06375, 8710.67375, 8718.241625, 8740.919125, 8656.606375, 8669.441375, 8734.973125, 8777.280625, 8733.2305, 8769.5965, 8835.2875, 8727.28725, 8753.189125, 8769.96625, 8664.745, 8775.556125, 8714.016875, 8717.299625, 8734.347375, 8706.749875, 8844.738625, 8782.472125, 8807.538875, 8751.906375, 8703.367375, 8780.089375, 8732.6925, 8691.42225, 8750.478, 8700.479125, 8723.972875, 8760.06675, 8646.49, 8726.764, 8602.89525, 8806.31675, 8728.072875, 8738.0165, 8691.8675, 8746.058625, 8708.254375, 8726.020125, 8755.661375, 8670.101125, 8675.834375, 8748.302875, 8738.973125, 8655.508875, 8701.26675, 8759.6815, 8757.469875, 8679.266375, 8759.958875, 8831.10775, 8794.418125, 8764.80175, 8736.889, 8695.3295, 8696.483875, 8776.444875, 8670.191875, 8773.375625, 8675.18075, 8719.431375, 8650.059625, 8732.335125, 8721.123, 8734.33675, 8726.5685, 8759.7995, 8829.122625, 8780.565875, 8744.4415, 8684.294375, 8783.176, 8683.805625, 8726.304, 8759.257, 8772.10425, 8778.50075, 8761.511875, 8667.112375, 8696.54675, 8705.99375, 8837.4935, 8812.5615, 8703.8705, 8772.862, 8639.522125, 8731.219, 8721.132125, 8733.389, 8646.265125, 8858.793, 8755.735, 8770.965875, 8758.695875, 8730.2165, 8773.072875, 8693.651, 8705.7455, 8738.117625, 8780.287, 8750.732125, 8745.7895, 8825.35525, 8773.786625, 8751.0435, 8661.12225, 8778.14, 8692.938625, 8683.552875, 8811.391, 8677.176875, 8772.695875, 8749.250375, 8795.220375, 8828.685625, 8704.84725, 8762.151, 8779.00375, 8755.3795, 8797.008125, 8748.203, 8677.817125, 8697.162, 8715.933125, 8788.559375, 8690.984625, 8792.93325, 8680.934375, 8751.414625, 8790.749, 8756.337375, 8772.4945, 8713.695, 8743.271, 8740.104125, 8774.405, 8667.351625, 8703.386125, 8593.478875, 8869.217125, 8694.9675, 8691.71375, 8686.200125, 8741.701125, 8793.889, 8770.757125, 8742.400875, 8742.491375, 8657.503875, 8761.90225, 8763.396125, 8743.512875, 8850.43475, 8730.880375, 8773.144875, 8755.696125, 8721.525375, 8734.092, 8819.442625, 8710.934125, 8768.137, 8783.65025, 8739.076125, 8753.014625, 8800.44075, 8701.274875, 8759.691125, 8768.970125, 8718.996625, 8656.825, 8755.506, 8797.9585, 8734.847625, 8744.000875, 8764.84675, 8703.030375, 8785.998125, 8819.232375, 8624.927125, 8653.353625, 8770.676, 8728.14225, 8765.871875, 8712.112375, 8716.316875, 8780.985625, 8655.385875, 8747.085, 8719.02275, 8866.8465, 8735.319375, 8758.767625, 8741.75875, 8693.046375, 8757.701375, 8749.173375, 8742.874, 8833.29275, 8648.019875, 8766.980625, 8695.997375, 8661.71125, 8724.3545, 8796.75, 8695.46775, 8719.01275, 8697.725, 8704.58925, 8727.8755, 8656.854375, 8742.286, 8746.069625, 8803.942375, 8626.481875, 8722.150625, 8755.377625, 8742.341, 8712.196625, 8697.285125, 8739.547125, 8742.8225, 8658.392375, 8642.94075, 8785.96325, 8691.058375, 8701.180875, 8776.123125, 8766.998, 8718.521625, 8717.311375, 8765.5215, 8765.245625, 8777.933875, 8720.5105, 8735.55175, 8649.35925, 8745.105375, 8703.468125, 8696.0915, 8719.72525, 8666.16775, 8734.926, 8760.40225, 8648.1415, 8667.58175, 8752.0035, 8707.118125, 8782.07625, 8735.9545, 8812.888875, 8717.904, 8716.97875, 8741.069625, 8779.099125, 8753.06425, 8673.407, 8789.1265, 8700.230875, 8707.80675, 8768.9515, 8765.61475, 8758.401625, 8754.621625, 8759.741875, 8660.907625, 8729.28575, 8688.0195, 8762.926875, 8594.998875, 8716.240875, 8672.7535, 8655.65125, 8701.4625, 8704.3735, 8789.268, 8733.32075, 8798.106625, 8751.41675, 8727.548625, 8750.612, 8669.476, 8728.64925, 8763.745375, 8757.2415, 8889.2645, 8836.9795, 8702.176875, 8768.193125, 8750.700875, 8759.5445, 8729.672625, 8684.79725, 8791.034875, 8756.488, 8781.667875, 8653.494625, 8746.589875, 8714.99725, 8722.69925, 8739.167375, 8795.70925, 8664.94875, 8707.120375, 8740.93925, 8730.58125, 8639.709375, 8822.551125, 8764.6185, 8822.22, 8673.913625, 8667.715, 8729.118625, 8677.061625, 8740.27475, 8753.982875, 8699.304375, 8841.568625, 8814.485875, 8646.96175, 8758.543375, 8639.646, 8710.25125, 8783.9595, 8793.442, 8702.361125, 8738.2, 8640.510375, 8733.747, 8669.374375, 8812.5205, 8794.3815, 8683.064375, 8698.047, 8711.591375, 8683.79825, 8713.658, 8760.326, 8786.439625, 8768.646875, 8740.327875, 8730.09325, 8702.681, 8726.424375, 8710.170625, 8698.747875, 8717.23225, 8804.182, 8668.538125, 8647.759875, 8805.465625, 8767.92825, 8769.40475, 8677.05575, 8773.914, 8710.47975, 8711.457875, 8763.7495, 8833.69425, 8651.65825, 8738.5005, 8746.497625, 8645.551875, 8743.502, 8692.235, 8755.320875, 8841.173125, 8737.07525, 8700.14525, 8687.690125, 8643.981875, 8775.255, 8687.881, 8769.917, 8664.061125, 8816.579875, 8693.082375, 8671.485125, 8808.096625, 8610.38175, 8737.704, 8717.929375, 8659.821875, 8678.89775, 8747.65975, 8702.126, 8682.79975, 8684.204375, 8730.19925, 8727.1865, 8724.43, 8768.78725, 8782.085, 8672.557375, 8871.483875, 8737.519125, 8813.924625, 8714.9815, 8742.00025, 8717.768625, 8839.042125, 8691.424375, 8770.272625, 8713.09725, 8679.233125, 8655.994, 8817.604125, 8846.847625, 8705.5705, 8708.76975, 8791.152875, 8765.40125, 8684.647625, 8833.301, 8715.99725, 8656.702125, 8753.428125, 8758.469, 8692.176375, 8721.075125, 8722.8795, 8697.572125, 8759.976375, 8650.771625, 8761.53225, 8822.26475, 8700.547, 8798.59025, 8744.27025, 8726.92925, 8667.34425, 8671.60625, 8762.55175, 8691.539375, 8850.941375, 8725.304125, 8706.222375, 8750.299, 8635.625125, 8783.848625, 8800.617625, 8774.443, 8728.088875, 8716.1125, 8753.858625, 8691.40625, 8703.569375, 8795.49225, 8701.66575, 8736.956875, 8705.567875, 8772.430125, 8667.985375, 8761.41075, 8737.72275, 8651.019, 8797.534125, 8808.7855, 8706.14475, 8714.550875, 8748.745875, 8799.64575, 8728.893625, 8772.89125, 8695.198375, 8719.1895, 8768.264125, 8852.11675, 8744.91, 8765.659125, 8784.938375, 8721.798375, 8676.676125, 8558.181, 8665.86575, 8742.488125, 8754.131125, 8703.620625, 8768.213625, 8699.447375, 8781.462, 8859.5575, 8607.3485, 8747.542, 8640.568625, 8647.939375, 8687.70625, 8764.442125, 8675.038375, 8677.653, 8788.819375, 8758.721625, 8620.5465, 8767.89875, 8755.66775, 8690.1585, 8757.63625, 8738.232875, 8750.117625, 8747.258875, 8719.147875, 8688.8995, 8746.162125, 8723.65525, 8719.326375, 8839.656875, 8731.397125, 8801.61675, 8753.28925, 8775.847125, 8710.216875, 8686.736875, 8752.623125, 8706.27425, 8717.913, 8734.600875, 8784.87425, 8790.800875, 8720.060375, 8620.654625, 8693.5565, 8652.39, 8805.280375, 8682.02625, 8751.497625, 8665.112375, 8852.48775, 8793.694, 8744.407625, 8760.007, 8674.3435, 8677.495625, 8748.801625, 8779.9965, 8796.242125, 8704.847, 8695.92125, 8702.891125, 8722.75975, 8784.3995, 8686.00575, 8766.509625, 8714.869125, 8713.423375, 8768.300375, 8665.713125, 8697.872375, 8744.090125, 8701.29225, 8721.08275, 8659.63025, 8728.857875, 8730.63075, 8843.1965, 8698.442, 8655.2685, 8728.13475, 8713.10225, 8682.440375, 8734.712625, 8823.606875, 8771.5315, 8755.266, 8816.99925, 8709.98775, 8647.004125, 8718.97275, 8699.525, 8641.368, 8850.25925, 8799.2155, 8762.2665, 8684.023125, 8653.91925, 8665.9045, 8723.050875, 8688.231375, 8780.143375, 8715.570875, 8760.6555, 8702.932375, 8771.830625, 8803.01725, 8834.206625, 8709.71975, 8704.737, 8746.22675, 8784.867125, 8724.748875, 8679.18275, 8693.62625, 8746.2555, 8757.7455, 8787.798, 8742.052125, 8668.158375, 8776.579125, 8707.363625, 8786.51175, 8775.206875, 8655.00225, 8783.148375, 8741.00425, 8730.482, 8820.763875, 8768.696, 8780.72325, 8773.2615, 8728.701375, 8784.4195, 8691.23975, 8723.589, 8621.799125, 8726.755, 8765.152125, 8771.122125, 8732.682875, 8790.238, 8734.11275, 8745.613125, 8712.24025, 8694.885875, 8678.39575, 8827.18625, 8711.871125, 8661.57425, 8720.119, 8769.588125, 8752.95675, 8651.443125, 8713.62475, 8828.644875, 8696.420625, 8810.2725, 8692.2495, 8670.006, 8724.355375, 8793.067875, 8740.855375, 8824.286625, 8734.0915, 8770.669125, 8691.88475, 8705.990125, 8692.9585, 8659.889125, 8802.647875, 8807.22625, 8733.846875, 8667.5695, 8716.96725, 8750.6445, 8687.915125, 8720.11075, 8807.0765, 8720.128625, 8695.593625, 8679.420125]\n"
          ]
        }
      ]
    },
    {
      "cell_type": "code",
      "source": [
        "sns.histplot(male_sample_df)"
      ],
      "metadata": {
        "colab": {
          "base_uri": "https://localhost:8080/",
          "height": 448
        },
        "id": "5Yh16ioheG7A",
        "outputId": "4c06cba0-8b01-4e52-e811-a3f0e5029388"
      },
      "execution_count": 137,
      "outputs": [
        {
          "output_type": "execute_result",
          "data": {
            "text/plain": [
              "<Axes: ylabel='Count'>"
            ]
          },
          "metadata": {},
          "execution_count": 137
        },
        {
          "output_type": "display_data",
          "data": {
            "text/plain": [
              "<Figure size 640x480 with 1 Axes>"
            ],
            "image/png": "[encoded data removed]"
          },
          "metadata": {}
        }
      ]
    },
    {
      "cell_type": "code",
      "source": [
        "sns.histplot(female_sample_df)"
      ],
      "metadata": {
        "colab": {
          "base_uri": "https://localhost:8080/",
          "height": 448
        },
        "id": "SuVBTWZBeG1u",
        "outputId": "dc478b67-86c3-4d9c-be2b-fa8141b9b49e"
      },
      "execution_count": 138,
      "outputs": [
        {
          "output_type": "execute_result",
          "data": {
            "text/plain": [
              "<Axes: ylabel='Count'>"
            ]
          },
          "metadata": {},
          "execution_count": 138
        },
        {
          "output_type": "display_data",
          "data": {
            "text/plain": [
              "<Figure size 640x480 with 1 Axes>"
            ],
            "image/png": "[encoded data removed]"
          },
          "metadata": {}
        }
      ]
    },
    {
      "cell_type": "code",
      "source": [
        "# CONFIDENCE INTERVAL FOR male_sample_df(90%, 95%, 99%)\n",
        "lower_limit_90 = np.round(np.percentile(male_sample_df,5),2)\n",
        "upper_limit_90 = np.round(np.percentile(male_sample_df, 95),2)\n",
        "\n",
        "lower_limit_95 = np.round(np.percentile(male_sample_df,2.5),2)\n",
        "upper_limit_95 = np.round(np.percentile(male_sample_df, 97.5),2)\n",
        "\n",
        "lower_limit_99 = np.round(np.percentile(male_sample_df,0.5),2)\n",
        "upper_limit_99 = np.round(np.percentile(male_sample_df, 99.5),2)\n",
        "\n",
        "print(f\"The 90% confidence interval is : {(lower_limit_90,upper_limit_90)}\")\n",
        "print(f\"The 95% confidence interval is : {(lower_limit_95,upper_limit_95)}\")\n",
        "print(f\"The 99% confidence interval is : {(lower_limit_99,upper_limit_99)}\")"
      ],
      "metadata": {
        "colab": {
          "base_uri": "https://localhost:8080/"
        },
        "id": "L8L6k_Gme6ZA",
        "outputId": "8d351d99-e3d6-4f89-cfe6-4a4d71650782"
      },
      "execution_count": 139,
      "outputs": [
        {
          "output_type": "stream",
          "name": "stdout",
          "text": [
            "The 90% confidence interval is : (9342.12, 9532.45)\n",
            "The 95% confidence interval is : (9324.31, 9553.19)\n",
            "The 99% confidence interval is : (9286.92, 9596.09)\n"
          ]
        }
      ]
    },
    {
      "cell_type": "code",
      "source": [
        "# CONFIDENCE INTERVAL FOR female_sample_df(90%, 95%, 99%)\n",
        "lower_limit_90 = np.round(np.percentile(female_sample_df,5),2)\n",
        "upper_limit_90 = np.round(np.percentile(female_sample_df, 95),2)\n",
        "\n",
        "lower_limit_95 = np.round(np.percentile(female_sample_df,2.5),2)\n",
        "upper_limit_95 = np.round(np.percentile(female_sample_df, 97.5),2)\n",
        "\n",
        "lower_limit_99 = np.round(np.percentile(female_sample_df,0.5),2)\n",
        "upper_limit_99 = np.round(np.percentile(female_sample_df, 99.5),2)\n",
        "\n",
        "print(f\"The 90% confidence interval is : {(lower_limit_90,upper_limit_90)}\")\n",
        "print(f\"The 95% confidence interval is : {(lower_limit_95,upper_limit_95)}\")\n",
        "print(f\"The 99% confidence interval is : {(lower_limit_99,upper_limit_99)}\")\n"
      ],
      "metadata": {
        "colab": {
          "base_uri": "https://localhost:8080/"
        },
        "id": "v8nKqtm4eGuq",
        "outputId": "f0e013ba-c4ee-4e75-f4a8-be43e050dd09"
      },
      "execution_count": 140,
      "outputs": [
        {
          "output_type": "stream",
          "name": "stdout",
          "text": [
            "The 90% confidence interval is : (8646.81, 8823.23)\n",
            "The 95% confidence interval is : (8628.55, 8839.54)\n",
            "The 99% confidence interval is : (8596.1, 8869.47)\n"
          ]
        }
      ]
    },
    {
      "cell_type": "markdown",
      "source": [
        "Are confidence intervals of average male and female spending overlapping? How can Walmart leverage this conclusion to make changes or improvements?\n",
        "\n",
        "Answer :\n",
        "\n",
        "With **99%** confidence intervals we can say that the average male spending is higher than average females spending and they do not overlap. The histogram also indicates the same. walmart can give some discounts for female purchases so that the female average spending will increase.\n"
      ],
      "metadata": {
        "id": "V7aV7EQrgMic"
      }
    },
    {
      "cell_type": "markdown",
      "source": [
        "#Results when the same activity is performed for Married vs Unmarried"
      ],
      "metadata": {
        "id": "QScM3RR9iuz7"
      }
    },
    {
      "cell_type": "code",
      "source": [
        "sample_size = 5000\n",
        "iterations = 1000\n",
        "\n",
        "married_sample_df = [ df[df[\"Marital_Status\"] == 1].sample(sample_size, replace = True)[\"Purchase\"].mean()  for i in range(iterations)]"
      ],
      "metadata": {
        "id": "kOPeIQIqgJ_h"
      },
      "execution_count": 141,
      "outputs": []
    },
    {
      "cell_type": "code",
      "source": [
        "sample_size = 5000\n",
        "iterations = 1000\n",
        "\n",
        "unmarried_sample_df = [ df[df[\"Marital_Status\"] == 0].sample(sample_size, replace = True)[\"Purchase\"].mean()  for i in range(iterations)]"
      ],
      "metadata": {
        "id": "-bwg594ceGm0"
      },
      "execution_count": 142,
      "outputs": []
    },
    {
      "cell_type": "code",
      "source": [
        "print(married_sample_df)"
      ],
      "metadata": {
        "colab": {
          "base_uri": "https://localhost:8080/"
        },
        "id": "xvSJbTLceGid",
        "outputId": "3c7ef70e-4f46-4dbe-d5c3-35adb9a6c80a"
      },
      "execution_count": 143,
      "outputs": [
        {
          "output_type": "stream",
          "name": "stdout",
          "text": [
            "[9318.2822, 9277.276, 9272.9544, 9329.1102, 9398.5722, 9256.4898, 9332.0922, 9225.533, 9217.1164, 9285.2658, 9224.8858, 9102.8956, 9229.9218, 9219.4928, 9292.0158, 9267.6458, 9238.0548, 9301.7172, 9314.295, 9199.1232, 9203.8196, 9223.3024, 9225.2298, 9184.811, 9246.6356, 9268.0716, 9214.3982, 9206.4376, 9310.979, 9254.379, 9341.7408, 9286.8574, 9168.392, 9307.6458, 9328.6672, 9361.1876, 9247.8474, 9226.309, 9202.9632, 9184.539, 9182.8532, 9166.4112, 9248.7782, 9211.5332, 9320.7326, 9264.7488, 9256.8944, 9225.3352, 9145.2608, 9380.1358, 9184.454, 9304.7558, 9394.3508, 9125.6408, 9300.2686, 9272.3536, 9383.4516, 9275.953, 9367.1606, 9343.4326, 9292.7818, 9380.8924, 9169.532, 9262.5202, 9244.9852, 9378.4794, 9225.877, 9274.3752, 9404.433, 9226.5864, 9226.6424, 9280.3282, 9229.6074, 9338.5506, 9313.2992, 9240.366, 9233.0264, 9224.6904, 9339.5192, 9210.012, 9246.477, 9344.8844, 9211.4068, 9189.4236, 9304.0184, 9246.0784, 9137.7802, 9265.516, 9243.5754, 9238.5902, 9367.4318, 9239.7768, 9393.5992, 9374.6982, 9271.6738, 9048.0462, 9277.4432, 9246.0078, 9327.9624, 9288.4848, 9264.3956, 9115.1672, 9301.6894, 9188.0788, 9237.0112, 9108.1808, 9315.0416, 9367.603, 9125.4688, 9268.2286, 9255.377, 9345.521, 9250.6186, 9240.3632, 9251.5152, 9383.2986, 9237.5476, 9248.5252, 9132.1862, 9214.9396, 9296.2898, 9174.1648, 9378.1616, 9211.3588, 9250.2134, 9254.5588, 9258.9624, 9345.8766, 9299.8984, 9188.1582, 9250.9072, 9279.38, 9288.2908, 9283.319, 9239.0688, 9270.8192, 9276.4732, 9420.929, 9234.3328, 9187.0214, 9275.8368, 9245.339, 9327.554, 9241.882, 9194.7196, 9225.9406, 9414.5882, 9207.661, 9229.1856, 9190.7596, 9251.3404, 9225.1154, 9191.103, 9342.5278, 9330.1256, 9271.193, 9252.3606, 9281.0518, 9308.3188, 9218.2224, 9125.3248, 9262.4462, 9128.0466, 9415.0052, 9233.3258, 9291.473, 9174.5408, 9289.1442, 9163.1174, 9142.2906, 9130.3762, 9255.744, 9331.13, 9224.3638, 9344.0172, 9438.658, 9307.458, 9345.792, 9091.6214, 9318.2804, 9244.0422, 9133.107, 9294.8068, 9383.2064, 9175.497, 9230.1956, 9203.0476, 9124.1202, 9218.2806, 9257.9588, 9192.1902, 9229.2732, 9305.7892, 9286.0238, 9243.42, 9307.6068, 9290.2082, 9402.1444, 9364.3772, 9117.7142, 9127.3418, 9254.8066, 9380.031, 9294.9066, 9351.289, 9335.7416, 9187.0798, 9286.92, 9327.2574, 9164.4756, 9193.009, 9341.2878, 9267.1398, 9399.9264, 9300.8104, 9197.4478, 9324.1716, 9295.6424, 9271.817, 9161.1494, 9309.7476, 9234.7894, 9229.4306, 9245.1768, 9287.878, 9219.2436, 9316.5752, 9265.0586, 9291.5058, 9234.8314, 9355.0224, 9301.1546, 9386.431, 9229.2944, 9162.1436, 9176.1718, 9217.3268, 9382.683, 9321.5942, 9084.2462, 9251.1728, 9223.357, 9232.8384, 9407.1514, 9242.632, 9160.9812, 9263.2802, 9172.8402, 9168.93, 9228.643, 9337.1558, 9302.8458, 9334.4678, 9249.2766, 9383.3492, 9314.4818, 9276.5724, 9202.7696, 9261.2364, 9380.0322, 9196.442, 9241.336, 9387.6896, 9306.4408, 9227.2716, 9300.4718, 9260.369, 9391.301, 9247.3166, 9200.5562, 9197.2642, 9200.9232, 9248.3888, 9217.4172, 9316.6038, 9262.5546, 9305.3442, 9235.7872, 9357.3754, 9092.1772, 9175.7638, 9313.5784, 9332.2554, 9252.7828, 9178.2318, 9239.1254, 9300.6494, 9264.7732, 9268.358, 9199.4334, 9186.6722, 9188.6032, 9198.0388, 9297.6398, 9209.2238, 9261.688, 9263.1336, 9320.9776, 9341.4166, 9123.136, 9217.2862, 9192.428, 9293.5426, 9253.7694, 9294.2092, 9278.6296, 9132.4282, 9406.6522, 9268.26, 9244.3662, 9185.899, 9190.2006, 9315.1098, 9316.9076, 9112.7122, 9271.3926, 9379.9418, 9255.3918, 9194.4374, 9283.0814, 9319.9364, 9147.4188, 9231.907, 9342.0816, 9320.4404, 9294.2854, 9287.218, 9209.2946, 9208.7182, 9313.6286, 9264.5626, 9193.1162, 9162.6304, 9245.8288, 9133.6736, 9206.4696, 9291.157, 9160.4106, 9326.8122, 9239.825, 9271.2752, 9223.1562, 9165.1732, 9301.9808, 9213.9216, 9218.7962, 9285.8392, 9289.6522, 9291.368, 9265.5032, 9025.6144, 9301.3532, 9333.5062, 9155.1762, 9331.702, 9248.6764, 9215.6476, 9335.4584, 9238.092, 9121.1222, 9126.5352, 9311.463, 9211.256, 9246.8916, 9159.3808, 9256.0844, 9329.5392, 9402.2354, 9286.829, 9358.2554, 9151.6764, 9239.2186, 9308.4546, 9258.7954, 9284.227, 9290.3586, 9314.3302, 9300.4816, 9304.4196, 9215.4912, 9218.8278, 9303.6524, 9288.8554, 9194.9642, 9191.499, 9326.3624, 9372.1712, 9315.2726, 9282.8216, 9381.8814, 9232.5962, 9305.2644, 9291.6206, 9356.9516, 9224.8022, 9201.2204, 9223.319, 9393.6146, 9404.9124, 9274.5336, 9266.2952, 9272.1968, 9291.991, 9272.1134, 9321.3476, 9169.6868, 9214.974, 9270.1288, 9166.1936, 9322.7374, 9343.348, 9288.501, 9114.6764, 9268.2496, 9239.3352, 9353.1738, 9242.883, 9238.0416, 9177.129, 9293.5834, 9303.4306, 9291.4206, 9352.7964, 9227.8, 9230.1008, 9372.0388, 9223.9462, 9257.2574, 9215.9918, 9217.8198, 9176.219, 9319.8964, 9327.8406, 9249.4896, 9191.6108, 9132.9684, 9314.7926, 9220.3978, 9251.4478, 9226.4906, 9386.6352, 9187.2468, 9314.0548, 9268.68, 9166.2504, 9144.4742, 9348.4204, 9367.0012, 9332.542, 9357.974, 9343.4118, 9164.3518, 9248.484, 9161.3274, 9227.4768, 9306.8148, 9201.345, 9224.185, 9218.3674, 9253.8358, 9256.514, 9386.3982, 9442.4726, 9290.827, 9374.6512, 9397.6584, 9437.2498, 9222.0004, 9205.084, 9302.2504, 9200.1824, 9259.8672, 9392.544, 9175.678, 9218.0464, 9418.164, 9244.463, 9298.3214, 9318.8334, 9323.2532, 9357.25, 9251.077, 9241.7146, 9245.1058, 9267.51, 9352.773, 9159.483, 9254.8888, 9221.774, 9233.2742, 9129.0104, 9216.635, 9195.198, 9320.5062, 9161.8238, 9259.097, 9316.0318, 9234.6218, 9333.8704, 9251.2292, 9172.2908, 9294.7088, 9140.7052, 9289.061, 9298.1358, 9243.3514, 9380.7632, 9372.9308, 9225.6156, 9311.307, 9262.522, 9206.044, 9275.6554, 9226.1206, 9329.7146, 9260.5364, 9127.502, 9356.1364, 9270.8534, 9363.2316, 9311.0468, 9312.0234, 9240.6758, 9145.2822, 9170.483, 9295.8494, 9247.8718, 9247.0112, 9137.9848, 9245.0074, 9357.9542, 9223.9282, 9261.7678, 9210.6804, 9213.3426, 9373.5374, 9320.278, 9191.476, 9337.2276, 9308.706, 9261.3746, 9326.5664, 9315.0744, 9285.118, 9162.9878, 9206.855, 9306.9914, 9217.3634, 9244.9954, 9235.7668, 9136.617, 9278.1358, 9209.6572, 9209.304, 9238.7824, 9140.0374, 9361.4664, 9238.1614, 9251.3804, 9188.2792, 9265.4564, 9232.7028, 9305.9726, 9361.5164, 9146.8402, 9166.1306, 9243.8736, 9168.9036, 9262.3166, 9310.8984, 9293.1136, 9203.8786, 9452.855, 9260.084, 9272.678, 9252.0842, 9237.827, 9251.0172, 9197.5512, 9216.7542, 9202.7372, 9265.4804, 9193.4826, 9182.8616, 9342.8602, 9215.7042, 9246.6216, 9260.6462, 9314.6256, 9170.8016, 9135.5326, 9156.4432, 9215.6932, 9304.6876, 9410.8338, 9163.8848, 9257.3584, 9257.065, 9300.6594, 9079.847, 9248.0172, 9304.446, 9301.4944, 9219.0254, 9232.1722, 9443.991, 9267.4986, 9227.0286, 9168.118, 9333.0386, 9206.035, 9285.7684, 9213.579, 9258.1442, 9350.719, 9226.1394, 9389.8528, 9223.3938, 9196.1796, 9218.8902, 9177.796, 9321.1718, 9271.115, 9207.4618, 9269.0106, 9355.7778, 9205.073, 9276.849, 9315.5942, 9272.1042, 9212.0244, 9352.0018, 9337.2602, 9191.0012, 9177.9058, 9220.3298, 9300.4434, 9234.3752, 9135.538, 9391.781, 9299.2168, 9280.8832, 9203.152, 9326.8414, 9204.0138, 9323.54, 9215.6042, 9090.7626, 9201.8916, 9319.7784, 9391.2192, 9244.1804, 9029.632, 9332.6348, 9281.0182, 9271.6468, 9232.043, 9279.3132, 9223.6728, 9226.0358, 9217.3934, 9347.2236, 9252.679, 9319.6822, 9291.3648, 9361.065, 9275.329, 9319.8486, 9207.9894, 9425.4088, 9324.2142, 9258.9492, 9236.378, 9224.4708, 9275.2778, 9260.6824, 9284.3046, 9193.4774, 9343.3404, 9273.1034, 9227.8244, 9299.6064, 9215.5414, 9312.5978, 9292.569, 9309.3198, 9222.5204, 9174.0222, 9226.772, 9152.747, 9377.5786, 9286.2378, 9272.7922, 9410.7606, 9346.1268, 9212.9146, 9335.2352, 9222.753, 9183.653, 9399.662, 9250.2732, 9316.5292, 9219.6854, 9374.6722, 9256.1912, 9353.4458, 9238.7992, 9210.6398, 9041.1136, 9441.7084, 9289.9008, 9266.945, 9138.3272, 9160.745, 9156.745, 9080.0234, 9180.0792, 9133.9476, 9259.6646, 9144.0044, 9275.344, 9182.855, 9234.7232, 9171.8148, 9263.0876, 9217.6538, 9392.4744, 9202.993, 9199.2568, 9380.7242, 9351.9266, 9369.9552, 9191.4866, 9298.8924, 9231.5398, 9330.3446, 9351.3204, 9247.7796, 9137.3256, 9167.867, 9215.5038, 9277.8766, 9272.3844, 9224.6852, 9253.1936, 9227.2596, 9240.3762, 9232.495, 9289.871, 9163.0724, 9236.5282, 9314.1684, 9233.6234, 9253.8956, 9295.8408, 9287.8372, 9271.111, 9374.1864, 9234.4148, 9362.4612, 9222.5272, 9282.5018, 9341.1946, 9314.4224, 9292.5842, 9309.0122, 9257.3816, 9216.9708, 9223.3428, 9367.7762, 9165.2882, 9317.719, 9158.2408, 9342.8784, 9203.2502, 9269.958, 9285.2748, 9083.2622, 9315.5742, 9326.8438, 9204.2322, 9214.4458, 9181.862, 9530.808, 9404.6768, 9359.5862, 9251.5672, 9281.5242, 9211.036, 9276.8654, 9210.6372, 9289.557, 9183.0066, 9246.1006, 9160.6328, 9161.3376, 9307.6406, 9261.3942, 9266.182, 9385.5722, 9286.4868, 9197.8208, 9416.9212, 9259.3478, 9189.897, 9281.0932, 9314.7324, 9345.3654, 9318.8172, 9228.3312, 9198.48, 9265.8364, 9203.8428, 9470.3918, 9292.3512, 9197.6844, 9285.0924, 9270.0526, 9184.0514, 9298.9656, 9402.7102, 9296.8658, 9281.2424, 9434.048, 9142.7916, 9258.1716, 9128.5016, 9300.0982, 9232.5358, 9336.9686, 9291.3946, 9227.558, 9275.0944, 9301.628, 9142.4822, 9298.0692, 9286.8276, 9214.6582, 9186.6942, 9392.9462, 9341.0932, 9186.3772, 9285.4166, 9206.3064, 9201.855, 9261.1588, 9276.0084, 9171.104, 9283.685, 9247.9468, 9241.3736, 9133.8876, 9226.8882, 9207.2092, 9243.1844, 9195.9908, 9282.9634, 9257.9208, 9343.7158, 9213.8474, 9374.4588, 9160.4404, 9199.0642, 9369.248, 9204.0492, 9339.9102, 9219.7486, 9267.8958, 9299.3938, 9316.3222, 9291.5524, 9296.0224, 9214.9422, 9294.892, 9272.1, 9219.6052, 9304.4558, 9328.7636, 9387.0548, 9242.2844, 9261.3804, 9291.3388, 9397.219, 9297.363, 9272.8472, 9280.0472, 9304.6274, 9353.2878, 9384.3094, 9180.1672, 9167.0034, 9351.9902, 9095.9444, 9140.6022, 9129.031, 9153.4018, 9232.5386, 9285.1926, 9323.9628, 9298.7198, 9216.0484, 9279.3364, 9303.7476, 9312.145, 9254.9674, 9250.373, 9300.8696, 9336.1918, 9270.7116, 9338.6472, 9263.6774, 9326.5056, 9226.3262, 9302.6186, 9311.6024, 9310.4152, 9259.9262, 9290.3628, 9228.5998, 9248.508, 9255.8822, 9050.3858, 9332.4642, 9304.6172, 9380.7156, 9306.002, 9346.213, 9203.4038, 9272.3782, 9349.5824, 9241.0386, 9247.8858, 9365.1622, 9211.9774, 9270.7858, 9453.1378, 9323.3042, 9164.8752, 9211.6138, 9227.2598, 9307.1564, 9178.0734, 9250.3136, 9337.7152, 9228.5902, 9198.9224, 9213.8708, 9223.2118, 9263.7076, 9201.3068, 9199.8056, 9207.484, 9165.2784, 9295.2328, 9391.8802, 9221.0532, 9200.739, 9375.5854, 9141.3858, 9183.6628, 9333.8586, 9238.1458, 9205.6396, 9273.9852, 9336.2342, 9231.0988, 9291.884, 9272.8388, 9367.9904, 9332.273, 9278.7576, 9318.8626, 9376.0234, 9222.7918, 9336.3354, 9193.4088, 9189.3844, 9140.4864, 9231.9354, 9240.6164, 9233.6868, 9411.1166, 9327.0238, 9283.8906, 9334.076, 9202.7202, 9195.4018, 9217.6302, 9227.1154, 9221.9596, 9158.3494, 9274.4504, 9302.2698, 9274.279, 9308.1142, 9164.8908, 9285.7424, 9327.9536, 9226.644, 9238.3928]\n"
          ]
        }
      ]
    },
    {
      "cell_type": "code",
      "source": [
        "print(unmarried_sample_df)\n"
      ],
      "metadata": {
        "colab": {
          "base_uri": "https://localhost:8080/"
        },
        "id": "bfd7PJA2SfXQ",
        "outputId": "4d6c86fc-6bd2-41c8-880c-8a16d526f252"
      },
      "execution_count": 144,
      "outputs": [
        {
          "output_type": "stream",
          "name": "stdout",
          "text": [
            "[9219.8014, 9263.5144, 9310.0392, 9300.6474, 9201.2578, 9317.0756, 9194.4144, 9397.349, 9307.9598, 9373.6266, 9304.5088, 9180.177, 9146.9796, 9242.6822, 9342.7774, 9227.8864, 9339.7032, 9282.3532, 9258.8714, 9357.0314, 9330.849, 9213.7372, 9326.1866, 9211.8612, 9230.9934, 9222.3174, 9220.8168, 9272.5902, 9255.4782, 9242.5284, 9331.1274, 9345.8788, 9246.7908, 9188.958, 9265.397, 9231.3616, 9304.4996, 9123.7946, 9222.1586, 9441.3018, 9331.6512, 9229.3062, 9292.5096, 9253.7764, 9260.326, 9226.457, 9389.0342, 9274.027, 9392.2156, 9200.2452, 9373.9328, 9232.2138, 9304.697, 9317.5324, 9262.6376, 9289.243, 9214.8456, 9140.4988, 9220.2676, 9323.411, 9295.987, 9218.97, 9184.2098, 9299.2288, 9326.8944, 9198.5886, 9215.3536, 9398.904, 9339.2216, 9371.8612, 9266.1162, 9480.6406, 9383.3426, 9199.2346, 9266.4358, 9307.6822, 9358.8418, 9212.1614, 9178.809, 9478.5688, 9298.2918, 9462.65, 9257.1334, 9256.629, 9360.0182, 9164.165, 9195.3234, 9086.0844, 9326.7548, 9353.93, 9169.6718, 9161.1044, 9297.8852, 9277.7112, 9282.8212, 9253.233, 9388.2938, 9241.3656, 9152.7478, 9228.3388, 9207.5048, 9347.4338, 9342.5056, 9252.749, 9303.0526, 9258.0556, 9372.0318, 9242.7012, 9254.9, 9338.0734, 9283.7836, 9349.956, 9099.6034, 9261.4186, 9230.9006, 9204.4042, 9277.6366, 9280.4722, 9243.3274, 9237.1724, 9340.0886, 9423.2436, 9297.3086, 9259.5896, 9297.7186, 9347.6674, 9159.7526, 9172.826, 9352.3924, 9179.218, 9215.1256, 9305.676, 9172.9328, 9262.1938, 9301.147, 9263.952, 9320.8618, 9212.5096, 9283.999, 9267.369, 9243.7684, 9271.361, 9319.184, 9263.2304, 9243.643, 9185.533, 9165.6034, 9274.8756, 9289.7422, 9204.3264, 9201.1696, 9312.0726, 9209.8664, 9243.7978, 9292.773, 9247.1022, 9246.7478, 9238.1106, 9348.5216, 9248.2782, 9319.2972, 9194.2144, 9181.521, 9204.6268, 9327.7104, 9257.2276, 9303.6748, 9161.9332, 9194.0684, 9349.1142, 9277.0158, 9242.0948, 9241.8914, 9276.0572, 9324.5614, 9251.5836, 9325.6056, 9294.8682, 9264.8042, 9152.3026, 9361.1806, 9226.9556, 9137.5556, 9221.776, 9236.1588, 9236.2576, 9080.5492, 9240.9776, 9199.2928, 9283.8424, 9385.7788, 9188.8744, 9298.5392, 9358.455, 9219.35, 9222.7626, 9182.73, 9243.2084, 9237.9764, 9252.1768, 9386.2126, 9282.0596, 9229.6668, 9228.4106, 9312.357, 9314.9024, 9184.7966, 9273.5398, 9232.9208, 9339.5576, 9214.4958, 9278.177, 9215.4266, 9333.863, 9279.7096, 9282.8462, 9284.9164, 9127.1658, 9251.8892, 9322.881, 9182.1472, 9243.7492, 9297.185, 9378.6962, 9191.1648, 9313.5536, 9308.7432, 9297.7976, 9261.0544, 9211.1894, 9286.5876, 9256.7308, 9314.363, 9219.9774, 9246.0832, 9286.1134, 9293.9146, 9176.491, 9320.203, 9209.4026, 9272.2296, 9257.7142, 9237.045, 9277.3656, 9233.1718, 9161.0832, 9347.0258, 9271.0338, 9224.7104, 9276.4484, 9178.944, 9341.9934, 9339.4564, 9313.7718, 9315.0404, 9335.5528, 9415.5138, 9180.2154, 9246.1692, 9274.917, 9200.175, 9280.3514, 9353.2214, 9248.8658, 9312.3974, 9263.383, 9170.8074, 9223.5386, 9456.8332, 9323.825, 9268.6784, 9208.2438, 9175.4296, 9391.0304, 9342.9604, 9256.7544, 9266.9182, 9223.768, 9374.117, 9256.0218, 9222.4388, 9173.2276, 9267.1438, 9300.33, 9191.7182, 9120.6348, 9229.2354, 9309.616, 9305.2682, 9188.8924, 9343.9602, 9227.325, 9323.7502, 9202.3866, 9226.7608, 9221.0482, 9302.1278, 9206.5116, 9197.378, 9124.5306, 9318.7048, 9332.143, 9091.89, 9213.932, 9225.8142, 9312.525, 9235.2542, 9210.396, 9203.869, 9239.8816, 9227.4068, 9176.9134, 9282.107, 9230.8472, 9145.1278, 9210.9848, 9287.7232, 9183.0842, 9280.8188, 9450.175, 9260.149, 9326.0058, 9272.4574, 9331.632, 9385.2202, 9354.9764, 9227.8456, 9254.7594, 9340.2574, 9322.0282, 9243.323, 9169.9682, 9211.0142, 9188.1248, 9231.5538, 9318.5342, 9340.6784, 9296.3422, 9211.0258, 9260.6932, 9332.0784, 9230.3696, 9440.3632, 9327.181, 9286.137, 9379.509, 9319.7728, 9273.3098, 9240.002, 9314.3908, 9351.736, 9395.769, 9244.064, 9224.8646, 9297.4042, 9247.3878, 9332.333, 9268.5318, 9183.043, 9253.3298, 9287.6724, 9163.143, 9266.793, 9171.484, 9180.7534, 9203.5382, 9227.2546, 9296.357, 9205.069, 9164.656, 9320.9346, 9284.756, 9311.1894, 9305.635, 9291.7032, 9154.3632, 9222.122, 9232.1262, 9252.9704, 9366.0748, 9283.983, 9176.9522, 9283.7994, 9186.8476, 9265.4078, 9383.6992, 9261.9622, 9198.2846, 9105.5556, 9181.34, 9212.212, 9257.8398, 9198.9862, 9246.085, 9201.3298, 9324.848, 9200.0058, 9303.099, 9261.1482, 9243.3858, 9189.9034, 9073.5462, 9302.546, 9209.0644, 9269.1472, 9363.6048, 9187.1298, 9240.6202, 9223.7814, 9358.5184, 9114.302, 9170.9612, 9320.6994, 9229.3942, 9321.9352, 9344.157, 9248.0456, 9158.4862, 9393.5242, 9241.0752, 9270.9952, 9309.8474, 9260.5158, 9218.1726, 9120.5508, 9251.3056, 9272.0156, 9255.3672, 9309.0968, 9337.792, 9302.4332, 9180.1828, 9212.1468, 9296.6668, 9203.45, 9285.1016, 9311.0024, 9253.8286, 9335.7236, 9301.5236, 9230.709, 9247.577, 9350.9186, 9300.04, 9330.3814, 9327.6854, 9168.0356, 9320.4882, 9286.9598, 9132.6192, 9260.2296, 9236.5928, 9170.6276, 9261.0698, 9154.6568, 9165.7112, 9144.3318, 9310.6458, 9241.8488, 9298.8346, 9207.6342, 9204.176, 9299.3066, 9177.451, 9198.8488, 9280.9314, 9248.2146, 9214.1952, 9448.7304, 9262.6492, 9190.501, 9262.5136, 9449.2296, 9306.2938, 9189.3238, 9285.0372, 9140.4264, 9311.2302, 9141.6324, 9369.083, 9179.3984, 9156.0714, 9204.9654, 9194.5878, 9352.3968, 9145.6386, 9280.8344, 9300.5238, 9323.8714, 9018.3436, 9297.8732, 9169.889, 9300.6988, 9394.3228, 9361.4544, 9191.2298, 9217.8142, 9235.7986, 9403.295, 9205.0272, 9317.146, 9193.6652, 9159.1424, 9222.466, 9334.3206, 9244.963, 9242.308, 9271.003, 9210.3982, 9304.7628, 9136.986, 9277.4118, 9224.9712, 9236.7434, 9336.376, 9348.4236, 9351.6828, 9184.6556, 9278.1974, 9162.87, 9346.1204, 9173.3362, 9347.3326, 9165.6706, 9261.1504, 9245.8118, 9225.2652, 9216.8996, 9274.124, 9217.3042, 9401.3058, 9208.6002, 9237.6574, 9244.6872, 9235.3854, 9336.5976, 9216.8344, 9211.3812, 9168.5538, 9223.3804, 9387.5814, 9295.375, 9245.2254, 9232.83, 9244.8504, 9329.9054, 9251.0734, 9240.6112, 9197.7178, 9285.7572, 9246.025, 9187.7658, 9236.6902, 9275.7658, 9187.8156, 9214.8486, 9326.4372, 9240.9586, 9375.0562, 9256.6052, 9196.7988, 9182.601, 9409.765, 9292.4782, 9172.395, 9318.0084, 9186.124, 9217.1372, 9209.4996, 9413.3256, 9391.5814, 9205.2086, 9312.329, 9280.9696, 9205.6462, 9240.225, 9259.0992, 9335.0056, 9256.5568, 9158.3718, 9266.6586, 9257.8232, 9259.8334, 9284.5456, 9249.2492, 9332.948, 9328.4706, 9226.4428, 9315.5282, 9277.9684, 9171.3846, 9345.1956, 9326.5306, 9255.266, 9309.2254, 9264.5882, 9161.2794, 9244.6878, 9365.506, 9298.1532, 9307.3514, 9247.9102, 9377.5232, 9290.8308, 9317.436, 9282.7078, 9251.7666, 9247.2598, 9228.4662, 9253.2286, 9213.985, 9290.3454, 9247.1802, 9275.0138, 9351.973, 9224.6716, 9284.3556, 9308.4436, 9320.3268, 9293.6134, 9282.8256, 9246.0884, 9220.4332, 9124.5054, 9278.8692, 9398.2378, 9364.2648, 9196.1952, 9319.1604, 9280.6116, 9269.0176, 9271.2702, 9259.3206, 9292.4516, 9350.8454, 9322.1564, 9323.5958, 9357.4606, 9215.8682, 9370.6488, 9180.5686, 9217.1148, 9215.0936, 9213.8524, 9351.5496, 9298.379, 9124.9452, 9298.6666, 9264.9536, 9193.8666, 9209.1286, 9296.346, 9269.7488, 9329.1018, 9337.497, 9134.9556, 9329.9324, 9224.812, 9269.1504, 9186.2454, 9323.9856, 9201.777, 9292.6894, 9304.59, 9294.7244, 9332.0348, 9175.8476, 9311.0042, 9141.7908, 9228.8676, 9311.4516, 9301.1636, 9432.7666, 9286.0632, 9235.4616, 9276.4288, 9206.4376, 9216.0206, 9219.651, 9203.0284, 9157.3044, 9219.6612, 9320.157, 9267.2938, 9248.1932, 9170.7846, 9172.4198, 9306.073, 9259.4046, 9257.5196, 9301.1168, 9409.7966, 9294.2186, 9173.8834, 9309.3154, 9325.003, 9331.9758, 9211.5536, 9268.4084, 9402.6486, 9255.7972, 9192.4978, 9363.7326, 9430.8834, 9324.222, 9303.0686, 9377.7418, 9284.6428, 9193.9642, 9250.4886, 9257.0064, 9272.8098, 9324.1636, 9339.8268, 9196.8346, 9179.0066, 9188.6624, 9379.2158, 9254.503, 9301.11, 9285.7894, 9174.76, 9396.117, 9136.7554, 9398.891, 9274.3426, 9255.7998, 9300.0948, 9302.037, 9149.9934, 9244.3764, 9223.9276, 9374.402, 9290.0346, 9271.7894, 9258.3702, 9228.2822, 9277.9766, 9190.3246, 9384.0918, 9280.9534, 9280.9904, 9241.731, 9265.895, 9371.6082, 9420.2906, 9140.2554, 9280.286, 9341.1094, 9229.6566, 9178.006, 9165.8986, 9232.8372, 9259.6954, 9277.5098, 9097.7698, 9364.6658, 9316.5636, 9317.88, 9284.2602, 9303.5668, 9201.0696, 9308.6196, 9309.5556, 9216.9974, 9210.054, 9233.7652, 9304.0726, 9149.5578, 9208.2204, 9163.776, 9281.3202, 9261.9418, 9229.2194, 9252.8764, 9260.7026, 9250.4052, 9260.9518, 9161.151, 9283.0886, 9292.6692, 9258.6066, 9132.2422, 9186.04, 9287.72, 9187.8074, 9290.6374, 9175.6392, 9130.86, 9274.1758, 9336.3368, 9302.6832, 9234.7224, 9271.5328, 9291.0476, 9190.7588, 9209.8906, 9323.5688, 9341.5762, 9195.5148, 9332.8768, 9239.5378, 9285.961, 9248.5076, 9278.5164, 9267.9206, 9251.95, 9274.327, 9283.35, 9218.9776, 9311.5412, 9258.5074, 9291.5614, 9208.8006, 9301.9098, 9223.0276, 9281.816, 9287.542, 9362.7186, 9202.439, 9170.2286, 9314.4802, 9240.5528, 9228.987, 9371.2216, 9411.2756, 9302.9878, 9246.1608, 9266.1312, 9326.9268, 9253.2656, 9323.3114, 9220.7926, 9249.1646, 9160.2752, 9274.5614, 9359.8616, 9378.8092, 9232.061, 9221.8792, 9401.8334, 9204.1972, 9261.6652, 9218.3792, 9430.2814, 9222.9086, 9269.1338, 9180.6282, 9253.0488, 9292.1034, 9169.216, 9205.499, 9265.071, 9354.437, 9336.6764, 9264.6252, 9217.2586, 9366.4658, 9243.8498, 9262.0188, 9392.239, 9194.5646, 9126.4138, 9207.6888, 9263.5236, 9330.1162, 9374.401, 9214.2704, 9391.3066, 9254.8956, 9287.2192, 9241.3812, 9284.1394, 9189.8632, 9197.003, 9273.9426, 9214.4736, 9270.2008, 9190.0726, 9219.7612, 9172.2192, 9291.4148, 9211.1508, 9106.2828, 9324.1324, 9129.7198, 9239.544, 9331.2806, 9336.4478, 9388.8576, 9166.1462, 9286.8212, 9164.8634, 9227.724, 9228.0914, 9169.8534, 9171.9272, 9180.8172, 9274.8708, 9325.608, 9215.0988, 9401.1148, 9101.3158, 9248.4652, 9230.6278, 9375.7598, 9205.9776, 9246.7626, 9266.2358, 9308.4488, 9191.419, 9320.157, 9159.3532, 9071.5074, 9402.1996, 9265.427, 9120.2954, 9401.706, 9244.8756, 9467.705, 9253.6632, 9178.5144, 9152.7032, 9444.1318, 9267.031, 9241.9046, 9303.3642, 9349.5742, 9260.0154, 9297.4586, 9369.8768, 9192.0604, 9246.1526, 9334.3748, 9272.2678, 9293.9112, 9325.9, 9255.9224, 9199.5442, 9286.819, 9180.338, 9152.8814, 9152.1752, 9340.1628, 9324.0884, 9245.6746, 9262.935, 9157.35, 9296.5848, 9291.204, 9223.7002, 9217.9774, 9386.7546, 9187.4558, 9180.3168, 9268.6898, 9406.5932, 9391.2036, 9262.1734, 9204.8904, 9323.4196, 9280.1512, 9299.8512, 9267.9904, 9243.5998, 9228.2452, 9297.9188, 9284.7402, 9244.7708, 9193.896, 9204.7, 9230.3682, 9250.831, 9228.3636, 9267.2482, 9275.8964, 9254.4334, 9266.5496, 9176.3668, 9301.0294, 9279.1102, 9347.75, 9294.8578, 9155.9786, 9304.679, 9172.3006, 9217.2466, 9147.7874, 9243.4122, 9201.8118, 9278.1948, 9239.288, 9242.975, 9250.8132, 9231.9404, 9310.6332, 9283.6752, 9322.0432, 9400.9764, 9326.8188]\n"
          ]
        }
      ]
    },
    {
      "cell_type": "code",
      "source": [
        "sns.histplot(married_sample_df)"
      ],
      "metadata": {
        "colab": {
          "base_uri": "https://localhost:8080/",
          "height": 448
        },
        "id": "T_xdFr8rSfT4",
        "outputId": "8004578a-f333-4471-c1a3-d0542a04af11"
      },
      "execution_count": 145,
      "outputs": [
        {
          "output_type": "execute_result",
          "data": {
            "text/plain": [
              "<Axes: ylabel='Count'>"
            ]
          },
          "metadata": {},
          "execution_count": 145
        },
        {
          "output_type": "display_data",
          "data": {
            "text/plain": [
              "<Figure size 640x480 with 1 Axes>"
            ],
            "image/png": "[encoded data removed]"
          },
          "metadata": {}
        }
      ]
    },
    {
      "cell_type": "code",
      "source": [
        "sns.histplot(unmarried_sample_df)"
      ],
      "metadata": {
        "colab": {
          "base_uri": "https://localhost:8080/",
          "height": 451
        },
        "id": "TQA77hzsSfP_",
        "outputId": "178de47a-8568-4729-8ce8-c7160e5a0b54"
      },
      "execution_count": 146,
      "outputs": [
        {
          "output_type": "execute_result",
          "data": {
            "text/plain": [
              "<Axes: ylabel='Count'>"
            ]
          },
          "metadata": {},
          "execution_count": 146
        },
        {
          "output_type": "display_data",
          "data": {
            "text/plain": [
              "<Figure size 640x480 with 1 Axes>"
            ],
            "image/png": "[encoded data removed]"
          },
          "metadata": {}
        }
      ]
    },
    {
      "cell_type": "code",
      "source": [
        "# CONFIDENCE INTERVAL FOR married_sample_df(90%, 95%, 99%)\n",
        "lower_limit_90 = np.round(np.percentile(married_sample_df,5),2)\n",
        "upper_limit_90 = np.round(np.percentile(married_sample_df, 95),2)\n",
        "\n",
        "lower_limit_95 = np.round(np.percentile(married_sample_df,2.5),2)\n",
        "upper_limit_95 = np.round(np.percentile(married_sample_df, 97.5),2)\n",
        "\n",
        "lower_limit_99 = np.round(np.percentile(married_sample_df,0.5),2)\n",
        "upper_limit_99 = np.round(np.percentile(married_sample_df, 99.5),2)\n",
        "\n",
        "print(f\"The 90% confidence interval is : {(lower_limit_90,upper_limit_90)}\")\n",
        "print(f\"The 95% confidence interval is : {(lower_limit_95,upper_limit_95)}\")\n",
        "print(f\"The 99% confidence interval is : {(lower_limit_99,upper_limit_99)}\")"
      ],
      "metadata": {
        "colab": {
          "base_uri": "https://localhost:8080/"
        },
        "id": "WqhAOXQhSfMo",
        "outputId": "493c202b-b862-4296-af3e-fa49c5e738fa"
      },
      "execution_count": 147,
      "outputs": [
        {
          "output_type": "stream",
          "name": "stdout",
          "text": [
            "The 90% confidence interval is : (9140.7, 9383.49)\n",
            "The 95% confidence interval is : (9126.51, 9402.25)\n",
            "The 99% confidence interval is : (9079.7, 9442.48)\n"
          ]
        }
      ]
    },
    {
      "cell_type": "code",
      "source": [
        "# CONFIDENCE INTERVAL FOR unmarried_sample_df(90%, 95%, 99%)\n",
        "lower_limit_90 = np.round(np.percentile(unmarried_sample_df,5),2)\n",
        "upper_limit_90 = np.round(np.percentile(unmarried_sample_df, 95),2)\n",
        "\n",
        "lower_limit_95 = np.round(np.percentile(unmarried_sample_df,2.5),2)\n",
        "upper_limit_95 = np.round(np.percentile(unmarried_sample_df, 97.5),2)\n",
        "\n",
        "lower_limit_99 = np.round(np.percentile(unmarried_sample_df,0.5),2)\n",
        "upper_limit_99 = np.round(np.percentile(unmarried_sample_df, 99.5),2)\n",
        "\n",
        "print(f\"The 90% confidence interval is : {(lower_limit_90,upper_limit_90)}\")\n",
        "print(f\"The 95% confidence interval is : {(lower_limit_95,upper_limit_95)}\")\n",
        "print(f\"The 99% confidence interval is : {(lower_limit_99,upper_limit_99)}\")"
      ],
      "metadata": {
        "colab": {
          "base_uri": "https://localhost:8080/"
        },
        "id": "zks0s0NDSfJO",
        "outputId": "3d82f7bf-1700-4a34-9e78-f4f1075b0253"
      },
      "execution_count": 148,
      "outputs": [
        {
          "output_type": "stream",
          "name": "stdout",
          "text": [
            "The 90% confidence interval is : (9157.24, 9385.8)\n",
            "The 95% confidence interval is : (9134.9, 9401.84)\n",
            "The 99% confidence interval is : (9091.86, 9450.21)\n"
          ]
        }
      ]
    },
    {
      "cell_type": "markdown",
      "source": [
        "From above two plot and confidence interval results, we can see that the married individuals purchases is equal to unmarried individuals purchases and confidence intervals of average married individuals and average unmarried individuals spending is overlapping, Hence we can conclude that the difference between the two groups is not statistically significant.\n"
      ],
      "metadata": {
        "id": "wHra_siekoRJ"
      }
    },
    {
      "cell_type": "markdown",
      "source": [
        "#Results when the same activity is performed for Age"
      ],
      "metadata": {
        "id": "mvGdexDzmBMe"
      }
    },
    {
      "cell_type": "code",
      "source": [
        "#Seperating age into diffrent dataframes\n",
        "age_0to17 = df.loc[df[\"Age\"]== \"0-17\"]\n",
        "age_18to25 = df.loc[df[\"Age\"]== \"18-25\"]\n",
        "age_26to35 = df.loc[df[\"Age\"] == \"26-35\"]\n",
        "age_36to45 = df.loc[df[\"Age\"] == \"36-45\"]\n",
        "age_46to50 = df.loc[df[\"Age\"] == \"46-50\"]\n",
        "age_51to55 = df.loc[df[\"Age\"]== \"51-55\"]\n",
        "age_55plus = df.loc[df[\"Age\"]== \"55+\"]\n"
      ],
      "metadata": {
        "id": "Io4pjfLPnqKH"
      },
      "execution_count": 165,
      "outputs": []
    },
    {
      "cell_type": "code",
      "source": [
        "age_0to17.shape"
      ],
      "metadata": {
        "colab": {
          "base_uri": "https://localhost:8080/"
        },
        "id": "rs8pdwQHnw8a",
        "outputId": "64699ade-ebdf-4e79-e11e-b67ae91c27e0"
      },
      "execution_count": 150,
      "outputs": [
        {
          "output_type": "execute_result",
          "data": {
            "text/plain": [
              "(15102, 10)"
            ]
          },
          "metadata": {},
          "execution_count": 150
        }
      ]
    },
    {
      "cell_type": "code",
      "source": [
        "#Age 0 - 17\n",
        "sample_size = 15102\n",
        "iterations = 1000\n",
        "\n",
        "age_0to17_sample = [ df[df[\"Age\"] == '0-17'].sample(sample_size, replace = True)[\"Purchase\"].mean()  for i in range(iterations)]"
      ],
      "metadata": {
        "id": "B1ysch64SfF2"
      },
      "execution_count": 151,
      "outputs": []
    },
    {
      "cell_type": "code",
      "source": [
        "age_18to25.shape"
      ],
      "metadata": {
        "colab": {
          "base_uri": "https://localhost:8080/"
        },
        "id": "bZ6hdt0noc6v",
        "outputId": "9e7177f8-b09c-48c4-da5e-f4fc669489be"
      },
      "execution_count": 154,
      "outputs": [
        {
          "output_type": "execute_result",
          "data": {
            "text/plain": [
              "(99660, 10)"
            ]
          },
          "metadata": {},
          "execution_count": 154
        }
      ]
    },
    {
      "cell_type": "code",
      "source": [
        "#Age 18 - 25\n",
        "sample_size = 99660\n",
        "iterations = 1000\n",
        "\n",
        "age_18to25_sample = [ df[df[\"Age\"] == '18-25'].sample(sample_size, replace = True)[\"Purchase\"].mean()  for i in range(iterations)]"
      ],
      "metadata": {
        "id": "yKS9xs0Xof4q"
      },
      "execution_count": 155,
      "outputs": []
    },
    {
      "cell_type": "code",
      "source": [
        "age_26to35.shape"
      ],
      "metadata": {
        "colab": {
          "base_uri": "https://localhost:8080/"
        },
        "id": "HROylgQAosbm",
        "outputId": "c5915717-0a9b-488e-b27f-a4b505b770b7"
      },
      "execution_count": 156,
      "outputs": [
        {
          "output_type": "execute_result",
          "data": {
            "text/plain": [
              "(219587, 10)"
            ]
          },
          "metadata": {},
          "execution_count": 156
        }
      ]
    },
    {
      "cell_type": "code",
      "source": [
        "#Age 26 - 35\n",
        "sample_size = 219587\n",
        "iterations = 1000\n",
        "\n",
        "age_26to35_sample = [ df[df[\"Age\"] == '26-35'].sample(sample_size, replace = True)[\"Purchase\"].mean()  for i in range(iterations)]"
      ],
      "metadata": {
        "id": "vl6XUiuNosXb"
      },
      "execution_count": 157,
      "outputs": []
    },
    {
      "cell_type": "code",
      "source": [
        "age_36to45.shape"
      ],
      "metadata": {
        "colab": {
          "base_uri": "https://localhost:8080/"
        },
        "id": "8hXPeTI0osT3",
        "outputId": "0209dea8-4d12-41de-bf88-51647e7d85a5"
      },
      "execution_count": 158,
      "outputs": [
        {
          "output_type": "execute_result",
          "data": {
            "text/plain": [
              "(110013, 10)"
            ]
          },
          "metadata": {},
          "execution_count": 158
        }
      ]
    },
    {
      "cell_type": "code",
      "source": [
        "#Age 36 - 45\n",
        "sample_size = 110013\n",
        "iterations = 1000\n",
        "\n",
        "age_36to45_sample = [ df[df[\"Age\"] == '36-45'].sample(sample_size, replace = True)[\"Purchase\"].mean()  for i in range(iterations)]"
      ],
      "metadata": {
        "id": "XytJDa8SosPS"
      },
      "execution_count": 159,
      "outputs": []
    },
    {
      "cell_type": "code",
      "source": [
        "age_46to50.shape"
      ],
      "metadata": {
        "colab": {
          "base_uri": "https://localhost:8080/"
        },
        "id": "sUuyCR0wpNoa",
        "outputId": "0462e5e0-d666-4657-83f4-cd1e32b03f09"
      },
      "execution_count": 160,
      "outputs": [
        {
          "output_type": "execute_result",
          "data": {
            "text/plain": [
              "(45701, 10)"
            ]
          },
          "metadata": {},
          "execution_count": 160
        }
      ]
    },
    {
      "cell_type": "code",
      "source": [
        "#Age 46 - 50\n",
        "sample_size = 45701\n",
        "iterations = 1000\n",
        "\n",
        "age_46to50_sample = [ df[df[\"Age\"] == '46-50'].sample(sample_size, replace = True)[\"Purchase\"].mean()  for i in range(iterations)]"
      ],
      "metadata": {
        "id": "vz7fuiy1pNii"
      },
      "execution_count": 161,
      "outputs": []
    },
    {
      "cell_type": "code",
      "source": [
        "age_51to55.shape"
      ],
      "metadata": {
        "colab": {
          "base_uri": "https://localhost:8080/"
        },
        "id": "tNSzp_aJpe7o",
        "outputId": "cb7c7c03-1f0d-49e8-a2e9-4e671d4d9e55"
      },
      "execution_count": 162,
      "outputs": [
        {
          "output_type": "execute_result",
          "data": {
            "text/plain": [
              "(38501, 10)"
            ]
          },
          "metadata": {},
          "execution_count": 162
        }
      ]
    },
    {
      "cell_type": "code",
      "source": [
        "#Age 51 - 55\n",
        "sample_size = 38501\n",
        "iterations = 1000\n",
        "\n",
        "age_51to55_sample = [ df[df[\"Age\"] == '51-55'].sample(sample_size, replace = True)[\"Purchase\"].mean()  for i in range(iterations)]"
      ],
      "metadata": {
        "id": "-OG4RQ7Ape3h"
      },
      "execution_count": 163,
      "outputs": []
    },
    {
      "cell_type": "code",
      "source": [
        "age_55plus.shape"
      ],
      "metadata": {
        "colab": {
          "base_uri": "https://localhost:8080/"
        },
        "id": "wDKg5mIdpNd7",
        "outputId": "2bcfbd92-5e7d-42e2-d92e-076d1b38898c"
      },
      "execution_count": 166,
      "outputs": [
        {
          "output_type": "execute_result",
          "data": {
            "text/plain": [
              "(21504, 10)"
            ]
          },
          "metadata": {},
          "execution_count": 166
        }
      ]
    },
    {
      "cell_type": "code",
      "source": [
        "#Age 55+\n",
        "sample_size = 21504\n",
        "iterations = 1000\n",
        "\n",
        "age_55plus_sample = [ df[df[\"Age\"] == '55+'].sample(sample_size, replace = True)[\"Purchase\"].mean()  for i in range(iterations)]"
      ],
      "metadata": {
        "id": "fZBN5XVfosLl"
      },
      "execution_count": 167,
      "outputs": []
    },
    {
      "cell_type": "code",
      "source": [
        "sns.histplot(age_0to17_sample)"
      ],
      "metadata": {
        "colab": {
          "base_uri": "https://localhost:8080/",
          "height": 448
        },
        "id": "BJsKNr0_SfCd",
        "outputId": "06fda762-0e26-4c90-d1c3-bc0334fdbaab"
      },
      "execution_count": 168,
      "outputs": [
        {
          "output_type": "execute_result",
          "data": {
            "text/plain": [
              "<Axes: ylabel='Count'>"
            ]
          },
          "metadata": {},
          "execution_count": 168
        },
        {
          "output_type": "display_data",
          "data": {
            "text/plain": [
              "<Figure size 640x480 with 1 Axes>"
            ],
            "image/png": "[encoded data removed]"
          },
          "metadata": {}
        }
      ]
    },
    {
      "cell_type": "code",
      "source": [
        "sns.histplot(age_18to25_sample)"
      ],
      "metadata": {
        "colab": {
          "base_uri": "https://localhost:8080/",
          "height": 448
        },
        "id": "pVTP4nQeSe-E",
        "outputId": "c5844032-71fa-455c-c13b-edf513170c53"
      },
      "execution_count": 169,
      "outputs": [
        {
          "output_type": "execute_result",
          "data": {
            "text/plain": [
              "<Axes: ylabel='Count'>"
            ]
          },
          "metadata": {},
          "execution_count": 169
        },
        {
          "output_type": "display_data",
          "data": {
            "text/plain": [
              "<Figure size 640x480 with 1 Axes>"
            ],
            "image/png": "[encoded data removed]"
          },
          "metadata": {}
        }
      ]
    },
    {
      "cell_type": "code",
      "source": [
        "sns.histplot(age_26to35_sample)"
      ],
      "metadata": {
        "colab": {
          "base_uri": "https://localhost:8080/",
          "height": 448
        },
        "id": "h_LC5orSSe5m",
        "outputId": "6b47472a-84bb-42fb-d83d-b1c600c43cdf"
      },
      "execution_count": 170,
      "outputs": [
        {
          "output_type": "execute_result",
          "data": {
            "text/plain": [
              "<Axes: ylabel='Count'>"
            ]
          },
          "metadata": {},
          "execution_count": 170
        },
        {
          "output_type": "display_data",
          "data": {
            "text/plain": [
              "<Figure size 640x480 with 1 Axes>"
            ],
            "image/png": "[encoded data removed]"
          },
          "metadata": {}
        }
      ]
    },
    {
      "cell_type": "code",
      "source": [
        "sns.histplot(age_36to45_sample)"
      ],
      "metadata": {
        "colab": {
          "base_uri": "https://localhost:8080/",
          "height": 448
        },
        "id": "2F1rhze1Mjdj",
        "outputId": "de4aa660-c564-401d-c362-f7003b0ce981"
      },
      "execution_count": 171,
      "outputs": [
        {
          "output_type": "execute_result",
          "data": {
            "text/plain": [
              "<Axes: ylabel='Count'>"
            ]
          },
          "metadata": {},
          "execution_count": 171
        },
        {
          "output_type": "display_data",
          "data": {
            "text/plain": [
              "<Figure size 640x480 with 1 Axes>"
            ],
            "image/png": "[encoded data removed]"
          },
          "metadata": {}
        }
      ]
    },
    {
      "cell_type": "code",
      "source": [
        "sns.histplot(age_46to50_sample)"
      ],
      "metadata": {
        "colab": {
          "base_uri": "https://localhost:8080/",
          "height": 448
        },
        "id": "cehYk2CEMjap",
        "outputId": "de25f603-37df-4339-d286-0cea9b81a396"
      },
      "execution_count": 172,
      "outputs": [
        {
          "output_type": "execute_result",
          "data": {
            "text/plain": [
              "<Axes: ylabel='Count'>"
            ]
          },
          "metadata": {},
          "execution_count": 172
        },
        {
          "output_type": "display_data",
          "data": {
            "text/plain": [
              "<Figure size 640x480 with 1 Axes>"
            ],
            "image/png": "[encoded data removed]"
          },
          "metadata": {}
        }
      ]
    },
    {
      "cell_type": "code",
      "source": [
        "sns.histplot(age_51to55_sample)"
      ],
      "metadata": {
        "colab": {
          "base_uri": "https://localhost:8080/",
          "height": 448
        },
        "id": "IUGJhVeSMjWx",
        "outputId": "cc135fb0-9e54-4743-bae9-aebeeb85e0e6"
      },
      "execution_count": 173,
      "outputs": [
        {
          "output_type": "execute_result",
          "data": {
            "text/plain": [
              "<Axes: ylabel='Count'>"
            ]
          },
          "metadata": {},
          "execution_count": 173
        },
        {
          "output_type": "display_data",
          "data": {
            "text/plain": [
              "<Figure size 640x480 with 1 Axes>"
            ],
            "image/png": "[encoded data removed]"
          },
          "metadata": {}
        }
      ]
    },
    {
      "cell_type": "code",
      "source": [
        "sns.histplot(age_55plus_sample)"
      ],
      "metadata": {
        "colab": {
          "base_uri": "https://localhost:8080/",
          "height": 448
        },
        "id": "Qajl4uTXMjSS",
        "outputId": "6e1749fb-6458-45ac-fcd8-6d8899a881df"
      },
      "execution_count": 174,
      "outputs": [
        {
          "output_type": "execute_result",
          "data": {
            "text/plain": [
              "<Axes: ylabel='Count'>"
            ]
          },
          "metadata": {},
          "execution_count": 174
        },
        {
          "output_type": "display_data",
          "data": {
            "text/plain": [
              "<Figure size 640x480 with 1 Axes>"
            ],
            "image/png": "[encoded data removed]"
          },
          "metadata": {}
        }
      ]
    },
    {
      "cell_type": "code",
      "source": [
        "# CONFIDENCE INTERVAL FOR age_0to17_sample(90%, 95%, 99%)\n",
        "lower_limit_90 = np.round(np.percentile(age_0to17_sample,5),2)\n",
        "upper_limit_90 = np.round(np.percentile(age_0to17_sample, 95),2)\n",
        "\n",
        "lower_limit_95 = np.round(np.percentile(age_0to17_sample,2.5),2)\n",
        "upper_limit_95 = np.round(np.percentile(age_0to17_sample, 97.5),2)\n",
        "\n",
        "lower_limit_99 = np.round(np.percentile(age_0to17_sample,0.5),2)\n",
        "upper_limit_99 = np.round(np.percentile(age_0to17_sample, 99.5),2)\n",
        "\n",
        "print(f\"The 90% confidence interval is : {(lower_limit_90,upper_limit_90)}\")\n",
        "print(f\"The 95% confidence interval is : {(lower_limit_95,upper_limit_95)}\")\n",
        "print(f\"The 99% confidence interval is : {(lower_limit_99,upper_limit_99)}\")"
      ],
      "metadata": {
        "colab": {
          "base_uri": "https://localhost:8080/"
        },
        "id": "xWhyvX-iMjLZ",
        "outputId": "2f5d0530-09ab-4d76-bc4f-f0e12c79cd4d"
      },
      "execution_count": 175,
      "outputs": [
        {
          "output_type": "stream",
          "name": "stdout",
          "text": [
            "The 90% confidence interval is : (8862.67, 8998.93)\n",
            "The 95% confidence interval is : (8850.09, 9015.61)\n",
            "The 99% confidence interval is : (8826.24, 9034.27)\n"
          ]
        }
      ]
    },
    {
      "cell_type": "code",
      "source": [
        "# CONFIDENCE INTERVAL FOR age_18to25_sample(90%, 95%, 99%)\n",
        "lower_limit_90 = np.round(np.percentile(age_18to25_sample,5),2)\n",
        "upper_limit_90 = np.round(np.percentile(age_18to25_sample, 95),2)\n",
        "\n",
        "lower_limit_95 = np.round(np.percentile(age_18to25_sample,2.5),2)\n",
        "upper_limit_95 = np.round(np.percentile(age_18to25_sample, 97.5),2)\n",
        "\n",
        "lower_limit_99 = np.round(np.percentile(age_18to25_sample,0.5),2)\n",
        "upper_limit_99 = np.round(np.percentile(age_18to25_sample, 99.5),2)\n",
        "\n",
        "print(f\"The 90% confidence interval is : {(lower_limit_90,upper_limit_90)}\")\n",
        "print(f\"The 95% confidence interval is : {(lower_limit_95,upper_limit_95)}\")\n",
        "print(f\"The 99% confidence interval is : {(lower_limit_99,upper_limit_99)}\")"
      ],
      "metadata": {
        "colab": {
          "base_uri": "https://localhost:8080/"
        },
        "id": "DFs--oVqMjIN",
        "outputId": "e4741173-bb8c-4102-d48c-79efce6840e4"
      },
      "execution_count": 176,
      "outputs": [
        {
          "output_type": "stream",
          "name": "stdout",
          "text": [
            "The 90% confidence interval is : (9141.35, 9195.73)\n",
            "The 95% confidence interval is : (9135.66, 9200.23)\n",
            "The 99% confidence interval is : (9125.48, 9208.38)\n"
          ]
        }
      ]
    },
    {
      "cell_type": "code",
      "source": [
        "# CONFIDENCE INTERVAL FOR age_26to35_sample(90%, 95%, 99%)\n",
        "lower_limit_90 = np.round(np.percentile(age_26to35_sample,5),2)\n",
        "upper_limit_90 = np.round(np.percentile(age_26to35_sample, 95),2)\n",
        "\n",
        "lower_limit_95 = np.round(np.percentile(age_26to35_sample,2.5),2)\n",
        "upper_limit_95 = np.round(np.percentile(age_26to35_sample, 97.5),2)\n",
        "\n",
        "lower_limit_99 = np.round(np.percentile(age_26to35_sample,0.5),2)\n",
        "upper_limit_99 = np.round(np.percentile(age_26to35_sample, 99.5),2)\n",
        "\n",
        "print(f\"The 90% confidence interval is : {(lower_limit_90,upper_limit_90)}\")\n",
        "print(f\"The 95% confidence interval is : {(lower_limit_95,upper_limit_95)}\")\n",
        "print(f\"The 99% confidence interval is : {(lower_limit_99,upper_limit_99)}\")"
      ],
      "metadata": {
        "colab": {
          "base_uri": "https://localhost:8080/"
        },
        "id": "RpE6KqaLvZRj",
        "outputId": "67588c8b-2310-4120-d6d6-b9d20d51ef87"
      },
      "execution_count": 177,
      "outputs": [
        {
          "output_type": "stream",
          "name": "stdout",
          "text": [
            "The 90% confidence interval is : (9235.12, 9270.52)\n",
            "The 95% confidence interval is : (9231.17, 9273.52)\n",
            "The 99% confidence interval is : (9225.8, 9281.83)\n"
          ]
        }
      ]
    },
    {
      "cell_type": "code",
      "source": [
        "# CONFIDENCE INTERVAL FOR age_36to45_sample(90%, 95%, 99%)\n",
        "lower_limit_90 = np.round(np.percentile(age_36to45_sample,5),2)\n",
        "upper_limit_90 = np.round(np.percentile(age_36to45_sample, 95),2)\n",
        "\n",
        "lower_limit_95 = np.round(np.percentile(age_36to45_sample,2.5),2)\n",
        "upper_limit_95 = np.round(np.percentile(age_36to45_sample, 97.5),2)\n",
        "\n",
        "lower_limit_99 = np.round(np.percentile(age_36to45_sample,0.5),2)\n",
        "upper_limit_99 = np.round(np.percentile(age_36to45_sample, 99.5),2)\n",
        "\n",
        "print(f\"The 90% confidence interval is : {(lower_limit_90,upper_limit_90)}\")\n",
        "print(f\"The 95% confidence interval is : {(lower_limit_95,upper_limit_95)}\")\n",
        "print(f\"The 99% confidence interval is : {(lower_limit_99,upper_limit_99)}\")"
      ],
      "metadata": {
        "colab": {
          "base_uri": "https://localhost:8080/"
        },
        "id": "ibUAwKrIvZPa",
        "outputId": "28c1d72f-aa65-47c5-f16f-92f652aa6079"
      },
      "execution_count": 178,
      "outputs": [
        {
          "output_type": "stream",
          "name": "stdout",
          "text": [
            "The 90% confidence interval is : (9307.57, 9356.84)\n",
            "The 95% confidence interval is : (9303.58, 9361.92)\n",
            "The 99% confidence interval is : (9297.06, 9370.27)\n"
          ]
        }
      ]
    },
    {
      "cell_type": "code",
      "source": [
        "# CONFIDENCE INTERVAL FOR age_46to50_sample(90%, 95%, 99%)\n",
        "lower_limit_90 = np.round(np.percentile(age_46to50_sample,5),2)\n",
        "upper_limit_90 = np.round(np.percentile(age_46to50_sample, 95),2)\n",
        "\n",
        "lower_limit_95 = np.round(np.percentile(age_46to50_sample,2.5),2)\n",
        "upper_limit_95 = np.round(np.percentile(age_46to50_sample, 97.5),2)\n",
        "\n",
        "lower_limit_99 = np.round(np.percentile(age_46to50_sample,0.5),2)\n",
        "upper_limit_99 = np.round(np.percentile(age_46to50_sample, 99.5),2)\n",
        "\n",
        "print(f\"The 90% confidence interval is : {(lower_limit_90,upper_limit_90)}\")\n",
        "print(f\"The 95% confidence interval is : {(lower_limit_95,upper_limit_95)}\")\n",
        "print(f\"The 99% confidence interval is : {(lower_limit_99,upper_limit_99)}\")"
      ],
      "metadata": {
        "colab": {
          "base_uri": "https://localhost:8080/"
        },
        "id": "opLqaJAHvZMl",
        "outputId": "13b5e0b9-405d-430c-b8ce-99ddde0d9c46"
      },
      "execution_count": 179,
      "outputs": [
        {
          "output_type": "stream",
          "name": "stdout",
          "text": [
            "The 90% confidence interval is : (9170.01, 9245.67)\n",
            "The 95% confidence interval is : (9163.05, 9251.57)\n",
            "The 99% confidence interval is : (9152.51, 9263.47)\n"
          ]
        }
      ]
    },
    {
      "cell_type": "code",
      "source": [
        "# CONFIDENCE INTERVAL FOR age_51to55_sample(90%, 95%, 99%)\n",
        "lower_limit_90 = np.round(np.percentile(age_51to55_sample,5),2)\n",
        "upper_limit_90 = np.round(np.percentile(age_51to55_sample, 95),2)\n",
        "\n",
        "lower_limit_95 = np.round(np.percentile(age_51to55_sample,2.5),2)\n",
        "upper_limit_95 = np.round(np.percentile(age_51to55_sample, 97.5),2)\n",
        "\n",
        "lower_limit_99 = np.round(np.percentile(age_51to55_sample,0.5),2)\n",
        "upper_limit_99 = np.round(np.percentile(age_51to55_sample, 99.5),2)\n",
        "\n",
        "print(f\"The 90% confidence interval is : {(lower_limit_90,upper_limit_90)}\")\n",
        "print(f\"The 95% confidence interval is : {(lower_limit_95,upper_limit_95)}\")\n",
        "print(f\"The 99% confidence interval is : {(lower_limit_99,upper_limit_99)}\")"
      ],
      "metadata": {
        "colab": {
          "base_uri": "https://localhost:8080/"
        },
        "id": "BULE5xJIvZI9",
        "outputId": "852a5062-ed42-450c-dfb0-1c21f13931a6"
      },
      "execution_count": 180,
      "outputs": [
        {
          "output_type": "stream",
          "name": "stdout",
          "text": [
            "The 90% confidence interval is : (9494.0, 9574.75)\n",
            "The 95% confidence interval is : (9485.97, 9580.86)\n",
            "The 99% confidence interval is : (9474.09, 9595.89)\n"
          ]
        }
      ]
    },
    {
      "cell_type": "code",
      "source": [
        "# CONFIDENCE INTERVAL FOR age_55plus_sample(90%, 95%, 99%)\n",
        "lower_limit_90 = np.round(np.percentile(age_55plus_sample,5),2)\n",
        "upper_limit_90 = np.round(np.percentile(age_55plus_sample, 95),2)\n",
        "\n",
        "lower_limit_95 = np.round(np.percentile(age_55plus_sample,2.5),2)\n",
        "upper_limit_95 = np.round(np.percentile(age_55plus_sample, 97.5),2)\n",
        "\n",
        "lower_limit_99 = np.round(np.percentile(age_55plus_sample,0.5),2)\n",
        "upper_limit_99 = np.round(np.percentile(age_55plus_sample, 99.5),2)\n",
        "\n",
        "print(f\"The 90% confidence interval is : {(lower_limit_90,upper_limit_90)}\")\n",
        "print(f\"The 95% confidence interval is : {(lower_limit_95,upper_limit_95)}\")\n",
        "print(f\"The 99% confidence interval is : {(lower_limit_99,upper_limit_99)}\")"
      ],
      "metadata": {
        "colab": {
          "base_uri": "https://localhost:8080/"
        },
        "id": "CzjZ92OxvZGO",
        "outputId": "746165a9-a28e-4f19-c616-b9350bb3ef0b"
      },
      "execution_count": 181,
      "outputs": [
        {
          "output_type": "stream",
          "name": "stdout",
          "text": [
            "The 90% confidence interval is : (9281.79, 9393.53)\n",
            "The 95% confidence interval is : (9268.81, 9402.32)\n",
            "The 99% confidence interval is : (9247.35, 9419.95)\n"
          ]
        }
      ]
    },
    {
      "cell_type": "markdown",
      "source": [
        "#Final Insights"
      ],
      "metadata": {
        "id": "Iy1WXRFUs4Sd"
      }
    },
    {
      "cell_type": "markdown",
      "source": [
        "1. Maximum number of purchases were made in the age bracket of 26- 35.\n",
        "\n",
        "2. Least purchases, were made in the group of 0 - 17.\n",
        "\n",
        "3. Number of males who purchased during the sale is approximately 2.5 times more than females, we may assume that males tend to purchase more during festive sale than females.\n",
        "\n",
        "4. Age groups making purchases follows a guassian distribution. We can see that minimum number of purchases were made by age group of 0 - 17 followed by 18 - 25 and then maximum sales by 26 - 35 . After this the curve has started declining towards the age group of 36 - 45 which is followed by 46 - 50, 51 - 55 and 55+.\n",
        "\n",
        "5. City B is generating more revenue share, followed by city C and then city A.\n",
        "\n",
        "6. People with occupation with mask 4 are the ones who are purchasing more, we may assume that they are from highest earning brackets and people with occupation mask 3 is least purchasing during the sale, we may assume that they are from lowest earning bracket.\n",
        "\n",
        "7. We can see that minimum amount spent by a female and male is same.\n",
        "\n",
        "8. There is also not much difference in maximum amount spent by a female and male.\n",
        "\n",
        "9. There is a huge difference in count and sum of purchases which indicates that males tend to purchase more on black friday sale.\n",
        "\n",
        "10. We can see that mean of entire female population is 8734.94 while for male population the mean is 9437.15. we can say that males are spending more than females.\n",
        "\n",
        "13. Mean value for the age-group of 26-35 for entire population may be assumed as 9253.15."
      ],
      "metadata": {
        "id": "S0OVg6Jctqi3"
      }
    },
    {
      "cell_type": "markdown",
      "source": [
        "#Recommendations"
      ],
      "metadata": {
        "id": "RzQBO7GIwvr1"
      }
    },
    {
      "cell_type": "markdown",
      "source": [
        "1. With **99%** confidence intervals we can say that the average male spending is higher than average female spending and they do not overlap. The histogram also indicates the same. walmart can give some discounts for female purchases so that the female average spending will increase.\n",
        "\n",
        "2. We can see that the married individuals purchases is equal to unmarried individuals purchases and confidence intervals of average married individuals spendings and average unmarried individuals spendings is overlapping, Hence we can conclude that the difference between the two groups is not statistically significant.\n",
        "\n",
        "3. The charts indicate that the percentage share of purchase of age group 0-17 and 55+ is low so walmart should concentrate its marketing efforts on individuals who tend to spend more like age group between 18-45.\n",
        "\n",
        "4. The top 3 most purchased product category is 5, 1 and 8.We can either provide discounts for these products or concentrate the marketing efforts on other product categories to increase sales.\n",
        "\n",
        "\n",
        "5. Since, most of the purchases are from occupation 4, we may assume the following that either the occupation from 4 may be in finance , technology or investment banking. Given this assumption is correct, walmart shall provide discount on the products that are useful for their professional lives as well such as technology gagdets.\n",
        "\n",
        "6. Walmart shall open more retail stores in city B. As they are the ones spending more.\n"
      ],
      "metadata": {
        "id": "GJr4bHWJwyj_"
      }
    }
  ]
}